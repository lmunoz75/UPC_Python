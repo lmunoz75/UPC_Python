{
 "cells": [
  {
   "cell_type": "markdown",
   "metadata": {
    "user_expressions": []
   },
   "source": [
    "# Archivos CSV y gestión del tiempo\n",
    "<div style=\"text-align: right\">Autor: Luis A. Muñoz - 2024 </div>"
   ]
  },
  {
   "cell_type": "markdown",
   "metadata": {
    "user_expressions": []
   },
   "source": [
    "Ideas clave:\n",
    "\n",
    "* Un archivo CSV es un archivo de datos con un formato específico en donde se almacenan los valores seperados por comas y al que se tiene acceso de forma interactiva importando el módulo CSV.\n",
    "---"
   ]
  },
  {
   "cell_type": "markdown",
   "metadata": {
    "user_expressions": []
   },
   "source": [
    "## Archivos CSV\n",
    "Un archivo CSV es un archivo con valores separados por comas (Comma-Separated Values). Es uno de los formatos estándar para el intercambio de información. Tiene la ventaja de que es un archivo de texto por lo que su acceso es simple, y por otro lado tiene un formato sencillo que permite almacenar mucha información de manera ordenada. Por ejemplo, considere que quiere guardar la siguiente información:\n",
    "\n",
    "    - Nombre\n",
    "    - Telefono\n",
    "    - Email\n",
    "    \n",
    "Utilizando el formato de CSV, se pueden almacenar los datos de varias personas de la forma:\n",
    "\n",
    "    nombre,telefono,email\n",
    "    \n",
    "Los archivos CSV suelen tener un encabezado que especifica el dato de cada campo. Un archivo CSV es reconocido por Excel (en su última versión, con valores separados por \";\" ya que la \",\" es utilizada en algunos paises como separador de miles), pero no debe de olvidar que un archivo CSV es más que un archivo de texto pero con una extensión diferente.\n",
    "\n",
    "La gestión de archivos CSV requere la importación del paquete `csv` de la biblioteca estándar de Python."
   ]
  },
  {
   "cell_type": "markdown",
   "metadata": {
    "user_expressions": []
   },
   "source": [
    "## Escritura de un archivo CSV\n",
    "Para escribir un archivo PDF se debe de generar un objeto `writer` que se encargará de escribir los registros en el archivo CSV, utilizando un bloque `with` con el `mode='w'` o `mode='a'`. \n",
    "\n",
    "    writer = csv.writer(csv_file)\n",
    "\n",
    "El proceso tomará un iterable y lo convertirá en los diferentes campos del archivo CSV."
   ]
  },
  {
   "cell_type": "code",
   "execution_count": 3,
   "metadata": {},
   "outputs": [],
   "source": [
    "import csv\n",
    "\n",
    "ingreso_personal = [('Elvio Lado', '07:35'), \n",
    "                    ('Dina Mita', '07:45'), \n",
    "                    ('Elba Lazo', '06:55'), \n",
    "                    ('Zoila Alegre', '08:05'), \n",
    "                    ('Aquiles Caigo', '07:59')]\n",
    "\n",
    "# El campo newline='' es necesario en Windows\n",
    "with open('ingreso.csv', mode='w', encoding='utf-8', newline='') as f:\n",
    "    # Se puede especificar el caracter de delimitación de datos (\",\" \";\" \"|\" \"\\t\")\n",
    "    writer = csv.writer(f, delimiter=',')\n",
    "    \n",
    "    # Se inserta el encabezado a la tabla de registros\n",
    "    writer.writerow(['nombre', 'hora_entrada'])\n",
    "    \n",
    "    # Se insertan los datos en las tuplas de datos\n",
    "    for data_item in ingreso_personal:\n",
    "        writer.writerow(data_item)\n",
    "    "
   ]
  },
  {
   "cell_type": "markdown",
   "metadata": {
    "user_expressions": []
   },
   "source": [
    "## Lectura de un archivo CSV\n",
    "Para leer un archivo CSV se utiliza el paquete `csv` de la biblioteca estándar Python. Para esto será necesario crear un objeto `reader` que actuará como apuntador que estará apuntando a cada una de las líneas del archivo:\n",
    "\n",
    "    reader = csv.reader(csv_file)\n",
    "    \n",
    "Una vez establecido un reader este se puede incluir en un lazo for (que es un iterable) para poder extraer cada línea del archivo CSV. Cuando se lee un `reader` este retorna los datos de la línea del archivo en forma de lista, donde los elementos de la lista serán los valores separados por coma sin incluír el \\n.\n"
   ]
  },
  {
   "cell_type": "code",
   "execution_count": 43,
   "metadata": {},
   "outputs": [
    {
     "name": "stdout",
     "output_type": "stream",
     "text": [
      "Nombre: Elvio Lado                     Hora de Ingreso: 07:35\n",
      "Nombre: Dina Mita                      Hora de Ingreso: 07:45\n",
      "Nombre: Elba Lazo                      Hora de Ingreso: 06:55\n",
      "Nombre: Zoila Alegre                   Hora de Ingreso: 08:05\n",
      "Nombre: Aquiles Caigo                  Hora de Ingreso: 07:59\n"
     ]
    }
   ],
   "source": [
    "import csv\n",
    "\n",
    "with open(\"ingreso.csv\") as f:\n",
    "    # Creamos el cursor reader del arvhivo CSV\n",
    "    reader = csv.reader(f)\n",
    "    \n",
    "    # El reader es un iterable: next() realiza una iteración manual y \n",
    "    # al hacerlo descarta la primera linea, que es el encabezado de datos que\n",
    "    # en este momento no importa\n",
    "    next(reader)\n",
    "    \n",
    "    # Se hace un lazo for con el cursor para extraer cada linea\n",
    "    for data_line in reader:\n",
    "        # data_linea sera una lista donde los elementros serán cada uno de los\n",
    "        # valores separados por comas por cada linea, en este caso [numero, nombre_del_mes]\n",
    "        print(\"Nombre: {:30} Hora de Ingreso: {}\".format(*data_line))"
   ]
  },
  {
   "cell_type": "markdown",
   "metadata": {
    "user_expressions": []
   },
   "source": [
    "## Módulo `time`\n",
    "Python tiene el módulo `time` para la gestión del tiempo, es decir, para obtener la información de tiempo local y tiempo GMT. También sirve para detener la ejecución de un script durante un tiempo definido."
   ]
  },
  {
   "cell_type": "code",
   "execution_count": 81,
   "metadata": {},
   "outputs": [
    {
     "name": "stdout",
     "output_type": "stream",
     "text": [
      "time.struct_time(tm_year=2023, tm_mon=12, tm_mday=13, tm_hour=22, tm_min=46, tm_sec=36, tm_wday=2, tm_yday=347, tm_isdst=0)\n",
      "time.struct_time(tm_year=2023, tm_mon=12, tm_mday=14, tm_hour=3, tm_min=46, tm_sec=36, tm_wday=3, tm_yday=348, tm_isdst=0)\n"
     ]
    }
   ],
   "source": [
    "import time\n",
    "\n",
    "print(time.localtime())   # Tiempo del reloj del sistema (GMT -5)\n",
    "print(time.gmtime())      # Tiempo en GMT 0"
   ]
  },
  {
   "cell_type": "markdown",
   "metadata": {
    "user_expressions": []
   },
   "source": [
    "El resultado, en ambos casos, es una _estructura de tiempos_, una construcción de datos que permite almacenar la informacion de tiempos con todos los campos necesarios.\n",
    "\n",
    "Existen dos métodos útiles para la gestión de la información del tiempo: `strftime` retorna un `str` con la representación de un objeto tipo `time` segun una cadena de formato (La _f_ de la instrucción indica _formato_ del `str` de salida):"
   ]
  },
  {
   "cell_type": "code",
   "execution_count": 77,
   "metadata": {},
   "outputs": [
    {
     "data": {
      "text/plain": [
       "\u001b[1;31mDocstring:\u001b[0m\n",
       "strftime(format[, tuple]) -> string\n",
       "\n",
       "Convert a time tuple to a string according to a format specification.\n",
       "See the library reference manual for formatting codes. When the time tuple\n",
       "is not present, current time as returned by localtime() is used.\n",
       "\n",
       "Commonly used format codes:\n",
       "\n",
       "%Y  Year with century as a decimal number.\n",
       "%m  Month as a decimal number [01,12].\n",
       "%d  Day of the month as a decimal number [01,31].\n",
       "%H  Hour (24-hour clock) as a decimal number [00,23].\n",
       "%M  Minute as a decimal number [00,59].\n",
       "%S  Second as a decimal number [00,61].\n",
       "%z  Time zone offset from UTC.\n",
       "%a  Locale's abbreviated weekday name.\n",
       "%A  Locale's full weekday name.\n",
       "%b  Locale's abbreviated month name.\n",
       "%B  Locale's full month name.\n",
       "%c  Locale's appropriate date and time representation.\n",
       "%I  Hour (12-hour clock) as a decimal number [01,12].\n",
       "%p  Locale's equivalent of either AM or PM.\n",
       "\n",
       "Other codes may be available on your platform.  See documentation for\n",
       "the C library strftime function.\n",
       "\u001b[1;31mType:\u001b[0m      builtin_function_or_method"
      ]
     },
     "metadata": {},
     "output_type": "display_data"
    }
   ],
   "source": [
    "time.strftime?"
   ]
  },
  {
   "cell_type": "code",
   "execution_count": 106,
   "metadata": {},
   "outputs": [
    {
     "name": "stdout",
     "output_type": "stream",
     "text": [
      "Fecha: 13/12/2023\n"
     ]
    }
   ],
   "source": [
    "# Retorna la hora actual en un formato específico\n",
    "time_now = time.strftime('%d/%m/%Y')\n",
    "print(\"Fecha:\", time_now)"
   ]
  },
  {
   "cell_type": "markdown",
   "metadata": {
    "user_expressions": []
   },
   "source": [
    "Por otro lado, el método `strptime` hace el proceso contrario: a partir de un `str` que represente información de tiempo, retorna un objeto tipo `time` con una estructura de tiempo. (La _p_ de la instrucción indica _parse_ o reconocimiento de los patrones en un texto)"
   ]
  },
  {
   "cell_type": "code",
   "execution_count": 108,
   "metadata": {},
   "outputs": [
    {
     "data": {
      "text/plain": [
       "time.struct_time(tm_year=2024, tm_mon=2, tm_mday=1, tm_hour=0, tm_min=0, tm_sec=0, tm_wday=3, tm_yday=32, tm_isdst=-1)"
      ]
     },
     "execution_count": 108,
     "metadata": {},
     "output_type": "execute_result"
    }
   ],
   "source": [
    "# Genera la fecha 1 de Febrero de 2024\n",
    "time.strptime('1/2/2024', '%d/%m/%Y')"
   ]
  },
  {
   "cell_type": "markdown",
   "metadata": {
    "user_expressions": []
   },
   "source": [
    "Existe una instrucción que permite obtener una especie de tiempo univerisal (también conocido como UNIX Time o timestamp):"
   ]
  },
  {
   "cell_type": "code",
   "execution_count": 82,
   "metadata": {},
   "outputs": [
    {
     "name": "stdout",
     "output_type": "stream",
     "text": [
      "1702525652.2043839\n"
     ]
    }
   ],
   "source": [
    "print(time.time())        # Número de segundos desde el epoch (1 Enero 1970) - Timestamp"
   ]
  },
  {
   "cell_type": "markdown",
   "metadata": {
    "user_expressions": []
   },
   "source": [
    "Este valor es el número de segundos transcurridos desde el 1 de enero de 1970, el inicio del tiempo en un sistema informático. A partir de esta información, se puede recuperar el tiempo como tiempo local."
   ]
  },
  {
   "cell_type": "code",
   "execution_count": 86,
   "metadata": {},
   "outputs": [
    {
     "data": {
      "text/plain": [
       "time.struct_time(tm_year=2023, tm_mon=12, tm_mday=13, tm_hour=22, tm_min=53, tm_sec=44, tm_wday=2, tm_yday=347, tm_isdst=0)"
      ]
     },
     "execution_count": 86,
     "metadata": {},
     "output_type": "execute_result"
    }
   ],
   "source": [
    "time.localtime(time.time())"
   ]
  },
  {
   "cell_type": "markdown",
   "metadata": {
    "user_expressions": []
   },
   "source": [
    "Una de las funciones más utilizadas del paquete `time` es la función `sleep` que permite detener la ejecución de un script un número de segundos:"
   ]
  },
  {
   "cell_type": "code",
   "execution_count": 103,
   "metadata": {},
   "outputs": [
    {
     "name": "stdout",
     "output_type": "stream",
     "text": [
      "0\n",
      "1\n",
      "2\n",
      "3\n",
      "4\n",
      "5\n",
      "6\n",
      "7\n",
      "8\n",
      "9\n"
     ]
    }
   ],
   "source": [
    "for num in range(10):\n",
    "    time.sleep(1)\n",
    "    print(num)"
   ]
  },
  {
   "cell_type": "markdown",
   "metadata": {
    "user_expressions": []
   },
   "source": [
    "## El módulo `datetime`\n",
    "El paquete `datetime` también permite la gestión del tiempo, pero esta más orientado a las operaciones con el tiempo:"
   ]
  },
  {
   "cell_type": "code",
   "execution_count": 109,
   "metadata": {},
   "outputs": [
    {
     "name": "stdout",
     "output_type": "stream",
     "text": [
      "2023-12-13 23:10:23.744680\n"
     ]
    }
   ],
   "source": [
    "from datetime import datetime\n",
    "\n",
    "time_now = datetime.now()\n",
    "print(time_now)"
   ]
  },
  {
   "cell_type": "markdown",
   "metadata": {
    "user_expressions": []
   },
   "source": [
    "Los objetos `datetime` son compatibles con los f-string:"
   ]
  },
  {
   "cell_type": "code",
   "execution_count": 111,
   "metadata": {},
   "outputs": [
    {
     "name": "stdout",
     "output_type": "stream",
     "text": [
      "Fecha: 13/12/2023\n"
     ]
    }
   ],
   "source": [
    "print(f\"Fecha: {datetime.now():%d/%m/%Y}\")"
   ]
  },
  {
   "cell_type": "markdown",
   "metadata": {
    "user_expressions": []
   },
   "source": [
    "La ventaja de estos objetos de tiempo es que se permite definir un instante en el tiempo:"
   ]
  },
  {
   "cell_type": "code",
   "execution_count": 116,
   "metadata": {},
   "outputs": [
    {
     "name": "stdout",
     "output_type": "stream",
     "text": [
      "2023-01-01 00:00:00\n"
     ]
    }
   ],
   "source": [
    "# Se define el primer dia del año actual\n",
    "this_year = datetime.now().year\n",
    "fecha_ini = datetime(day=1, month=1, year=this_year)\n",
    "print(fecha_ini)"
   ]
  },
  {
   "cell_type": "markdown",
   "metadata": {
    "user_expressions": []
   },
   "source": [
    "Si se hace una operación de suma o resta con otro objeto `datetime`, lo que se obtiene es una diferencia de tiempos, un objeto `timedelta`:"
   ]
  },
  {
   "cell_type": "code",
   "execution_count": 117,
   "metadata": {},
   "outputs": [
    {
     "data": {
      "text/plain": [
       "datetime.timedelta(days=346, seconds=83765, microseconds=679440)"
      ]
     },
     "execution_count": 117,
     "metadata": {},
     "output_type": "execute_result"
    }
   ],
   "source": [
    "time_now = datetime.now()\n",
    "time_now - fecha_ini"
   ]
  },
  {
   "cell_type": "markdown",
   "metadata": {
    "user_expressions": []
   },
   "source": [
    "Estos objetos `timedelta` también se pueden definir para obtener desplazamientos en el tiempo"
   ]
  },
  {
   "cell_type": "code",
   "execution_count": 125,
   "metadata": {},
   "outputs": [
    {
     "name": "stdout",
     "output_type": "stream",
     "text": [
      "Las próximas 5 fechas cada 10 dias\n",
      "\n",
      "\t- 23/12/2023\n",
      "\t- 02/01/2024\n",
      "\t- 12/01/2024\n",
      "\t- 22/01/2024\n",
      "\t- 01/02/2024\n"
     ]
    }
   ],
   "source": [
    "from datetime import timedelta\n",
    "\n",
    "next_day = datetime.now()\n",
    "offset_10_days = timedelta(days=10)\n",
    "\n",
    "print(\"Las próximas 5 fechas cada 10 dias\")\n",
    "print()\n",
    "for _ in range(5):\n",
    "    next_day = next_day + offset_10_days\n",
    "    print(f\"\\t- {next_day:%d/%m/%Y}\")\n",
    "    "
   ]
  },
  {
   "cell_type": "code",
   "execution_count": null,
   "metadata": {},
   "outputs": [],
   "source": []
  }
 ],
 "metadata": {
  "kernelspec": {
   "display_name": "Python 3 (ipykernel)",
   "language": "python",
   "name": "python3"
  },
  "language_info": {
   "codemirror_mode": {
    "name": "ipython",
    "version": 3
   },
   "file_extension": ".py",
   "mimetype": "text/x-python",
   "name": "python",
   "nbconvert_exporter": "python",
   "pygments_lexer": "ipython3",
   "version": "3.11.5"
  }
 },
 "nbformat": 4,
 "nbformat_minor": 4
}
