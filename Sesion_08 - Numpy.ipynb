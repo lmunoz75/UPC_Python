{
 "cells": [
  {
   "cell_type": "markdown",
   "metadata": {},
   "source": [
    "# Numpy\n",
    "<img src=\"https://miro.medium.com/max/765/1*cyXCE-JcBelTyrK-58w6_Q.png\" alt=\"car_her\" width=\"600\"/>\n",
    "\n",
    "<div style=\"text-align: right\">Autor: Luis A. Muñoz - 2020 </div>"
   ]
  },
  {
   "cell_type": "markdown",
   "metadata": {},
   "source": [
    "NumPy es una extensión de Python, que le agrega soporte para vectores y matrices, constituyendo una biblioteca de funciones matemáticas de alto nivel para operar con esos vectores o matrices. El ancestro de NumPy, Numeric, fue creado originalmente por Jim Hugunin con algunas contribuciones de otros desarrolladores. En 2005, Travis Oliphant creó NumPy incorporando características de Numarray en NumPy con algunas modificaciones. NumPy es open source. [*Wikipedia*](https://es.wikipedia.org/wiki/NumPy)\n",
    "\n",
    "---"
   ]
  },
  {
   "cell_type": "markdown",
   "metadata": {},
   "source": [
    "`numpy` es la librería con la que ingresamos al espacio de *Python Cientfico*, es decir, utilizar Python como una herramienta de análisis numérico y análisis de datos. Este modulo forma parte de un conjunto de módulos que en conjunto forman las herramientas de cálculo científico, donde `numpy` es el soporte de las demás:\n",
    "\n",
    "* numpy, soporte de arreglos y matrices para operaciones matemáticas\n",
    "* matplotlib, soporte de gráficas científicas 2D y 3D\n",
    "* pandas, soporte de análisis y procesamiento de datos\n",
    "* scipy, soporte de matemática simbólica\n",
    "\n",
    "La organización de los módulos se esquematiza en la siguiente figura:\n",
    "\n",
    "<img src=\"https://i.pinimg.com/originals/64/76/33/647633cd03455ded68fd9de2524f09cb.png\" alt=\"car_her\" width=\"300\"/>\n",
    "\n",
    "Lo primero que debemos hacer para trabajar con la librería `numpy` es importarla con el alias `np`. Eso es un estándar:"
   ]
  },
  {
   "cell_type": "code",
   "execution_count": null,
   "metadata": {},
   "outputs": [],
   "source": [
    "#pip install numpy\n",
    "import numpy as np"
   ]
  },
  {
   "cell_type": "markdown",
   "metadata": {},
   "source": [
    "Para entender porque utilizar e lobjeto estrella de numpy, un `array`, debemos considerar el uso de las listas en las operaciones científicas. Escribimos una lista que contenga valores genericos de temperaturas en una semana:"
   ]
  },
  {
   "cell_type": "code",
   "execution_count": null,
   "metadata": {},
   "outputs": [],
   "source": [
    "temp_C = [26.8, 29.4, 30.1, 29.5, 28.6, 29.9, 28.4]"
   ]
  },
  {
   "cell_type": "markdown",
   "metadata": {},
   "source": [
    "¿Cómo podemos generar un lista de temperarturas en grados Fahrenheit a partir de la lista de valores de grados centígrados? La forma más básica es recorrer la lista orginal e ir extrayendo cada valor para hacer la conversión y almacenar el resultado en una nueva lista. Se conversión de valores utiliza la siguiente ecuación:\n",
    "\n",
    "$$ F = \\frac{9}{5} C° + 32 $$"
   ]
  },
  {
   "cell_type": "code",
   "execution_count": null,
   "metadata": {},
   "outputs": [],
   "source": [
    "# Una forma...\n",
    "temp_F = []\n",
    "for temp in temp_C:\n",
    "    temp_F.append(9/5 * temp + 32)\n",
    "    \n",
    "print(temp_F)"
   ]
  },
  {
   "cell_type": "markdown",
   "metadata": {},
   "source": [
    "Funciona pero... una mejor forma es utilizar una lista por comprehensión. Mas al estilo Python..."
   ]
  },
  {
   "cell_type": "code",
   "execution_count": null,
   "metadata": {},
   "outputs": [],
   "source": [
    "# Otra forma\n",
    "temp_F = [9/5 * temp + 32 for temp in temp_C]\n",
    "print(temp_F)"
   ]
  },
  {
   "cell_type": "markdown",
   "metadata": {},
   "source": [
    "O quiza utilizando la función `map` para afectar a todos los valores de una lista por una funciónm en este caso una función tipo `lambda`:"
   ]
  },
  {
   "cell_type": "code",
   "execution_count": null,
   "metadata": {},
   "outputs": [],
   "source": [
    "# Otra forma mas...\n",
    "temp_F = list(map(lambda x: 9/5 * x + 32, temp_C))\n",
    "print(temp_F)"
   ]
  },
  {
   "cell_type": "markdown",
   "metadata": {},
   "source": [
    "### Ventajas de un arreglo\n",
    "Ahora, veamos como hacerlo con un arreglo Primero, definamos en arreglo a partir de una lista de valores."
   ]
  },
  {
   "cell_type": "code",
   "execution_count": null,
   "metadata": {},
   "outputs": [],
   "source": [
    "array_C = np.array(temp_C)\n",
    "print(array_C)\n",
    "print(type(array_C))"
   ]
  },
  {
   "cell_type": "markdown",
   "metadata": {},
   "source": [
    "Ahora, apliquemos la operación de conversión sobre el arreglo:"
   ]
  },
  {
   "cell_type": "code",
   "execution_count": null,
   "metadata": {},
   "outputs": [],
   "source": [
    "array_F = 9/5 * array_C + 32\n",
    "print(array_F)"
   ]
  },
  {
   "cell_type": "markdown",
   "metadata": {},
   "source": [
    "Es todo. Simple, breve, pero sobre todo con un código equivalente a la ecuación. Esta no se encuentra escondida detrás de un lazo for o en una lista por compehensión o en una función. Esta escrita tal y como se muestra en la ecuación de muestra. Esa es la gran ventaja de utilizar un arreglo: las operaciones matemáticas se expresamn exactamente igual que en la descripción analítica (siempre y cuando estemos con operaciones simples... ya luego todo se pone un poco más complicado, pero ya llegaremos a eso).\n",
    "\n",
    "Otra ventaja tiene que ver con los tiempos de operacion. Hagamos una prueba de eficiencia de operación utilizando un método mágico de los Jupyter Notebooks: `%%time` que permite medir el tiempo de ejecución de una celda. Primero generemos 1,000,000 valores de temperatura entre 20 - 30 grados."
   ]
  },
  {
   "cell_type": "code",
   "execution_count": null,
   "metadata": {},
   "outputs": [],
   "source": [
    "from random import uniform\n",
    "\n",
    "temp_C = [uniform(20, 30) for _ in range(1000000)]\n",
    "print(\"{},{},{}..., numero de elementos: {}\".format(temp_C[0], temp_C[1], temp_C[2], len(temp_C)))"
   ]
  },
  {
   "cell_type": "code",
   "execution_count": null,
   "metadata": {},
   "outputs": [],
   "source": [
    "%%time\n",
    "temp_F = []\n",
    "for temp in temp_C:\n",
    "    temp_F.append(9/5 * temp + 32)"
   ]
  },
  {
   "cell_type": "code",
   "execution_count": null,
   "metadata": {},
   "outputs": [],
   "source": [
    "%%time\n",
    "temp_F = list(map(lambda x: 9/5 * x + 32, temp_C))"
   ]
  },
  {
   "cell_type": "code",
   "execution_count": null,
   "metadata": {},
   "outputs": [],
   "source": [
    "%%time\n",
    "temp_F = [9/5 * temp + 32 for temp in temp_C]"
   ]
  },
  {
   "cell_type": "markdown",
   "metadata": {},
   "source": [
    "Obtengamos la el arreglo y operemos:"
   ]
  },
  {
   "cell_type": "code",
   "execution_count": null,
   "metadata": {},
   "outputs": [],
   "source": [
    "array_C = np.array(temp_C)"
   ]
  },
  {
   "cell_type": "code",
   "execution_count": null,
   "metadata": {},
   "outputs": [],
   "source": [
    "%%time\n",
    "array_F = 9/5 * array_C + 32"
   ]
  },
  {
   "cell_type": "markdown",
   "metadata": {},
   "source": [
    "Los resultados obtenidos estarán en función del equipo donde se ejecuten las celdas anteriores, pero puede observar cuan ineficiente es el uso de lazos con una lista, como mejora la respuesta con `map` y mejor aun con una lista por comprehensión. Pero los resultados con un arreglo son de lejos mucho más eficientes."
   ]
  },
  {
   "cell_type": "markdown",
   "metadata": {},
   "source": [
    "### Arreglos: vectores o 1-dimensionales\n",
    "Para entender la forma como `numpy` gestiona los arreglos, debemos empezar con arreglos de una sola dimensión, es decir, arreglos 1-dimensionales. Al igual que en el caso de una lista, los arreglos soportan indexación e *index-slicing*:"
   ]
  },
  {
   "cell_type": "code",
   "execution_count": null,
   "metadata": {},
   "outputs": [],
   "source": [
    "A = np.array([1, 2, 3, 4, 5, 6, 7, 8, 9])\n",
    "print(A)\n",
    "print(A[0])\n",
    "print(A[-1])\n",
    "print(A[::2])"
   ]
  },
  {
   "cell_type": "markdown",
   "metadata": {},
   "source": [
    "Asi también, soportan la asignación de valores por medio de los índices pero no se puede operar con cualquier valor cuando se trata de un arreglo. Analice los siguentes resultados:"
   ]
  },
  {
   "cell_type": "code",
   "execution_count": null,
   "metadata": {},
   "outputs": [],
   "source": [
    "A[0] = 100\n",
    "print(A)\n",
    "\n",
    "A[-1] = 10.5\n",
    "print(A)\n",
    "\n",
    "A[-1] = 'a'\n",
    "print(A)"
   ]
  },
  {
   "cell_type": "markdown",
   "metadata": {},
   "source": [
    "La primera asignación se correcta: el valor 1 es reemplazado por el valor de 100. Sin embargo, el ultimo valor de 9 no se reemplaza por 10.5, sino por 10. Una pista de los que puede estar sucediendo está en el error de la tercera instrucción: 'a' no es un valor entero (int). Esto es porque los arreglos estan pensados para la operación de valores numéricos de manera eficiente (aunque pueden soportar str, por ejemplo, pero no es lo usual) y para que esto suceda todos los valores tienen que ser del mismo tipo (y eso quiere decir no solo del mismo tipo de datos, sino inclusive del mismo tamaño). El arreglo anterior esta conformado por valores enteros de 32 bits y cualquier cosa que se quiera agregar o modificar en el arreglo debe ser del mismo tipo de tamaño.\n",
    "\n",
    "Los métodos disponibles en el módulo numpy son muchos, demasiados como para pretender conocerlos todos. Este es un módulo muy amplio que puede ir descubriendo por su cuenta, por lo que lo que tocaremos en este curso seran los procedimientos básicos para la manipulación de arreglos y los métodos más comúnes.\n",
    "\n",
    "Puede ver lo extensa de este módulo consultando el directorio del módulo. Es posible que reconozca algunos métodos con nombres mateméticos conocidos."
   ]
  },
  {
   "cell_type": "code",
   "execution_count": null,
   "metadata": {
    "scrolled": true
   },
   "outputs": [],
   "source": [
    "dir(np)"
   ]
  },
  {
   "cell_type": "markdown",
   "metadata": {},
   "source": [
    "Asi que en lugar de revisar los métodos, nos vamos a dedicar a conocer los detalles de un arreglo. Todos los arreglos (como buenos objetos clase `ndarray`) tienen algunas propiedades. Entre las más importantes:\n",
    "\n",
    "* array.size: El número de elementos de un arreglo\n",
    "* array.ndim: El número de dimensiones de un arreglo\n",
    "* array.shape: La forma que tiene un arreglo (dimensiones de sus ejes).\n",
    "* array.dtype: El tipo de datos de los elementos de un arreglo\n",
    "* array.itemsize: El número de bytes por elemento"
   ]
  },
  {
   "cell_type": "code",
   "execution_count": null,
   "metadata": {},
   "outputs": [],
   "source": [
    "A = np.array([1, 2, 3, 4, 5, 6, 7, 8, 9.0])   # dtype=np.<tipo de datos numpy> : dtype=np.float64\n",
    "print(A)\n",
    "print(\"Num de elementos:\", A.size)     # No use len(A) !!!\n",
    "print(\"Dimensiones:\", A.ndim)\n",
    "print(\"Rango:\", A.shape)\n",
    "print(\"Tipo de dato\", A.dtype)\n",
    "print(\"Bytes de memoria por elemento:\", A.itemsize)"
   ]
  },
  {
   "cell_type": "markdown",
   "metadata": {},
   "source": [
    "Un conocimiento útil para manipular los arreglos en `numpy` es la siguiente idea central: **Los métodos de numpy siempre crear nuevos arreglos**. Esto es muy importante ya que evita confusiones al momento de operar con lo arreglos.\n",
    "\n",
    "Por ejemplo, si tiene una lista `L`, si desea anexar un valor a esta lista utilizará el método `append` del objeto lista de la forma:\n",
    "\n",
    "    L.append(val)\n",
    "    \n",
    "En cambio, si tiene un arreglo `A` y quiere anexar un valor al arreglo, utilizará el método `append` de `numpy` de la forma:\n",
    "\n",
    "    A = np.append(A, val)\n",
    "\n",
    "Es decir, llamará al método `append` de `numpy` y no del areglo `A`, por lo que tendrá que pasarle en los parametros el arreglo `A` así como el valor anexar. Este método retornará un nuevo arreglo que en este caso lo estamos almancenando en el mismo arreglo `A`. Interiorice esta idea pues es importante para la manipulación de arreglos con `numpy`."
   ]
  },
  {
   "cell_type": "code",
   "execution_count": null,
   "metadata": {},
   "outputs": [],
   "source": [
    "# Los metodos de numpy crean nuevos arreglos\n",
    "A = np.append(A, 10)\n",
    "print(A)"
   ]
  },
  {
   "cell_type": "markdown",
   "metadata": {},
   "source": [
    "Otros ejemplos con métodos de `numpy`. Analice y entienda los resultados:"
   ]
  },
  {
   "cell_type": "code",
   "execution_count": null,
   "metadata": {},
   "outputs": [],
   "source": [
    "A = np.insert(A, 3, [0, 0, 0])\n",
    "print(A)"
   ]
  },
  {
   "cell_type": "code",
   "execution_count": null,
   "metadata": {},
   "outputs": [],
   "source": [
    "A = np.delete(A, -1)\n",
    "print(A)"
   ]
  },
  {
   "cell_type": "markdown",
   "metadata": {},
   "source": [
    "### Creacion de arreglos\n",
    "Se puede crear arreglos a partir de algun mecanismo diferente a utilizar una lista de origen? Podemos utilizar una definición de rango de datos en `numpy`, el método `arange`:"
   ]
  },
  {
   "cell_type": "code",
   "execution_count": null,
   "metadata": {},
   "outputs": [],
   "source": [
    "A = np.arange(10)   # Paso por defecto = 1\n",
    "print(A)"
   ]
  },
  {
   "cell_type": "code",
   "execution_count": null,
   "metadata": {},
   "outputs": [],
   "source": [
    "A = np.arange(1, 50, 3)\n",
    "print(A)"
   ]
  },
  {
   "cell_type": "code",
   "execution_count": null,
   "metadata": {},
   "outputs": [],
   "source": [
    "A = np.arange(1, 5, 0.25)   # arange soporta valores de paso tipo float\n",
    "print(A)"
   ]
  },
  {
   "cell_type": "markdown",
   "metadata": {},
   "source": [
    "Esto resulta de utilidad cuando necesitamos contar con un arreglo y tenemos la información del espaciamiento entre los datos. Por ejemplo, deseamos calcular la distancia alcanzada por un móvil con una aceleración contante en cada instante de tiempo entre 0 y 10 segundos, y queremos calcular la distancia cada 0.5 segundos:"
   ]
  },
  {
   "cell_type": "code",
   "execution_count": null,
   "metadata": {},
   "outputs": [],
   "source": [
    "# Movimiento acelerado uniforme. Aceleración de 1.3 m/s**2\n",
    "a = 1.3\n",
    "t = np.arange(0, 10.5, 0.5) # Instantes de tiempo entre 0 y 10 seg en pasos de 0.5 seg\n",
    "d = 0.5 * a * t**2\n",
    "\n",
    "print(\"   TIEMPO     DISTANCIA\")\n",
    "print(\"   ------     ---------\")\n",
    "for val_t, val_d in zip(t, d):\n",
    "    print(\"{:>6.2f} seg   {:>6.2f} m\".format(val_t, val_d))"
   ]
  },
  {
   "cell_type": "markdown",
   "metadata": {},
   "source": [
    "Por otro lado, también tenemos el método `lisnpace`, que genera un espaciamiento lineal entre dos valores considerando en cuantos elementos quiere dividir el rango de manera uniforme. Por defecto, `linspace` divide el rango en 50 partes. A diferencia de `arange`, este método llega hasta el valor final, aunque esto se puede modificar estableciedo el parametro `endpoint=False`:"
   ]
  },
  {
   "cell_type": "code",
   "execution_count": null,
   "metadata": {},
   "outputs": [],
   "source": [
    "A = np.linspace(0, 10)  # Espaciamiento lineal entre 0 y 10 (50 valores)   endpoint=True\n",
    "print(A)"
   ]
  },
  {
   "cell_type": "code",
   "execution_count": null,
   "metadata": {},
   "outputs": [],
   "source": [
    "A = np.linspace(0, 100, 12)   # Se obtienen 12 valores\n",
    "print(A)"
   ]
  },
  {
   "cell_type": "markdown",
   "metadata": {},
   "source": [
    "Esrto resulta de utilidad cuando queremos analizar un fenómeno un número de veces en un rango numérico. Por ejemplo, queremos saber la distancia alcanzada por un móvil en un rango de tiempo y queremos hacer 6 mediciones igualmente espaciadas:"
   ]
  },
  {
   "cell_type": "code",
   "execution_count": null,
   "metadata": {},
   "outputs": [],
   "source": [
    "# Ejemplo\n",
    "a = 1.3\n",
    "t = np.linspace(0, 10, 6)   # 6 instantes de tiempo entre 0 y 10 seg\n",
    "d = 0.5 * a * t**2\n",
    "\n",
    "print(\"   TIEMPO     DISTANCIA\")\n",
    "print(\"   ------     ---------\")\n",
    "for val_t, val_d in zip(t, d):\n",
    "    print(\"{:>6.2f} seg   {:>6.2f} m\".format(val_t, val_d))"
   ]
  },
  {
   "cell_type": "markdown",
   "metadata": {},
   "source": [
    "Adicionalmente, también tenemos el método `logspace` que permite tener la división de un espacio logarítico (es decir, entre 10^inicio y 10^fin). Los espaciamientos logarítmicos son importantes en ingeniería para el análisis de los fenómenos asociados al crecimiento exponencial."
   ]
  },
  {
   "cell_type": "code",
   "execution_count": null,
   "metadata": {},
   "outputs": [],
   "source": [
    "A = np.logspace(0, 2, 10)  # Espaciamiento logaritmico de 10^0 hasta 10^2 (10 elementos)\n",
    "print(A)"
   ]
  },
  {
   "cell_type": "markdown",
   "metadata": {},
   "source": [
    "Ahora: **descanse**. Tómese un respiro, distraigase un poco antes de recorrer las siguientes dimensiones.\n",
    "\n",
    "<img src=\"https://webcomicms.net/sites/default/files/clipart/167194/think-time-cliparts-167194-188108.png\" alt=\"Drawing\" style=\"width: 400px;\"/>\n",
    "\n",
    "---"
   ]
  },
  {
   "cell_type": "markdown",
   "metadata": {},
   "source": [
    "### Arreglos n-dimensionales: arrays\n",
    "Podemos subir de dimension a 2. Para esto utilizaremos una lista de listas para formar un arreglo y verificar algunas propiedades:"
   ]
  },
  {
   "cell_type": "code",
   "execution_count": null,
   "metadata": {},
   "outputs": [],
   "source": [
    "A = np.array([[1, 2, 3, 4], [5, 6, 7, 8], [9, 10, 11, 12]])\n",
    "print(A)\n",
    "print(\"Num de elementos:\", A.size)     # len(A)\n",
    "print(\"Dimensiones:\", A.ndim)\n",
    "print(\"Rango:\", A.shape)\n",
    "print(\"Tipo de dato\", A.dtype)\n",
    "print(\"Bytes de memoria por elemento:\", A.itemsize)"
   ]
  },
  {
   "cell_type": "markdown",
   "metadata": {},
   "source": [
    "Esta vez, al tener dos dimensiones, el número de índices será de 2: uno para las final y el otro para las columnas. Estas se en el mismo corchete de la forma [fila, columna], donde cada una de las dimensiones soporta a su vez *index-slicing*:"
   ]
  },
  {
   "cell_type": "code",
   "execution_count": null,
   "metadata": {},
   "outputs": [],
   "source": [
    "print(A[2,0])   # [fila, columna]\n",
    "print(A[:,0])   # Todas las filas, columna 0\n",
    "print(A[1,:])\n",
    "print(A[:,::2])\n",
    "print(A[::2,::2])\n",
    "print(A[-1,::-2])\n",
    "print(A[[0, 2], [1]])"
   ]
  },
  {
   "cell_type": "markdown",
   "metadata": {},
   "source": [
    "Es importante notar que la forma de los arreglos resultantes dependerán de las operaciones de *index-slicing*\n",
    "\n",
    "<img src=\"https://www.oreilly.com/library/view/python-for-data/9781449323592/httpatomoreillycomsourceoreillyimages2172114.png\" alt=\"car_her\" width=\"400\"/>"
   ]
  },
  {
   "cell_type": "markdown",
   "metadata": {},
   "source": [
    "¿Y un arreglo de 3 dimensiones? No hay mas que extender la misma idea:"
   ]
  },
  {
   "cell_type": "code",
   "execution_count": null,
   "metadata": {},
   "outputs": [],
   "source": [
    "A = np.array([[[1, 2, 3, 4]], [[5, 6, 7, 8]], [[9, 10, 11, 12]]])\n",
    "print(A)\n",
    "print(\"Num de elementos:\", A.size)     # len(A)\n",
    "print(\"Dimensiones:\", A.ndim)\n",
    "print(\"Rango:\", A.shape)\n",
    "print(\"Tipo de dato\", A.dtype)\n",
    "print(\"Bytes de memoria por elemento:\", A.itemsize)"
   ]
  },
  {
   "cell_type": "markdown",
   "metadata": {},
   "source": [
    "<img src=\"https://fgnt.github.io/python_crashkurs_doc/_images/numpy_array_t.png\" alt=\"car_her\" width=\"600\"/>"
   ]
  },
  {
   "cell_type": "markdown",
   "metadata": {},
   "source": [
    "### Creacion de arreglos n-dimensionales"
   ]
  },
  {
   "cell_type": "code",
   "execution_count": null,
   "metadata": {},
   "outputs": [],
   "source": [
    "# Se genera un arreglo de 12 elementos y luego se le da la forma de 4x3\n",
    "A = np.arange(1, 13).reshape(4, 3)\n",
    "print(A)"
   ]
  },
  {
   "cell_type": "markdown",
   "metadata": {},
   "source": [
    "![](https://numpy.org/devdocs/_images/np_reshape.png)"
   ]
  },
  {
   "cell_type": "markdown",
   "metadata": {},
   "source": [
    "### Operaciones con arreglos n-dimensionales (axis)\n",
    "Cuando se tienen arreglos de 2 o más dimensiones, las operaciones se realizarán a los largo de los diferentes ejes (axis). Por ejemplo, el metodo `insert` inserta un arreglo dentro de otro, pero hay que especificar si se insertará (en el caso de un arreglo 2-dimensional) una nueva fila o una nueva columna. Esto se hace especificando el axis de operación."
   ]
  },
  {
   "cell_type": "code",
   "execution_count": null,
   "metadata": {},
   "outputs": [],
   "source": [
    "A = np.array([[1, 2, 3, 4], [5, 6, 7, 8], [9, 10, 11, 12]])\n",
    "print(A, '\\n')\n",
    "\n",
    "A = np.insert(A, 1, [100, 200, 300, 400], axis=0)\n",
    "print(A, '\\n')\n",
    "\n",
    "A = np.insert(A, 2, [0, 0, 0, 0], axis=1)\n",
    "print(A, '\\n')\n",
    "\n",
    "A = np.delete(A, 1, axis=0)\n",
    "print(A, '\\n')"
   ]
  },
  {
   "cell_type": "markdown",
   "metadata": {},
   "source": [
    "Lo mismo sucede con el método `concatenate` que concatena dos arreglos, pero puede hacerlo en cualquiera de los ejes:"
   ]
  },
  {
   "cell_type": "code",
   "execution_count": null,
   "metadata": {},
   "outputs": [],
   "source": [
    "A = np.array([[1, 2, 3, 4], [5, 6, 7, 8], [9, 10, 11, 12]])\n",
    "print(A, '\\n')\n",
    "\n",
    "A = np.concatenate([A, A], axis=0)\n",
    "print(A, '\\n')\n",
    "\n",
    "A = np.concatenate([A, A], axis=1)\n",
    "print(A, '\\n')"
   ]
  },
  {
   "cell_type": "markdown",
   "metadata": {},
   "source": [
    "Esto también sucede cuando se realiza un método que ejecuta una operación sobre un arreglo. Por ejemplo, el método `sum` sobre un arreglo sumará los elementos de un arreglo, pero los resultados obtenidos variarán dependiendo de si se espcifica el parametro `axis` y cual de ellos:"
   ]
  },
  {
   "cell_type": "code",
   "execution_count": null,
   "metadata": {},
   "outputs": [],
   "source": [
    "A = np.array([[1, 2, 3, 4], [5, 6, 7, 8], [9, 10, 11, 12]])\n",
    "print(A, '\\n')\n",
    "\n",
    "print(np.sum(A), '\\n')\n",
    "print(np.sum(A, axis=0), '\\n')\n",
    "print(np.sum(A, axis=1), '\\n')"
   ]
  },
  {
   "cell_type": "markdown",
   "metadata": {},
   "source": [
    "Suele ser confuso el escojer el eje al momento de llamar a las métodos que realizan operaciones. Una buena regla es que el eje especifica lo que se quiere obtener: 0 para filas y 1 para columnas. Asi, se se tiene un arreglo de 2 x 3 y se especifica que se realice una operación a lo largo del axis=0, entonces se espera obtener una nueva fila, asi que se operará a lo largo de las columnas de forma vertical.\n",
    "\n",
    "<p>\n",
    "<img src=\"https://vrzkj25a871bpq7t1ugcgmn9-wpengine.netdna-ssl.com/wp-content/uploads/2018/10/np-sum-axis0-example.png\" alt=\"car_her\" width=\"300\"/>\n",
    "<img src=\"https://vrzkj25a871bpq7t1ugcgmn9-wpengine.netdna-ssl.com/wp-content/uploads/2018/10/np-sum-axis1-example_v2.png\" alt=\"car_her\" width=\"300\"/>\n",
    "<img src=\"https://vrzkj25a871bpq7t1ugcgmn9-wpengine.netdna-ssl.com/wp-content/uploads/2018/10/numpy-sum-example-1d.png\" alt=\"car_her\" width=\"300\"/>\n",
    "</p>\n",
    "\n",
    "A continuación se muestran algunos métodos útiles de cálculo sobre arreglos de `numpy`. Entienda que hace cada uno de los métodos:"
   ]
  },
  {
   "cell_type": "code",
   "execution_count": null,
   "metadata": {},
   "outputs": [],
   "source": [
    "# Metodos utiles de Numpy\n",
    "A = np.array([1, 2, 3, 4, 5])\n",
    "print(np.sum(A), '\\n')\n",
    "print(np.max(A), '\\n')\n",
    "print(np.min(A), '\\n')\n",
    "print(np.mean(A), '\\n')\n",
    "print(np.median(A), '\\n')\n",
    "print(np.prod(A), '\\n')\n",
    "print(np.cumsum(A), '\\n')\n",
    "print(np.cumprod(A), '\\n')\n",
    "\n",
    "# Operaciones básicas en numpy\n",
    "print(np.sqrt(A), '\\n')\n",
    "print(np.sin(A), '\\n')\n",
    "print(np.log(A), '\\n')\n",
    "\n",
    "# Valores en numpy\n",
    "print(np.pi)"
   ]
  },
  {
   "cell_type": "markdown",
   "metadata": {},
   "source": [
    "### Numeros aleatorios con Numpy\n",
    "¿Recuerda cuanto demoró el generador de números aleatorios en generar 1,000,000 de número? `numpy` tiene un generador de número aleatorios que incluye las dimensiones del arreglo resultante:"
   ]
  },
  {
   "cell_type": "code",
   "execution_count": null,
   "metadata": {},
   "outputs": [],
   "source": [
    "# Las dimensiones del arreglo resultante se especifican en una tupla\n",
    "A = np.random.random((5,))  \n",
    "print(A, '\\n')\n",
    "\n",
    "A = np.random.random((5,4))  \n",
    "print(A, '\\n')\n",
    "\n",
    "A = np.random.randint(1, 10, (2, 4))\n",
    "print(A, '\\n')\n",
    "\n",
    "A = np.random.uniform(1, 5, (3, 5))\n",
    "print(A, '\\n')"
   ]
  },
  {
   "cell_type": "markdown",
   "metadata": {},
   "source": [
    "### Indexacion booleana y el método `where`\n",
    "Los índices de los elementos de un arreglo pueden especificarse por medio de operaciones lógicas. Esta es un operación muy eficiente y muy útil al momento de seleccionar datos en un arreglo. En lugar de especificar un valores númerico como índice, se coloca una operación booleana. De esta forma, los índices se seleccionar en función de una máscara booleana. Considere el siguiente ejemplo:"
   ]
  },
  {
   "cell_type": "code",
   "execution_count": null,
   "metadata": {},
   "outputs": [],
   "source": [
    "A = np.array([1, 2, 3, 4, 5, 6, 7, 8, 9])\n",
    "A % 2 == 0"
   ]
  },
  {
   "cell_type": "markdown",
   "metadata": {},
   "source": [
    "La operación `A%2 == 0` retorna el valor `True` sobre los valores que son pares en el arreglo `A`. Esto actua como una \"máscara\" que permitirá filtrar los valores que cumplan con la condición. De esta forma, para filtrar los valores pares del arreglo `A` se puede ejecutar la siguiente instrucción:"
   ]
  },
  {
   "cell_type": "code",
   "execution_count": null,
   "metadata": {},
   "outputs": [],
   "source": [
    "A_pares = A[A % 2 == 0]\n",
    "print(A_pares)"
   ]
  },
  {
   "cell_type": "markdown",
   "metadata": {},
   "source": [
    "Esto es de mucha utilidad cuando se trata de procesar grandes volumenes de datos sin tener que recurrir a lazos de control. Por ejemplo, se tienen los valores de temperatura del mes de enero y se quiere saber las temperaturas por encima de 30 grados, las que estan por encima del promedio del mes, asi como las temperaturas en un rango:"
   ]
  },
  {
   "cell_type": "code",
   "execution_count": null,
   "metadata": {},
   "outputs": [],
   "source": [
    "temp_Ene = np.random.uniform(24, 32, (31,))\n",
    "print(temp_Ene, '\\n')\n",
    "\n",
    "print(\"Temperaturas por encima de 30 grados\")\n",
    "print(temp_Ene[temp_Ene > 30], '\\n')\n",
    "\n",
    "print(\"Temperaturas por encima de promedio del mes\")\n",
    "print(temp_Ene[temp_Ene > np.mean(temp_Ene)], '\\n')\n",
    "\n",
    "print(\"Temperaturas entre 28 y 29 grados\")\n",
    "print(temp_Ene[(temp_Ene >= 28) & (temp_Ene <= 29)], '\\n')"
   ]
  },
  {
   "cell_type": "markdown",
   "metadata": {},
   "source": [
    "Por otro lado, se puede utilizar el método `where` para conocer el índice de los valores que cumplen con una condición. Por ejemplo:"
   ]
  },
  {
   "cell_type": "code",
   "execution_count": null,
   "metadata": {},
   "outputs": [],
   "source": [
    "A_indices_pares = np.where(A % 2 == 0)\n",
    "print(A_indices_pares)\n",
    "print(type(A_indices_pares))"
   ]
  },
  {
   "cell_type": "markdown",
   "metadata": {},
   "source": [
    "Observe que el método `where` retorna una tupla con un arreglo con los indices de los elementos que cumplen con la condición como elemento, por lo que si se desea acceder a los valores se debe de leer el elemento [0] del resultado. (¿Por que una tupla como resultado? En el este [link de StackOverFlow](https://stackoverflow.com/questions/50646102/what-is-the-purpose-of-numpy-where-returning-a-tuple?noredirect=1&lq=1) puede encontrar la respuesta).\n",
    "\n",
    "Por ejemplo, ahora queremos saber que días del mes de enero la temperatura estuvo en un rango:"
   ]
  },
  {
   "cell_type": "code",
   "execution_count": null,
   "metadata": {},
   "outputs": [],
   "source": [
    "# Ejemplo\n",
    "temp_Ene = np.random.uniform(24, 32, (31,))\n",
    "print(temp_Ene)\n",
    "\n",
    "dias = np.where((temp_Ene >= 28) & (temp_Ene <= 29))  # tupla con un arreglo\n",
    "\n",
    "#print(dias[0])\n",
    "\n",
    "print()\n",
    "for dia in dias[0]:\n",
    "    print(\"Ene {} : {:.2f}°C\".format(dia+1, temp_Ene[dia]))"
   ]
  },
  {
   "cell_type": "markdown",
   "metadata": {},
   "source": [
    "Ahora: **descanse**. Ya falta poco, pero valdrá la pena la recompensa.\n",
    "\n",
    "<img src=\"https://webcomicms.net/sites/default/files/clipart/167194/think-time-cliparts-167194-188108.png\" alt=\"Drawing\" style=\"width: 400px;\"/>\n",
    "\n",
    "---"
   ]
  },
  {
   "cell_type": "markdown",
   "metadata": {},
   "source": [
    "### Matrices\n",
    "En `numpy` también podemos definir matrices. Estas son arreglos especiales con los que se puede operar de forma especial."
   ]
  },
  {
   "cell_type": "code",
   "execution_count": null,
   "metadata": {},
   "outputs": [],
   "source": [
    "M = np.matrix(np.arange(1, 13).reshape(4, 3))\n",
    "print(M, '\\n')\n",
    "print(type(M))"
   ]
  },
  {
   "cell_type": "markdown",
   "metadata": {},
   "source": [
    "Una propiedad de las matrices, por ejemplo, es que no son conmutativas, por lo que al invertir el orden de operación los resultados son diferentes (en caso de que se pueda operar):"
   ]
  },
  {
   "cell_type": "code",
   "execution_count": null,
   "metadata": {},
   "outputs": [],
   "source": [
    "M1 = np.matrix(np.random.randint(1, 10, (3, 1)))\n",
    "M2 = np.matrix(np.random.randint(1, 10, (1, 3)))\n",
    "\n",
    "print(\"M1 =\\n\", M1, '\\n')\n",
    "print(\"M2 =\\n\", M2, '\\n')\n",
    "print(\"M1 * M2 =\\n\", M1 * M2, '\\n')\n",
    "print(\"M2 * M1 =\\n\", M2 * M1)"
   ]
  },
  {
   "cell_type": "markdown",
   "metadata": {},
   "source": [
    "El módulo `numpy` tiene ciertos métodos reservdos para las operaciones matriciales básicas como obtener la Inversa de una matriz, la Transpuesta de una matriz o el valor del Determinante:"
   ]
  },
  {
   "cell_type": "code",
   "execution_count": null,
   "metadata": {},
   "outputs": [],
   "source": [
    "M = np.matrix(np.random.randint(1, 10, (3, 3)))\n",
    "\n",
    "print(M, '\\n')\n",
    "print(M.I, '\\n')   # Inversa\n",
    "print(M.T, '\\n')   # Transpuesta\n",
    "print(np.linalg.det(M), '\\n')  # Determinante"
   ]
  },
  {
   "cell_type": "markdown",
   "metadata": {},
   "source": [
    "### Notacion MATLAB para definicion de Matrices\n",
    "El software utilizado de forma extendida en el campo de la ingeniería es MATLAB, que permite la manipulación de arreglos y matrices (de hecho, el módulo `numpy` es una réplica de MATLAB). En este producto, los arreglos matriciales se especifican utilizando una nomenclatura que separa cada columna con `,` y cada fila con `;`. Se puede utilizar esta nomenclatura en `numpy` especificándola como un `str`, lo que hace no solo más sencilla la definición de una matriz (en lugar de utilizar una lista de listas), sino que permite ingrersar datos de MATLAB a código Python.\n",
    "\n",
    "<img src=\"https://miro.medium.com/max/720/1*c8K3Sy7X0beMNjsKRGmGSA.jpeg\" alt=\"Drawing\" style=\"width: 400px;\"/>\n",
    "\n",
    "Por ejemplo, se puede utilzar una operación matricial para resolver sistemas de ecuaciones múltiples de la forma:\n",
    "\n",
    "$$ \\begin{cases}2x + 3y - 2z = 8 \\\\1x - 4z = 1 \\\\2x - y + 6z = 4\\end{cases} $$\n",
    "\n",
    "En donde se tiene una matriz cuadrada con los coeficientes del sistema, una matriz columna con las variables y otra con los resultados\n",
    "\n",
    "<img src=\"https://i0.wp.com/fisicaymates.com/wp-content/uploads/2019/01/sistema-de-ecuaciones-lineales.jpg?zoom=2.625&resize=396%2C290&ssl=1\" alt=\"Drawing\" style=\"width: 200px;\"/>\n",
    "\n",
    "Para resolver este sistema se utiliza la operación:\n",
    "\n",
    "$$  X = A^{-1} * B $$"
   ]
  },
  {
   "cell_type": "code",
   "execution_count": null,
   "metadata": {},
   "outputs": [],
   "source": [
    "A = np.matrix(\"2, 3, -2; 1, 0, -4; 2, -1, 6\")\n",
    "B = np.matrix(\"8; 1; 4\")\n",
    "\n",
    "# Se calcula Inv(A) * B\n",
    "X = A.I * B\n",
    "\n",
    "print(X)"
   ]
  },
  {
   "cell_type": "markdown",
   "metadata": {},
   "source": [
    "### Ejemplo de aplicación\n",
    "Simular las notas de un grupo de estudiantes (15) con 5 evaluaciones. Debe obtener las estadisticas de notas, promedio por alumno, promedio por evaluacion y numero de aprobados."
   ]
  },
  {
   "cell_type": "code",
   "execution_count": null,
   "metadata": {},
   "outputs": [],
   "source": [
    "from colorama import Fore, Style\n",
    "\n",
    "notas = np.random.randint(5, 19, (15, 5))\n",
    "prom_alumno = np.mean(notas, axis=1)\n",
    "prom_evaluacion = np.mean(notas, axis=0)\n",
    "num_aprob = prom_alumno[prom_alumno > 10.5].size\n",
    "\n",
    "print(\"ALUMNO         N1     N2     N3     N4     N5     PROM\")\n",
    "print(\"-------------------------------------------------------\")\n",
    "for idx, (notas_alum, prom_alum) in enumerate(zip(notas, prom_alumno)):\n",
    "    print(\"Alumno {:2}   \".format(idx+1), end='')\n",
    "    for nota in notas_alum:\n",
    "        if nota < 10.5:\n",
    "            print(Fore.RED + \"{:5}  \".format(nota), end='')\n",
    "        else:\n",
    "            print(Fore.BLUE + \"{:5}  \".format(nota), end='')\n",
    "    else:\n",
    "        if prom_alum < 10.5:\n",
    "            print(Fore.RED + \"  {:>5.2f}\".format(prom_alum))\n",
    "        else:\n",
    "            print(Fore.BLUE + \"  {:>5.2f}\".format(prom_alum))\n",
    "        \n",
    "    print(Style.RESET_ALL, end='')        \n",
    "    \n",
    "print(\"-------------------------------------------------------\")\n",
    "print(\"            \", end='')\n",
    "for nota in prom_evaluacion:\n",
    "    if nota < 10.5:\n",
    "        print(Fore.RED + \"{:5.2f}  \".format(nota), end='')\n",
    "    else:\n",
    "        print(Fore.BLUE + \"{:5.2f}  \".format(nota), end='')\n",
    "else:\n",
    "    print(Style.RESET_ALL)\n",
    "\n",
    "print(\"\\n\\nNumero de aprobados: {}/{}\".format(num_aprob, prom_alumno.size))"
   ]
  }
 ],
 "metadata": {
  "kernelspec": {
   "display_name": "Python 3",
   "language": "python",
   "name": "python3"
  },
  "language_info": {
   "codemirror_mode": {
    "name": "ipython",
    "version": 3
   },
   "file_extension": ".py",
   "mimetype": "text/x-python",
   "name": "python",
   "nbconvert_exporter": "python",
   "pygments_lexer": "ipython3",
   "version": "3.8.3"
  }
 },
 "nbformat": 4,
 "nbformat_minor": 4
}
