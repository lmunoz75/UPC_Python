{
 "cells": [
  {
   "cell_type": "markdown",
   "metadata": {
    "user_expressions": []
   },
   "source": [
    "# Conjuntos y Diccionarios\n",
    "<div style=\"text-align: right\">Autor: Luis A. Muñoz - 2024 </div>"
   ]
  },
  {
   "cell_type": "markdown",
   "metadata": {
    "user_expressions": []
   },
   "source": [
    "Ideas clave:\n",
    "\n",
    "* Los conjuntos son contenedores de datos en Python que no admiten valores duplicados.\n",
    "* Un conjunto tiene el formato {val1, val2, ...}\n",
    "* Los valores en un conjunto (set) se agregan con el método add y si el valor a añadir ya se encuentra en el conjunto, este se descarta\n",
    "* Los conjuntos soportan operaciones de intersección, union, diferencia y diferencia simétrica.\n",
    "* Un diccionario es un tipo de datos de Python que convierte un dato en otro\n",
    "* Funciona como un formulario de datos: los campos a llenar se llaman llaves (keys) y los datos con que se llenan los campos con valores (values)\n",
    "* Un diccionario tiene el formato {key1: value1, key2: value2, ....}\n",
    "* Un diccionario utiliza las llaves como índices para acceder a los valores\n",
    "\n",
    "Informacion:\n",
    "* https://recursospython.com/guias-y-manuales/conjuntos-sets/\n",
    "* https://recursospython.com/guias-y-manuales/diccionarios/\n",
    "---"
   ]
  },
  {
   "cell_type": "markdown",
   "metadata": {
    "user_expressions": []
   },
   "source": [
    "# Conjuntos: `set`\n",
    "<img src=\"https://miro.medium.com/proxy/0*_Pc2_6NV9IUgTQ9m.png\" alt=\"Drawing\" style=\"width: 400px;\"/>\n",
    "\n",
    "Un conjunto `set` es una colección no ordenada de objetos únicos. Los conjuntos son ampliamente utilizados en lógica y matemática, y desde el lenguaje podemos sacar provecho de sus propiedades para crear código más eficiente y legible en menos tiempo.\n",
    "\n",
    "Para crear un conjunto se utiliza la siguiente sintáxis:"
   ]
  },
  {
   "cell_type": "code",
   "execution_count": 1,
   "metadata": {},
   "outputs": [
    {
     "name": "stdout",
     "output_type": "stream",
     "text": [
      "<class 'set'>\n",
      "{1, 2, 3, 4, 5, 6, 7, 8, 9}\n"
     ]
    }
   ],
   "source": [
    "s = {1, 2, 3, 4, 5, 6, 7, 8, 9}\n",
    "print(type(s))\n",
    "print(s)"
   ]
  },
  {
   "cell_type": "markdown",
   "metadata": {
    "user_expressions": []
   },
   "source": [
    "La idea más importante a recordar respecto a un conjunto es que no puede contener elementos repetidos y de esto se encarga directamente el contenedor de datos:"
   ]
  },
  {
   "cell_type": "code",
   "execution_count": 2,
   "metadata": {},
   "outputs": [
    {
     "name": "stdout",
     "output_type": "stream",
     "text": [
      "{1, 2, 3, 4, 5, 6, 7, 8, 9}\n"
     ]
    }
   ],
   "source": [
    "s = {1, 2, 3, 4, 5, 5, 5, 6, 7, 8, 8, 8, 9}\n",
    "print(s)"
   ]
  },
  {
   "cell_type": "markdown",
   "metadata": {
    "user_expressions": []
   },
   "source": [
    "Como se observa, los elementos repetidos se descartan del conjunto y solo estan presentes una sola vez. Esto tiene sentido si considera la noción matematica de un conjunto: una colección de elementos únicos y cuyo orden es irrelevante. Esto es que este es un conjunto válido:"
   ]
  },
  {
   "cell_type": "code",
   "execution_count": 3,
   "metadata": {},
   "outputs": [
    {
     "name": "stdout",
     "output_type": "stream",
     "text": [
      "{16, 2, 4, 102, 24}\n"
     ]
    }
   ],
   "source": [
    "pares = {4, 2, 16, 24, 102}\n",
    "print(pares)"
   ]
  },
  {
   "cell_type": "markdown",
   "metadata": {
    "user_expressions": []
   },
   "source": [
    "Note que la impresión de los valores no tiene un orden específico ya que su orden es irrelvante; esto quiere decir que no existe algo como \"el primer elemento\", o \"el último elemento\" o \"el n-ésimo elemento\". Lo que a su veces significa que los elementos de un conjunto no están indexados (\"*not suscriptable*\"):"
   ]
  },
  {
   "cell_type": "code",
   "execution_count": 4,
   "metadata": {},
   "outputs": [
    {
     "ename": "TypeError",
     "evalue": "'set' object is not subscriptable",
     "output_type": "error",
     "traceback": [
      "\u001b[1;31m---------------------------------------------------------------------------\u001b[0m",
      "\u001b[1;31mTypeError\u001b[0m                                 Traceback (most recent call last)",
      "Cell \u001b[1;32mIn[4], line 1\u001b[0m\n\u001b[1;32m----> 1\u001b[0m \u001b[43mpares\u001b[49m\u001b[43m[\u001b[49m\u001b[38;5;241;43m0\u001b[39;49m\u001b[43m]\u001b[49m\n",
      "\u001b[1;31mTypeError\u001b[0m: 'set' object is not subscriptable"
     ]
    }
   ],
   "source": [
    "pares[0]"
   ]
  },
  {
   "cell_type": "markdown",
   "metadata": {
    "user_expressions": []
   },
   "source": [
    "Estas características pueden ayudar a resolver algunos problemas. Por ejemplo, descartar un número si es que tiene dígitos repetidos:"
   ]
  },
  {
   "cell_type": "code",
   "execution_count": 5,
   "metadata": {},
   "outputs": [
    {
     "name": "stdout",
     "output_type": "stream",
     "text": [
      "Todos los digitos son diferentes\n"
     ]
    }
   ],
   "source": [
    "# Pruebe con diferentes valores de num (como str)\n",
    "num = '1293'\n",
    "\n",
    "# Lista por comprehension de cada caracter del str num que luego se convierte en un set\n",
    "numeros = set([n for n in num])      # ['1', '2', '3', '3']\n",
    "\n",
    "# Si el numero de elementos del str num es igual al numero de elementos del set\n",
    "# quiere decir que todos los caracteres son diferentes\n",
    "if len(num) == len(numeros):\n",
    "    print(\"Todos los digitos son diferentes\")\n",
    "else:\n",
    "    print(\"Hay digitos repetidos\")"
   ]
  },
  {
   "cell_type": "markdown",
   "metadata": {},
   "source": [
    "Los métodos disponibles en un conjunto se pueden observar en el directorio de un `set`:"
   ]
  },
  {
   "cell_type": "code",
   "execution_count": 6,
   "metadata": {
    "scrolled": true,
    "tags": []
   },
   "outputs": [
    {
     "data": {
      "text/plain": [
       "['__and__',\n",
       " '__class__',\n",
       " '__class_getitem__',\n",
       " '__contains__',\n",
       " '__delattr__',\n",
       " '__dir__',\n",
       " '__doc__',\n",
       " '__eq__',\n",
       " '__format__',\n",
       " '__ge__',\n",
       " '__getattribute__',\n",
       " '__gt__',\n",
       " '__hash__',\n",
       " '__iand__',\n",
       " '__init__',\n",
       " '__init_subclass__',\n",
       " '__ior__',\n",
       " '__isub__',\n",
       " '__iter__',\n",
       " '__ixor__',\n",
       " '__le__',\n",
       " '__len__',\n",
       " '__lt__',\n",
       " '__ne__',\n",
       " '__new__',\n",
       " '__or__',\n",
       " '__rand__',\n",
       " '__reduce__',\n",
       " '__reduce_ex__',\n",
       " '__repr__',\n",
       " '__ror__',\n",
       " '__rsub__',\n",
       " '__rxor__',\n",
       " '__setattr__',\n",
       " '__sizeof__',\n",
       " '__str__',\n",
       " '__sub__',\n",
       " '__subclasshook__',\n",
       " '__xor__',\n",
       " 'add',\n",
       " 'clear',\n",
       " 'copy',\n",
       " 'difference',\n",
       " 'difference_update',\n",
       " 'discard',\n",
       " 'intersection',\n",
       " 'intersection_update',\n",
       " 'isdisjoint',\n",
       " 'issubset',\n",
       " 'issuperset',\n",
       " 'pop',\n",
       " 'remove',\n",
       " 'symmetric_difference',\n",
       " 'symmetric_difference_update',\n",
       " 'union',\n",
       " 'update']"
      ]
     },
     "execution_count": 6,
     "metadata": {},
     "output_type": "execute_result"
    }
   ],
   "source": [
    "dir(set)"
   ]
  },
  {
   "cell_type": "markdown",
   "metadata": {
    "user_expressions": []
   },
   "source": [
    "De este listado, los métodos para la manipulación de los elementos son:\n",
    "    \n",
    "    - add()          Agrega un elemento al conjunto\n",
    "    - remove()       Elimina un elemento de un conjunto y si el elemento\n",
    "                     no existe genera una excepción\n",
    "    - discard()      Equivalente a remove(), pero en caso el elemento a eliminar\n",
    "                     no exista, esta operación se descarta.\n",
    "    - pop()          Extrae un elemento aleatorio del conjunto\n",
    "    \n",
    "Un detalle a considerar es la forma de inicializar un conjunto vacio: __hay que utilizar la instrucción `set()` y no `{}`.__"
   ]
  },
  {
   "cell_type": "code",
   "execution_count": 7,
   "metadata": {},
   "outputs": [
    {
     "name": "stdout",
     "output_type": "stream",
     "text": [
      "{0, 1, 3, 7, 10}\n",
      "{0, 1, 7, 10}\n",
      "\n",
      "Valor extraido aleatorio: 0\n",
      "{1, 7, 10}\n",
      "\n",
      "Valor extraido aleatorio: 1\n",
      "{7, 10}\n"
     ]
    }
   ],
   "source": [
    "# Conjunto vacio\n",
    "s = set()\n",
    "\n",
    "# Se agregan elementos al conjunto\n",
    "s.add(0)\n",
    "s.add(1)\n",
    "s.add(3)\n",
    "s.add(10)\n",
    "s.add(7)\n",
    "print(s)\n",
    "\n",
    "# Se descartan elementos de un conjunto\n",
    "s.discard(3)\n",
    "s.discard(20)    # Esto no genera una excepcion\n",
    "print(s)\n",
    "\n",
    "# Se extrae un valor aleatorio\n",
    "val = s.pop()\n",
    "print(\"\\nValor extraido aleatorio:\", val)\n",
    "print(s)\n",
    "\n",
    "val = s.pop()\n",
    "print(\"\\nValor extraido aleatorio:\", val)\n",
    "print(s)"
   ]
  },
  {
   "cell_type": "markdown",
   "metadata": {
    "user_expressions": []
   },
   "source": [
    "Los conjuntos soportan las siguientes operaciones:\n",
    "    \n",
    "    * &      Interseccion\n",
    "    * |      Union\n",
    "    * -      Diferencia\n",
    "    * ^      Diferencia simétrica\n",
    "    \n",
    "![](https://aprendepython.es/_images/venn.png)"
   ]
  },
  {
   "cell_type": "code",
   "execution_count": 8,
   "metadata": {},
   "outputs": [
    {
     "name": "stdout",
     "output_type": "stream",
     "text": [
      "{0, 18, 12, 6}\n",
      "{0, 3, 5, 6, 9, 10, 12, 15, 18, 20, 21, 25}\n",
      "{2, 4, 8, 10, 14, 16, 20}\n",
      "{3, 5, 6, 9, 10, 12, 18, 20, 21, 25}\n"
     ]
    }
   ],
   "source": [
    "pares = {0, 2, 4, 6, 8, 10, 12, 14, 16, 18, 20}\n",
    "mult_3 = {0, 3, 6, 9, 12, 15, 18, 21}\n",
    "mult_5 = {0, 5, 10, 15, 20, 25}\n",
    "\n",
    "print(pares & mult_3)    # Equivalente al método: pares.intersection(mult_3)\n",
    "print(mult_5 | mult_3)   # Equivalente al método: mult_3.union(mult_5)\n",
    "print(pares - mult_3)    # Equivalente al método: pares.difference(mult_3)\n",
    "print(mult_3 ^ mult_5)   # Equivalente al método: mult_3.symetric_difference(mult_5)"
   ]
  },
  {
   "cell_type": "markdown",
   "metadata": {},
   "source": [
    "Un conjunto es un \"iterable\", esto es que puede ser parte de un lazo for y lo que itere serán sus elementos:"
   ]
  },
  {
   "cell_type": "code",
   "execution_count": 9,
   "metadata": {},
   "outputs": [
    {
     "name": "stdout",
     "output_type": "stream",
     "text": [
      "1\n",
      "2\n",
      "3\n",
      "4\n",
      "5\n"
     ]
    }
   ],
   "source": [
    "for element in {1, 2, 3, 3, 4, 5, 5}:\n",
    "    print(element)"
   ]
  },
  {
   "cell_type": "markdown",
   "metadata": {
    "user_expressions": []
   },
   "source": [
    "# Diccionarios: dict\n",
    "![](https://cs.stanford.edu/people/nick/py/img/python-dict2.png)\n",
    "\n",
    "Un diccionario es una colección no ordenada de objetos. Es por eso que para identificar un valor cualquiera dentro de él, especificamos una llave (a diferencia de las listas y tuplas, cuyos elementos se identifican por su posición). Las llaves suelen ser números enteros o cadenas, aunque cualquier otro objeto inmutable puede actuar como una llave (en realidad, cualquier objeto \"hasheable\"). Los valores, por el contrario, pueden ser de cualquier tipo, incluso otros diccionarios.\n",
    "\n",
    "Un diccionario vacío se puede expresar de dos formas: `dict()` o `{}` y tiene el formato `(key: value)`:"
   ]
  },
  {
   "cell_type": "code",
   "execution_count": 10,
   "metadata": {},
   "outputs": [
    {
     "name": "stdout",
     "output_type": "stream",
     "text": [
      "<class 'dict'>\n",
      "{'Python': 1991, 'C': 1972, 'Java': 1996}\n",
      "Num de elementos: 3\n"
     ]
    }
   ],
   "source": [
    "d = {\"Python\": 1991, \"C\": 1972, \"Java\": 1996}\n",
    "\n",
    "print(type(d))\n",
    "print(d)\n",
    "print(\"Num de elementos:\", len(d))"
   ]
  },
  {
   "cell_type": "markdown",
   "metadata": {
    "user_expressions": []
   },
   "source": [
    "Como se puede observar, cada par `llave:valor` se considera un elemento, pero estos no tienen índices:"
   ]
  },
  {
   "cell_type": "code",
   "execution_count": 11,
   "metadata": {},
   "outputs": [
    {
     "ename": "KeyError",
     "evalue": "0",
     "output_type": "error",
     "traceback": [
      "\u001b[1;31m---------------------------------------------------------------------------\u001b[0m",
      "\u001b[1;31mKeyError\u001b[0m                                  Traceback (most recent call last)",
      "Cell \u001b[1;32mIn[11], line 1\u001b[0m\n\u001b[1;32m----> 1\u001b[0m \u001b[43md\u001b[49m\u001b[43m[\u001b[49m\u001b[38;5;241;43m0\u001b[39;49m\u001b[43m]\u001b[49m\n",
      "\u001b[1;31mKeyError\u001b[0m: 0"
     ]
    }
   ],
   "source": [
    "d[0]"
   ]
  },
  {
   "cell_type": "markdown",
   "metadata": {},
   "source": [
    "En un diccionario el elemento que se utiliza para especificar un elemento es la llave:"
   ]
  },
  {
   "cell_type": "code",
   "execution_count": 12,
   "metadata": {},
   "outputs": [
    {
     "data": {
      "text/plain": [
       "1991"
      ]
     },
     "execution_count": 12,
     "metadata": {},
     "output_type": "execute_result"
    }
   ],
   "source": [
    "d['Python']"
   ]
  },
  {
   "cell_type": "markdown",
   "metadata": {},
   "source": [
    "Y se puede utilizar el operador `=` para asignarle un valor o agregar un nuevo elemento: "
   ]
  },
  {
   "cell_type": "code",
   "execution_count": 13,
   "metadata": {},
   "outputs": [
    {
     "name": "stdout",
     "output_type": "stream",
     "text": [
      "{'Python': 2001, 'C': 1972, 'Java': 1996, 'C++': 1983}\n"
     ]
    }
   ],
   "source": [
    "d['Python'] = 2001\n",
    "d['C++'] = 1983\n",
    "\n",
    "print(d)"
   ]
  },
  {
   "cell_type": "markdown",
   "metadata": {},
   "source": [
    "Como las llaves son empleadas en lugar de los índices, estas no pueden ser duplicadas, a diferencia de los valores que si pueden ser repetidos:"
   ]
  },
  {
   "cell_type": "code",
   "execution_count": 14,
   "metadata": {},
   "outputs": [
    {
     "name": "stdout",
     "output_type": "stream",
     "text": [
      "{'Python': 2001, 'C': 1972, 'Java': 1996, 'C++': 1983, 'JavaScript': 1995, 'PHP': 1995}\n"
     ]
    }
   ],
   "source": [
    "d[\"JavaScript\"] = 1995\n",
    "d[\"PHP\"] = 1995\n",
    "\n",
    "print(d)"
   ]
  },
  {
   "cell_type": "markdown",
   "metadata": {},
   "source": [
    "Cuando se considera el uso de un diccionario como parte de un código de programación, se debe pensar en un diccionario como un formulario. Considere el siguiente diccionario:"
   ]
  },
  {
   "cell_type": "code",
   "execution_count": 15,
   "metadata": {},
   "outputs": [
    {
     "name": "stdout",
     "output_type": "stream",
     "text": [
      "{'nombre': 'Elvio', 'apellido': 'Lado', 'edad': 20, 'telefono': '976-765-262', 'direccion': 'Av. Separadora Industrial 2134, Ate'}\n",
      "Elvio Lado\n"
     ]
    }
   ],
   "source": [
    "# El diccionario 'persona' almacena cada dato de una persona en llaves\n",
    "persona = {'nombre': 'Elvio',\n",
    "           'apellido': 'Lado',\n",
    "           'edad': 20,\n",
    "           'telefono': '976-765-262',\n",
    "           'direccion': 'Av. Separadora Industrial 2134, Ate'}\n",
    "\n",
    "print(persona)\n",
    "\n",
    "# Observe en esta línea como el diccionario aclara el código pues en lugar de usar un índice\n",
    "# en 'persona' se usa el nombre de la llave y se puede entender que primero se imprime el nombre\n",
    "# y luego el apellido.\n",
    "print(persona['nombre'] + ' ' + persona['apellido'])"
   ]
  },
  {
   "cell_type": "markdown",
   "metadata": {},
   "source": [
    "¿Como se cambiaría el teléfono de la persona en el diccionario?"
   ]
  },
  {
   "cell_type": "code",
   "execution_count": 16,
   "metadata": {},
   "outputs": [
    {
     "name": "stdout",
     "output_type": "stream",
     "text": [
      "{'nombre': 'Elvio', 'apellido': 'Lado', 'edad': 20, 'telefono': '987-363-999', 'direccion': 'Av. Separadora Industrial 2134, Ate'}\n"
     ]
    }
   ],
   "source": [
    "persona['telefono'] = '987-363-999'\n",
    "print(persona)"
   ]
  },
  {
   "cell_type": "markdown",
   "metadata": {},
   "source": [
    "¿Y cómo se agregaría el email de esta persona en el diccionario?"
   ]
  },
  {
   "cell_type": "code",
   "execution_count": 17,
   "metadata": {},
   "outputs": [
    {
     "name": "stdout",
     "output_type": "stream",
     "text": [
      "{'nombre': 'Elvio', 'apellido': 'Lado', 'edad': 20, 'telefono': '987-363-999', 'direccion': 'Av. Separadora Industrial 2134, Ate', 'email': 'elado@mail.com'}\n"
     ]
    }
   ],
   "source": [
    "persona['email'] = 'elado@mail.com'\n",
    "print(persona)"
   ]
  },
  {
   "cell_type": "markdown",
   "metadata": {},
   "source": [
    "## Diccionario como un iterable\n",
    "Un diccionario también es un iterable, pero que retorna: ¿las llaves, los valores, ambos?"
   ]
  },
  {
   "cell_type": "code",
   "execution_count": 18,
   "metadata": {},
   "outputs": [
    {
     "name": "stdout",
     "output_type": "stream",
     "text": [
      "1\n",
      "2\n",
      "3\n",
      "4\n",
      "5\n",
      "6\n",
      "7\n",
      "8\n",
      "9\n",
      "10\n",
      "11\n",
      "12\n"
     ]
    }
   ],
   "source": [
    "meses = {1: 'ene', 2: 'feb', 3: 'mar',\n",
    "         4: 'abr', 5: 'may', 6: 'jun',\n",
    "         7: 'jul', 8: 'ago', 9: 'set',\n",
    "         10: 'oct', 11: 'nov', 12: 'dic'}\n",
    "\n",
    "\n",
    "for data in meses:\n",
    "    print(data)"
   ]
  },
  {
   "cell_type": "markdown",
   "metadata": {},
   "source": [
    "Las llaves. Esto tiene sentido ya que se pueden obtener los valores a partir de las llaves, y no se pueden obtener las llaves a partir los valores (ya que estos últimos pueden ser duplicados). En caso se requiera otra respuesta, se puede llamar a los siguientes métodos:\n",
    "\n",
    "    * dict.keys()      Retorna una lista con las llaves de un diccionario\n",
    "    * dict.values()    Retorna una lista con los valores de un diccionario\n",
    "    * dict.items()     Retorna una lista de tuplas con los pares (llave, valor)"
   ]
  },
  {
   "cell_type": "code",
   "execution_count": 19,
   "metadata": {},
   "outputs": [
    {
     "name": "stdout",
     "output_type": "stream",
     "text": [
      "Método keys()\n",
      "1\n",
      "2\n",
      "3\n",
      "4\n",
      "5\n",
      "6\n",
      "7\n",
      "8\n",
      "9\n",
      "10\n",
      "11\n",
      "12\n",
      "\n",
      "Método values()\n",
      "ene\n",
      "feb\n",
      "mar\n",
      "abr\n",
      "may\n",
      "jun\n",
      "jul\n",
      "ago\n",
      "set\n",
      "oct\n",
      "nov\n",
      "dic\n",
      "\n",
      "Método items()\n",
      "(1, 'ene')\n",
      "(2, 'feb')\n",
      "(3, 'mar')\n",
      "(4, 'abr')\n",
      "(5, 'may')\n",
      "(6, 'jun')\n",
      "(7, 'jul')\n",
      "(8, 'ago')\n",
      "(9, 'set')\n",
      "(10, 'oct')\n",
      "(11, 'nov')\n",
      "(12, 'dic')\n"
     ]
    }
   ],
   "source": [
    "print(\"Método keys()\")\n",
    "for data in meses.keys():\n",
    "    print(data)\n",
    "else:\n",
    "    print()\n",
    "\n",
    "print(\"Método values()\")\n",
    "for data in meses.values():\n",
    "    print(data)\n",
    "else:\n",
    "    print()\n",
    "\n",
    "print(\"Método items()\")\n",
    "for data in meses.items():\n",
    "    print(data)"
   ]
  },
  {
   "cell_type": "markdown",
   "metadata": {},
   "source": [
    "## Métodos en un diccionario\n",
    "Adicionalmente a los métodos anteriores, también se tienen los siguientes métodos:"
   ]
  },
  {
   "cell_type": "code",
   "execution_count": 20,
   "metadata": {
    "scrolled": true,
    "tags": []
   },
   "outputs": [
    {
     "data": {
      "text/plain": [
       "['__class__',\n",
       " '__class_getitem__',\n",
       " '__contains__',\n",
       " '__delattr__',\n",
       " '__delitem__',\n",
       " '__dir__',\n",
       " '__doc__',\n",
       " '__eq__',\n",
       " '__format__',\n",
       " '__ge__',\n",
       " '__getattribute__',\n",
       " '__getitem__',\n",
       " '__gt__',\n",
       " '__hash__',\n",
       " '__init__',\n",
       " '__init_subclass__',\n",
       " '__ior__',\n",
       " '__iter__',\n",
       " '__le__',\n",
       " '__len__',\n",
       " '__lt__',\n",
       " '__ne__',\n",
       " '__new__',\n",
       " '__or__',\n",
       " '__reduce__',\n",
       " '__reduce_ex__',\n",
       " '__repr__',\n",
       " '__reversed__',\n",
       " '__ror__',\n",
       " '__setattr__',\n",
       " '__setitem__',\n",
       " '__sizeof__',\n",
       " '__str__',\n",
       " '__subclasshook__',\n",
       " 'clear',\n",
       " 'copy',\n",
       " 'fromkeys',\n",
       " 'get',\n",
       " 'items',\n",
       " 'keys',\n",
       " 'pop',\n",
       " 'popitem',\n",
       " 'setdefault',\n",
       " 'update',\n",
       " 'values']"
      ]
     },
     "execution_count": 20,
     "metadata": {},
     "output_type": "execute_result"
    }
   ],
   "source": [
    "dir(dict)"
   ]
  },
  {
   "cell_type": "markdown",
   "metadata": {},
   "source": [
    "Los siguientes métodos realizan las siguientes acciones:    \n",
    "    \n",
    "    * clear()         Elimina todos los elementos de un diccionario\n",
    "    * copy()          Copia los elementos de un diccionario en otro, equivalente a las listas\n",
    "    * fromkeys()      Crea un dict a partir de los elementos de una lista que servirán como llaves\n",
    "                      y con valores = None\n",
    "    * get()           Retorna un valor de una llave. Equivalente a dict[key], \n",
    "                      pero no genera una excepcion si la llave no existe\n",
    "    * pop()           Extrae el valor de una diccionario a partir de una llave.\n",
    "    * popitem()       Extrae el último par (llave, valor) insertado\n",
    "    * setdefault()    Crea un diccionario a partir de una llave y un valor por defecto. \n",
    "                      En caso la llave ya existe la operacion se descarta\n",
    "    * update()        Actualiza los elementos de un diccionadio a partir de otro\n",
    "    \n",
    "Creemos un diccionario `numeros` y saquemos un valor con `pop()`:"
   ]
  },
  {
   "cell_type": "code",
   "execution_count": 21,
   "metadata": {},
   "outputs": [
    {
     "name": "stdout",
     "output_type": "stream",
     "text": [
      "nueve\n",
      "{1: 'uno', 2: 'dos', 3: 'tres', 4: 'cuatro', 5: 'cinco', 6: 'seis', 7: 'siete', 8: 'ocho'}\n"
     ]
    }
   ],
   "source": [
    "numeros = {1: 'uno', 2: 'dos', 3: 'tres', 4: 'cuatro', 5: 'cinco', 6: 'seis', 7: 'siete', 8: 'ocho', 9: 'nueve'}\n",
    "\n",
    "val = numeros.pop(9)\n",
    "print(val)\n",
    "print(numeros)"
   ]
  },
  {
   "cell_type": "markdown",
   "metadata": {},
   "source": [
    "Si utilizamos la sintaxis `dict[key]` para obtener el valor de una llave, tendrémos una excepción porque esta llave no existe:"
   ]
  },
  {
   "cell_type": "code",
   "execution_count": 22,
   "metadata": {},
   "outputs": [
    {
     "ename": "KeyError",
     "evalue": "9",
     "output_type": "error",
     "traceback": [
      "\u001b[1;31m---------------------------------------------------------------------------\u001b[0m",
      "\u001b[1;31mKeyError\u001b[0m                                  Traceback (most recent call last)",
      "Cell \u001b[1;32mIn[22], line 2\u001b[0m\n\u001b[0;32m      1\u001b[0m \u001b[38;5;66;03m# Esto genera un excepción porque la llave 9 ya no existe\u001b[39;00m\n\u001b[1;32m----> 2\u001b[0m \u001b[43mnumeros\u001b[49m\u001b[43m[\u001b[49m\u001b[38;5;241;43m9\u001b[39;49m\u001b[43m]\u001b[49m\n",
      "\u001b[1;31mKeyError\u001b[0m: 9"
     ]
    }
   ],
   "source": [
    "# Esto genera un excepción porque la llave 9 ya no existe\n",
    "numeros[9]"
   ]
  },
  {
   "cell_type": "markdown",
   "metadata": {},
   "source": [
    "Es preferible utilizar el método `get()` para obtener el valor de una llave:"
   ]
  },
  {
   "cell_type": "code",
   "execution_count": 23,
   "metadata": {},
   "outputs": [
    {
     "data": {
      "text/plain": [
       "'No existe'"
      ]
     },
     "execution_count": 23,
     "metadata": {},
     "output_type": "execute_result"
    }
   ],
   "source": [
    "# Esto no genera una excepcion\n",
    "numeros.get(9)\n",
    "\n",
    "# E incusive puede devolver algo en caso esta llave no exista\n",
    "numeros.get(9, \"No existe\")"
   ]
  },
  {
   "cell_type": "markdown",
   "metadata": {},
   "source": [
    "Se puede combinar la función `zip` con dos listas para crear un diccionario a partir de valores predefinidos en listas:"
   ]
  },
  {
   "cell_type": "code",
   "execution_count": 27,
   "metadata": {},
   "outputs": [
    {
     "name": "stdout",
     "output_type": "stream",
     "text": [
      "{1: 'ene', 2: 'feb', 3: 'mar', 4: 'abr', 5: 'may', 6: 'jun', 7: 'jul', 8: 'ago', 9: 'set', 10: 'oct', 11: 'nov', 12: 'dic'}\n"
     ]
    }
   ],
   "source": [
    "meses_n = ['ene', 'feb', 'mar', 'abr', 'may', 'jun', \n",
    "          'jul', 'ago', 'set', 'oct', 'nov', 'dic']\n",
    "meses_d = [1, 2, 3, 4, 5, 6, 7, 8, 9, 10, 11, 12]\n",
    "\n",
    "meses = dict(zip(meses_d, meses_n))\n",
    "print(meses)"
   ]
  },
  {
   "cell_type": "markdown",
   "metadata": {
    "user_expressions": []
   },
   "source": [
    "También se pueden crear diccionarios por comprehensión, en este caso un diccionario que relacione grados Centigrados a grados Fahrenheit:"
   ]
  },
  {
   "cell_type": "code",
   "execution_count": 32,
   "metadata": {},
   "outputs": [
    {
     "name": "stdout",
     "output_type": "stream",
     "text": [
      "{20: 68.0, 21: 69.8, 22: 71.6, 23: 73.4, 24: 75.2, 25: 77.0, 26: 78.8, 27: 80.6, 28: 82.4, 29: 84.2, 30: 86.0}\n"
     ]
    }
   ],
   "source": [
    "C_to_F = {C:round(9/5 * C + 32, 1) for C in range(20, 31)}\n",
    "print(C_to_F)"
   ]
  },
  {
   "cell_type": "markdown",
   "metadata": {
    "user_expressions": []
   },
   "source": [
    "Por último, el operador `in` también se puede utilizar para verificar si una llave esta presente en un diccionario:"
   ]
  },
  {
   "cell_type": "code",
   "execution_count": null,
   "metadata": {},
   "outputs": [],
   "source": [
    "print(3 in meses)        # Esta llave esta en el diccionario\n",
    "print('ene' in meses)    # Este valor esta en el diccionario, pero 'in' no busca valores"
   ]
  },
  {
   "cell_type": "markdown",
   "metadata": {},
   "source": [
    "## Listas en un diccionario\n",
    "Se pueden incluír listas como valores de un diccionario. Considere el siguiente código:"
   ]
  },
  {
   "cell_type": "code",
   "execution_count": 33,
   "metadata": {},
   "outputs": [
    {
     "name": "stdout",
     "output_type": "stream",
     "text": [
      "Lenguajes favoritos de Juan:\n",
      "  1: Python\n",
      "\n",
      "Lenguajes favoritos de Maria:\n",
      "  1: C\n",
      "  2: C++\n",
      "\n",
      "Lenguajes favoritos de Elvio:\n",
      "  1: HTML\n",
      "  2: JavaScript\n",
      "  3: PHP\n",
      "\n",
      "Lenguajes favoritos de Clodoaldo:\n",
      "  1: Assembler\n",
      "  2: Haskell\n",
      "\n",
      "Lenguajes favoritos de Rosa:\n",
      "  1: Python\n",
      "  2: VisualBasic\n",
      "\n"
     ]
    }
   ],
   "source": [
    "leng_prog = {'juan': ['Python'],\n",
    "             'maria': ['C', 'C++'],\n",
    "             'elvio': ['HTML', 'JavaScript', 'PHP'],\n",
    "             'clodoaldo': ['Assembler', 'Haskell'],\n",
    "             'rosa': ['Python', 'VisualBasic']\n",
    "             }\n",
    "\n",
    "# El lazo for extrae los pares (llave, valor) con el metodo items()\n",
    "for nombre, lenguajes in leng_prog.items():\n",
    "    print(\"Lenguajes favoritos de\", nombre.capitalize() +  \":\")\n",
    "    for idx, lenguaje in enumerate(lenguajes):\n",
    "        print(\"  {}: {}\".format(idx+1, lenguaje))\n",
    "    else:\n",
    "        print()"
   ]
  },
  {
   "cell_type": "markdown",
   "metadata": {},
   "source": [
    "## Diccionarios en listas\n",
    "Se puede tener un diccionario como elemento de una lista (o varios). Considere el siguiente código:"
   ]
  },
  {
   "cell_type": "code",
   "execution_count": 34,
   "metadata": {},
   "outputs": [
    {
     "name": "stdout",
     "output_type": "stream",
     "text": [
      "ALUMNO 1\n",
      "  Nombre: Elvio\n",
      "  Apellido: Lado\n",
      "  Codigo: A8383783\n",
      "  Email: elado@yahoo.com\n",
      "\n",
      "ALUMNO 2\n",
      "  Nombre: Maria\n",
      "  Apellido: Jimenez\n",
      "  Codigo: A8309806\n",
      "  Email: mjimenez@mail.com\n",
      "\n"
     ]
    }
   ],
   "source": [
    "# alumnos[0]['apellido']\n",
    "alumnos = [{'nombre': 'Elvio',\n",
    "            'apellido': 'Lado',\n",
    "            'codigo': 'A8383783',\n",
    "            'email': 'elado@yahoo.com',\n",
    "           },\n",
    "           {'nombre': 'Maria',\n",
    "            'apellido': 'Jimenez',\n",
    "            'codigo': 'A8309806',\n",
    "            'email': 'mjimenez@mail.com',\n",
    "           },\n",
    "          ]\n",
    "\n",
    "# Se extraen los elementos de alumnos, donde cada elemento es un diccionario\n",
    "for idx, alumno in enumerate(alumnos):\n",
    "    print(\"ALUMNO\", idx+1)\n",
    "    # Se extraen los pares (llave,valor) de los diccionarios\n",
    "    for k, v in alumno.items():\n",
    "        print(\"  {}: {}\".format(k.capitalize(), v))\n",
    "    else:\n",
    "        print()"
   ]
  },
  {
   "cell_type": "markdown",
   "metadata": {},
   "source": [
    "## Dicionarios en un diccionario\n",
    "Se puede tener un diccionario donde los elementos serán diccionarios a la vez."
   ]
  },
  {
   "cell_type": "code",
   "execution_count": 35,
   "metadata": {},
   "outputs": [
    {
     "name": "stdout",
     "output_type": "stream",
     "text": [
      "\n",
      "* Nombre de usuario: elazo\n",
      "  * Nombres: Lado, Elvio\n",
      "  * Codigo: A8383783\n",
      "  * Email: elado@yahoo.com\n",
      "  * Telefono:\n",
      "    - Movil: 987-345-222\n",
      "    - Fijo: 245-3783\n",
      "\n",
      "* Nombre de usuario: mjimenez\n",
      "  * Nombres: Jimenez, Maria\n",
      "  * Codigo: A8309806\n",
      "  * Email: mjimenez@mail.com\n",
      "  * Telefono:\n",
      "    - Movil: 918-727-272\n"
     ]
    }
   ],
   "source": [
    "alumnos = {'elazo': \n",
    "                {'nombre': 'Elvio',\n",
    "                'apellido': 'Lado',\n",
    "                'codigo': 'A8383783',\n",
    "                'email': 'elado@yahoo.com',\n",
    "                'telefono': {'movil': '987-345-222',\n",
    "                             'fijo': '245-3783',\n",
    "                            }\n",
    "                },\n",
    "           'mjimenez': {'nombre': 'Maria',\n",
    "                'apellido': 'Jimenez',\n",
    "                'codigo': 'A8309806',\n",
    "                'email': 'mjimenez@mail.com',\n",
    "                'telefono': {'movil': '918-727-272',\n",
    "                            }\n",
    "               },\n",
    "          }\n",
    "\n",
    "# Se extraen las llaves (nombre de usuario) y los valores (diccionarios internos)\n",
    "for username, user_info in alumnos.items():\n",
    "    print(\"\\n* Nombre de usuario: {}\".format(username))\n",
    "    print(\"  * Nombres: {}, {}\".format(user_info['apellido'], user_info['nombre']))\n",
    "    print(\"  * Codigo: {}\".format(user_info['codigo']))\n",
    "    print(\"  * Email: {}\".format(user_info['email']))\n",
    "    print(\"  * Telefono:\")\n",
    "    # Se extraen los pares (llave,valor) de los diccionarios internos\n",
    "    for tipo_telef, num_telef in user_info['telefono'].items():\n",
    "        print(\"    - {}: {}\".format(tipo_telef.capitalize(), num_telef))"
   ]
  }
 ],
 "metadata": {
  "kernelspec": {
   "display_name": "Python 3 (ipykernel)",
   "language": "python",
   "name": "python3"
  },
  "language_info": {
   "codemirror_mode": {
    "name": "ipython",
    "version": 3
   },
   "file_extension": ".py",
   "mimetype": "text/x-python",
   "name": "python",
   "nbconvert_exporter": "python",
   "pygments_lexer": "ipython3",
   "version": "3.11.5"
  }
 },
 "nbformat": 4,
 "nbformat_minor": 4
}
