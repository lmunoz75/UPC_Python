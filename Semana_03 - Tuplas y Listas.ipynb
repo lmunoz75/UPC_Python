{
 "cells": [
  {
   "cell_type": "markdown",
   "metadata": {
    "user_expressions": []
   },
   "source": [
    "# Tuplas y listas\n",
    "<img src=\"https://www.educative.io/api/edpresso/shot/6303728271360000/image/6097462668296192\" alt=\"Drawing\" style=\"width: 400px;\"/>\n",
    "<div style=\"text-align: right\">Autor: Luis A. Muñoz - 2024 </div>"
   ]
  },
  {
   "cell_type": "markdown",
   "metadata": {
    "user_expressions": []
   },
   "source": [
    "Ideas clave:\n",
    "\n",
    "* La filosofía tras el diseño de Python se puede obtener importando la librería \"this\"\n",
    "* Python permite importar librerias para agregar capacidades adicionales en forma de funciones u objetos con métodos.\n",
    "* Las librerías se pueden importar de forma tal que agregen todos sus componenetes al directorio del sistema o utilizando un alias (namespace).\n",
    "* La librería \"math\" agrega capacidades matematicas al lenguajes de programación.\n",
    "* Un tupla es una colección de datos heterogéneos e inmutable.\n",
    "* Una lista es una colección de datos heterogéneos y mutable.\n",
    "* Tanto una lista como una tupla son iterables a nivel de elementos.\n",
    "* La funcion \"enumerate\" retorna a partir de una tupla o lista una secuencia enumerada\n",
    "* La función \"zip\" permite iterar dos o mas listas/tuplas en cada iteración\n",
    "* Una lista se puede generar utilizando una construcción sintácticamente más clara basada en la programación funcional llamda \"listas por comprehensión\".\n",
    "\n",
    "Informacion:\n",
    "* https://realpython.com/python-math-module/\n",
    "* https://www.w3schools.com/python/python_tuples.asp\n",
    "* https://www.w3schools.com/python/python_lists.asp\n",
    "\n",
    "---"
   ]
  },
  {
   "cell_type": "markdown",
   "metadata": {},
   "source": [
    "## Importación de librerías en Python: el Zen de Python\n",
    "El número de instrucciones disponibles en Python es bastante limitado. Las \"palabras reservadas\" en Python se puede listar ingresando al sistema de ayuda de Python. Se muestra los resultados de una sesión interactiva en el sistema de ayuda en la que se consulta sobre los \"keywords\"\n",
    "\n",
    "    help()\n",
    "    \n",
    "    help > keyword\n",
    "    \n",
    "    Here is a list of the Python keywords.  Enter any keyword to get more help.\n",
    "\n",
    "    False               class               from                or\n",
    "    None                continue            global              pass\n",
    "    True                def                 if                  raise\n",
    "    and                 del                 import              return\n",
    "    as                  elif                in                  try\n",
    "    assert              else                is                  while\n",
    "    async               except              lambda              with\n",
    "    await               finally             nonlocal            yield\n",
    "    break               for                 not\n",
    "   \n",
    "    help > q\n",
    "   "
   ]
  },
  {
   "cell_type": "code",
   "execution_count": null,
   "metadata": {},
   "outputs": [],
   "source": [
    "help()"
   ]
  },
  {
   "cell_type": "markdown",
   "metadata": {
    "user_expressions": []
   },
   "source": [
    "El listado que se muestra contiene todas las instrucciones disponibles en Python. Como puede observar, no se puede hacer mucho con tan pocas instrucciones. Esa es la razon por la que las funcionalidades adicionales han sido agrupadas en librerías adicionales, que son parte de la distribución base de Python o _biblioteca estándar_.\n",
    "\n",
    "Para importar estas librerías o paquetes se utiliza la instucción `import`. Esto agrega la librería o paquete al directorio del sistema. Pruebe la ejecución de las siguientes celdas de código:"
   ]
  },
  {
   "cell_type": "code",
   "execution_count": 1,
   "metadata": {},
   "outputs": [
    {
     "name": "stdout",
     "output_type": "stream",
     "text": [
      "The Zen of Python, by Tim Peters\n",
      "\n",
      "Beautiful is better than ugly.\n",
      "Explicit is better than implicit.\n",
      "Simple is better than complex.\n",
      "Complex is better than complicated.\n",
      "Flat is better than nested.\n",
      "Sparse is better than dense.\n",
      "Readability counts.\n",
      "Special cases aren't special enough to break the rules.\n",
      "Although practicality beats purity.\n",
      "Errors should never pass silently.\n",
      "Unless explicitly silenced.\n",
      "In the face of ambiguity, refuse the temptation to guess.\n",
      "There should be one-- and preferably only one --obvious way to do it.\n",
      "Although that way may not be obvious at first unless you're Dutch.\n",
      "Now is better than never.\n",
      "Although never is often better than *right* now.\n",
      "If the implementation is hard to explain, it's a bad idea.\n",
      "If the implementation is easy to explain, it may be a good idea.\n",
      "Namespaces are one honking great idea -- let's do more of those!\n"
     ]
    }
   ],
   "source": [
    "import this"
   ]
  },
  {
   "cell_type": "code",
   "execution_count": 2,
   "metadata": {},
   "outputs": [
    {
     "data": {
      "text/plain": [
       "['In',\n",
       " 'Out',\n",
       " '_',\n",
       " '__',\n",
       " '___',\n",
       " '__builtin__',\n",
       " '__builtins__',\n",
       " '__doc__',\n",
       " '__loader__',\n",
       " '__name__',\n",
       " '__package__',\n",
       " '__spec__',\n",
       " '_dh',\n",
       " '_i',\n",
       " '_i1',\n",
       " '_i2',\n",
       " '_ih',\n",
       " '_ii',\n",
       " '_iii',\n",
       " '_oh',\n",
       " 'exit',\n",
       " 'get_ipython',\n",
       " 'open',\n",
       " 'quit',\n",
       " 'this']"
      ]
     },
     "execution_count": 2,
     "metadata": {},
     "output_type": "execute_result"
    }
   ],
   "source": [
    "dir()"
   ]
  },
  {
   "cell_type": "markdown",
   "metadata": {},
   "source": [
    "¿Observa que la palabra `this` esta al final de la lista de los elementos del directorio del sistema? Esto quiere decir que la libreria `this` se ha incluido en el directorio del sistema. Respecto a la librería `this`, esta no agrega capacidades adicionales en Python, solo lista el \"Zen de Python\", una especie de reglas no escritas con las ideas detrás del diseño del lenguaje de programación. Léalas con atención y considere como Python busca la estética en el código, como prefiere lo \"plano\" sobre lo \"anidado\" (¿recuerda los `if` anidados?), la capacidad de tener un código legible y dos ideas guía al momento de pensar en una solución:\n",
    "\n",
    "* Si la implementación de difíci de explicar, es una mala idea\n",
    "* Si la implementación es sencilla de explicar, puede ser un buena idea"
   ]
  },
  {
   "cell_type": "markdown",
   "metadata": {},
   "source": [
    "## Librería `math`"
   ]
  },
  {
   "cell_type": "markdown",
   "metadata": {
    "user_expressions": []
   },
   "source": [
    "La librería `math` sí incorpora herramientas adicionales, en este caso, capacidades de cálculo matemático a Python. Utilizando esta librería como ejemplo, se puede hacer una importación de diferentes maneras:\n",
    "\n",
    "    import math\n",
    "    import math as m\n",
    "    from math import sin, cos\n",
    "    from math import *\n",
    "    \n",
    "Cada una de estas instrucciones importa la librería de distintas maneras."
   ]
  },
  {
   "cell_type": "code",
   "execution_count": 3,
   "metadata": {},
   "outputs": [],
   "source": [
    "import math"
   ]
  },
  {
   "cell_type": "code",
   "execution_count": 4,
   "metadata": {},
   "outputs": [
    {
     "data": {
      "text/plain": [
       "['In',\n",
       " 'Out',\n",
       " '_',\n",
       " '_2',\n",
       " '__',\n",
       " '___',\n",
       " '__builtin__',\n",
       " '__builtins__',\n",
       " '__doc__',\n",
       " '__loader__',\n",
       " '__name__',\n",
       " '__package__',\n",
       " '__spec__',\n",
       " '_dh',\n",
       " '_i',\n",
       " '_i1',\n",
       " '_i2',\n",
       " '_i3',\n",
       " '_i4',\n",
       " '_ih',\n",
       " '_ii',\n",
       " '_iii',\n",
       " '_oh',\n",
       " 'exit',\n",
       " 'get_ipython',\n",
       " 'math',\n",
       " 'open',\n",
       " 'quit',\n",
       " 'this']"
      ]
     },
     "execution_count": 4,
     "metadata": {},
     "output_type": "execute_result"
    }
   ],
   "source": [
    "dir()"
   ]
  },
  {
   "cell_type": "markdown",
   "metadata": {},
   "source": [
    "Observe que `math` ahora es parte del directorio del sistema. Explore el contenido de la librería."
   ]
  },
  {
   "cell_type": "code",
   "execution_count": 5,
   "metadata": {},
   "outputs": [
    {
     "data": {
      "text/plain": [
       "['__doc__',\n",
       " '__loader__',\n",
       " '__name__',\n",
       " '__package__',\n",
       " '__spec__',\n",
       " 'acos',\n",
       " 'acosh',\n",
       " 'asin',\n",
       " 'asinh',\n",
       " 'atan',\n",
       " 'atan2',\n",
       " 'atanh',\n",
       " 'ceil',\n",
       " 'comb',\n",
       " 'copysign',\n",
       " 'cos',\n",
       " 'cosh',\n",
       " 'degrees',\n",
       " 'dist',\n",
       " 'e',\n",
       " 'erf',\n",
       " 'erfc',\n",
       " 'exp',\n",
       " 'expm1',\n",
       " 'fabs',\n",
       " 'factorial',\n",
       " 'floor',\n",
       " 'fmod',\n",
       " 'frexp',\n",
       " 'fsum',\n",
       " 'gamma',\n",
       " 'gcd',\n",
       " 'hypot',\n",
       " 'inf',\n",
       " 'isclose',\n",
       " 'isfinite',\n",
       " 'isinf',\n",
       " 'isnan',\n",
       " 'isqrt',\n",
       " 'lcm',\n",
       " 'ldexp',\n",
       " 'lgamma',\n",
       " 'log',\n",
       " 'log10',\n",
       " 'log1p',\n",
       " 'log2',\n",
       " 'modf',\n",
       " 'nan',\n",
       " 'nextafter',\n",
       " 'perm',\n",
       " 'pi',\n",
       " 'pow',\n",
       " 'prod',\n",
       " 'radians',\n",
       " 'remainder',\n",
       " 'sin',\n",
       " 'sinh',\n",
       " 'sqrt',\n",
       " 'tan',\n",
       " 'tanh',\n",
       " 'tau',\n",
       " 'trunc',\n",
       " 'ulp']"
      ]
     },
     "execution_count": 5,
     "metadata": {},
     "output_type": "execute_result"
    }
   ],
   "source": [
    "dir(math)"
   ]
  },
  {
   "cell_type": "markdown",
   "metadata": {},
   "source": [
    "¿Puede reconocer algunas de las funciones disponibles en la librería `math`? Pruebe consultar con el sistema de ayuda la función `sin` como parte de `math` en el directorio del sistema:"
   ]
  },
  {
   "cell_type": "code",
   "execution_count": 6,
   "metadata": {},
   "outputs": [
    {
     "data": {
      "text/plain": [
       "\u001b[1;31mSignature:\u001b[0m \u001b[0mmath\u001b[0m\u001b[1;33m.\u001b[0m\u001b[0msin\u001b[0m\u001b[1;33m(\u001b[0m\u001b[0mx\u001b[0m\u001b[1;33m,\u001b[0m \u001b[1;33m/\u001b[0m\u001b[1;33m)\u001b[0m\u001b[1;33m\u001b[0m\u001b[1;33m\u001b[0m\u001b[0m\n",
       "\u001b[1;31mDocstring:\u001b[0m Return the sine of x (measured in radians).\n",
       "\u001b[1;31mType:\u001b[0m      builtin_function_or_method"
      ]
     },
     "metadata": {},
     "output_type": "display_data"
    }
   ],
   "source": [
    "math.sin?"
   ]
  },
  {
   "cell_type": "markdown",
   "metadata": {
    "user_expressions": []
   },
   "source": [
    "La notación `libreria.método` especifica la función definida como parte de la librería `math` (retorna el seno de x, donde x se especifica en [radianes](https://es.wikipedia.org/wiki/Radi%C3%A1n)). La ayuda también indica que es un BIF (_Built In Function_), es decir, un método que es parte de la distribución estándar de Python. El caracter \"/\" en la lista de parametros de `sin` indica que no se puede utilizar `x` como indicativo del parametro. Es decir, la siguiente instrucción no es válida:\n",
    "\n",
    "    math.sin(x=0.5)\n",
    "    \n",
    "Ahora, importe la librería `math` con un alias:"
   ]
  },
  {
   "cell_type": "code",
   "execution_count": null,
   "metadata": {},
   "outputs": [],
   "source": [
    "import math as m"
   ]
  },
  {
   "cell_type": "code",
   "execution_count": null,
   "metadata": {},
   "outputs": [],
   "source": [
    "dir()"
   ]
  },
  {
   "cell_type": "markdown",
   "metadata": {},
   "source": [
    "¿Como buscaría información sobre la función `sin` importada con el alias \"m\"?"
   ]
  },
  {
   "cell_type": "code",
   "execution_count": null,
   "metadata": {},
   "outputs": [],
   "source": [
    "m.sin?"
   ]
  },
  {
   "cell_type": "markdown",
   "metadata": {},
   "source": [
    "Puede importar ciertas funciones de la librería math al directorio del sistema:"
   ]
  },
  {
   "cell_type": "code",
   "execution_count": null,
   "metadata": {},
   "outputs": [],
   "source": [
    "from math import sin, cos, tan"
   ]
  },
  {
   "cell_type": "code",
   "execution_count": null,
   "metadata": {},
   "outputs": [],
   "source": [
    "dir()"
   ]
  },
  {
   "cell_type": "markdown",
   "metadata": {},
   "source": [
    "¿Observa como las instrucciones `sin`, `cos` y `tan` ahora son parte del directorio del sistema? Como consultaria ahora la ayuda dela instrucción `sin`?"
   ]
  },
  {
   "cell_type": "code",
   "execution_count": null,
   "metadata": {},
   "outputs": [],
   "source": [
    "sin?"
   ]
  },
  {
   "cell_type": "markdown",
   "metadata": {},
   "source": [
    "Es posible importar todas las funciones de una librería utilizando el caracter `*`:"
   ]
  },
  {
   "cell_type": "code",
   "execution_count": 8,
   "metadata": {},
   "outputs": [],
   "source": [
    "from math import *"
   ]
  },
  {
   "cell_type": "code",
   "execution_count": null,
   "metadata": {},
   "outputs": [],
   "source": [
    "dir()"
   ]
  },
  {
   "cell_type": "markdown",
   "metadata": {},
   "source": [
    "Esto casi siempre __no__ es una buena idea. Es preferible utilizar un alias (esto es, utilizar un namespace o un nombre que especifique un espacio donde estarán las funciones) o la importación de las funciones específicas. En esta Hoja de Trabajo, utilizaremos la importación de `math `con `*` para poder tener códigos más cortos, pero en un código en producción no se suele hacer esto.\n",
    "\n",
    "Probemos algunas de las funciones disponibles en la librería `math`:"
   ]
  },
  {
   "cell_type": "code",
   "execution_count": 9,
   "metadata": {},
   "outputs": [
    {
     "name": "stdout",
     "output_type": "stream",
     "text": [
      "\n",
      "1.4 x 10^-3 = 0.0014\n",
      "PI = 3.141592653589793\n",
      "e = 2.718281828459045\n",
      "\n",
      "3**2 = 9.0\n",
      "sqrt(2) = 1.4142135623730951\n",
      "e^2.1 = 8.16616991256765\n",
      "Ln(100) = 4.605170185988092\n",
      "log(100) = 2.0\n",
      "log2(16) = 4.0\n",
      "\n",
      "sin(pi/4) = 0.7071067811865476\n",
      "cos(0) = 1.0\n",
      "tan(pi/4) = 0.9999999999999999\n",
      "\n",
      "arctan(5/4) = 0.8960553845713439\n",
      "Arctan(5/4) = 0.8960553845713439\n",
      "\n",
      "sin(pi/4) = 0.7071067811865476\n",
      "arcsin(0.707 rad) = 44.991348337162016\n",
      "\n",
      "z = (3+4j)\n",
      "5.0\n",
      "0.9272952180016122\n",
      "3\n",
      "3.14\n",
      "10\n",
      "\n",
      "trunc(1.7182) = 2\n",
      "floor(10.6) = 10\n",
      "floor(-3.6) = -4\n",
      "ceil(10.6) = 11\n",
      "ceil(-3.6) = -3\n",
      "\n",
      "Hipotenusa de dos catetos: 3 y 4: 5.0\n",
      "5! = 120\n",
      "Residuo 10/4 = 2.0\n",
      "Maximo Comun Divisor(24, 9) = 3\n"
     ]
    }
   ],
   "source": [
    "# Notacion y Numeros especiales\n",
    "print()\n",
    "print(\"1.4 x 10^-3 =\", 1.4e-3)\n",
    "print(\"PI =\", pi)\n",
    "print(\"e =\", e)\n",
    "\n",
    "# Funciones exponeciales y logaritmicas\n",
    "print()\n",
    "print(\"3**2 =\", pow(3, 2))    # equivalente a 3**2\n",
    "print(\"sqrt(2) =\", sqrt(2))\n",
    "print(\"e^2.1 =\", exp(2.1))\n",
    "print(\"Ln(100) =\", log(100))\n",
    "print(\"log(100) =\", log10(100))\n",
    "print(\"log2(16) =\", log2(16))\n",
    "\n",
    "# Funciones trigonométricas\n",
    "print()\n",
    "print(\"sin(pi/4) =\", sin(pi/4))\n",
    "print(\"cos(0) =\", cos(0))\n",
    "print(\"tan(pi/4) =\", tan(pi/4))\n",
    "\n",
    "# Dos formas de obtener arctan (atan, atan2)\n",
    "# Ref: https://stackoverflow.com/questions/283406/what-is-the-difference-between-atan-and-atan2-in-c\n",
    "print()\n",
    "print(\"atan(5/4) =\", atan(5/4))\n",
    "print(\"atan2(5/4) =\", atan2(5, 4))\n",
    "\n",
    "# Conversion grados-radianes\n",
    "print()\n",
    "print(\"sin(pi/4) =\", sin(radians(45)))\n",
    "print(\"arcsin(0.707 rad) =\", degrees(asin(0.707)))\n",
    "\n",
    "# Operaciones con núemeros complejos\n",
    "print()\n",
    "z = 3 + 4j\n",
    "print(\"z =\", z)\n",
    "print(abs(z))\n",
    "print(atan2(z.imag, z.real))\n",
    "\n",
    "print(round(pi))\n",
    "print(round(pi, 2))\n",
    "print(round(10.5))\n",
    "\n",
    "# Redondeo de numeros\n",
    "print()\n",
    "print(\"trunc(1.7182) =\", trunc(e))\n",
    "print(\"floor(10.6) =\", floor(10.6))   # floor: piso (redondea hacia -Inf)\n",
    "print(\"floor(-3.6) =\", floor(-3.6))\n",
    "print(\"ceil(10.6) =\", ceil(10.6))    # ceil: techo (redondea hacia Inf)\n",
    "print(\"ceil(-3.6) =\", ceil(-3.6))\n",
    "\n",
    "# Algunas operaciones especiales\n",
    "print()\n",
    "print(\"Hipotenusa de dos catetos: 3 y 4:\", hypot(3, 4))\n",
    "print(\"5! =\", factorial(5))\n",
    "print(\"Residuo 10/4 =\", remainder(10, 4))\n",
    "print(\"Maximo Comun Divisor(24, 9) =\", gcd(24, 9))\n"
   ]
  },
  {
   "cell_type": "markdown",
   "metadata": {},
   "source": [
    "Existen ciertas operaciones matemáticas que son parte de Python y no requieren de la librería `math`:"
   ]
  },
  {
   "cell_type": "code",
   "execution_count": null,
   "metadata": {},
   "outputs": [],
   "source": [
    "print(\"abs(-10.5) =\", abs(-10.5))\n",
    "print(\"abs(3 + 4j) =\", abs(3 + 4j))\n",
    "print(\"round(pi) =\", round(pi))\n",
    "print(\"round(pi, 2) =\", round(pi, 2))"
   ]
  },
  {
   "cell_type": "markdown",
   "metadata": {
    "user_expressions": []
   },
   "source": [
    "---\n",
    "## Tuplas\n",
    "Una tupla es una colección de elementos bajo una sola variable. Una tupla se forma agrupando elementos, separados por \",\" y encerrados por \"()\". Es un conjunto \"inmutable\". Esto significa que una vez definido no se puede modificar. Existen muchas formas de definir una tupla:"
   ]
  },
  {
   "cell_type": "code",
   "execution_count": null,
   "metadata": {},
   "outputs": [],
   "source": [
    "t1 = (1, 2, 3, 4, 5)\n",
    "t2 = (1, 'Uno', 'one', 1+0j)\n",
    "t3 = (t1, t2)\n",
    "t4 = (1, t2, 'A', t2, t3)\n",
    "t5 = tuple(range(10))\n",
    "\n",
    "print(t1)\n",
    "print(t2)\n",
    "print(t3)\n",
    "print(t4)\n",
    "print(t5)\n",
    "print(type(t5))"
   ]
  },
  {
   "cell_type": "markdown",
   "metadata": {},
   "source": [
    "En `t1` se observa una tupla con todos los elementos homogeneos (es decir, del mismo tipo). En `t2` se tiene elementos no homogeneos. En `t3` se tiene una tupla de dos elementos, donde cada uno es una tupla. En `t4` se tiene cinco elementos, donde se combinan enteros, strings y tuplas. En `t5` se genera una tupla a partir de una rango de enteros, utilizando la palabra reservada `tuple`. Esto último se comprueba con la función `type`.\n",
    "\n",
    "### Indices e index slicing\n",
    "Cada uno de los elementos de una tupla ocupa una posicion denomidad índice. El conteo de los indices inicia en 0. Se puede especifar un elemento utilizando su índice entre `[]`:"
   ]
  },
  {
   "cell_type": "code",
   "execution_count": null,
   "metadata": {},
   "outputs": [],
   "source": [
    "t1 = ('A', 'B', 'C', 'D', 'E', 'F', 'G')\n",
    "\n",
    "print(\"i =  0:\", t1[0])\n",
    "print(\"i =  1:\",t1[1])\n",
    "print(\"i = -1:\", t1[-1])\n",
    "print(\"i = -2:\", t1[-2])"
   ]
  },
  {
   "cell_type": "markdown",
   "metadata": {
    "user_expressions": []
   },
   "source": [
    "Observe que en Python, los índices pueden ser negativos y hacen referencia a los indices de posición de derecha a izquierda. Asi, el índice -1 es el último elemento, el índice -2 el penútimo, y asi sucesivamente.\n",
    "\n",
    "Se puede especificar un rango de indices utilizando un \"index slicing\", esto es, una sección de datos especificada por indices, con el formato:\n",
    "\n",
    "    [i_inicial: i_final + 1: paso_entre_indices]\n",
    "    \n",
    "Si no se coloca uno de los valores se toman sus valores por defecto:\n",
    "\n",
    "    i_inicial: 0\n",
    "    i_final:-1\n",
    "    paso_entre_indices: 1\n",
    "    \n",
    "Observe bien los siguientes ejemplos y entienda la forma como se especifica un index slicing:"
   ]
  },
  {
   "cell_type": "code",
   "execution_count": null,
   "metadata": {},
   "outputs": [],
   "source": [
    "t1 = ('A', 'B', 'C', 'D', 'E', 'F', 'G')\n",
    "\n",
    "print(t1[0:3])\n",
    "print(t1[-1:-3:-1])\n",
    "print(t1[::-1])\n",
    "print(t1[::])"
   ]
  },
  {
   "cell_type": "markdown",
   "metadata": {},
   "source": [
    "### Tupla de tuplas\n",
    "Debe de considerar que los índices hacen referencia a la posición de los datos en cada tupla. Considere la siguiente construcción:"
   ]
  },
  {
   "cell_type": "code",
   "execution_count": null,
   "metadata": {},
   "outputs": [],
   "source": [
    "t1 = (1, 2, 3, 4, 5)\n",
    "t2 = (1, 'Uno', 'one', 1+0j)\n",
    "t3 = (t1, t2)\n",
    "\n",
    "print(t3)"
   ]
  },
  {
   "cell_type": "markdown",
   "metadata": {},
   "source": [
    "Antes de ejecutar la siguiente celda piense: ¿cuantos elementos tiene la tupla t3?"
   ]
  },
  {
   "cell_type": "code",
   "execution_count": null,
   "metadata": {},
   "outputs": [],
   "source": [
    "print(len(t3))   # len() retorna el numero de elementos de una colección"
   ]
  },
  {
   "cell_type": "markdown",
   "metadata": {},
   "source": [
    "El primer elemento de la tupla t3  podrá ser obtenido utilizando la siguiente instrucción y retornará la tupla interna de la posición 0:"
   ]
  },
  {
   "cell_type": "code",
   "execution_count": null,
   "metadata": {},
   "outputs": [],
   "source": [
    "print(t3[0])"
   ]
  },
  {
   "cell_type": "markdown",
   "metadata": {},
   "source": [
    "El primer elemento de la tupla que ocupa la posición 0 en t3 podrá ser obtenida con la siguiente instrucción:"
   ]
  },
  {
   "cell_type": "code",
   "execution_count": null,
   "metadata": {},
   "outputs": [],
   "source": [
    "print(t3[0][0])"
   ]
  },
  {
   "cell_type": "markdown",
   "metadata": {},
   "source": [
    "Considere las siguientes instrucciones y entiéndalas:"
   ]
  },
  {
   "cell_type": "code",
   "execution_count": null,
   "metadata": {},
   "outputs": [],
   "source": [
    "print(t3[0][2])\n",
    "print(t3[1][-2])"
   ]
  },
  {
   "cell_type": "markdown",
   "metadata": {},
   "source": [
    "Complete la siguente celda: ¿que instrucción tendría que escribir para obtener el número 1+0j?"
   ]
  },
  {
   "cell_type": "code",
   "execution_count": null,
   "metadata": {},
   "outputs": [],
   "source": [
    "t1 = (1, 2, 3, 4, 5)\n",
    "t2 = (1, 'Uno', 'one', 1+0j)\n",
    "t3 = (t1, t2)\n",
    "\n",
    "# COMPLETAR\n"
   ]
  },
  {
   "cell_type": "markdown",
   "metadata": {},
   "source": [
    "### Desempaquetamiento de tuplas\n",
    "Una tupla se puede desempaquetar en sus constituyentes utilizando el operador de asignación con un número de variables equivalentes al número de tuplas. Considere la siguiente instrucción:"
   ]
  },
  {
   "cell_type": "code",
   "execution_count": null,
   "metadata": {},
   "outputs": [],
   "source": [
    "a, b, c = (1, 2, 3)\n",
    "print(a)\n",
    "print(b)\n",
    "print(c)"
   ]
  },
  {
   "cell_type": "markdown",
   "metadata": {
    "user_expressions": []
   },
   "source": [
    "Esta operación resulta importante para realizar algunas operaciones en una instrucción simple. Por ejemplo, cuando se escribe:\n",
    "\n",
    "    num1, num2 = input(\"Escriba dos numeros: \").split()\n",
    "    \n",
    "Hemos utilizado el desempaquetamiento de elementos (aunque en este caso, de una lista, pero es un proceso equivalente).\n",
    "\n",
    "El desempaquetamiento permite realizar algunas operaciones que en otro lenguaje de programación requieren variables adicionales. Por ejemplo, en C, cuando se requiere intercambiar los valores de dos variables a y b se debe recurrir a una variable auxiliar de la forma:\n",
    "\n",
    "    temp = a\n",
    "    a = b\n",
    "    b = temp\n",
    "    \n",
    "En Python se realiza esto de forma directa:"
   ]
  },
  {
   "cell_type": "code",
   "execution_count": null,
   "metadata": {},
   "outputs": [],
   "source": [
    "a = 100; b = 200\n",
    "print(\"a =\", a)\n",
    "print(\"b =\", b)\n",
    "\n",
    "a, b = b, a\n",
    "\n",
    "print()\n",
    "print(\"a =\", a)\n",
    "print(\"b =\", b)"
   ]
  },
  {
   "cell_type": "markdown",
   "metadata": {},
   "source": [
    "### Inmutabilidad de una tupla\n",
    "Una tupla es inmutable: no puede cambiar de tamaño, ni sus elementos pueden reasignarse. Piense en los \"( )\" de una tupla con una esfera que una vez cerrada ya no puede abrirse. Observe el resultado de la siguiente instrucción:"
   ]
  },
  {
   "cell_type": "code",
   "execution_count": null,
   "metadata": {},
   "outputs": [],
   "source": [
    "t1 = ('A', 'B', 'C', 'D', 'E', 'F', 'G')\n",
    "t1[0] = 'a'    # Tupla es inmutable"
   ]
  },
  {
   "cell_type": "markdown",
   "metadata": {
    "user_expressions": []
   },
   "source": [
    "Al intentar reasigar el elemento de índice 0 con un nuevo valor, se genera la excepción `TypeError`, indicando que una tupla no soporta asignación de elementos. Asi que una tupla suele utilizarse cuando se quiere tener una colección de datos que se quiere mantener fija. Muchas de las funciones de Python retornan tuplas como resultados cuando tiene la intención de que estos datos no cambien (por ejemplo, las consultas a un motor de base de datos).\n",
    "\n",
    "### Tuplas como iterables\n",
    "Las tuplas son colecciones iterables: esto quiere decir que pueden ingresarse a un iterador (es decir, un lazo `for`) y este extraerá sus elementos:"
   ]
  },
  {
   "cell_type": "code",
   "execution_count": 11,
   "metadata": {},
   "outputs": [
    {
     "name": "stdout",
     "output_type": "stream",
     "text": [
      "1\n",
      "2\n",
      "3\n",
      "4\n",
      "5\n"
     ]
    }
   ],
   "source": [
    "for number in (1, 2, 3, 4, 5):\n",
    "    print(number)"
   ]
  },
  {
   "cell_type": "markdown",
   "metadata": {},
   "source": [
    "Se puede acceder a los índices para obtener un barrido diferente e ir de elemento a elemento:"
   ]
  },
  {
   "cell_type": "code",
   "execution_count": 12,
   "metadata": {},
   "outputs": [
    {
     "name": "stdout",
     "output_type": "stream",
     "text": [
      "A\n",
      "C\n",
      "E\n",
      "G\n"
     ]
    }
   ],
   "source": [
    "t1 = ('A', 'B', 'C', 'D', 'E', 'F', 'G')\n",
    "\n",
    "for idx in range(0, len(t1), 2):\n",
    "    print(t1[idx])"
   ]
  },
  {
   "cell_type": "code",
   "execution_count": 15,
   "metadata": {},
   "outputs": [
    {
     "name": "stdout",
     "output_type": "stream",
     "text": [
      "0\n",
      "2\n",
      "4\n",
      "6\n",
      "8\n"
     ]
    }
   ],
   "source": [
    "numbers = (1, 2, 3, 4, 5, 6, 7, 8, 9, 10)\n",
    "\n",
    "# Se imprimen los valores pares barriendo los indices de numbers\n",
    "for i in range(0, len(numbers), 2):\n",
    "    print(i)"
   ]
  },
  {
   "cell_type": "markdown",
   "metadata": {
    "user_expressions": []
   },
   "source": [
    "En término prácticos, esta es una mala práctica en Python, ya que se cuenta con _index slicing_ que mantiene el código más legible:"
   ]
  },
  {
   "cell_type": "code",
   "execution_count": 16,
   "metadata": {},
   "outputs": [
    {
     "name": "stdout",
     "output_type": "stream",
     "text": [
      "2\n",
      "4\n",
      "6\n",
      "8\n",
      "10\n"
     ]
    }
   ],
   "source": [
    "numbers = (1, 2, 3, 4, 5, 6, 7, 8, 9, 10)\n",
    "\n",
    "# Se imprimen los valores impares utilizando index-slicing\n",
    "for i in numbers[1::2]:\n",
    "    print(i)"
   ]
  },
  {
   "cell_type": "markdown",
   "metadata": {},
   "source": [
    "### Operaciones con tuplas\n",
    "Los operadores `+` y `*` realizan operaciones diferentes sobre las tuplas respecto a lo que realizan cuando se aplican sobre objetos numéricos:"
   ]
  },
  {
   "cell_type": "code",
   "execution_count": 17,
   "metadata": {},
   "outputs": [
    {
     "data": {
      "text/plain": [
       "(1, 2, 3, 4, 5, 6)"
      ]
     },
     "execution_count": 17,
     "metadata": {},
     "output_type": "execute_result"
    }
   ],
   "source": [
    "# Operador de concatenación: genera una nueva tupla uniendo las tuplas\n",
    "(1, 2, 3) + (4, 5, 6)"
   ]
  },
  {
   "cell_type": "code",
   "execution_count": 18,
   "metadata": {},
   "outputs": [
    {
     "data": {
      "text/plain": [
       "(1, 2, 3, 1, 2, 3, 1, 2, 3)"
      ]
     },
     "execution_count": 18,
     "metadata": {},
     "output_type": "execute_result"
    }
   ],
   "source": [
    "# Operador de repetición: genera una tupla nueva con la repeticion\n",
    "# de la tupla por un factor entero\n",
    "(1, 2, 3) * 3"
   ]
  },
  {
   "cell_type": "markdown",
   "metadata": {
    "user_expressions": []
   },
   "source": [
    "Note que en ambos casos se retornan tuplas nuevas y no se modifica ninguna de las tuplas originales (cada una de las celdas de entrada tiene una celda de salida). Esto es porque las tuplas son inmutables."
   ]
  },
  {
   "cell_type": "markdown",
   "metadata": {
    "user_expressions": []
   },
   "source": [
    "### Funciones utiles sobre tuplas\n",
    "Existen ciertas funciones de Python (BIFs) que pueden resultar de utilidad con las tuplas:\n",
    "\n",
    "    len()       Retorna el numero de elementos de una colección\n",
    "    min()       Retorna el minimo valor de una colección\n",
    "    max()       Retorna el máximo valor de una colección\n",
    "    sorted()    Retorna una nueva colección con los valores ordenados de forma\n",
    "                ascendente o descendente (ver sorted?)\n",
    "    sum()       Retorna la suma de todos los elementos de una colección\n",
    "    "
   ]
  },
  {
   "cell_type": "code",
   "execution_count": 21,
   "metadata": {},
   "outputs": [
    {
     "name": "stdout",
     "output_type": "stream",
     "text": [
      "7\n",
      "1\n",
      "12\n",
      "[1, 3, 4, 5, 8, 9, 12]\n",
      "42\n"
     ]
    }
   ],
   "source": [
    "t1 = (1, 4, 8, 12, 9, 5, 3)\n",
    "print(len(t1))\n",
    "print(min(t1))\n",
    "print(max(t1))\n",
    "print(sorted(t1))\n",
    "print(sum(t1))"
   ]
  },
  {
   "cell_type": "markdown",
   "metadata": {},
   "source": [
    "También existen dos funciones lógicas que se pueden utilizar con una tupla:\n",
    "\n",
    "    any()    Retorna True si algunos de los valores son True\n",
    "    all()    Retorna True si todos los valores son True\n",
    "    \n",
    "En programación, 0 se considera como `False`, mientras que cualquier valor que __no sea 0__ será `True`."
   ]
  },
  {
   "cell_type": "code",
   "execution_count": null,
   "metadata": {},
   "outputs": [],
   "source": [
    "print(any((1, 2, 3, 0, 7, 3)))\n",
    "print(all((1, 2, 3, 0, 7, 3)))"
   ]
  },
  {
   "cell_type": "markdown",
   "metadata": {},
   "source": [
    "### Métodos de la clase tuple\n",
    "Formalmente hablando, una tupla es una \"clase\", algo que entenderemos completamente más adelante en el curso. Lo que necesitamos saber por el momento es que toda clase tiene \"metodos\", es decir, operaciones privadas que se aplican a una tupla específica, siguiendo la nomenclatura: \n",
    "    \n",
    "    clase.metodo()\n"
   ]
  },
  {
   "cell_type": "markdown",
   "metadata": {},
   "source": [
    "Los métodos de una tupla se puede listar utilizando la instrucción genérica `dir(tuple)`:"
   ]
  },
  {
   "cell_type": "code",
   "execution_count": null,
   "metadata": {},
   "outputs": [],
   "source": [
    "dir(tuple)"
   ]
  },
  {
   "cell_type": "markdown",
   "metadata": {},
   "source": [
    "Dejaremos de lado los métodos encerrados entre \"__\" (volveremos a ellos cuando abordemos la Programación Orientada a Objetos) y veamos los dos últimos: `count` e `index`:\n",
    "\n",
    "El método `count` retorna el número de ocurrecias dentro de una tupla:"
   ]
  },
  {
   "cell_type": "code",
   "execution_count": null,
   "metadata": {},
   "outputs": [],
   "source": [
    "(1, 2, 4, 2, 5, 7, 3, 5, 8, 3).count(3)"
   ]
  },
  {
   "cell_type": "markdown",
   "metadata": {},
   "source": [
    "El método `index` retorna el índice de un elemento en un tupla:"
   ]
  },
  {
   "cell_type": "code",
   "execution_count": null,
   "metadata": {},
   "outputs": [],
   "source": [
    "('a', 'e', 'i', 'o', 'u').index('i')"
   ]
  },
  {
   "cell_type": "markdown",
   "metadata": {
    "user_expressions": []
   },
   "source": [
    "Reforzando la idea de la diferencia entre una función y un método, las siguientes instrucciones son ilegales:\n",
    "\n",
    "    count(tuple)\n",
    "    index(tuple)\n",
    "    \n",
    "Ya que son métodos. Esto es, que afectan a un objeto tupla especifico de la forma:\n",
    "\n",
    "    tuple.count()\n",
    "    tuple.index()\n",
    "    \n",
    "Esta idea es importante ya que la mayor parte de las instrucciones en Python (y en toda la programación moderna) sigue las mismas reglas al estar basadas en el paradigma de programación orientada a objetos.\n",
    "\n",
    "Entienda bien todas las nociones aprendidas en una tupla pues se repetirán en el siguiente tema. Interiorice bien los conceptos, el manejo de indices e index slicing, su operación con un lazo `for` y sus métodos asociados.\n",
    "\n",
    "---"
   ]
  },
  {
   "cell_type": "markdown",
   "metadata": {},
   "source": [
    "## Listas\n",
    "Una lista es una colección de elementos bajo una sola variable. Una lista se forma agrupando elementos, separados por \",\" y encerrados por \"[ ]\". Es un conjunto \"mutable\". Esto significa que puede modificarse libremente. Existen muchas formas de definir una lista:"
   ]
  },
  {
   "cell_type": "code",
   "execution_count": null,
   "metadata": {},
   "outputs": [],
   "source": [
    "L1 = [1, 2, 3, 4, 5, 6, 7, 8, 9]\n",
    "L2 = ['1', 'one', 1+3j]\n",
    "L3 = [l1, l2, 'aqui estoy']\n",
    "L4 = list(range(10))\n",
    "L5 = list(tuple(range(20)))\n",
    "L6 = [1, 2, ['A', 'B'], ('a', 'b')]\n",
    "\n",
    "print(L1)\n",
    "print(L2)\n",
    "print(L3)\n",
    "print(L4)\n",
    "print(L5)\n",
    "print(L6)\n",
    "print(type(L1))"
   ]
  },
  {
   "cell_type": "markdown",
   "metadata": {},
   "source": [
    "Al igual que una tupla, una lista soporta indices positivos, negativos y operaciones de index slicing:"
   ]
  },
  {
   "cell_type": "code",
   "execution_count": null,
   "metadata": {},
   "outputs": [],
   "source": [
    "L1 = [1, 2, 3, 4, 5, 6, 7, 8, 9]\n",
    "L6 = [1, 2, ['A', 'B'], ('a', 'b')]\n",
    "print(L6[0])\n",
    "print(L6[-1])\n",
    "print(L1[1:7:3])\n",
    "print(L6[2][1])"
   ]
  },
  {
   "cell_type": "markdown",
   "metadata": {
    "user_expressions": []
   },
   "source": [
    "La principal diferencia entre una tupla y una lista (y lo que la convierte en una colección tan versátil) es su mutabilidad. Piense en los \"[ ]\" de una lista como una caja que puede abrirse y modificar sus valores, asi como el número de elementos:"
   ]
  },
  {
   "cell_type": "code",
   "execution_count": null,
   "metadata": {},
   "outputs": [],
   "source": [
    "L1 = [1, 2, 3, 4, 5, 6, 7, 8, 9]\n",
    "print(L1)\n",
    "\n",
    "L1[0] = 10      # list es mutable\n",
    "print(L1)"
   ]
  },
  {
   "cell_type": "markdown",
   "metadata": {},
   "source": [
    "Una consideración a tener en cuenta es que la \"mutabilidad\" opera sobre los elementos existentes. Si se quiere modificar un elemento que no exista, la lista retornará una excepción `IndexError`:"
   ]
  },
  {
   "cell_type": "code",
   "execution_count": null,
   "metadata": {},
   "outputs": [],
   "source": [
    "L1[9] = 100"
   ]
  },
  {
   "cell_type": "markdown",
   "metadata": {},
   "source": [
    "Los operadores `+`  y `*` también realizan las operaciones de concatenamiento y repetición, respectivamente:"
   ]
  },
  {
   "cell_type": "code",
   "execution_count": null,
   "metadata": {},
   "outputs": [],
   "source": [
    "L1 = ['A', 'B', 'C']\n",
    "L2 = ['a', 'b', 'c']\n",
    "\n",
    "print(L1 + L2)   # Concatenacion de listas\n",
    "print(L1 * 3)    # Repeticion de lista"
   ]
  },
  {
   "cell_type": "markdown",
   "metadata": {},
   "source": [
    "Las listas también son colecciones iterables: esto quiere decir que pueden ingresarse a un iterador (es decir, un lazo `for`) y este extraerá sus elementos:"
   ]
  },
  {
   "cell_type": "code",
   "execution_count": null,
   "metadata": {},
   "outputs": [],
   "source": [
    "L1 = [1, 2, 3, 4, 5, 6, 7, 8, 9]\n",
    "for num in L1:\n",
    "    print(num)"
   ]
  },
  {
   "cell_type": "markdown",
   "metadata": {
    "user_expressions": []
   },
   "source": [
    "### enumerate y zip\n",
    "Existen dos funciones que se pueden utilizar tanto con tuplas como con listas, combinadas con un lazo `for`: `enumerate` y `zip`.\n",
    "    \n",
    "`enumerate` retorna una secuencia enumerada en tuplas de la forma (número, elemento) que se puede desempaquetar. "
   ]
  },
  {
   "cell_type": "code",
   "execution_count": 27,
   "metadata": {},
   "outputs": [
    {
     "name": "stdout",
     "output_type": "stream",
     "text": [
      "(0, 'A')\n",
      "(1, 'B')\n",
      "(2, 'C')\n"
     ]
    }
   ],
   "source": [
    "for item in enumerate(['A', 'B', 'C']):\n",
    "    print(item)"
   ]
  },
  {
   "cell_type": "markdown",
   "metadata": {
    "user_expressions": []
   },
   "source": [
    "Por ejemplo, si se requiere listar los elementos de una lista de vocales, en lugar de escribir el siguiente código..."
   ]
  },
  {
   "cell_type": "code",
   "execution_count": 22,
   "metadata": {},
   "outputs": [
    {
     "name": "stdout",
     "output_type": "stream",
     "text": [
      "1: A\n",
      "2: E\n",
      "3: I\n",
      "4: O\n",
      "5: U\n"
     ]
    }
   ],
   "source": [
    "idx = 0\n",
    "for vocal in ['A', 'E', 'I', 'O', 'U']:\n",
    "    print(f\"{idx+1}: {vocal}\")\n",
    "    idx += 1"
   ]
  },
  {
   "cell_type": "markdown",
   "metadata": {},
   "source": [
    "...en Python es preferible escribir el siguiente codigo:"
   ]
  },
  {
   "cell_type": "code",
   "execution_count": null,
   "metadata": {},
   "outputs": [],
   "source": [
    "for idx, vocal in enumerate(['A', 'E', 'I', 'O', 'U']):\n",
    "    print(f\"{idx+1}: {vocal}\")"
   ]
  },
  {
   "cell_type": "markdown",
   "metadata": {
    "user_expressions": []
   },
   "source": [
    "`zip` extrae los elementos correspondientes de varias listas en simultaneo y en un lazo `for` va retornando tuplas que pueden desempaquetarse."
   ]
  },
  {
   "cell_type": "code",
   "execution_count": 29,
   "metadata": {},
   "outputs": [
    {
     "name": "stdout",
     "output_type": "stream",
     "text": [
      "('A', 'a')\n",
      "('B', 'b')\n",
      "('C', 'c')\n"
     ]
    }
   ],
   "source": [
    "for item in zip(['A', 'B', 'C'], ['a', 'b', 'c']):\n",
    "    print(item)"
   ]
  },
  {
   "cell_type": "markdown",
   "metadata": {
    "user_expressions": []
   },
   "source": [
    "Por ejemplo, si se requiere mostrar los elementos correspondientes de dos listas separadas en lugar de escribir el siguiente código..."
   ]
  },
  {
   "cell_type": "code",
   "execution_count": 34,
   "metadata": {},
   "outputs": [
    {
     "name": "stdout",
     "output_type": "stream",
     "text": [
      "1**2 = 1\n",
      "2**2 = 4\n",
      "3**2 = 9\n",
      "4**2 = 16\n",
      "5**2 = 25\n"
     ]
    }
   ],
   "source": [
    "nums = [1, 2, 3, 4, 5]\n",
    "cuads = [1, 4, 9, 16, 25]\n",
    "\n",
    "for idx in range(len(nums)):\n",
    "    print(f\"{nums[idx]}**2 = {cuads[idx]}\")"
   ]
  },
  {
   "cell_type": "markdown",
   "metadata": {
    "user_expressions": []
   },
   "source": [
    "...en Python es preferible escribir el siguiente codigo:"
   ]
  },
  {
   "cell_type": "code",
   "execution_count": 35,
   "metadata": {},
   "outputs": [
    {
     "name": "stdout",
     "output_type": "stream",
     "text": [
      "1**2 = 1\n",
      "2**2 = 4\n",
      "3**2 = 9\n",
      "4**2 = 16\n",
      "5**2 = 25\n"
     ]
    }
   ],
   "source": [
    "nums = [1, 2, 3, 4, 5]\n",
    "cuads = [1, 4, 9, 16, 25]\n",
    "\n",
    "for num, cuad in zip(nums, cuads):\n",
    "    print(f\"{num}**2 = {cuad}\")"
   ]
  },
  {
   "cell_type": "markdown",
   "metadata": {
    "user_expressions": []
   },
   "source": [
    "### Métodos de la clase list\n",
    "Se pueden listar los métodos de la clase list con la instrucción genérica `dir(list)`:"
   ]
  },
  {
   "cell_type": "code",
   "execution_count": null,
   "metadata": {},
   "outputs": [],
   "source": [
    "dir(list)"
   ]
  },
  {
   "cell_type": "markdown",
   "metadata": {},
   "source": [
    "Como se observa hay más métodos disponibles en la clase lista, por el hecho de ser una colección mutable.\n",
    "\n",
    "    append()         Agregar un elemento al final de la lista\n",
    "    clear()          Limpia los elementos de la lista\n",
    "    copy()           Copia los elementos de una lista a otra\n",
    "    count()          Retorna el numero de ocurrencias presentes en una lista\n",
    "    index()          Retorna el índice que ocupa un elemento en una lista\n",
    "    insert()         Inserta un elemento en la lista especificando el indice\n",
    "    pop()            Retorna el útimo elemento de la lista y lo elimina de la \n",
    "                     colección. Se puede epecificar un indice específico\n",
    "    remove()         Elimina un elemento de la lista especificando su valor, } \n",
    "                     buscando la ocurrencia en indice ascendente\n",
    "    reverse()        Invierte el orden actual de la lista\n",
    "    sort()           Ordena los elementos de lista de forma ascendente. Se puede \n",
    "                     especificar que lo haga de forma descentente"
   ]
  },
  {
   "cell_type": "markdown",
   "metadata": {},
   "source": [
    "Lo importante a recordar aqui es que los métodos que afectan una lista (como append() ,sort() o reverse() por ejemplo), afectan la lista misma y __no retornan nada__. Por ejemplo, es necesario distinguir entre __la función sort()__ y __el método sorted()__ de una lista:"
   ]
  },
  {
   "cell_type": "code",
   "execution_count": 43,
   "metadata": {},
   "outputs": [
    {
     "name": "stdout",
     "output_type": "stream",
     "text": [
      "L1 = [1, 4, 3, 2, 5, 8, 4]\n",
      "[1, 2, 3, 4, 4, 5, 8]\n",
      "\n",
      "L1 = [1, 4, 3, 2, 5, 8, 4]\n",
      "None\n",
      "L1 = [1, 2, 3, 4, 4, 5, 8]\n"
     ]
    }
   ],
   "source": [
    "L1 = [1, 4, 3, 2, 5, 8, 4]\n",
    "# La función sorted() RETORNA una nueva lista ordenada\n",
    "print(\"L1 =\", L1)\n",
    "print(sorted(L1))\n",
    "print()\n",
    "\n",
    "# El metodo sort() ORDENA la lista L1 y no retorna NADA \n",
    "print(\"L1 =\", L1)\n",
    "print(L1.sort())\n",
    "\n",
    "# Si se imprime la lista L1 se oberva que el metodo sort() ordenó la lista\n",
    "print(\"L1 =\", L1)"
   ]
  },
  {
   "cell_type": "markdown",
   "metadata": {},
   "source": [
    "Tomando esto en consideración, veamos el uso de algunos métodos de una lista en la práctica:"
   ]
  },
  {
   "cell_type": "code",
   "execution_count": 44,
   "metadata": {},
   "outputs": [
    {
     "name": "stdout",
     "output_type": "stream",
     "text": [
      "['a', 'b', 'c', 'd']\n"
     ]
    }
   ],
   "source": [
    "L1 = ['a', 'b', 'c']\n",
    "\n",
    "# Se anexa un elemento a la lista L1 (se agrega al final)\n",
    "L1.append('d')\n",
    "print(L1)"
   ]
  },
  {
   "cell_type": "code",
   "execution_count": 45,
   "metadata": {},
   "outputs": [
    {
     "name": "stdout",
     "output_type": "stream",
     "text": [
      "['a', 'A', 'b', 'c', 'd']\n"
     ]
    }
   ],
   "source": [
    "# Se inserta el valor 'A' en el índice 1 de la lista L1\n",
    "L1.insert(1, 'A')\n",
    "print(L1)"
   ]
  },
  {
   "cell_type": "code",
   "execution_count": 46,
   "metadata": {},
   "outputs": [
    {
     "name": "stdout",
     "output_type": "stream",
     "text": [
      "['a', 'b', 'c', 'd']\n"
     ]
    }
   ],
   "source": [
    "# Se elimina el valor 'A' de la lista L1\n",
    "L1.remove('A')\n",
    "print(L1)"
   ]
  },
  {
   "cell_type": "code",
   "execution_count": 47,
   "metadata": {},
   "outputs": [
    {
     "name": "stdout",
     "output_type": "stream",
     "text": [
      "['a', 'b', 'c', 'd', 'a']\n",
      "['b', 'c', 'd', 'a']\n"
     ]
    }
   ],
   "source": [
    "# Si se elmina un valor que tiene mas de una ocurrencia en la lista, se elimina el de menor índice\n",
    "L1.append('a')\n",
    "print(L1)\n",
    "\n",
    "L1.remove('a')\n",
    "print(L1)"
   ]
  },
  {
   "cell_type": "code",
   "execution_count": 48,
   "metadata": {},
   "outputs": [
    {
     "name": "stdout",
     "output_type": "stream",
     "text": [
      "['b', 'c', 'd']\n",
      "a\n"
     ]
    }
   ],
   "source": [
    "# Extrae el ultimo valor de la lista y lo elimina de la colección\n",
    "var = L1.pop()\n",
    "print(L1)\n",
    "print(var)"
   ]
  },
  {
   "cell_type": "code",
   "execution_count": 49,
   "metadata": {},
   "outputs": [
    {
     "name": "stdout",
     "output_type": "stream",
     "text": [
      "['b', 'd']\n",
      "c\n"
     ]
    }
   ],
   "source": [
    "# Se puede especificar un índice diferente en el metodo pop()\n",
    "var = L1.pop(1)\n",
    "print(L1)\n",
    "print(var)"
   ]
  },
  {
   "cell_type": "code",
   "execution_count": 50,
   "metadata": {},
   "outputs": [
    {
     "name": "stdout",
     "output_type": "stream",
     "text": [
      "[]\n"
     ]
    }
   ],
   "source": [
    "# Se puede limpiar el contenido de una lista\n",
    "L1.clear()\n",
    "print(L1)"
   ]
  },
  {
   "cell_type": "code",
   "execution_count": 51,
   "metadata": {},
   "outputs": [
    {
     "name": "stdout",
     "output_type": "stream",
     "text": [
      "['a', 'b', 'c', ['X', 'Y', 'Z']]\n"
     ]
    }
   ],
   "source": [
    "# Si se utiliza el metodo append() sobre una lista y se anexa una lista de valores\n",
    "# esta lista se agregara como una lista interna\n",
    "L1 = ['a', 'b', 'c']\n",
    "L1.append(['X', 'Y', 'Z'])\n",
    "print(L1)"
   ]
  },
  {
   "cell_type": "code",
   "execution_count": 52,
   "metadata": {},
   "outputs": [
    {
     "name": "stdout",
     "output_type": "stream",
     "text": [
      "['a', 'b', 'c', 'X', 'Y', 'Z']\n"
     ]
    }
   ],
   "source": [
    "# Se se utiliza el metodos extend() sobre una lista y se anexa una lista de valores\n",
    "# los elementos de esta lista se agregaran a la lista original\n",
    "l1 = ['a', 'b', 'c']\n",
    "l1.extend(['X', 'Y', 'Z'])\n",
    "print(l1)"
   ]
  },
  {
   "cell_type": "markdown",
   "metadata": {
    "user_expressions": []
   },
   "source": [
    "El operador de asignación `=` asigna una lista a otra. Pero aqui hay que tener mucho cuidado. Considere el siguiente ejemplo:"
   ]
  },
  {
   "cell_type": "code",
   "execution_count": 53,
   "metadata": {},
   "outputs": [
    {
     "name": "stdout",
     "output_type": "stream",
     "text": [
      "['a', 'b', 'c']\n",
      "['a', 'b', 'c']\n"
     ]
    }
   ],
   "source": [
    "L1 = ['a', 'b', 'c']\n",
    "L2 = L1\n",
    "\n",
    "print(L1)\n",
    "print(L2)"
   ]
  },
  {
   "cell_type": "markdown",
   "metadata": {
    "user_expressions": []
   },
   "source": [
    "Observe los resultados de las siguientes instrucciones:"
   ]
  },
  {
   "cell_type": "code",
   "execution_count": 54,
   "metadata": {},
   "outputs": [
    {
     "name": "stdout",
     "output_type": "stream",
     "text": [
      "['A', 'b', 'c']\n",
      "['A', 'b', 'c']\n"
     ]
    }
   ],
   "source": [
    "L1[0] = 'A'\n",
    "\n",
    "print(L1)\n",
    "print(L2)"
   ]
  },
  {
   "cell_type": "markdown",
   "metadata": {
    "user_expressions": []
   },
   "source": [
    "Al modificar uno de los elementos de L1, ¡el mismo elemento en L2 tambien cambia! Al utilizar el operador `=` lo que sucede entre las listas es que ambos objetos apuntan a los mismos valores almacenados en una porción de la memoría. Para confirmar esto podemos verifcar la ubicación de cada una de la listas con la función `id()`:"
   ]
  },
  {
   "cell_type": "code",
   "execution_count": 55,
   "metadata": {},
   "outputs": [
    {
     "name": "stdout",
     "output_type": "stream",
     "text": [
      "2329680086912\n",
      "2329680086912\n"
     ]
    }
   ],
   "source": [
    "print(id(L1))\n",
    "print(id(L2))"
   ]
  },
  {
   "cell_type": "markdown",
   "metadata": {
    "user_expressions": []
   },
   "source": [
    "Ambas listas apuntan a la misma posición de memoria donde se inicia el almacenamiento de los valores de la lista. Si se cambia uno de los valores en una de la listas, se está modificando el valor en la memoria que ambas listas comparten. Esto es de gran utilidad ya que si se quiere tener referencias diferentes a una lista, en lugar de duplicar en memoria los valores de una lista, se comparten los valores apuntando a la posición de los valores (es decir, L1 y L2 almacenan una referencia a una posición de memoria).\n",
    "\n",
    "Este comportamiento se puede modificar utilizando el método `copy()`:"
   ]
  },
  {
   "cell_type": "code",
   "execution_count": null,
   "metadata": {},
   "outputs": [],
   "source": [
    "# Se copian los elementos de L1 a L2\n",
    "L1 = ['a', 'b', 'c']\n",
    "L2 = L1.copy()\n",
    "print(L1)\n",
    "print(L2)\n",
    "print()\n",
    "\n",
    "# Se modifica el valor del elemento de indice o en L1\n",
    "L1[0] = 'A'\n",
    "print(L1)\n",
    "print(L2)\n",
    "print()\n",
    "\n",
    "# Se muestra el id de cada una de las listas\n",
    "print(id(L1))\n",
    "print(id(L2))"
   ]
  },
  {
   "cell_type": "markdown",
   "metadata": {},
   "source": [
    "El método `sort()` permite ordenar de forma ascendente los elementos de una lista. El keyword reverse especifica si se invierte el tipo de ordenamiento:"
   ]
  },
  {
   "cell_type": "code",
   "execution_count": 56,
   "metadata": {},
   "outputs": [
    {
     "name": "stdout",
     "output_type": "stream",
     "text": [
      "['A', 'D', 'd', 'e', 'j', 'y']\n"
     ]
    }
   ],
   "source": [
    "L1 = ['d', 'e', 'j', 'A', 'D', 'y']\n",
    "L1.sort()\n",
    "print(L1)"
   ]
  },
  {
   "cell_type": "code",
   "execution_count": 57,
   "metadata": {},
   "outputs": [
    {
     "name": "stdout",
     "output_type": "stream",
     "text": [
      "['y', 'j', 'e', 'd', 'D', 'A']\n"
     ]
    }
   ],
   "source": [
    "L1 = ['d', 'e', 'j', 'A', 'D', 'y']\n",
    "L1.sort(reverse=True)\n",
    "print(L1)"
   ]
  },
  {
   "cell_type": "markdown",
   "metadata": {},
   "source": [
    "Nótese que en una secuencia de letras, las mayúsculas ocupan un menor valor que las minúsculas."
   ]
  },
  {
   "cell_type": "markdown",
   "metadata": {
    "user_expressions": []
   },
   "source": [
    "### Uso de listas en una aplicación: Ejemplo animado\n",
    "![](https://blog.penjee.com/wp-content/uploads/2015/11/loop-over-python-list-animation.gif)"
   ]
  },
  {
   "cell_type": "markdown",
   "metadata": {
    "user_expressions": []
   },
   "source": [
    "---\n",
    "### Listas por comprehensión\n",
    "Las listas por comprehension son una forma de generar listas utilizando un paradigma de programación llamada \"programación funcional\". Sin entrar en detalles de la forma como se concibe la programación funcional, es una manera de escribir instrucciones de forma tal que tengan una mayor claridad sintáctica.\n",
    "\n",
    "Considere el siguiente código:"
   ]
  },
  {
   "cell_type": "code",
   "execution_count": 58,
   "metadata": {},
   "outputs": [
    {
     "name": "stdout",
     "output_type": "stream",
     "text": [
      "[1, 2, 3, 4, 5, 6, 7, 8, 9]\n"
     ]
    }
   ],
   "source": [
    "lista = []\n",
    "for num in range(1, 10):\n",
    "    lista.append(num)\n",
    "    \n",
    "print(lista)"
   ]
  },
  {
   "cell_type": "markdown",
   "metadata": {},
   "source": [
    "Se puede obtener el mismo resultado utilizando una lista por comprehensión (esto es una libre traducción del inglés _list comprenhension__. Algunos utilizan \"comprehension de listas\" o \"listas comprehesivas\"...):"
   ]
  },
  {
   "cell_type": "code",
   "execution_count": 59,
   "metadata": {},
   "outputs": [
    {
     "name": "stdout",
     "output_type": "stream",
     "text": [
      "[1, 2, 3, 4, 5, 6, 7, 8, 9]\n"
     ]
    }
   ],
   "source": [
    "lista = [num for num in range(1, 10)]\n",
    "print(lista)"
   ]
  },
  {
   "cell_type": "markdown",
   "metadata": {},
   "source": [
    "Si se lee directamente el código anterior se tendrá la sentencia: _\"lista será igual a los numeros para todos los numeros en el rango de 1 a 9\"_. Esto es lo que significa \"claridad sintáctica\". Por ejemplo, considere el siguiente ejemplo:"
   ]
  },
  {
   "cell_type": "code",
   "execution_count": 61,
   "metadata": {},
   "outputs": [
    {
     "name": "stdout",
     "output_type": "stream",
     "text": [
      "[57, 75, 22, 26, 18, 49, 18, 56, 37, 19]\n"
     ]
    }
   ],
   "source": [
    "from random import randint\n",
    "\n",
    "numeros = [randint(1, 100) for i in range(10)]\n",
    "print(numeros)"
   ]
  },
  {
   "cell_type": "markdown",
   "metadata": {
    "user_expressions": []
   },
   "source": [
    "Puede utilizar un `if` en la definición de una lista por comprehensión para obtener resultados más complejos, en este caso el filtrado de una lista:"
   ]
  },
  {
   "cell_type": "code",
   "execution_count": 69,
   "metadata": {},
   "outputs": [
    {
     "name": "stdout",
     "output_type": "stream",
     "text": [
      "[78, 99, 45, 48]\n"
     ]
    }
   ],
   "source": [
    "from random import randint\n",
    "\n",
    "numeros = [randint(1, 100) for i in range(10)]\n",
    "mult_tres = [num for num in numeros if num % 3 == 0]\n",
    "print(mult_tres)"
   ]
  },
  {
   "cell_type": "markdown",
   "metadata": {
    "user_expressions": []
   },
   "source": [
    "### El (infame) operador whalrus\n",
    "¿Por qué no se puede hacer la operación anterior en una sola instrucción de listas por comprehensión? Porque no es posible almacenar el resultado de una operación que se esta evaluando. Por ejemplo, el siguiente código:\n",
    "\n",
    "    mensaje = ''\n",
    "    while len(mensaje) < 10:\n",
    "        print(f\"Numero de caracteres: {len(mensaje)} es menor que 10\")\n",
    "        mensaje += ' '\n",
    "        \n",
    "está evaluando `len(mensaje)` dos veces ya que no es posible almacenar la operación realizada en la condición del `while` en una variable (en C, C++ y Java, por ejemplo, sí se puede hacer). Aqui es donde llega al rescate el operador _whalrus_ en Python 3.8, un operador polémico ya que permite lo anterior de la forma:\n",
    "\n",
    "    mensaje = ''\n",
    "    while (num_char := len(mensaje)) < 10:\n",
    "        print(f\"Numero de caracteres: {num_char} es menor que 10\")\n",
    "        mensaje += ' '\n",
    "\n",
    "¿Es realmente necesario este operador? Existen voces para ambas posiciones, pero permitiría realizar la operación anterior en una sola lista por comprehensión ya que los valores que se están generando en cada iteración se van almacenando en una variable:"
   ]
  },
  {
   "cell_type": "code",
   "execution_count": 70,
   "metadata": {},
   "outputs": [
    {
     "name": "stdout",
     "output_type": "stream",
     "text": [
      "[18, 39, 36, 33, 78, 54]\n"
     ]
    }
   ],
   "source": [
    "mult_tres = [r for i in range(10) if (r:=randint(1, 100)) % 3 == 0]\n",
    "print(mult_tres)"
   ]
  },
  {
   "cell_type": "markdown",
   "metadata": {
    "user_expressions": []
   },
   "source": [
    "_NOTA: La misma operación se puede realizar con la función `filter` por lo que se puede considerar una complicación innecesaria, pero de nuevo, dependerá de gustos._"
   ]
  },
  {
   "cell_type": "markdown",
   "metadata": {
    "user_expressions": []
   },
   "source": [
    "### Listas de listas con listas por comprehensión\n",
    "Las listas por comprehensión permiten crear en una sola línea una lista de forma compacta y legible (y recuerde, para Python lo legible es importante y lo que reconoce un *código Python* de lo que *quizo ser un código Python*). Además de utilizarse para crear un código elegante, se puede utiliar para crear una lista de listas:"
   ]
  },
  {
   "cell_type": "code",
   "execution_count": 75,
   "metadata": {},
   "outputs": [
    {
     "name": "stdout",
     "output_type": "stream",
     "text": [
      "[[0, 0, 0, 0, 0, 0, 0, 0, 0, 0], [0, 0, 0, 0, 0, 0, 0, 0, 0, 0], [0, 0, 0, 0, 0, 0, 0, 0, 0, 0], [0, 0, 0, 0, 0, 0, 0, 0, 0, 0], [0, 0, 0, 0, 0, 0, 0, 0, 0, 0], [0, 0, 0, 0, 0, 0, 0, 0, 0, 0], [0, 0, 0, 0, 0, 0, 0, 0, 0, 0], [0, 0, 0, 0, 0, 0, 0, 0, 0, 0], [0, 0, 0, 0, 0, 0, 0, 0, 0, 0], [0, 0, 0, 0, 0, 0, 0, 0, 0, 0]]\n"
     ]
    }
   ],
   "source": [
    "tabla = [[0] * 10 for i in range(10)]\n",
    "print(tabla)"
   ]
  },
  {
   "cell_type": "markdown",
   "metadata": {},
   "source": [
    "El código anterior genera una lista de 10 elementos, donde cada uno de estos son listas de 10 elementos, utilizando una lista por comprehensión. Entienda el código anterior antes de continuar.\n",
    "\n",
    "Una lista de listas permite modelar una estructura tabular o matricial:"
   ]
  },
  {
   "cell_type": "code",
   "execution_count": 78,
   "metadata": {},
   "outputs": [
    {
     "name": "stdout",
     "output_type": "stream",
     "text": [
      "   0   1   2   3   4   5   6   7   8   9\n",
      "   1   2   3   4   5   6   7   8   9  10\n",
      "   2   3   4   5   6   7   8   9  10  11\n",
      "   3   4   5   6   7   8   9  10  11  12\n",
      "   4   5   6   7   8   9  10  11  12  13\n",
      "   5   6   7   8   9  10  11  12  13  14\n",
      "   6   7   8   9  10  11  12  13  14  15\n",
      "   7   8   9  10  11  12  13  14  15  16\n",
      "   8   9  10  11  12  13  14  15  16  17\n",
      "   9  10  11  12  13  14  15  16  17  18\n"
     ]
    }
   ],
   "source": [
    "# Se genera una lista por comprehension: lista de listas\n",
    "tabla = [[0] * 10 for i in range(10)]\n",
    "\n",
    "# Se modifican los elementos de la lista anterior. Si se considera que la lista de listas\n",
    "# modela un matriz de dos dimensiones, i, j representan los indices de fila y columnas\n",
    "for i in range(10):\n",
    "    for j in range(10):\n",
    "        tabla[i][j] = i + j\n",
    "\n",
    "# Se imprimen los resultados de la lista de listas\n",
    "# con los cambios realizados\n",
    "for i in range(10):\n",
    "    for j in range(10):\n",
    "        print(f\"{tabla[i][j]:4}\", end='')\n",
    "    else:\n",
    "        print()\n"
   ]
  },
  {
   "cell_type": "markdown",
   "metadata": {},
   "source": [
    "¿Y una lista de listas de listas? Será una estructa numérica de tres dimensiones, un cubo numérico. ¿Y una lista de listas de listas de listas? Una meta-estructura de 4D... el límite de este tipo de estructras lo defininen las restricciones de memoria y no el lenguaje de progamación.\n",
    "\n",
    "Antes de que su cerebro explote, no se preocupe: cuando se trata de construcciones elaboradas como estas utilizaremos una construcción mas sencilla y eficiente llamada Arreglo. Respire tranquilo..."
   ]
  }
 ],
 "metadata": {
  "kernelspec": {
   "display_name": "Python 3 (ipykernel)",
   "language": "python",
   "name": "python3"
  },
  "language_info": {
   "codemirror_mode": {
    "name": "ipython",
    "version": 3
   },
   "file_extension": ".py",
   "mimetype": "text/x-python",
   "name": "python",
   "nbconvert_exporter": "python",
   "pygments_lexer": "ipython3",
   "version": "3.11.5"
  }
 },
 "nbformat": 4,
 "nbformat_minor": 4
}
