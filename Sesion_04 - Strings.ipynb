{
 "cells": [
  {
   "cell_type": "markdown",
   "metadata": {},
   "source": [
    "# Sesion 5 - Strings\n",
    "<div style=\"text-align: right\">Autor: Luis A. Muñoz - 2020 </div>"
   ]
  },
  {
   "cell_type": "markdown",
   "metadata": {},
   "source": [
    "Ideas clave:\n",
    "\n",
    "* Los strings representan cadenas de caracteres y son objetos inmutables\n",
    "* Los strings soportan indexación como las listas y tuplas.\n",
    "* Los caracteres en Python son datos codificados en utf-8 como valores enteros.\n",
    "* La manipulación de strings se realiza por medio de los métodos de la clase string\n",
    "\n",
    "Informacion:\n",
    "* https://www.programiz.com/python-programming/string\n",
    "\n",
    "---"
   ]
  },
  {
   "cell_type": "markdown",
   "metadata": {},
   "source": [
    "## strings en Python\n",
    "Un string es una secuencia de caracteres (aunque esta secuencia tenga cero elementos, como una cadena vacia \"\"). Este puede ser especificado utilizando comillas doblas, simples o inclusive tiple comilla."
   ]
  },
  {
   "cell_type": "code",
   "execution_count": null,
   "metadata": {},
   "outputs": [],
   "source": [
    "print(\"Soy un string\")\n",
    "print('También soy un string')\n",
    "print(\"\"\"Y yo tambien soy un string\"\"\")\n",
    "print('''Y por supuesto yo tambien''')\n",
    "\n",
    "print(type(\"\"))"
   ]
  },
  {
   "cell_type": "markdown",
   "metadata": {},
   "source": [
    "No existe diferencia entre utilizar \"\" o '' aunque si en los casos de triple comilla, ya que aqui se define un bloque string con formato incluido. Por ejemplo:"
   ]
  },
  {
   "cell_type": "code",
   "execution_count": null,
   "metadata": {},
   "outputs": [],
   "source": [
    "print(\"\"\"Esto se imprimira en una linea\n",
    "y esto en la segunda linea\"\"\")"
   ]
  },
  {
   "cell_type": "markdown",
   "metadata": {},
   "source": [
    "Esto, con una sola comilla, generará un error:"
   ]
  },
  {
   "cell_type": "code",
   "execution_count": null,
   "metadata": {},
   "outputs": [],
   "source": [
    "print(\"Esto se imprimira en una linea\n",
    "y esto en la segunda linea\")"
   ]
  },
  {
   "cell_type": "markdown",
   "metadata": {},
   "source": [
    "Aunque se puede utilizar el caracter de escape `\\` para indicar que la instrucción continúa en la línea de abajo, pero la impresión se mantiene en la misma linea porque no existe un caracter de escape de nueva línea (como `\\n`)."
   ]
  },
  {
   "cell_type": "code",
   "execution_count": null,
   "metadata": {},
   "outputs": [],
   "source": [
    "print(\"Esto se imprimirá en una linea \\\n",
    "y esto también\")"
   ]
  },
  {
   "cell_type": "markdown",
   "metadata": {},
   "source": [
    "Las cadenas son tipos de datos que son indexables, es decir que al igual que las tuplas y listas, soportan índices e index slicing. Revise las siguientes instrucciones y evalúe los resultados obtenidos:"
   ]
  },
  {
   "cell_type": "code",
   "execution_count": null,
   "metadata": {},
   "outputs": [],
   "source": [
    "texto = \"Soy un texto de prueba\"\n",
    "\n",
    "print(texto[0])\n",
    "print(texto[-1])\n",
    "print(texto[:10])\n",
    "print(texto[::3])\n",
    "print(texto[::-1])"
   ]
  },
  {
   "cell_type": "markdown",
   "metadata": {},
   "source": [
    "Una característica importante a considerar es que los string **son inmutables**: "
   ]
  },
  {
   "cell_type": "code",
   "execution_count": null,
   "metadata": {},
   "outputs": [],
   "source": [
    "texto[0] = 's'"
   ]
  },
  {
   "cell_type": "markdown",
   "metadata": {},
   "source": [
    "El error que arroja el intérprete de Python es el mismo que se obtenía al intentar asignar un valor a un elemento de una tupla: este objeto no soporta asignación de items.\n",
    "\n",
    "Por otro lado, un string es un *iterable*, es decir que puede formar parte de un lazo `for` y retornará cada caracter de un string (incluyendo los espacios en blanco: también son caracteres)."
   ]
  },
  {
   "cell_type": "code",
   "execution_count": null,
   "metadata": {},
   "outputs": [],
   "source": [
    "for char in texto:\n",
    "    print(char)"
   ]
  },
  {
   "cell_type": "markdown",
   "metadata": {},
   "source": [
    "## Operaciones y funciones útiles con strings"
   ]
  },
  {
   "cell_type": "markdown",
   "metadata": {},
   "source": [
    "Los strings soportan los operadores `+` y `*`:"
   ]
  },
  {
   "cell_type": "code",
   "execution_count": null,
   "metadata": {},
   "outputs": [],
   "source": [
    "print(\"z\" * 3 + \".\" * 6)"
   ]
  },
  {
   "cell_type": "markdown",
   "metadata": {},
   "source": [
    "Así también, la función `len()` permite conocer el número de caracteres de un string (de forma semejante al número de elementos de una tupla/lista). Combinado con lo anterior, por ejemplo, se puede subrayar un textode forma interactiva:"
   ]
  },
  {
   "cell_type": "code",
   "execution_count": null,
   "metadata": {},
   "outputs": [],
   "source": [
    "titulo = \"Mensaje a Subrayar\"\n",
    "print(titulo)\n",
    "print(\"=\" * len(titulo))"
   ]
  },
  {
   "cell_type": "markdown",
   "metadata": {},
   "source": [
    "Los caracteres son almacenados en un sistema informáticos como valores enteros. Los caracteres en idioma inglés se pueden representar con 8 bits y están especificados bajo el estándar ASCII. Sin embargo, los demás juegos de caracteres (como el español, portugués, ruso, etc.) amplian el estándar (llamado Unicode) y el número de bits necesarios por caracter, de forma tal que hay caracteres de 1 byte y otros de hasta 4 bytes. El estándar UTF-8 soporta la codificación de tamaño variable y es el estándar utilizado por Python.\n",
    "\n",
    "Para conocer el codigo Unicode de un caracter se recurre a la funcion `ord()`, y para conocer el caracter al que le corresponde un código Unicode se utiliza `chr()`:"
   ]
  },
  {
   "cell_type": "code",
   "execution_count": null,
   "metadata": {},
   "outputs": [],
   "source": [
    "print(\"A =\", ord(\"A\"))\n",
    "print(\"65 =\", chr(65))"
   ]
  },
  {
   "cell_type": "markdown",
   "metadata": {},
   "source": [
    "## Métodos de un str\n",
    "La lista de métodos de un string es bastante amplia:"
   ]
  },
  {
   "cell_type": "code",
   "execution_count": null,
   "metadata": {},
   "outputs": [],
   "source": [
    "dir(str)"
   ]
  },
  {
   "cell_type": "markdown",
   "metadata": {},
   "source": [
    "Así que vamos a revisar los de uso más común y separarlos por categorías. Vamos a revisar los métodos que modifican un str eliminando caracteres innecesarios. Aqui debemos entender que \"modificar\" un str significa obtener un nuevo str modificado (no como en las listas, en donde se modificaba la lista misma). Entonces podemos utilizar estos métodos con `print` ya que generamos una cadena de caracteres nueva que puede ser impresa.\n",
    "\n",
    "Tenemos los métodos que eliminan los caracteres de \"cabeza\" y \"cola\" en un str. Por defecto, estos son los espacios en blanco.\n",
    "\n",
    "    * str.strip()      : Elimina los caracteres adicionales al inicio y al final de una cadena\n",
    "    * str.lstrip()     : Elimina los caracteres adicionales al inicio de una cadena (es decir, a la izquierda. \"l\": left)\n",
    "    * str.rstrip()     : Elimina los caracteres adicionales al final de una cadena (es decir, a la derecha. \"r\": right)\n",
    "    \n",
    "Veamos algunos ejemplos:"
   ]
  },
  {
   "cell_type": "code",
   "execution_count": null,
   "metadata": {},
   "outputs": [],
   "source": [
    "texto = \"       este es un texto de prueba    \"\n",
    "\n",
    "print(\"|{}|\".format(texto))            # texto original (como caracteres de limites)\n",
    "print(\"|{}|\".format(texto.strip()))    # strip: despojar (no tiene espacios en blanco antes ni despues)\n",
    "print(\"|{}|\".format(texto.lstrip()))   # l: left (no tiene caracteres especiales antes)\n",
    "print(\"|{}|\".format(texto.rstrip()))   # r: right (no tiene caracteres especiales despues)"
   ]
  },
  {
   "cell_type": "markdown",
   "metadata": {},
   "source": [
    "Estos métodos permiten especificar los caracteres que se quieran eliminar al principio y/o al final. Por ejemplo:"
   ]
  },
  {
   "cell_type": "code",
   "execution_count": null,
   "metadata": {},
   "outputs": [],
   "source": [
    "print(\",,,,,rrttgg.....banana....rrr\".strip(\",.grt\"))"
   ]
  },
  {
   "cell_type": "markdown",
   "metadata": {},
   "source": [
    "Esto también es válido para los caracteres de escape como `\\n`. Por ejemplo:"
   ]
  },
  {
   "cell_type": "code",
   "execution_count": null,
   "metadata": {},
   "outputs": [],
   "source": [
    "print(\"Al final de este mensaje hay un caracter de nueva linea\\n\", end='')   # end='' es para evitar el \\n del print()\n",
    "print(\"...\")\n",
    "print(\"Al final de este mensaje ya no hay un caracter de nueva línea\\n\".strip(), end='')\n",
    "print(\"...\")"
   ]
  },
  {
   "cell_type": "markdown",
   "metadata": {},
   "source": [
    "Otros métodos modifican si los caracteres están en MAYUSCULAS o minúsculas:\n",
    "    \n",
    "    * str.capitalize()      : Capitaliza un str, es decir, convierte el primer caracter del str en mayuscula\n",
    "    * str.title()           : Convierte un str en un \"titulo\", es decir, la primer letra de cada palabra en mayuscula\n",
    "    * str.upper()           : Convierte todo el str en MAYUSCULAS\n",
    "    * str.lower()           : Convierte todo el str en minusculas\n",
    "    * str.swapcase()        : Intercambia MAYUSCULAS por minúsculas y viceversa"
   ]
  },
  {
   "cell_type": "code",
   "execution_count": null,
   "metadata": {},
   "outputs": [],
   "source": [
    "texto = \"       este es un texto de prueba    \"\n",
    "print(texto.strip().capitalize())\n",
    "print(texto.strip().upper())\n",
    "print(texto.strip().lower())\n",
    "print(texto.strip().title())\n",
    "print(texto.strip().title().swapcase())"
   ]
  },
  {
   "cell_type": "markdown",
   "metadata": {},
   "source": [
    "Considere un detalle de los ejemplos anteriores: como los métodos de un str retornan un nuevo str, se pueden encadenar en secuencia como el `texto.strip().capitalize()`. Esto, elimina los espacios en blanco al principio y al final de texto y luego capitaliza el str anterior."
   ]
  },
  {
   "cell_type": "markdown",
   "metadata": {},
   "source": [
    "Otros métodos cuentan ocurrencias dentro de un str (es decír, sub-strings) o reemplazan su contenido según un criterio de búsqueda:\n",
    "\n",
    "    * str.count(substring)           : Cuenta el número de veces que un substring esta en un string\n",
    "    * str.replace(subtring, str_rep) : Reemplaza un substring por otro string str_rep\n",
    "    * str.find(substring)            : Retorna el indice del string donde se encuentre el caracter inicial de un substring\n",
    "    * str.rfind(substring)           : Retorna el indice del string donde se encuentre el caracter inicial de un substring.\n",
    "                                       Busca el substring de derecha a izquierda"
   ]
  },
  {
   "cell_type": "code",
   "execution_count": null,
   "metadata": {},
   "outputs": [],
   "source": [
    "texto = \"este es un texto de prueba\"\n",
    "print(texto.count(\"es\"))\n",
    "print(texto.replace(\"es \", \"no es \"))\n",
    "print(texto.find(\"es\")) \n",
    "print(texto.rfind(\"es\"))   # Entiende porque se obtiene el 5 como resultado?"
   ]
  },
  {
   "cell_type": "markdown",
   "metadata": {},
   "source": [
    "Tenemos un métodos que ya es conocido: split(), pero esta vez vamos a formalizarlo:\n",
    "\n",
    "    * str.strip()      : Retorna una lista de substring separados por algun caracter (por defecto, espacio en blanco)"
   ]
  },
  {
   "cell_type": "code",
   "execution_count": null,
   "metadata": {},
   "outputs": [],
   "source": [
    "l_palabras = \"una golondrina no hace verano\".split()\n",
    "print(l_palabras)"
   ]
  },
  {
   "cell_type": "markdown",
   "metadata": {},
   "source": [
    "El proceso inverso se puede realizar con el método join():\n",
    "\n",
    "    * str.join(lista)  : Retorna un cadena con los substring de una lista, unidos por el str"
   ]
  },
  {
   "cell_type": "code",
   "execution_count": null,
   "metadata": {},
   "outputs": [],
   "source": [
    "print(\" \".join(l_palabras))    # Toma las palabras de l_palabras y las une utilizando el \" \""
   ]
  },
  {
   "cell_type": "markdown",
   "metadata": {},
   "source": [
    "Otros métodos de una string incluyen aquellos que consultan si la cadena esta compuesta por caracteres especiales. estos retornan valores booleanos:\n",
    "\n",
    "    * str.isspace()    : True si str esta compuesta de espacios en blanco\n",
    "    * str.isupper()    : True si todos los caracteres de str con MAYUSCULAS\n",
    "    * str.islower()    : True si todos los caracteres de str son minusculas\n",
    "    * str.isdigit()    : True si todos los catracteres de str son digitos\n",
    "    * str.isalpha()    : True si todos los caracteres de str son letras alfabeticas\n",
    "    * str.isalnum()    : True si todos los caracteres de str son letras o números\n",
    "    * str.isprintable(): True si todos los caracteres de str son imprimibles (no son Tab \\n, Enter \\n, etc)"
   ]
  },
  {
   "cell_type": "code",
   "execution_count": null,
   "metadata": {},
   "outputs": [],
   "source": [
    "print(\"abcde\".isalpha())\n",
    "print(\"abc123\".isalpha())\n",
    "print(\"123\".isdigit())\n",
    "print(\"dina4ever\".isalnum())\n",
    "print(\"Hola\\ntexto\".isprintable())\n",
    "print(\"hola\".islower())\n",
    "print(\"HOLA\".isupper())\n",
    "print(\"123\".isupper())\n",
    "print(\"   \".isspace())"
   ]
  }
 ],
 "metadata": {
  "kernelspec": {
   "display_name": "Python 3",
   "language": "python",
   "name": "python3"
  },
  "language_info": {
   "codemirror_mode": {
    "name": "ipython",
    "version": 3
   },
   "file_extension": ".py",
   "mimetype": "text/x-python",
   "name": "python",
   "nbconvert_exporter": "python",
   "pygments_lexer": "ipython3",
   "version": "3.8.3"
  }
 },
 "nbformat": 4,
 "nbformat_minor": 4
}
