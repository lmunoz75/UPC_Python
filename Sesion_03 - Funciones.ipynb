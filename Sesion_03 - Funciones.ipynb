{
 "cells": [
  {
   "cell_type": "markdown",
   "metadata": {},
   "source": [
    "# Sesion 3 - Funciones\n",
    "<div style=\"text-align: right\">Autor: Luis A. Muñoz - 2020 </div>"
   ]
  },
  {
   "cell_type": "markdown",
   "metadata": {},
   "source": [
    "Ideas clave:\n",
    "\n",
    "* Las funciones son scripts autocontenidos que pueden tomar datos de entrada para retornar datos de salida\n",
    "* La programación estructurada toma un proyecto y lo separa en sus partes consistuyentes, independientes entre si.\n",
    "* Utilizar funciones en un script sigue la estrategia \"divide y vencerás\" para resolver problemas complejos\n",
    "\n",
    "Informacion:\n",
    "* https://devcode.la/tutoriales/funciones-en-python/\n",
    "* https://book.pythontips.com/en/latest/map_filter.html\n",
    "* https://www.w3schools.com/python/python_functions.asp\n",
    "\n",
    "---"
   ]
  },
  {
   "cell_type": "markdown",
   "metadata": {},
   "source": [
    "## Definición de funciones\n",
    "En Python, una función se define con la palabra reservada `def`. La sintaxis completa en la definición de una función es la siguiente:"
   ]
  },
  {
   "cell_type": "code",
   "execution_count": null,
   "metadata": {},
   "outputs": [],
   "source": [
    "def suma_num(num1, num2):\n",
    "    '''suma_num(num1, num2): Retorna la suma de dos numeros\n",
    "    \n",
    "    Parametros:\n",
    "        - num1, num2: int\n",
    "        \n",
    "    Uso:\n",
    "        suma_num(3, 5) -> 8\n",
    "    '''\n",
    "    return num1 + num2"
   ]
  },
  {
   "cell_type": "markdown",
   "metadata": {},
   "source": [
    "La función anterior define un \"procedimiento\" que requiere de dos valores de entrada para retornar un valor de salida que será igual a la suma de los valores de entrada. Esta función tiene un bloque de comentarios utilizando `\"\"\"` que define el `docstring`, un cadena de texto que estará asociada a la auyda de la función:"
   ]
  },
  {
   "cell_type": "code",
   "execution_count": null,
   "metadata": {},
   "outputs": [],
   "source": [
    "suma_num?"
   ]
  },
  {
   "cell_type": "markdown",
   "metadata": {},
   "source": [
    "Una función es un programa autocontenido que resuelve un problema y que se utiliza directamente: por ejemplo, cuando usted utiliza la función `randrange` no inspecciona lo que hace la función sino que la utiliza directamente y si necesita saber como utilizarla, consulta la ayuda de `randrange`. La misma idea debe de estar en su mente cuando defina sus propias funciones: una vez resuelta la utiliza y pasa a ser una herramienta en su arsenal de herramientas de programación."
   ]
  },
  {
   "cell_type": "code",
   "execution_count": null,
   "metadata": {},
   "outputs": [],
   "source": [
    "print(suma_num(1, 2))"
   ]
  },
  {
   "cell_type": "markdown",
   "metadata": {},
   "source": [
    "**La funcion anterior retorna un valor, no lo imprime**. Debe de considerar esto con mucho ciudado y entendiendo bien sus implicancias. Por ejemplo, si tuviera un script que utilizara la funcion anterior de la forma:\n",
    "\n",
    "    a = 10\n",
    "    b = 20\n",
    "    resp = suma(a, b)\n",
    "    \n",
    "Su código respondería de forma correcta porque `suma` retorna un valor que es asignado por el operador `=` a la variable `resp`. Si por el contario, su funcion *imprimiera* el resultado el script anterior mostraría el resultado de la suma de `a` y `b`, pero `resp` no tendría ningún valor (`None`).\n",
    "\n",
    "¡Evite ese error de principiante!"
   ]
  },
  {
   "cell_type": "markdown",
   "metadata": {},
   "source": [
    "## Variables locales y globales"
   ]
  },
  {
   "cell_type": "markdown",
   "metadata": {},
   "source": [
    "Cuando se define una función se especifican operaciones que utilizan variables que solo tienen exsistencia en el interior de la función. Esto significa que las variables de una función tienen *alcance local*. Por ejemplo:"
   ]
  },
  {
   "cell_type": "code",
   "execution_count": null,
   "metadata": {},
   "outputs": [],
   "source": [
    "nombre = \"Elvio\"\n",
    "\n",
    "def cambia_nombre():\n",
    "    nombre = \"Elsa\"\n",
    "\n",
    "cambia_nombre()"
   ]
  },
  {
   "cell_type": "markdown",
   "metadata": {},
   "source": [
    "Si llama a la función `cambia_nombre()` (note que no tiene argumentos o parametros de entrada), ¿cual será el valor de la variable `nombre`?"
   ]
  },
  {
   "cell_type": "code",
   "execution_count": null,
   "metadata": {},
   "outputs": [],
   "source": [
    "print(nombre)"
   ]
  },
  {
   "cell_type": "markdown",
   "metadata": {},
   "source": [
    "La variable `nombre` con el valor \"Elvio\" esta fuera de la función; la variable `nombre` con el valor \"Elsa\" esta dentro de la función y tiene alcance local, es decir, que solo existe en el interior de la función. Cuando la función termina, la variable local `nombre` deja de existír.\n",
    "\n",
    "Note otra cosa: la función no tiene la instrucción `return`. Cuando esto sucede, Python ejecutará automáticamente la instrucción `return None`.\n",
    "\n",
    "Se puede modificar el alcance de una variable con la palabra reservada `global`. Esto hace que una variable este disponible tanto dentro como fuera de una función."
   ]
  },
  {
   "cell_type": "code",
   "execution_count": null,
   "metadata": {},
   "outputs": [],
   "source": [
    "nombre = \"Elvio\"\n",
    "\n",
    "def cambia_nombre():\n",
    "    global nombre\n",
    "    nombre = \"Elsa\"\n",
    "\n",
    "cambia_nombre()\n",
    "\n",
    "print(nombre)"
   ]
  },
  {
   "cell_type": "markdown",
   "metadata": {},
   "source": [
    "## Keywords\n",
    "Al momento de definir una función, lo más común es que tenga parametros o argumentos de entrada. Estos argumentos se definen como variables pero pueden utilizarse en el momento de llamar a la función especificando el nombre del argumento, a diferencia de la \"definición posicional\". Esto es:"
   ]
  },
  {
   "cell_type": "code",
   "execution_count": null,
   "metadata": {},
   "outputs": [],
   "source": [
    "def resta_num(num1, num2):\n",
    "    return num1 - num2"
   ]
  },
  {
   "cell_type": "markdown",
   "metadata": {},
   "source": [
    "Para ejecutar esta función se puede utilizar la notación posicional:"
   ]
  },
  {
   "cell_type": "code",
   "execution_count": null,
   "metadata": {},
   "outputs": [],
   "source": [
    "print(resta_num(10, 3))"
   ]
  },
  {
   "cell_type": "markdown",
   "metadata": {},
   "source": [
    "Pero también se puede utilizar los nombres de los parametros como \"keywords\" y especificar que valor es asignado a que parametro:"
   ]
  },
  {
   "cell_type": "code",
   "execution_count": null,
   "metadata": {},
   "outputs": [],
   "source": [
    "print(resta_num(num1=10, num2=3))"
   ]
  },
  {
   "cell_type": "markdown",
   "metadata": {},
   "source": [
    "Esto es un uso típico de Python (recuerde el keyword `end=''` en `print()`, por ejemplo). De esta forma, la posición de un argumento al momento de llamar a una función puede personalizarse:"
   ]
  },
  {
   "cell_type": "code",
   "execution_count": null,
   "metadata": {},
   "outputs": [],
   "source": [
    "print(resta_num(num2=3, num1=10))"
   ]
  },
  {
   "cell_type": "markdown",
   "metadata": {},
   "source": [
    "## Parametros con valores por defecto\n",
    "Se puede definir valores por defecto para los parametros de entrada. Por ejemplo:"
   ]
  },
  {
   "cell_type": "code",
   "execution_count": null,
   "metadata": {},
   "outputs": [],
   "source": [
    "print(resta_num(10))"
   ]
  },
  {
   "cell_type": "markdown",
   "metadata": {},
   "source": [
    "La ejecución de esta función genera una excepción del tipo `TypeError`, con el mensaje de error que indica que falta un argumento posicional: `num2`. Modifiquemos la función especificando que el parametro `num2` tendrá 0 como valor por defecto :"
   ]
  },
  {
   "cell_type": "code",
   "execution_count": null,
   "metadata": {},
   "outputs": [],
   "source": [
    "def resta_num(num1, num2=0):\n",
    "    return num1 - num2"
   ]
  },
  {
   "cell_type": "markdown",
   "metadata": {},
   "source": [
    "Esta vez, la función no retornará una excepción con la llamada anterior:"
   ]
  },
  {
   "cell_type": "code",
   "execution_count": null,
   "metadata": {},
   "outputs": [],
   "source": [
    "print(resta_num(10))"
   ]
  },
  {
   "cell_type": "markdown",
   "metadata": {},
   "source": [
    "Ahora, la función puede ser llamada de muchas formas:"
   ]
  },
  {
   "cell_type": "code",
   "execution_count": null,
   "metadata": {},
   "outputs": [],
   "source": [
    "print(resta_num(12, 5))\n",
    "print(resta_num(num2=5, num1=12))\n",
    "print(resta_num(12))"
   ]
  },
  {
   "cell_type": "markdown",
   "metadata": {},
   "source": [
    "Pero tenga mucho cuidado: **no todas las definiciones de parametros son keywords**. Considere la función `sum()`:"
   ]
  },
  {
   "cell_type": "code",
   "execution_count": null,
   "metadata": {},
   "outputs": [],
   "source": [
    "sum?"
   ]
  },
  {
   "cell_type": "markdown",
   "metadata": {},
   "source": [
    "Lea la ayuda: la función `sum()` retorna la suma de todos los valores de un iterable *mas un valor inicial start=0*. Es decir:"
   ]
  },
  {
   "cell_type": "code",
   "execution_count": null,
   "metadata": {},
   "outputs": [],
   "source": [
    "print(sum([1, 2, 3, 4, 5]))"
   ]
  },
  {
   "cell_type": "code",
   "execution_count": null,
   "metadata": {},
   "outputs": [],
   "source": [
    "print(sum([1, 2, 3, 4, 5], 10))"
   ]
  },
  {
   "cell_type": "code",
   "execution_count": null,
   "metadata": {},
   "outputs": [],
   "source": [
    "print(sum([1, 2, 3, 4, 5], start=10))"
   ]
  },
  {
   "cell_type": "markdown",
   "metadata": {},
   "source": [
    "Observe el error: \"sum() no recibe argumentos como keywords\". Esto es un error típico en el uso de las funciones cuando se está aprendiendo Python. ¿Cómo saber cuando una función solo recibe parametros por posición y no por keywords? Vuelva a la ver la definición de la función en la ayuda y observe el caracter `/` al final de la lista de parametros. Esto significa que los parametros de esta función no se pueden pasar por sus nombres. Este atento a esta información."
   ]
  },
  {
   "cell_type": "markdown",
   "metadata": {},
   "source": [
    "## Retorno de dos o más variables\n",
    "Una función puede retornar más de un valor:"
   ]
  },
  {
   "cell_type": "code",
   "execution_count": null,
   "metadata": {},
   "outputs": [],
   "source": [
    "def mult_div(num1, num2):\n",
    "    return num1*num2, num1/num2"
   ]
  },
  {
   "cell_type": "markdown",
   "metadata": {},
   "source": [
    "Esta función retornará varios valores separados por `,` y Python reconocerá esto como una tupla."
   ]
  },
  {
   "cell_type": "code",
   "execution_count": null,
   "metadata": {},
   "outputs": [],
   "source": [
    "res = mult_div(3, 2)\n",
    "\n",
    "print(type(res))\n",
    "\n",
    "print(res[0])\n",
    "print(res[1])"
   ]
  },
  {
   "cell_type": "markdown",
   "metadata": {},
   "source": [
    "En la practica, se utiliza el desempaquetamiento de tuplas para llamar a esta función:"
   ]
  },
  {
   "cell_type": "code",
   "execution_count": null,
   "metadata": {},
   "outputs": [],
   "source": [
    "m, d = mult_div(3, 2)\n",
    "\n",
    "print(m)\n",
    "print(d)"
   ]
  },
  {
   "cell_type": "markdown",
   "metadata": {},
   "source": [
    "## Número variable de parametros de entrada\n",
    "Es posible que se requiera definír una función que requiere un número variable de parametros del tipo:\n",
    "    \n",
    "    def suma_todos(num1, num2, num3, ...)\n",
    "    \n",
    "Y no será posible saber de antemano cuantos parametros habra que colocar. Para esto utilizaremos el operador `*`. Cuando se coloca el caracter `*` antes de una lista o tupla (lo que se llama \"estrellar un valor\") esta se desempaqueta. Considere las siguientes instrucciones:"
   ]
  },
  {
   "cell_type": "code",
   "execution_count": null,
   "metadata": {},
   "outputs": [],
   "source": [
    "nums = [10, 20, 30]\n",
    "\n",
    "print(nums)\n",
    "print(*nums)"
   ]
  },
  {
   "cell_type": "markdown",
   "metadata": {},
   "source": [
    "Observe que la primera impresion muestra una lista. En cambio, la segunda impresión muestra una secuencia de valores sueltos, como ejecutar `print(10, 20, 30)`; es decir el operador `*` ha desempaquetado los valores de una lista y los ha ingresado a print. Esto se puede utilizar para definir todos los argumentos posibles de una función:"
   ]
  },
  {
   "cell_type": "code",
   "execution_count": null,
   "metadata": {},
   "outputs": [],
   "source": [
    "def suma_todos(*args):\n",
    "    return sum(args)"
   ]
  },
  {
   "cell_type": "code",
   "execution_count": null,
   "metadata": {},
   "outputs": [],
   "source": [
    "print(suma_todos(1))\n",
    "print(suma_todos(1, 2, 3, 4, 5))"
   ]
  },
  {
   "cell_type": "markdown",
   "metadata": {},
   "source": [
    "Este operador es utilizado con frecuencia en la definición de las funciones de Python. Considere la ayuda de la función `range()`:"
   ]
  },
  {
   "cell_type": "code",
   "execution_count": null,
   "metadata": {},
   "outputs": [],
   "source": [
    "range?"
   ]
  },
  {
   "cell_type": "markdown",
   "metadata": {},
   "source": [
    "Los argumentos estan especificados como `*args` (la definición `**kwargs` despempaqueta un diccionario de keywords) y solo se puede expresar de forma posicional (`/`). Recuerde: si necesita expresar un número indefinido de parametros de entrada, utilice `*args` y considere `args` como una tupla en el interior de la función."
   ]
  },
  {
   "cell_type": "markdown",
   "metadata": {},
   "source": [
    "## Funciones: de más a menos\n",
    "Pensar en funciones es la diferencia entre aproximarse a un problema de programación con un plan de acción que se va resolviendo de lo más fácil a lo más difícil, en lugar de ir avanzando a ciegas. Para esto se debe de considerar atacar siempre un problema de más a menos y no al reves, como suele suceder. Por ejemplo, considere el siguiente problema: Escriba un script que pida al usuario que escriba el número de primos que quiere ver listados en una ventana de terminal de la forma:\n",
    "\n",
    "    Numero de primos a mostar: 6\n",
    "    \n",
    "    1. 2\n",
    "    2. 3\n",
    "    3. 5\n",
    "    4. 7\n",
    "    5. 11\n",
    "    6. 13\n",
    "    \n",
    "¿Por donde empezaría a resolver este problema? Seguramente considera como saber si un número es primo o no para insertar esto en una estructura de lazo condicionado para imprimir los resultados. Esto significa que tiene varios problemas al mismo tiempo.\n",
    "\n",
    "Por otro lado puede considerar escribír una función que retorne una lista de N números primos por lo que debe de considerar cuando un número es primo...\n",
    "\n",
    "Sin embargo, si considera solucionar el problema desde arriba hacia abajo el razonamiento del desarollo lo ira guiando a la solución final.\n",
    "\n",
    "Considere resolver esto desde más a menos: es decir, de la información que ya tiene, definiendo funciones pero sin resolverlas, solo considerando *que funcionarán en el futuro*. Entonces, tendrémos el siguiente script:\n",
    "\n",
    "    n = int(input(\"Ingrese el numero maximo a buscar: \"))\n",
    "    l_primos = lista_primos(n)\n",
    "\n",
    "    for idx, num in enumerate(l_primos):\n",
    "        print(\"{}. {}\".format(idx, num))\n",
    "        \n",
    "Este script resuelve el problema, *siempre y cuando la función `lista_primos(n)` haga lo que se espera que haga*, es decir, retornar una lista con los *n* números primos. Entonces, necesitamos ahora resolver un solo problema: ¿cómo obtener una lista con los números primos?\n",
    "\n",
    "    def lista_primos(n):\n",
    "        out = []\n",
    "        for num in range(0, n+1):\n",
    "            if es_primo(num):\n",
    "                out.append(num)\n",
    "\n",
    "        return out\n",
    "        \n",
    "Nuevamente, esta función retornará una lista con un número de valores primos especificado con el parámetro de entrada `num`, *siempre y cuando la función `es_primo(n)` haga lo que se espera que haga*, es decir, indicarnos con un valor True o False si `n` es un número primo. Entonces, necesitamos ahora resolver un solo problema nuevamente: ¿cómo saber si un número es primo o no? Resuelva esta función para resolver el script:"
   ]
  },
  {
   "cell_type": "markdown",
   "metadata": {},
   "source": [
    "## Funciones recursivas\n",
    "Una función recursiva es una función que se llama a si misma. Esto permite resolver con un código muy ligero un problema complejo, siempre y cuando tenga una definición recursiva; es decir, que la definción de un objeto utiliza el mismo objeto como parte de la definión.\n",
    "\n",
    "Considere la definición recursiva del factorial:\n",
    "\n",
    "    n! = (n-1)! x n\n",
    "    0! = 1\n",
    "\n",
    "El factorial de un número es este número multiplicado por el factorial del número anterior: eso es una definición recursiva. Para salir de esta definición recursiva se requiere un *caso base*, un caso que permita salir de la definición recursiva, esto es que el factorial de cero es uno.\n",
    "\n",
    "Entonces se puede definír una función que resuelva como calcular el factorial de un número utilizando la definicón recursiva: analice el siguiente script con atención y pruebe su funcionamiento (es igual al Ejercicio 4):"
   ]
  },
  {
   "cell_type": "code",
   "execution_count": null,
   "metadata": {},
   "outputs": [],
   "source": [
    "def factorial(n):\n",
    "    if n == 0:\n",
    "        return 1\n",
    "    else:\n",
    "        return n * factorial(n-1)\n",
    "    \n",
    "print(factorial(5))"
   ]
  },
  {
   "cell_type": "markdown",
   "metadata": {},
   "source": [
    "¿Lográ ver como se ejecuta una función recursiva? Esto puede ayudarlo a visualizar mejor el problema:\n",
    "\n",
    "![](https://www.ks7000.net.ve/wp-content/uploads/2017/07/factorial-recursion-animated-penjee-com.gif)\n",
    "\n",
    "¿Ahora si? Entonces intente resolver el siguiente problema de forma recursiva."
   ]
  },
  {
   "cell_type": "markdown",
   "metadata": {},
   "source": [
    "## Funciones anónimas: Lambda functions\n",
    "Python tiene una característica especial: se pueden asignar funciones a una variable. Considere el siguiente ejemplo:"
   ]
  },
  {
   "cell_type": "code",
   "execution_count": null,
   "metadata": {},
   "outputs": [],
   "source": [
    "def por_tres(n):\n",
    "    return 3 * n\n",
    "\n",
    "print(por_tres(5))"
   ]
  },
  {
   "cell_type": "markdown",
   "metadata": {},
   "source": [
    "Ahora, asigne a una variable la función `por_tres`:"
   ]
  },
  {
   "cell_type": "code",
   "execution_count": null,
   "metadata": {},
   "outputs": [],
   "source": [
    "# Note que no se utiliza \"()\" ya que se esta asigando la función y no su ejecución\n",
    "triplicar = por_tres"
   ]
  },
  {
   "cell_type": "markdown",
   "metadata": {},
   "source": [
    "¿De que tipo será esta variable?"
   ]
  },
  {
   "cell_type": "code",
   "execution_count": null,
   "metadata": {},
   "outputs": [],
   "source": [
    "print(type(triplicar))"
   ]
  },
  {
   "cell_type": "markdown",
   "metadata": {},
   "source": [
    "Esto quiere decir que la variable `triplicar` ahora es una función: una versión o alias de la versión original `por_tres`. Por lo tanto, puede utilizarse como la función original:"
   ]
  },
  {
   "cell_type": "code",
   "execution_count": null,
   "metadata": {},
   "outputs": [],
   "source": [
    "print(triplicar(5))"
   ]
  },
  {
   "cell_type": "markdown",
   "metadata": {},
   "source": [
    "Esto es importante: *la variable `triplicar` tiene el contenido de la función `por_tres`*. Por lo tanto, no es necesario pasarle un función sino solo el contenido de la función. Es esta la razon por la que existen las funciones anónimas: funciones que no tienen un nombre específico que luego serán asignados a una variable, ya que lo que importa es su contenido y no su nombre.\n",
    "\n",
    "Una función anónima tiene el nombre genérico de `lambda` y se especifican los parametros de entrada inmediatamente despues. Por ejemplo, el ejemplo anterior se puede volver a hacer de la siguiente forma:"
   ]
  },
  {
   "cell_type": "code",
   "execution_count": null,
   "metadata": {},
   "outputs": [],
   "source": [
    "triplicar = lambda x: 3 * x\n",
    "print(triplicar(5))"
   ]
  },
  {
   "cell_type": "markdown",
   "metadata": {},
   "source": [
    "La instrucción `lambda x: 3 * x` es equivalente a la definición de la función `por_tres`. Compare ambas o observe las similitudes entre una y otra. Una función anónima puede tener varios parametros de entrada."
   ]
  },
  {
   "cell_type": "code",
   "execution_count": null,
   "metadata": {},
   "outputs": [],
   "source": [
    "sumar = lambda x, y: x + y\n",
    "\n",
    "print(sumar(3, 5))"
   ]
  },
  {
   "cell_type": "markdown",
   "metadata": {},
   "source": [
    "Las funciones anónimas suelen ser funciones sencillas de una sola línea para los que escribir una función lambda es más sencillo que definir una función completa. Su uso típico es en combinación con las funciones `map` y `filter`.\n",
    "\n",
    "### map\n",
    "La función `map` permite afectar por una operación a todos los valores de una lista. Por ejemplo, considere que tiene una lista de valores que quiere afectar por una operación, como duplicar el valor de cada elemento."
   ]
  },
  {
   "cell_type": "code",
   "execution_count": null,
   "metadata": {},
   "outputs": [],
   "source": [
    "lista = [1, 2, 3, 4, 5]\n",
    "\n",
    "for i in range(len(lista)):\n",
    "    lista[i] = lista[i] * 2\n",
    "    \n",
    "print(lista)"
   ]
  },
  {
   "cell_type": "markdown",
   "metadata": {},
   "source": [
    "Esto mismo se puede realizar con la función `map` que tiene la siguiente descripción:\n",
    "\n",
    "    map(func, list)\n",
    "    \n",
    "donde `func` será una función que realiza alguna operación y `list` será la lista cuyos elementos serán afectados por esta operación. La función `map` retorna una \"objeto mapa\" que contendrá las operaciones a realizar a cada uno de los elementos, por lo que si se requiere tener nuevamente una lista con los valores actualizados por la operación, hay que convertir ese mapa en una lista.\n",
    "\n",
    "Por lo tanto, el ejemplo anterior se puede resolver con la siguiente instruccion:"
   ]
  },
  {
   "cell_type": "code",
   "execution_count": null,
   "metadata": {},
   "outputs": [],
   "source": [
    "lista = [1, 2, 3, 4, 5]\n",
    "lista = list(map(lambda x: x * 2, lista))\n",
    "print(lista)"
   ]
  },
  {
   "cell_type": "markdown",
   "metadata": {},
   "source": [
    "### filter\n",
    "La función `filter` permite filtrar los valores de una lista tomando una condición como elemento de exclusión. Por ejemplo, considere que tiene una lista de valores numéricos y desea conservar en la misma lista los valores que sean pares:"
   ]
  },
  {
   "cell_type": "code",
   "execution_count": null,
   "metadata": {},
   "outputs": [],
   "source": [
    "lista = [1, 2, 3, 4, 5, 6, 7, 8, 9, 10]\n",
    "\n",
    "i = 0\n",
    "while i < len(lista):\n",
    "    if lista[i] %2 != 0:\n",
    "        lista.pop(i)\n",
    "    i += 1\n",
    "        \n",
    "print(lista)"
   ]
  },
  {
   "cell_type": "markdown",
   "metadata": {},
   "source": [
    "Esto mismo se puede realizar con la función `filter` que tiene la siguiente descripción:\n",
    "\n",
    "    filter(func, list)\n",
    "    \n",
    "donde `func` será una función que retornará un valor booleano y `list` será la lista cuyos elementos serán removidos si no cumplen con la condición de la función. La función `filter` retorna una \"objeto filter\" que contendrá una secuencia de True y False según cumplan o no la condición, por lo que si se requiere tener la lista de valores que cumplen con la condición, hay que convertír esta filtro a una lista.\n",
    "\n",
    "Por lo tanto, el ejemplo anterior se puede resolver con la siguiente instruccion:"
   ]
  },
  {
   "cell_type": "code",
   "execution_count": null,
   "metadata": {},
   "outputs": [],
   "source": [
    "lista = [1, 2, 3, 4, 5, 6, 7, 8, 9, 10]\n",
    "lista = list(filter(lambda x: x % 2 == 0, lista))\n",
    "print(lista)"
   ]
  },
  {
   "cell_type": "markdown",
   "metadata": {},
   "source": [
    "---\n",
    "## Ejercicios"
   ]
  },
  {
   "cell_type": "markdown",
   "metadata": {},
   "source": [
    "### Ejercicio 1\n",
    "Resuelva la siguiente funcion (elimine la línea `pass` y escriba el contenido de la función)."
   ]
  },
  {
   "cell_type": "code",
   "execution_count": null,
   "metadata": {},
   "outputs": [],
   "source": [
    "def maxval(num1, num2, num3):\n",
    "    \"\"\"maxval(num1, num2, num3): Retorna el número mas alto de tres valores numéricos\n",
    "    \n",
    "    Parametros:\n",
    "        - num1, num2, num3: int\n",
    "        \n",
    "    Uso:\n",
    "        maxval(1, 12, 10) -> 12\n",
    "    \"\"\"\n",
    "    pass\n",
    "\n",
    "print(maxval(1, 12, 10))"
   ]
  },
  {
   "cell_type": "markdown",
   "metadata": {},
   "source": [
    "### Ejercicio 2\n",
    "Resuelva la siguiente funcion (elimine la línea `pass` y escriba el contenido de la función). No utilice `set`"
   ]
  },
  {
   "cell_type": "code",
   "execution_count": null,
   "metadata": {},
   "outputs": [],
   "source": [
    "def unicos(lista):\n",
    "    \"\"\"unicos(lista): Retorna una lista con los números únicos de una lista de entrada\n",
    "    \n",
    "    Parametros:\n",
    "        - lista: list\n",
    "        \n",
    "    Uso:\n",
    "        unicos([1, 3, 5, 2, 6, 1, 7, 2, 5, 3, 2, 5]) -> [1, 3, 5, 2, 6, 7]\n",
    "    \"\"\"\n",
    "    pass\n",
    "    \n",
    "\n",
    "print(unicos([1, 3, 5, 2, 6, 1, 7, 2, 5, 3, 2, 5]))"
   ]
  },
  {
   "cell_type": "markdown",
   "metadata": {},
   "source": [
    "### Ejercicio 3\n",
    "Resuelva la siguiente función (elimine la línea `pass` y escriba el contenido de la función)."
   ]
  },
  {
   "cell_type": "code",
   "execution_count": null,
   "metadata": {},
   "outputs": [],
   "source": [
    "def dec2bin(num):\n",
    "    \"\"\"dec2bin(num): Retorna una lista con una secuencia de 1s y 0s equivalente a num en base 2\n",
    "    \n",
    "    Parametros:\n",
    "        - num: int\n",
    "        \n",
    "    Uso:\n",
    "        dec2bin(120) -> [1, 1, 1, 1, 0, 0, 0]\n",
    "    \"\"\"\n",
    "    pass\n",
    "\n",
    "\n",
    "print(dec2bin(120))"
   ]
  },
  {
   "cell_type": "markdown",
   "metadata": {},
   "source": [
    "### Ejercicio 4\n",
    "Resuelva la siguiente funcion (elimine la línea `pass` y escriba el contenido de la función). Considere los posibles casos de error:\n",
    "\n",
    "* Si el parametro de entrada no es int, debe de retornar la excepción TypeError\n",
    "* Si el parametro es int pero es menor que cero, debe retornar la excepción ValueError\n",
    "\n",
    "Referencia: http://docs.python.org.ar/tutorial/3/errors.html"
   ]
  },
  {
   "cell_type": "code",
   "execution_count": null,
   "metadata": {},
   "outputs": [],
   "source": [
    "def fact(num):\n",
    "    \"\"\"fact(num): Retorna el factorial de num (num!)\n",
    "    \n",
    "    Parametros:\n",
    "        - num: int\n",
    "        \n",
    "    Uso:\n",
    "        factorial(5) -> 120\n",
    "    \"\"\"\n",
    "    pass\n",
    "    \n",
    "# Elimine el comentario de las líneas para probar cada una de las instrucciones\n",
    "print(fact(5))\n",
    "#print(fact(-1))\n",
    "#print(fact(3.5))\n",
    "#print(fact(0))"
   ]
  },
  {
   "cell_type": "markdown",
   "metadata": {},
   "source": [
    "### Ejercicio 5\n",
    "Escriba un script que pida al usuario el número de primos que quiere mostrar en el terminal:"
   ]
  },
  {
   "cell_type": "code",
   "execution_count": null,
   "metadata": {},
   "outputs": [],
   "source": [
    "def es_primo(n):\n",
    "    '''es_primo(n): Retorna un valor booleano que indica si n es un valor primo\n",
    "    \n",
    "    Parametros:\n",
    "        - n: int\n",
    "        \n",
    "    Uso:\n",
    "        es_primo(13) -> True\n",
    "    '''\n",
    "    pass\n",
    "\n",
    "\n",
    "def lista_primos(n):\n",
    "    '''lista_primos(num): Funcion que retorna una lista con los primeros \"n\" números primos\n",
    "    \n",
    "    Parametros:\n",
    "        - n: int\n",
    "        \n",
    "    Uso: lista_primos(6) -> [2, 3, 5, 7, 11, 13]\n",
    "    '''\n",
    "    out = []\n",
    "    for num in range(0, n+1):\n",
    "        if es_primo(num):\n",
    "            out.append(num)\n",
    "\n",
    "    return out\n",
    "\n",
    "\n",
    "n = int(input(\"Ingrese el numero maximo a buscar: \"))\n",
    "l_primos = lista_primos(n)\n",
    "\n",
    "for idx, num in enumerate(l_primos):\n",
    "    print(\"{}. {}\".format(idx, num))"
   ]
  },
  {
   "cell_type": "markdown",
   "metadata": {},
   "source": [
    "### Ejercicio 6\n",
    "Escriba una función que retorne el n-esimo termino de la secuencia de Fibonacci. Recuerde que la secuencia de Fibonacci es una sucesión de números donde cada elemento es igual a la suma de los dos anteriores. Esto requiere que los dos primeros elementos de la secuencia seán fijos como (1, 1), de forma tal que la secuencia sigue de la siguiente forma f(n) = (1, 1, 2, 3, 5, 8, 13, ...).\n",
    "\n",
    "Así, se tienen las siguentes condiciones:\n",
    "\n",
    "    f(n) = f(n-2) + f(n-1)\n",
    "    f(2) = 1\n",
    "    f(1) = 1"
   ]
  },
  {
   "cell_type": "code",
   "execution_count": null,
   "metadata": {},
   "outputs": [],
   "source": [
    "def fibo_term(n):\n",
    "    '''fibo_term(n): Función que retorna el n-esimo termino de la secuencia de Fibonacci\n",
    "    \n",
    "    Parametros:\n",
    "        - n: int\n",
    "        \n",
    "    Uso: fibo_term(7) -> 13\n",
    "    '''\n",
    "    pass\n",
    "\n",
    "\n",
    "print(fibo_term(7))"
   ]
  },
  {
   "cell_type": "markdown",
   "metadata": {},
   "source": [
    "### Ejercicio 7\n",
    "Genere una secuencia de 31 valores entre 19 y 28 tipo float aleatorios que represetarán las temperaturas promedios en °C de todos los días del mes de enero y luego, utilizando map y filter resuelva lo siguiente:\n",
    "\n",
    "* Obtenga una nueva lista con los valores de temperatura en grados Fahrenheit\n",
    "* Obtenga una lista con las temperaturas templadas del mes, entre 70F y 80F.\n",
    "* Muestre el listado de temperaturas y la información de los días templados de la forma:\n",
    "\n",
    "                   TEMP C       TEMP F\n",
    "                   ------       ------\n",
    "        Ene  1:    19.22        66.01\n",
    "        Ene  2:    22.81        73.05\n",
    "        .\n",
    "        .\n",
    "        .\n",
    "        \n",
    "        En el mes hubo XX dias templados.\n",
    "        "
   ]
  },
  {
   "cell_type": "code",
   "execution_count": null,
   "metadata": {},
   "outputs": [],
   "source": [
    "# ESCRIBA SU CODIGO AQUI\n"
   ]
  },
  {
   "cell_type": "markdown",
   "metadata": {},
   "source": [
    "---\n",
    "## Desafios\n",
    "### Desafío 1\n",
    "Escriba una función que retorne las N primeras ternas pitagoricas (https://es.wikipedia.org/wiki/Terna_pitag%C3%B3rica) en forma de tuplas de tres elementos en una lista. La primera terna pitagórica (cuando N=1) será: (3, 4, 5), ya que $3^2 + 4^2 = 5^2$. Por lo tanto si ejecuta:\n",
    "\n",
    "    print(terna_pit(1))\n",
    "    \n",
    "Esta instrucción imprimirá el resultado de la función:\n",
    "\n",
    "    [(3, 4, 5)]"
   ]
  },
  {
   "cell_type": "code",
   "execution_count": null,
   "metadata": {},
   "outputs": [],
   "source": [
    "# ESCRIBA SU CODIGO AQUI\n",
    "def terna_pit(n):\n",
    "    pass\n",
    "\n",
    "print(terna_pit(1))\n",
    "print(terna_pit(5))"
   ]
  },
  {
   "cell_type": "markdown",
   "metadata": {},
   "source": [
    "### Desafío 2\n",
    "La serie de Taylor de la funcion seno se expresa como:\n",
    "\n",
    "![](https://wikimedia.org/api/rest_v1/media/math/render/svg/0b9658638114020e031c7b93f23ef2fe1e46d1bb)\n",
    "\n",
    "Escriba una función que retorne el seno de una ángulo en radianes con un error de 0.0001. (No utilice la funcion `sin` en la librería `math`."
   ]
  },
  {
   "cell_type": "code",
   "execution_count": null,
   "metadata": {},
   "outputs": [],
   "source": [
    "# ESCRIBA SU CODIGO AQUI\n",
    "PI = 3.1415\n",
    "\n",
    "def seno(ang):\n",
    "    pass\n",
    "\n",
    "print(seno(PI/4))   # 0.7071... (exacto hasta el cuarto decimal)"
   ]
  }
 ],
 "metadata": {
  "kernelspec": {
   "display_name": "Python 3",
   "language": "python",
   "name": "python3"
  },
  "language_info": {
   "codemirror_mode": {
    "name": "ipython",
    "version": 3
   },
   "file_extension": ".py",
   "mimetype": "text/x-python",
   "name": "python",
   "nbconvert_exporter": "python",
   "pygments_lexer": "ipython3",
   "version": "3.8.3"
  }
 },
 "nbformat": 4,
 "nbformat_minor": 4
}
