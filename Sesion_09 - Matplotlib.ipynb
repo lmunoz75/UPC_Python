{
 "cells": [
  {
   "cell_type": "markdown",
   "metadata": {},
   "source": [
    "# Matplotlib\n",
    "<img src=\"https://upload.wikimedia.org/wikipedia/en/thumb/5/56/Matplotlib_logo.svg/1280px-Matplotlib_logo.svg.png\" alt=\"Drawing\" style=\"width: 600px;\"/>\n",
    "<div style=\"text-align: right\">Autor: Luis A. Muñoz - 2020 </div>"
   ]
  },
  {
   "cell_type": "markdown",
   "metadata": {},
   "source": [
    "Matplotlib es una biblioteca para la generación de gráficos a partir de datos contenidos en listas o arrays en el lenguaje de programación Python y su extensión matemática NumPy. Proporciona una API, pylab, diseñada para recordar a la de MATLAB.\n",
    "\n",
    "Resumen de instrucciones:\n",
    "\n",
    "    plt.plot(data_x, data_y, ...)\n",
    "    plt.title(str)\n",
    "    plt.xlabel(str)\n",
    "    plt.ylabel(str)\n",
    "    plt.grid(True | False)\n",
    "    plt.legend(list[str1, str2, ...])\n",
    "    plt.tight_layout()\n",
    "    plt.subplots(nf, nc, pos)\n",
    "    plt.show()\n",
    "    plt.figure(figsize=(ancho, alto))\n",
    "\n",
    "---"
   ]
  },
  {
   "cell_type": "markdown",
   "metadata": {},
   "source": [
    "`mayplotlib` es el módulo del paquete de python cientifico que permite obtener gráficas científicas (trazos, barras, pie, histogramas, polares, etc) para el análisis de resultados numéricos. Para utilizarlo hay que importar el paquete `pyplot` del módulo `matplotlib` con el alias `plt`. Se utiliza el siguiente formato:"
   ]
  },
  {
   "cell_type": "code",
   "execution_count": null,
   "metadata": {},
   "outputs": [],
   "source": [
    "%matplotlib inline\n",
    "import matplotlib.pyplot as plt"
   ]
  },
  {
   "cell_type": "markdown",
   "metadata": {},
   "source": [
    "El método mágico `%matplotlib inline` permite en las versión antiguas de Jupyter Notebook mantener los gráficos en el mismo documento en lugar de en un a ventana emergente. El incluír los resultados gráficos en el mismo documento es la respuesta por defecto de las últimas actualizaciones de Jupyter Notebook por lo que no es necesario incluír esta línea en las nuevas versiones."
   ]
  },
  {
   "cell_type": "markdown",
   "metadata": {},
   "source": [
    "### plot\n",
    "El comando más utilizado en la librería es `plot`. Este toma los datos numéricos de una lista o arreglo y coloca los puntos en un plano cartesiano para lulego unirlos. Cuando el metodo `plot` solo tiene un solo argumento, plotea los datos del gráfico considerando los valores como ordenadas (*y*) y sus índices como absisas (*x*); esto es, gráfica los datos contra sus índices."
   ]
  },
  {
   "cell_type": "code",
   "execution_count": null,
   "metadata": {},
   "outputs": [],
   "source": [
    "# Graficando los datos de una lista/arreglo contra su indice\n",
    "plt.plot([5, 10, 6, 14, 12, 8])\n",
    "plt.title(\"Ventas anuales de Odontologia Pesquera\")\n",
    "plt.xlabel(\"Años\")\n",
    "plt.ylabel(\"Ventas [millones]\")\n",
    "plt.grid()\n",
    "plt.show()"
   ]
  },
  {
   "cell_type": "markdown",
   "metadata": {},
   "source": [
    "Un gráfico debe de tener la siguiente información:\n",
    "\n",
    "* Titulo (plt.title)\n",
    "* Etiqueta de los ejes (plt.xlabel, plt.ylabel)\n",
    "* Grilla de soporte (plt.grid) - Opcional\n",
    "\n",
    "Observe que la última instrucción será `plt.show()`, que permite visualizar el gráfico.\n",
    "\n",
    "Se puede personalizar el gráfico utliliando todos los keywords dispoibles en el método `plot` (que son muchos):"
   ]
  },
  {
   "cell_type": "code",
   "execution_count": null,
   "metadata": {},
   "outputs": [],
   "source": [
    "# Personalizar un grafico\n",
    "plt.plot([5, 10, 6, 14, 12, 8], linewidth=3, marker='o', markersize=12,\n",
    "        markerfacecolor='red', markeredgecolor='black', color='green',\n",
    "        linestyle='dashed')\n",
    "plt.title(\"Ventas anuales de Odontologia Pesquera\")\n",
    "plt.xlabel(\"Años\")\n",
    "plt.ylabel(\"Ventas [millones]\")\n",
    "plt.grid()\n",
    "plt.show()"
   ]
  },
  {
   "cell_type": "markdown",
   "metadata": {},
   "source": [
    "O se puede utilizar una cadena de configuración, tal y como se hace en MATLAB: una string que especifica el tipo de linea, el color y el marcador de datos."
   ]
  },
  {
   "cell_type": "code",
   "execution_count": null,
   "metadata": {},
   "outputs": [],
   "source": [
    "# Personalizar un grafico\n",
    "plt.plot([5, 10, 6, 14, 12, 8], '-ms')     #tipos de linea, color, marcador\n",
    "plt.title(\"Ventas anuales de Odontologia Pesquera\")\n",
    "plt.xlabel(\"Años\")\n",
    "plt.ylabel(\"Ventas [millones]\")\n",
    "plt.grid()\n",
    "plt.show()"
   ]
  },
  {
   "cell_type": "markdown",
   "metadata": {},
   "source": [
    "Si se consideran dos argumentos para el método `plot`, entonces el primero serán los valores en *x* y ios segundos los valores en *y*."
   ]
  },
  {
   "cell_type": "code",
   "execution_count": null,
   "metadata": {},
   "outputs": [],
   "source": [
    "# Graficar con datos para x e y\n",
    "# Personalizar un grafico\n",
    "plt.plot([2014, 2015, 2016, 2017, 2018, 2019], [5, 10, 6, 14, 12, 8], '-bo')\n",
    "plt.title(\"Ventas anuales de Odontologia Pesquera\")\n",
    "plt.xlabel(\"Años\")\n",
    "plt.ylabel(\"Ventas [millones]\")\n",
    "plt.grid()\n",
    "plt.show()"
   ]
  },
  {
   "cell_type": "markdown",
   "metadata": {},
   "source": [
    "### Grafica de una función (senoidal)\n",
    "Podemos experimentar con la gráfica de una onda senoidal, descrita con la ecuación:\n",
    "\n",
    "$$ y = A sin(2 \\pi f t) $$\n",
    "\n",
    "donde *A* será la amplitud de la señal, *f* la frecuencia de la onda (en periodos por segundo o Hertz) y *t* el tiempo. Consideremos un vector de tiempos entre 0 y 1 con 50 divisiones. Para una señal con una frecuencia de 1 Hz se tendrá un ciclo por segundo:"
   ]
  },
  {
   "cell_type": "code",
   "execution_count": null,
   "metadata": {},
   "outputs": [],
   "source": [
    "import numpy as np\n",
    "\n",
    "A, f = 1, 1\n",
    "t = np.linspace(0, 1)     # vector de 1 segundos\n",
    "y = A * np.sin(2 * np.pi * f * t)\n",
    "\n",
    "plt.plot(t, y)\n",
    "plt.title(\"Señal Senoidal\")\n",
    "plt.xlabel(\"Tiempo[seg]\")\n",
    "plt.ylabel(\"Amplitud\")\n",
    "plt.grid()\n",
    "plt.show()"
   ]
  },
  {
   "cell_type": "markdown",
   "metadata": {},
   "source": [
    "Aumente el valor de frecuencia en el código anterior a una señal de 12 Hz. ¿Obtiene una señal senoidal? ¿De no ser asi, por qué? Ante usted tiene lo que se conoce como \"aliasing\", un error con el muestreo de la señal: básicamente, no se cuentan con suficientes puntos (en una señal digital estos se conocen como muestras) en la gráfica para representar la señal. Cuando se tenían 50 muestras para 1 Hz se tenía un buen resultados. Ajustemos el código anterior para que siempre existan 50 puntos por cada periodo:"
   ]
  },
  {
   "cell_type": "code",
   "execution_count": null,
   "metadata": {},
   "outputs": [],
   "source": [
    "import numpy as np\n",
    "\n",
    "A, f = 1, 12\n",
    "t = np.linspace(0, 1, 50 * f)     # vector de 1 segundos con 50 puntos por periodo\n",
    "y = A * np.sin(2 * np.pi * f * t)\n",
    "\n",
    "plt.plot(t, y)\n",
    "plt.title(\"Señal Senoidal\")\n",
    "plt.xlabel(\"Tiempo[seg]\")\n",
    "plt.ylabel(\"Amplitud\")\n",
    "plt.grid()\n",
    "plt.show()"
   ]
  },
  {
   "cell_type": "markdown",
   "metadata": {},
   "source": [
    "En el momento de graficas resultados, el formato de la variable independiente (en este caso, el vector de tiempos) es importante."
   ]
  },
  {
   "cell_type": "markdown",
   "metadata": {},
   "source": [
    "### Varias graficas en una sola figuraL\n",
    "Los resultados gráficos se muestran en una Figura que encierra un Eje Gráfico que contiene todos los elementos gráficos. Este puede contener mas de un gráfico superpuesto sobre el mismo Eje Gráfico. Esto se lográ especificando más argumento sobre el método `plot`:"
   ]
  },
  {
   "cell_type": "code",
   "execution_count": null,
   "metadata": {},
   "outputs": [],
   "source": [
    "A, f = 1, 5\n",
    "t = np.linspace(0, 1, 50 * f)\n",
    "y1 = A * np.sin(2 * np.pi * f * t)\n",
    "y2 = A/3 * np.cos(2 * np.pi * 2 * f * t)\n",
    "\n",
    "plt.plot(t, y1, t, y2)\n",
    "plt.title(\"Señales trigonometricas\")\n",
    "plt.xlabel(\"Tiempo[seg]\")\n",
    "plt.ylabel(\"Amplitud\")\n",
    "plt.legend(['sin', 'cos'])\n",
    "plt.grid()\n",
    "plt.show()"
   ]
  },
  {
   "cell_type": "markdown",
   "metadata": {},
   "source": [
    "Note que cuando hay varias gráficas en el mismo Eje Gráfico se requiere definir un leyenda para identificar cual es el gráfico (plt.legend). Otra forma de hacer lo mismo es utilizar repetidos `plt.plot` que se irán agregando al Eje Gráfico, hasta que se invoque el método `plt.show`"
   ]
  },
  {
   "cell_type": "code",
   "execution_count": null,
   "metadata": {},
   "outputs": [],
   "source": [
    "A, f = 1, 5\n",
    "t = np.linspace(0, 1, 50*f)\n",
    "y1 = A * np.sin(2 * np.pi * f * t)\n",
    "y2 = A/3 * np.cos(2 * np.pi * 2 * f * t)\n",
    "\n",
    "plt.plot(t, y1, 'r')\n",
    "plt.plot(t, y2, '-.g')\n",
    "plt.title(\"Señales trigonometricas\")\n",
    "plt.xlabel(\"Tiempo[seg]\")\n",
    "plt.ylabel(\"Amplitud\")\n",
    "plt.legend(['sin', 'cos'])\n",
    "plt.grid()\n",
    "plt.show()"
   ]
  },
  {
   "cell_type": "markdown",
   "metadata": {},
   "source": [
    "### Subgraficas\n",
    "Un caso diferentes es tomar una Figura y dividirla en diferentes Ejes Gráficos, cada uno con sus propios elementos gráficos. Esto se conoce normalente como *subplots* y utiliza el método `plt.subplot`. Un subplot es la especificación de un área en una Figura donde colocar el Eje Gráfico. Se confirma se subdivsión cada vez que se llama al método. Se recomienda utilizar el método `plt.tight_layout` para hacer un espacionamiento entre los Ejes Gráficos antes de mostrar el gráfico con `plt.show`"
   ]
  },
  {
   "cell_type": "code",
   "execution_count": null,
   "metadata": {},
   "outputs": [],
   "source": [
    "A, f = 1, 5\n",
    "t = np.linspace(0, 1, 50*f)\n",
    "y1 = A * np.sin(2 * np.pi * f * t)\n",
    "y2 = A * np.cos(2 * np.pi * 2 * f * t) * np.exp(-2.6 * t)\n",
    "y3 = 2 * np.pi * np.exp(-t) * np.sin(2 * np.pi * t) - np.exp(t) * np.cos(2 * np.pi * t)\n",
    "y4 = np.sin(t) * np.cos(1/(t + 0.1))\n",
    "\n",
    "# Especificamos el tamaño de la Figura con figsize (ancho, alto)\n",
    "fig = plt.figure(figsize=(6, 8))\n",
    "\n",
    "# Diividomos la Figura en 4 filas por 1 columna y esocgemos la sección 1\n",
    "plt.subplot(411)\n",
    "plt.plot(t, y1)\n",
    "plt.title(\"Funcion 1\")\n",
    "\n",
    "# Diividomos la Figura en 4 filas por 1 columna y esocgemos la sección 2\n",
    "plt.subplot(412)\n",
    "plt.plot(t, y2)\n",
    "plt.title(\"Funcion 2\")\n",
    "\n",
    "# Diividomos la Figura en 4 filas por 1 columna y esocgemos la sección 3\n",
    "plt.subplot(413)\n",
    "plt.plot(t, y3)\n",
    "plt.title(\"Funcion 3\")\n",
    "\n",
    "# Diividomos la Figura en 4 filas por 1 columna y esocgemos la sección 4\n",
    "plt.subplot(414)\n",
    "plt.plot(t, y4)\n",
    "plt.title(\"Funcion 4\")\n",
    "\n",
    "plt.tight_layout()   # plt.tig <Tab>\n",
    "plt.show()\n"
   ]
  },
  {
   "cell_type": "code",
   "execution_count": null,
   "metadata": {},
   "outputs": [],
   "source": [
    "A, f = 1, 5\n",
    "t = np.linspace(0, 1, 50*f)\n",
    "y1 = A * np.sin(2 * np.pi * f * t)\n",
    "y2 = A * np.cos(2 * np.pi * 2 * f * t) * np.exp(-2.6 * t)\n",
    "y3 = 2 * np.pi * np.exp(-t) * np.sin(2 * np.pi * t) - np.exp(t) * np.cos(2 * np.pi * t)\n",
    "y4 = np.sin(t) * np.cos(1/(t + 0.1))\n",
    "\n",
    "# Especificamos el tamaño de la Figura con figsize (ancho, alto)\n",
    "fig = plt.figure(figsize=(8, 3))\n",
    "\n",
    "# Dividimos la Figura en 1x2 y seleccionamos la seccion 1\n",
    "plt.subplot(121)\n",
    "plt.plot(t, y1)\n",
    "plt.title(\"Funcion 1\")\n",
    "\n",
    "# Dividimos la Figura en 1x2 y seleccionamos la seccion 2\n",
    "plt.subplot(122)\n",
    "plt.plot(t, y2)\n",
    "plt.title(\"Funcion 2\")\n",
    "\n",
    "plt.tight_layout()\n",
    "plt.show()\n"
   ]
  },
  {
   "cell_type": "code",
   "execution_count": null,
   "metadata": {},
   "outputs": [],
   "source": [
    "A, f = 1, 5\n",
    "t = np.linspace(0, 1, 50*f)\n",
    "y1 = A * np.sin(2 * np.pi * f * t)\n",
    "y2 = A * np.cos(2 * np.pi * 2 * f * t) * np.exp(-2.6 * t)\n",
    "y3 = 2 * np.pi * np.exp(-t) * np.sin(2 * np.pi * t) - np.exp(t) * np.cos(2 * np.pi * t)\n",
    "y4 = np.sin(t) * np.cos(1/(t + 0.1))\n",
    "\n",
    "# Especificamos el tamaño de la Figura con figsize (ancho, alto)\n",
    "fig = plt.figure(figsize=(10, 6))\n",
    "\n",
    "# Dividimos la Figura en 2x2 y seleccionamos la seccioon 1\n",
    "plt.subplot(221)\n",
    "plt.plot(t, y1)\n",
    "plt.title(\"Funcion 1\")\n",
    "\n",
    "# Dividimos la Figura en 2x2 y seleccionamos la seccion 1\n",
    "plt.subplot(222)\n",
    "plt.plot(t, y2)\n",
    "plt.title(\"Funcion 2\")\n",
    "\n",
    "# Dividimos la Figura en 2x2 y seleccionamos la seccion 3\n",
    "plt.subplot(223)\n",
    "plt.plot(t, y3)\n",
    "plt.title(\"Funcion 3\")\n",
    "\n",
    "# Dividimos la Figura en 2x2 y seleccionamos la seccion 4\n",
    "plt.subplot(224)\n",
    "plt.plot(t, y4)\n",
    "plt.grid()\n",
    "plt.title(\"Funcion 4\")\n",
    "\n",
    "plt.tight_layout()\n",
    "plt.show()\n"
   ]
  },
  {
   "cell_type": "code",
   "execution_count": null,
   "metadata": {},
   "outputs": [],
   "source": [
    "A, f = 1, 5\n",
    "t = np.linspace(0, 1, 50*f)\n",
    "y1 = A * np.sin(2 * np.pi * f * t)\n",
    "y2 = A * np.cos(2 * np.pi * 2 * f * t) * np.exp(-2.6 * t)\n",
    "y3 = 2 * np.pi * np.exp(-t) * np.sin(2 * np.pi * t) - np.exp(t) * np.cos(2 * np.pi * t)\n",
    "y4 = np.sin(t) * np.cos(1/(t + 0.1))\n",
    "\n",
    "# Especificamos el tamaño de la Figura con figsize (ancho, alto)\n",
    "fig = plt.figure(figsize=(8, 6))\n",
    "\n",
    "# Dividimos la Figura en 2x2 y seleccionamos la seccion 4\n",
    "plt.subplot(221)\n",
    "plt.plot(t, y1)\n",
    "plt.title(\"Funcion 1\")\n",
    "\n",
    "# Dividimos la Figura en 2x2 y seleccionamos la seccion 4\n",
    "plt.subplot(222)\n",
    "plt.plot(t, y2)\n",
    "plt.title(\"Funcion 2\")\n",
    "\n",
    "# Dividimos la Figura en 2x1 y seleccionamos la seccion 2\n",
    "plt.subplot(212)\n",
    "plt.plot(t, y3)\n",
    "plt.title(\"Funcion 3\")\n",
    "plt.grid()\n",
    "\n",
    "plt.tight_layout()\n",
    "plt.show()\n"
   ]
  },
  {
   "cell_type": "markdown",
   "metadata": {},
   "source": [
    "### Otras graficas\n",
    "`matplotlib` soporta varios tipos de gráficas para el análisis de resutados. Aqui se muestran algunos ejemplos:"
   ]
  },
  {
   "cell_type": "code",
   "execution_count": null,
   "metadata": {},
   "outputs": [],
   "source": [
    "# Grafico de barras\n",
    "ventas = np.array([10, 15, 16, 23, 18, 12, 19, 12, 17, 20, 19, 24])\n",
    "mes = ['Ene', 'Feb', 'Mar', 'Abr', 'May', 'Jun', \n",
    "       'Jul', 'Ago', 'Set', 'Oct', 'Nov', 'Dic']\n",
    "\n",
    "plt.bar(mes, ventas)\n",
    "plt.title(\"Ventas anuales\")\n",
    "plt.xlabel(\"Meses\")\n",
    "plt.ylabel(\"Ventas[millones]\")\n",
    "plt.xticks(rotation=45)\n",
    "plt.show()"
   ]
  },
  {
   "cell_type": "code",
   "execution_count": null,
   "metadata": {},
   "outputs": [],
   "source": [
    "# Graficos polares\n",
    "ang = np.linspace(0, 2 * np.pi, 200)\n",
    "rad = 3 * np.cos(0.5 * ang)**2 + np.sin(4 * ang)\n",
    "\n",
    "plt.polar(ang, rad)\n",
    "plt.show()"
   ]
  },
  {
   "cell_type": "code",
   "execution_count": null,
   "metadata": {},
   "outputs": [],
   "source": [
    "# Grafico de pie\n",
    "notas = [11, 7, 8, 7, 15, 18, 3, 11, 12]\n",
    "dist_notas = [len(list(filter(lambda x: x <= 8, notas))), \n",
    "             len(list(filter(lambda x: (x > 8) & (x <= 12), notas))), \n",
    "             len(list(filter(lambda x: x > 12, notas)))]\n",
    "colors = ['red', 'yellow', 'green']\n",
    "explode = [0.2, 0, 0]\n",
    "\n",
    "plt.pie(dist_notas, autopct=\"%1.1f%%\", colors=colors, \n",
    "        explode=explode, shadow=True)\n",
    "plt.title(\"Distribucion de notas de la PC\")\n",
    "plt.legend([\"Mal (0 - 5)\", \"Mejor (6 - 12)\", \"Bien (13 - 20)\"], loc='lower left')\n",
    "plt.show()"
   ]
  },
  {
   "cell_type": "markdown",
   "metadata": {},
   "source": [
    "## Ejemplo de aplicación\n",
    "Simule el lanzamiento de un número de dados un número de veces y muestre la distribucion de probabilidad de los resultados obtenidos."
   ]
  },
  {
   "cell_type": "code",
   "execution_count": null,
   "metadata": {},
   "outputs": [],
   "source": [
    "import numpy as np\n",
    "import matplotlib.pyplot as plt\n",
    "\n",
    "# Distribucion del lanzamiento de dados (bar)\n",
    "n_dados = int(input(\"Ingrese el numero de dados: \"))\n",
    "n_veces = int(input(\"Ingrese el numero de veces: \"))\n",
    "\n",
    "dados = np.random.randint(1, 7, (n_dados, n_veces))\n",
    "result = np.sum(dados, axis=0)\n",
    "\n",
    "prob = np.array([])   # prob = []\n",
    "\n",
    "for n in range(n_dados, 6 * n_dados + 1):\n",
    "    prob = np.append(prob, result[result == n].size / n_veces) # prob.append(?)\n",
    "\n",
    "plt.bar(np.arange(n_dados, 6 * n_dados + 1), prob)\n",
    "plt.title(\"Distribucion del lanzamiento de {} dados\".format(n_dados))\n",
    "plt.xlabel(\"Ocurrencias\")\n",
    "plt.ylabel(\"Probabilidad\")\n",
    "plt.show()"
   ]
  },
  {
   "cell_type": "markdown",
   "metadata": {},
   "source": [
    "## Bonus track\n",
    "¿Como crear docuementos Jupyter que permitan realizar calculos con numpy y graficas con matplotlib de forma interactiva? Pruebe con el siguiente código que se muestra a continuación (solo en Jupyter Notebook, no en Jupyter Lab):"
   ]
  },
  {
   "cell_type": "code",
   "execution_count": 3,
   "metadata": {},
   "outputs": [
    {
     "data": {
      "application/vnd.jupyter.widget-view+json": {
       "model_id": "975e3ae766594e8da503e9875ade846f",
       "version_major": 2,
       "version_minor": 0
      },
      "text/plain": [
       "interactive(children=(IntSlider(value=5, description='r', max=10), Dropdown(description='c', options={'azul': …"
      ]
     },
     "metadata": {},
     "output_type": "display_data"
    },
    {
     "data": {
      "text/plain": [
       "<function __main__.circulo(r, c, g)>"
      ]
     },
     "execution_count": 3,
     "metadata": {},
     "output_type": "execute_result"
    }
   ],
   "source": [
    "# Este codigo funcionará el Jupyter Notebook y no en Jupyter Lab !!!\n",
    "from ipywidgets import interact\n",
    "import numpy as np\n",
    "import matplotlib.pyplot as plt\n",
    "\n",
    "# Funcion que muestra una circunferencia en un axes de radio maximo = 10.\n",
    "# Toma como parametros de entrada r(radio), c(color de linea), \n",
    "# g(activacion de grilla)\n",
    "def circulo(r, c, g):\n",
    "    ang = np.linspace(0, 2 * np.pi, 100)\n",
    "    x = r * np.cos(ang)\n",
    "    y = r * np.sin(ang)\n",
    "    \n",
    "    plt.figure(figsize=(8, 6))\n",
    "    plt.plot(x, y, color=c)\n",
    "    plt.axis('square')\n",
    "    plt.axis([-10, 10, -10 , 10])\n",
    "    plt.grid(g)\n",
    "    plt.show()\n",
    "\n",
    "# La función interact interactua con la funcion \"circulo\" a traves de objetos gráficos\n",
    "# asociados a los parametros de la funcion y cada vez que estos objetos gráficos \n",
    "# generan eventos porque estan siendo modificados se vuelve a llamar a la función \n",
    "# y se le pasan los valores de los controles gráficos\n",
    "\n",
    "# tupla con valores enteros: IntSlider\n",
    "# diccionario: caja desplegable con valores\n",
    "# var booleana: checkbox\n",
    "\n",
    "interact(circulo, r=(0, 10), c={'azul':'blue', 'rojo':'red', 'verde':'green'}, g=True)"
   ]
  },
  {
   "cell_type": "markdown",
   "metadata": {},
   "source": [
    "Pruebe agregar mas parametros a la función para que pueda controlar mas opciones (como la coordenada del centro de la circunferencia, el ancho de la línea, el tipo de línea) y asocielo a controles gráficos. Aqui tiene el link de la documentación oficial:\n",
    "\n",
    "- Lista de widgets: https://ipywidgets.readthedocs.io/en/latest/examples/Widget%20List.html\n",
    "- Uso de interact: https://ipywidgets.readthedocs.io/en/latest/examples/Using%20Interact.html"
   ]
  }
 ],
 "metadata": {
  "kernelspec": {
   "display_name": "Python 3",
   "language": "python",
   "name": "python3"
  },
  "language_info": {
   "codemirror_mode": {
    "name": "ipython",
    "version": 3
   },
   "file_extension": ".py",
   "mimetype": "text/x-python",
   "name": "python",
   "nbconvert_exporter": "python",
   "pygments_lexer": "ipython3",
   "version": "3.8.3"
  }
 },
 "nbformat": 4,
 "nbformat_minor": 4
}
