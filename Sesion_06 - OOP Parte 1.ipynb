{
 "cells": [
  {
   "cell_type": "markdown",
   "metadata": {},
   "source": [
    "# Sesión 6 - Programación Orientada a Objetos - Parte 1\n",
    "<img src=\"https://cdn.educba.com/academy/wp-content/uploads/2019/01/is-python-object-oriented.jpg\" alt=\"car_her\" width=\"500\"/>\n",
    "\n",
    "<div style=\"text-align: right\">Autor: Luis A. Muñoz - 2020 </div>"
   ]
  },
  {
   "cell_type": "markdown",
   "metadata": {},
   "source": [
    "La programación orientada a objetos (OOP, por sus siglas en inglés) es un [*paradigma de programación*](https://es.wikipedia.org/wiki/Lenguaje_de_programaci%C3%B3n#Paradigma_de_programaci%C3%B3n), es decir, una metodología de propramación, una forma de aproximarse a un problema. En este paradigma, los datos y el procesamiento se encuentran integrados en una sola unidad llamada un \"objeto\".\n",
    "\n",
    "---"
   ]
  },
  {
   "cell_type": "markdown",
   "metadata": {},
   "source": [
    "## Objeto\n",
    "¿Cómo definiría un \"objeto\"? ¿Una cosa? ¿Algo que está allí? En programación se define un objeto como \"algo\" que contiene dos caracteristicas:\n",
    "\n",
    "* Un objeto es algo que tiene un conjunto de propiedades\n",
    "* Un objeto es algo que puede realizar distintas acciones\n",
    "\n",
    "Por ejemplo, un lápiz es un objeto. ¿Qué propiedades le puede asignar a un lápiz (lo que se puede expresar como \"un objeto lápiz\")? ¿Qué acciones puede realizar con un objeto lápiz?"
   ]
  },
  {
   "cell_type": "markdown",
   "metadata": {},
   "source": [
    "### Ejercicio: Anote las propiedades de un objeto lápiz\n",
    "* Color\n",
    "* Tipo\n",
    "* Punta\n",
    "* Peso\n",
    "* Longitud\n",
    "* Posicion x\n",
    "* Posicion y"
   ]
  },
  {
   "cell_type": "markdown",
   "metadata": {},
   "source": [
    "### Ejercicio: Anote las acciones de un objeto lapiz\n",
    "* Mover plano\n",
    "* Subir\n",
    "* Bajar\n"
   ]
  },
  {
   "cell_type": "markdown",
   "metadata": {},
   "source": [
    "## Clase\n",
    "Una clase es un prototipo que define todos los atributos y acciones de un objeto. Es una plantilla que sirve para crear (es decir, \"instanciar\") un objeto futuro. Por ejemplo, se puede considerar una clase `Car` que defina todos los atributos de un automóvil (marca, modelo, motor, ruedas, color, etc.) asi como todas las acciones a realizar (acelerar, frenar, girar, etc.). Los objetos instanciados a partir de la clase `Car` serán los objetos `Audi`, `Nissan` o `Volvo`, todos clase `Car`:\n",
    "\n",
    "<img src=\"https://pc-solucion.es/wp-content/uploads/2019/05/programacion-orientada-a-objetos.png\" alt=\"car_her\" width=\"600\"/>\n",
    "\n",
    "Existe una terminología muy específica en la OOP:\n",
    "\n",
    "* Las Propiedadesse denominan **Atributos**\n",
    "* Las Acciones se denominan **Métodos**"
   ]
  },
  {
   "cell_type": "markdown",
   "metadata": {},
   "source": [
    "## Objetos en Python\n",
    "Entonces, un objeto es una instancia de una clase. En Python todo es una clase y hemos venido trabajando con objetos desde el primer dia. Entonces, vamos a hacer la transición:\n",
    "\n",
    "    Variable -> Atributo\n",
    "    Funcion -> Método\n",
    "    \n",
    "Por ejemplo cuando se escribe el siguiente código:\n",
    "\n",
    "    t = 'hola'\n",
    "    \n",
    "Se esta \"instanciando\" un \"objeto\" `t` clase `str`. Esto se puede verificar con la instrucción `isinstance`:"
   ]
  },
  {
   "cell_type": "code",
   "execution_count": null,
   "metadata": {},
   "outputs": [],
   "source": [
    "t = 'hola'\n",
    "isinstance(t, str)   # El objeto \"t\" ha sido instanciado como un objeto clase \"str\"?"
   ]
  },
  {
   "cell_type": "markdown",
   "metadata": {},
   "source": [
    "Es decir, no es \"formalmente\" una variable que vale 'hola', es una objeto clase `str` con una propiedad de valor igual a 'hola' y que tiene algunos métodos (es decir, acciones sobre el objeto `t`), como por ejemplo, convertirlo en un texto en mayúsculas:"
   ]
  },
  {
   "cell_type": "code",
   "execution_count": null,
   "metadata": {},
   "outputs": [],
   "source": [
    "t.upper()"
   ]
  },
  {
   "cell_type": "markdown",
   "metadata": {},
   "source": [
    "Los métodos son las acciones que puede hacer un objeto y tiene la sintáxis `obj.metodo()`. Es decir, el método `upper` se aplica sobre el objeto `t` y no es genérico (no sirve para convertir a mayúsculas un `str`; sirve para convertír a mayúsulas específicamente el objeto clase `str t`). Entonces, un objeto integra los atributos y acciones definidos en la clase en una sola entidad: esta propiedad de la clase se llama \"encapsulamiento\".\n",
    "\n",
    "<img src=\"https://upload.wikimedia.org/wikipedia/commons/thumb/9/98/CPT-OOP-objects_and_classes_-_attmeth.svg/2000px-CPT-OOP-objects_and_classes_-_attmeth.svg.png\" alt=\"car_obj\" width=\"400\"/>"
   ]
  },
  {
   "cell_type": "markdown",
   "metadata": {},
   "source": [
    "## Herencia y Polimosrfismo\n",
    "Una clase puede utilizarse para crear otra clase: esto es, se tiene una clase padre que se utiliza para crear una clase hija donde esta hereda todos los atributos y métodos de la clase padre. Esto ahorra código y mantiene el control sobre un proyecto de sofware. A esta capacidad de la OOP se le denomina \"herencia\".\n",
    "\n",
    "Por ejemplo, se puede crear una clase `Vehiculo` que servirá de plantilla para definir un objeto \"velero\", pero también se puede utilizar para crear otra clase, `VehiculosRuedas`, con el que se podrá instanciar un objeto \"bicicleta\" y, así sucesivamente. \n",
    "\n",
    "<img src=\"https://1.bp.blogspot.com/-9rE7m4Kwgi8/V__LQj9RKiI/AAAAAAAAGVk/tOWZoBV0IpwFRA40YoEAlF5_YOMVQDOewCLcB/s1600/fig108_01_0.jpg\" alt=\"car_her\" width=\"500\"/>\n",
    "\n",
    "Todos los vehículos instanciados compartirán propiedades (como velocidad, color, peso, etc) y métodos (como acelerar, frenar, etc). Una vez definidas tanto propiedades y métodos en la clase `Vehiculo` no hay que volver a definirlas en las clases hijas: todas estas son heredadas.\n",
    "\n",
    "Respecto a las propiedades, estas pueden cambiar para cada objeto instanciado; por ejemplo, la propiedad \"número de puertas\" de los dos automóviles son diferentes. Pero también puede darse el caso de que los métodos realicen cosas ligeramente diferentes. Por ejemplo, aunque un automóvil y una bicicleta puedan acelerar, su capacidad de aceleración no es la misma, por lo que el metodo `acelera` no hará exactamente lo mismo en estas dos clases.\n",
    "\n",
    "En este caso, lo que hay que hacer es \"personalizar\" los métodos para ajustarlo a las propiedades de una clase `Auto` y `Bicicleta`. Esto recibe el increible nombre de \"polimorfismo\"."
   ]
  },
  {
   "cell_type": "markdown",
   "metadata": {},
   "source": [
    "## Setters y Getters\n",
    "Regresemos a la definición de encapsulamiento:\n",
    "\n",
    "<img src=\"https://d1jnx9ba8s6j9r.cloudfront.net/blog/wp-content/uploads/2019/08/Enacapsulation-528x198.png\" alt=\"car_her\" width=\"500\"/>\n",
    "\n",
    "Como se observa, una clase en una entidad cerrada, y cuando se instancia un objeto lo que se tiene también es un entidad cerrada. ¿Cómo podemos asignar valores a los atributos o leer el estado de un atributo? A traves de métodos que acceden a los atributos ya sea para leerlo o modificarlos. Estos métodos reciben los nombres especiales de *setters* y *getters*.\n",
    "\n",
    "Los *setters* permiten asignar (*set*) valores sobre un atributo y los *getters* permiten obtener (*get*) el valor actual de un atributo. En la OOP clásica esta es la forma tradicional de acceder a las propiedades, pero en Python la implementación de la OOP es diferente.\n",
    "\n",
    "Sin embargo, en esta Parte 1 vamos a abordar la OOP de forma clásica, es decir, utilizando *getters* y *setters*, ya que estas nociones permititrán entender la lógica detrás de la definición de la OOP en Python."
   ]
  },
  {
   "cell_type": "markdown",
   "metadata": {},
   "source": [
    "## OOP en la práctica - Forma Clásica\n",
    "\n",
    "### Agenda de contactos\n",
    "Hagamos una pequeña aplicación de agenda de contactos. En esta aplicación, los contactos los vamos a almacenar en una lista de contactos, donde cada contacto será un diccionario donde se guaradarán todos los detalles de cada persona de la lista de contactos. Iniciemos la lista de contactos con 4 contactos, cada uno de ellos con nombre, telefono e email:"
   ]
  },
  {
   "cell_type": "code",
   "execution_count": null,
   "metadata": {},
   "outputs": [],
   "source": [
    "contactos = [\n",
    "         {\n",
    "             'nombre': 'Dina Mita',\n",
    "             'telefono':'927-234-113',\n",
    "             'email': 'dmita@mail.com'\n",
    "         },\n",
    "         {\n",
    "             'nombre': 'Elvio Lado',\n",
    "             'telefono': '997-332-253',\n",
    "             'email': 'elado@mail.com'\n",
    "         },\n",
    "         {\n",
    "             'nombre': 'Elmer Curio',\n",
    "             'telefono': '927-234-113',\n",
    "             'email': 'ecurio@mail.com',\n",
    "         },\n",
    "         {\n",
    "             'nombre': 'Alan Brito',\n",
    "             'telefono': '345-1921',\n",
    "             'email': 'alan.brito@business.com' \n",
    "         }\n",
    "]"
   ]
  },
  {
   "cell_type": "markdown",
   "metadata": {},
   "source": [
    "Familiaricemonos con la lista de contactos ejecutando las siguientes lineas de código:"
   ]
  },
  {
   "cell_type": "code",
   "execution_count": null,
   "metadata": {},
   "outputs": [],
   "source": [
    "print(contactos[0])    # Primer contacto de la lista de contactos"
   ]
  },
  {
   "cell_type": "code",
   "execution_count": null,
   "metadata": {},
   "outputs": [],
   "source": [
    "print(contactos[0]['nombre'])    # Nombre del primer contacto de la lista"
   ]
  },
  {
   "cell_type": "code",
   "execution_count": null,
   "metadata": {},
   "outputs": [],
   "source": [
    "print(contactos[0]['telefono'])  # Telefono del primer contacto de la lista"
   ]
  },
  {
   "cell_type": "code",
   "execution_count": null,
   "metadata": {},
   "outputs": [],
   "source": [
    "print(contactos[0]['email'])     # Email del primero contacto de la lista"
   ]
  },
  {
   "cell_type": "markdown",
   "metadata": {},
   "source": [
    "Ahora, escribamos un script y sus funciones asociadas para crear una pequeña aplicación de gestión de la agenda de contactos. Utilizemos un paradigma de programación imperativo o por procedimientos: es el que hemos estado utilizando hasta ahora, un conjunto de instrucciones que implementan algoritmos organizados en procedimietos o funciones."
   ]
  },
  {
   "cell_type": "code",
   "execution_count": null,
   "metadata": {},
   "outputs": [],
   "source": [
    "def agregar_contacto(contactos):\n",
    "    # Esta funcion pide al usuario que ingrese los datos de un contacto\n",
    "    # y crea un dicionario que agrega sobre una lista de contactos (argumento de entrada) \n",
    "    print(\"\\nIngreso de contactos\")\n",
    "    print(\"------------------------\")\n",
    "\n",
    "    nombre = input(\"Ingrese nombre: \")\n",
    "    telefono = input(\"Ingrese telefono: \")\n",
    "    email = input(\"Ingrese email: \")\n",
    "    \n",
    "    contactos.append({'nombre': nombre, \n",
    "                      'telefono': telefono, \n",
    "                      'email': email})\n",
    "    return None\n",
    "\n",
    "def listar_contactos(contactos):\n",
    "    # Esta funcion barre los elementos de una lista de conctactos (argumento de entrada)\n",
    "    # e imprime de forma numerada los contactos en la lista de contactos\n",
    "    print(\"\\nInformacion de contactos\")\n",
    "    print(\"------------------------\")\n",
    "\n",
    "    for idx, contacto in enumerate(contactos):\n",
    "        print(\"\\nCONTACTO {}:\".format(idx+1))\n",
    "        print(\"   Nombre: {}\".format(contacto['nombre']))\n",
    "        print(\"   Telefono: {}\".format(contacto['telefono']))\n",
    "        print(\"   Email: {}\".format(contacto['email']))\n",
    "\n",
    "\n",
    "while True:\n",
    "    print(\"\\nAgenda de contactos\")\n",
    "    print(\"-----------------\")\n",
    "    print(\"[1] Agregar contacto\")\n",
    "    print(\"[2] Listar contactos\")\n",
    "    print(\"[0] Salir\")\n",
    "    opc = input(\"> \")\n",
    "    \n",
    "    if opc == '0':\n",
    "        break\n",
    "    elif opc == '1':\n",
    "        agregar_contacto(contactos)\n",
    "    elif opc == '2':\n",
    "        listar_contactos(contactos)\n",
    "    else:\n",
    "        print(\"Opcion invalida\")"
   ]
  },
  {
   "cell_type": "markdown",
   "metadata": {},
   "source": [
    "### Las personas como objetos\n",
    "Otra forma de abordar este problema es utilizando las ideas de la Programación Orientada a Objetos. Ante el problema de querer codificar una agenda de contactos, vemos que una lista de contactos lo que hace es almacenar una lista de diccionarios que representan personas. ¿Por qué no especificar directamente una lista de contactos hecha de Personas? Entonces, lo que necesitamos hacer es crear una clase (así como la clase `dict`) llamada `Persona` que instanciará objetos clase `Persona` que podrán ser almacenados en una lista.\n",
    "\n",
    "<img src=\"https://4.bp.blogspot.com/-g8bsFokE5vg/W5u1wBDpM-I/AAAAAAAAAfM/4bBw7z1Bn5sIs1Us2Rxy9zc5_iCK4wTQACLcBGAs/s1600/Objects.png\" alt=\"car_her\" width=\"400\"/>\n",
    "\n",
    "Primero, debemos aclarar el proceso de instanciamiento o la creación de un objeto. Para esto vamos a definir la firma más básica de una clase:"
   ]
  },
  {
   "cell_type": "code",
   "execution_count": null,
   "metadata": {},
   "outputs": [],
   "source": [
    "class Persona:\n",
    "    pass"
   ]
  },
  {
   "cell_type": "markdown",
   "metadata": {},
   "source": [
    "La palabra reservada `class` permite definir el nombre de una clase. Una vez definida la clase `Persona` podemos instanciar un objeto:"
   ]
  },
  {
   "cell_type": "code",
   "execution_count": null,
   "metadata": {},
   "outputs": [],
   "source": [
    "persona1 = Persona()"
   ]
  },
  {
   "cell_type": "markdown",
   "metadata": {},
   "source": [
    "¡Ya esta! Ahora tenemos un objeto clase `Persona`:"
   ]
  },
  {
   "cell_type": "code",
   "execution_count": null,
   "metadata": {},
   "outputs": [],
   "source": [
    "type(persona1)"
   ]
  },
  {
   "cell_type": "markdown",
   "metadata": {},
   "source": [
    "Este objeto esta instanciado en una posición de memoría y si se instancia otro objeto `Persona` este será diferente al anterior:"
   ]
  },
  {
   "cell_type": "code",
   "execution_count": null,
   "metadata": {},
   "outputs": [],
   "source": [
    "persona2 = Persona()\n",
    "\n",
    "print(persona1)\n",
    "print(persona2)"
   ]
  },
  {
   "cell_type": "markdown",
   "metadata": {},
   "source": [
    "Asi que ahora podemos tener una \"lista de personas\":"
   ]
  },
  {
   "cell_type": "code",
   "execution_count": null,
   "metadata": {},
   "outputs": [],
   "source": [
    "lista_personas = [persona1, persona2]\n",
    "print(lista_personas)"
   ]
  },
  {
   "cell_type": "markdown",
   "metadata": {},
   "source": [
    "### Contructor de una clase: __init__\n",
    "Al momento de instanciar un objeto a partir de una clase, se invoca a un método privado de una clase llamado \"constructor\". En el caso de Python, este método se llama `__init__`, asi con doble-subrayado al principio y al final (*double under*, o *dunder*). Estos métodos que inician con *dunder* se conocen con el esotérico nombre de \"métodos mágicos\" porque se incovan sin ser llamados. Cuando se ejecuta el instanciamiento:\n",
    "\n",
    "    persona1 = Persona()\n",
    "    \n",
    "Realmente, se esta ejecutando la instrucción:\n",
    "\n",
    "    persona1 = Persona.__init__()"
   ]
  },
  {
   "cell_type": "code",
   "execution_count": null,
   "metadata": {},
   "outputs": [],
   "source": [
    "class Persona:\n",
    "    def __init__(self):\n",
    "        self.__nombre = 'NN'"
   ]
  },
  {
   "cell_type": "markdown",
   "metadata": {},
   "source": [
    "Esta vez la clase persona tiene el método__init__ *sobrecargado*, esto es, editado con algun código. Para entender la definición de esta clase hay que entender el significado de *self*.\n",
    "\n",
    "Recuerde: una clase en una plantilla para el instanciamiento de un objeto *que será*: por ejemplo, la clase `Persona` es la plantilla para el instanciamiento de un objeto futuro, como `persona1`. Pero antes del instanciamiento de `persona1`, ¿cómo especifico el atributo \"nombre\" de esa \"futura persona\"? Se necesita alguna sintáxis que permita expresar algo así como: \"este es el nombre de *esta persona que será*\". Este es el significado de la palabra \"self\": una etiqueta que será reemplazada por el objeto futuro.\n",
    "\n",
    "Entonces `self.__nombre` es el atributo \"nombre\" de lo que luego será `persona1`, por ejemplo. En *dunder* en `__nombre` significa que esta propiedad es privada y estará encerrada en el interior de la clase, sin acceso desde el exterior."
   ]
  },
  {
   "cell_type": "markdown",
   "metadata": {},
   "source": [
    "### Representación de una clase: __str__ y __repr__\n",
    "Otros métodos mágicos útiles en la definición de una clase son `__str__` y `__repr__`. Esto métodos se encargan de retornar un `str` que describa al objeto y una representación textual del objeto. El primero es invocado cuando se imprime un objeto y el segundo cuando se invoca al objeto de forma directa."
   ]
  },
  {
   "cell_type": "code",
   "execution_count": null,
   "metadata": {},
   "outputs": [],
   "source": [
    "class Persona:\n",
    "    def __init__(self):\n",
    "        self.__nombre = 'NN'\n",
    "        \n",
    "    def __str__(self):\n",
    "        return \"Objeto Persona - Print\"\n",
    "    \n",
    "    def __repr__(self):\n",
    "        return \"Objeto Persona - Representacion\""
   ]
  },
  {
   "cell_type": "code",
   "execution_count": null,
   "metadata": {},
   "outputs": [],
   "source": [
    "persona1 = Persona()"
   ]
  },
  {
   "cell_type": "code",
   "execution_count": null,
   "metadata": {},
   "outputs": [],
   "source": [
    "print(persona1)    # Se imprime el objeto persona1 (__str__)"
   ]
  },
  {
   "cell_type": "code",
   "execution_count": null,
   "metadata": {},
   "outputs": [],
   "source": [
    "persona1          # Se invoca el objeto persona1 (__repr__)"
   ]
  },
  {
   "cell_type": "markdown",
   "metadata": {},
   "source": [
    "En muchos casos, se desea que ambas acciones retornen el misma cadena de texto, por lo que lo que se suele hacer es recargar el método `__repr__`, ya que si este es el único método presente en la clase, se encargará de ambas acciones. Redefinamos la clase para que pueda mostrar información de esta en una impresión:"
   ]
  },
  {
   "cell_type": "code",
   "execution_count": null,
   "metadata": {},
   "outputs": [],
   "source": [
    "class Persona:\n",
    "    def __init__(self):\n",
    "        self.__nombre = 'NN'\n",
    "    \n",
    "    def __repr__(self):\n",
    "        return \"Persona:[nombre:'{}']\".format(self.__nombre)"
   ]
  },
  {
   "cell_type": "code",
   "execution_count": null,
   "metadata": {},
   "outputs": [],
   "source": [
    "persona1 = Persona()"
   ]
  },
  {
   "cell_type": "code",
   "execution_count": null,
   "metadata": {},
   "outputs": [],
   "source": [
    "print(persona1)"
   ]
  },
  {
   "cell_type": "code",
   "execution_count": null,
   "metadata": {},
   "outputs": [],
   "source": [
    "persona1"
   ]
  },
  {
   "cell_type": "markdown",
   "metadata": {},
   "source": [
    "### Setter\n",
    "Un setter es un método que permite asignar un valor a un atributo de la clase. Por ejemplo, el atributo privado nombre tiene un valor por defecto \"NN\" que no puede modificarse. Agregemos un setter que permita asignar un valor a la propiedad nombre:"
   ]
  },
  {
   "cell_type": "code",
   "execution_count": null,
   "metadata": {},
   "outputs": [],
   "source": [
    "class Persona:\n",
    "    def __init__(self):\n",
    "        self.__nombre = ''\n",
    "    \n",
    "    def __repr__(self):\n",
    "        return \"Persona:[nombre:'{}']\".format(self.__nombre)\n",
    "    \n",
    "    def set_nombre(self, val):\n",
    "        self.__nombre = val"
   ]
  },
  {
   "cell_type": "code",
   "execution_count": null,
   "metadata": {},
   "outputs": [],
   "source": [
    "persona1 = Persona()\n",
    "persona1.set_nombre('Dennis')\n",
    "print(persona1)"
   ]
  },
  {
   "cell_type": "markdown",
   "metadata": {},
   "source": [
    "Como puede observarse, el argumento `val` es el que almacena el nombre a almacenar en el atributo nombre (`self` no forma parte de la asignación a la hora de invocar el método de la forma `persona1.set_nombre()` ya que eso se debe entender como la instrucción \"asignar de nombre de *esta persona* con el valor de `val`).\n",
    "\n",
    "La otra función de los setters es el control de la asignación en los tipos de atributos. Por ejemplo:"
   ]
  },
  {
   "cell_type": "code",
   "execution_count": null,
   "metadata": {},
   "outputs": [],
   "source": [
    "persona1 = Persona()\n",
    "persona1.set_nombre(1234)\n",
    "print(persona1)"
   ]
  },
  {
   "cell_type": "markdown",
   "metadata": {},
   "source": [
    "El setter `set_persona` solo debería aceptar valores clase `str`. Modifiquemos la clase anterior para agregar esta restricción:"
   ]
  },
  {
   "cell_type": "code",
   "execution_count": null,
   "metadata": {},
   "outputs": [],
   "source": [
    "class Persona:\n",
    "    def __init__(self):\n",
    "        self.__nombre = ''\n",
    "    \n",
    "    def __repr__(self):\n",
    "        return \"Persona:[nombre:'{}']\".format(self.__nombre)\n",
    "    \n",
    "    def set_nombre(self, val):\n",
    "        if isinstance(val, str) and val[0] != ' ':\n",
    "            self.__nombre = val\n",
    "        else:\n",
    "            raise TypeError(\"El atributo 'nombre' debe de ser un objeto 'str'\")"
   ]
  },
  {
   "cell_type": "code",
   "execution_count": null,
   "metadata": {},
   "outputs": [],
   "source": [
    "persona1 = Persona()\n",
    "persona1.set_nombre(1234)\n",
    "print(persona1)"
   ]
  },
  {
   "cell_type": "markdown",
   "metadata": {},
   "source": [
    "Ahora, tenemos el atributo privado `nombre` de la clase `Persona` a la que tenemos acceso para su edición a traves de setter `set_nombre`."
   ]
  },
  {
   "cell_type": "markdown",
   "metadata": {},
   "source": [
    "### Getters\n",
    "Un getter es un método que permite acceder a los valores de una propiedad. En los ejemplos anteriores hemos estado observando los attributos de un objeto porque los hemos colocado en la impresión. Pero los getters permiten obtener el valor de atributos específicos:"
   ]
  },
  {
   "cell_type": "code",
   "execution_count": null,
   "metadata": {},
   "outputs": [],
   "source": [
    "class Persona:\n",
    "    def __init__(self):\n",
    "        self.__nombre = ''\n",
    "    \n",
    "    def __repr__(self):\n",
    "        return \"Persona:[nombre:'{}']\".format(self.__nombre)\n",
    "    \n",
    "    def set_nombre(self, val):\n",
    "        if isinstance(val, str):\n",
    "            self.__nombre = val\n",
    "        else:\n",
    "            raise TypeError(\"El atributo 'nombre' debe de ser un objeto 'str'\")\n",
    "            \n",
    "    def get_nombre(self):\n",
    "        return self.__nombre"
   ]
  },
  {
   "cell_type": "code",
   "execution_count": null,
   "metadata": {},
   "outputs": [],
   "source": [
    "persona1 = Persona()\n",
    "persona1.set_nombre(\"Alan\")\n",
    "persona1.get_nombre()"
   ]
  },
  {
   "cell_type": "markdown",
   "metadata": {},
   "source": [
    "Ahora tenemos una forma de acceder a la información de un atributo privado por medio del getter `get_nombre`."
   ]
  },
  {
   "cell_type": "markdown",
   "metadata": {},
   "source": [
    "### Integrando todo en la clase Persona\n",
    "Termine la clase Persona con los siguientes atributos de una persona:\n",
    "\n",
    "* nombre (str)\n",
    "* telefono (str)\n",
    "* email (str)"
   ]
  },
  {
   "cell_type": "code",
   "execution_count": null,
   "metadata": {},
   "outputs": [],
   "source": [
    "# DEFINA COMPLETAMENTE LA CLASE PERSONA CON TODOS LOS ATRIBUTOS NECESARIOS\n",
    "# Y LOS SETTERS Y GETTERS CORRESPONDIENTES\n",
    "class Persona:\n",
    "    def __init__(self):\n",
    "        self.__nombre = ''\n",
    "        self.__telefono = ''\n",
    "        self.__email = ''\n",
    "    \n",
    "    def __repr__(self):\n",
    "        return \"Persona:[nombre:'{}', telefono:{}, email:{}]\".format(\n",
    "            self.__nombre, self.__telefono, self.__email)\n",
    "    \n",
    "    def set_nombre(self, val):\n",
    "        if isinstance(val, str):\n",
    "            self.__nombre = val\n",
    "        else:\n",
    "            raise TypeError(\"El atributo 'nombre' debe de ser un objeto 'str'\")\n",
    "            \n",
    "    def get_nombre(self):\n",
    "        return self.__nombre\n",
    "    \n",
    "    def set_telefono(self, val):\n",
    "        if isinstance(val, str):\n",
    "            self.__telefono = val\n",
    "        else:\n",
    "            raise TypeError(\"El atributo 'telefono' debe de ser un objeto 'str'\")\n",
    "            \n",
    "    def get_telefono(self):\n",
    "        return self.__telefono\n",
    "    \n",
    "    def set_email(self, val):\n",
    "        if isinstance(val, str):\n",
    "            self.__email = val\n",
    "        else:\n",
    "            raise TypeError(\"El atributo 'email' debe de ser un objeto 'str'\")\n",
    "            \n",
    "    def get_email(self):\n",
    "        return self.__email"
   ]
  },
  {
   "cell_type": "code",
   "execution_count": null,
   "metadata": {},
   "outputs": [],
   "source": [
    "# INSTANCIAMIENTO DE UN OBJETO CLASE PERSONA Y PRUEBA DEL OBJETO\n",
    "p1 = Persona()\n",
    "p1.set_nombre(\"Alan\")\n",
    "p1.set_telefono(\"987-282-821\")\n",
    "p1.set_email(\"alan@mail.com\")\n",
    "\n",
    "p1.get_nombre()\n",
    "p1.get_telefono()\n",
    "p1.get_email()\n",
    "\n",
    "print(p1)"
   ]
  },
  {
   "cell_type": "code",
   "execution_count": null,
   "metadata": {},
   "outputs": [],
   "source": [
    "# ESTA CELDA DEBERIA DE GENRAR UNA EXCEPCION\n",
    "p1 = Persona()\n",
    "p1.set_telefono(987112123)"
   ]
  },
  {
   "cell_type": "code",
   "execution_count": null,
   "metadata": {},
   "outputs": [],
   "source": [
    "# ESTA CELDA DEBERIA GENERAR UNA EXCEPCION\n",
    "p1 = Persona()\n",
    "p1.set_email(12345)"
   ]
  },
  {
   "cell_type": "markdown",
   "metadata": {},
   "source": [
    "### Agenda de contacto: OOP\n",
    "Tenemos la definición de la clase `Persona` lista. Ahora lo que queremos es utilizarla en nuestra aplicación de agenda de contactos.\n",
    "\n",
    "Definamos una función que pida al usuario los datos de un contacto y retrorne un objeto `Persona`:"
   ]
  },
  {
   "cell_type": "code",
   "execution_count": null,
   "metadata": {},
   "outputs": [],
   "source": [
    "def ingresar_contacto():\n",
    "    contacto = Persona()\n",
    "    contacto.set_nombre(input(\"Ingrese nombre: \"))\n",
    "    contacto.set_telefono(input(\"Ingrese telefono: \"))\n",
    "    contacto.set_email(input(\"Ingrese email: \"))\n",
    "    \n",
    "    return contacto"
   ]
  },
  {
   "cell_type": "markdown",
   "metadata": {},
   "source": [
    "Ahora definamos una función que nos permita buscar un contacto de una lista de contactos:"
   ]
  },
  {
   "cell_type": "code",
   "execution_count": null,
   "metadata": {},
   "outputs": [],
   "source": [
    "def buscar_contacto(contactos):\n",
    "    # El argumento \"contactos\" es una lista de Personas: [Persona(), Persona(), ...]\n",
    "    found = False\n",
    "    nombre = input(\"Ingrese el nombre del contacto: \")\n",
    "    \n",
    "    for contacto in contactos:\n",
    "        if nombre.upper() in contacto.get_nombre().upper():\n",
    "            print(contacto)\n",
    "            found = True\n",
    "            \n",
    "    if not found:\n",
    "        print(\"No hay un contacto con ese nombre en la agenda\")"
   ]
  },
  {
   "cell_type": "markdown",
   "metadata": {},
   "source": [
    "Ahora definamos una función que nos imprima los contactos en una lista de contactos:"
   ]
  },
  {
   "cell_type": "code",
   "execution_count": null,
   "metadata": {},
   "outputs": [],
   "source": [
    "def listar_contactos(contactos):\n",
    "    # El argumento \"contactos\" es una lista de Personas: [Persona(), Persona(), ...]\n",
    "    if len(contactos) == 0:\n",
    "        print(\"No hay contactos que listar\")\n",
    "    else:\n",
    "        for idx, contacto in enumerate(contactos):\n",
    "            print(\"{}: {}\".format(idx+1, contacto))"
   ]
  },
  {
   "cell_type": "markdown",
   "metadata": {},
   "source": [
    "Tenemos todo lo necesario para implementar nuestro script de agenda de contactos:"
   ]
  },
  {
   "cell_type": "code",
   "execution_count": null,
   "metadata": {},
   "outputs": [],
   "source": [
    "contactos = []\n",
    "\n",
    "while True:\n",
    "    print(\"\\nAgenda de contactos\")\n",
    "    print(\"-----------------\")\n",
    "    print(\"[1] Nuevo contacto\")\n",
    "    print(\"[2] Buscar contactos\")\n",
    "    print(\"[3] Mostrar todos\")\n",
    "    print(\"[0] Salir\")\n",
    "    opc = input(\"> \")\n",
    "    \n",
    "    if opc == '1':\n",
    "        contactos.append(ingresar_contacto())\n",
    "    elif opc == '2':\n",
    "        buscar_contacto(contactos)\n",
    "    elif opc == '3':\n",
    "        listar_contactos(contactos)\n",
    "    elif opc == '0':\n",
    "        break\n",
    "    else:\n",
    "        print(\"Opcion invalida\")"
   ]
  }
 ],
 "metadata": {
  "kernelspec": {
   "display_name": "Python 3",
   "language": "python",
   "name": "python3"
  },
  "language_info": {
   "codemirror_mode": {
    "name": "ipython",
    "version": 3
   },
   "file_extension": ".py",
   "mimetype": "text/x-python",
   "name": "python",
   "nbconvert_exporter": "python",
   "pygments_lexer": "ipython3",
   "version": "3.8.3"
  }
 },
 "nbformat": 4,
 "nbformat_minor": 4
}
