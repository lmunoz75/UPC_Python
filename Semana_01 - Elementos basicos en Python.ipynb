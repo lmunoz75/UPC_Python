{
 "cells": [
  {
   "cell_type": "markdown",
   "metadata": {
    "user_expressions": []
   },
   "source": [
    "# Elementos básicos del lenguaje de programación Python\n",
    "![](https://files.realpython.com/media/Newbie_Watermarked.a9319218252a.jpg)\n",
    "<div style=\"text-align: right\">Autor: Luis A. Muñoz - 2024 </div>"
   ]
  },
  {
   "cell_type": "markdown",
   "metadata": {
    "user_expressions": []
   },
   "source": [
    "### Ideas clave a recordar en Python:\n",
    "\n",
    "* Python en un lenguaje de codigo abierto\n",
    "* Python es un lenguaje interpretado\n",
    "* La versión activa de Python es la 3.x\n",
    "* Python es uno de los lenguajes de programación más populares y de mayor crecimiento en la actualidad\n",
    "\n",
    "### Informacion:\n",
    "* Index TIOBE: https://www.tiobe.com/tiobe-index/\n",
    "* PYPL: PopularitY of Programming Language: http://pypl.github.io/PYPL.html\n",
    "\n",
    "### Recursos:\n",
    "* Anaconda Distribution: https://www.anaconda.com/download\n",
    "* REPLIT Python Online Compiler: https://replit.com/languages/online-python-compiler\n",
    "---"
   ]
  },
  {
   "cell_type": "markdown",
   "metadata": {
    "user_expressions": []
   },
   "source": [
    "## Lenguajes de programacion\n",
    "Todos los lenguajes de programación realizan las mismas tareas, en términos generales, utilizando diferentes instrucciones o construcciones de código.\n",
    "\n",
    "* Entrada / Salida\n",
    "* Operaciones aritméticas / lógicas\n",
    "* Toma de decisiones (condiciones)\n",
    "* Repetición de operaciones (bucles)\n",
    "* Modelamiento del mundo real (objetos)"
   ]
  },
  {
   "cell_type": "markdown",
   "metadata": {
    "user_expressions": []
   },
   "source": [
    "## Python es un lenguaje interpretado\n",
    "Python es un lenguaje interpretado (esto no es del todo cierto, pero para nuestros propósitos podemos considerar esto como cierto). Soporta un entorno REPL (Read-Evaluate-Print-Loop) donde se pueden ejecutar instruccions directamente en el prompt de usuario. Si abre una consola de usuario (Windows Key + R -> \"cmd\") puede tener una sesión __interactiva__ de Python, ejecutando `python` para luego ejecutar alguna instrucción válida:\n",
    "\n",
    "    PS C:\\Users\\Asus\\OneDrive\\Escritorio\\ProgComp2024_0\\Material de clase\\Sesion 01> python\n",
    "    Python 3.10.9 | packaged by Anaconda, Inc. | (main, Mar  1 2023, 18:18:15) [MSC v.1916 64 bit (AMD64)] on win32\n",
    "    Type \"help\", \"copyright\", \"credits\" or \"license\" for more information.\n",
    "    >>> print(\"Hola Mundo!\")  \n",
    "    Hola Mundo!\n",
    "    >>> \n",
    "    \n",
    "    \n",
    "_Nota: Esto último solo funcionará si Python es parte del PATH del sistema. Al momento de instalar la distribución de Python debe de indicar que desea agregar Python en el PATH del sistema. De lo contrario, deberá ejecutar lo anterior en un terminal preparado especialmente configurado para llamar a Python, como Anaconda Promp(Windows Key + R -> \"Anaconda Prompt\")_ "
   ]
  },
  {
   "cell_type": "markdown",
   "metadata": {
    "user_expressions": []
   },
   "source": [
    "## Python interactivo: ipython\n",
    "IPython es un shell interactivo que añade funcionalidades extra al modo interactivo incluido con Python, como resaltado de líneas y errores mediante colores, una sintaxis adicional para el shell, autocompletado mediante tabulador de variables, módulos y atributos; entre otras funcionalidades. Es parte de una librería llamada ScyPy e incluida en la distribución Anaconda. Puede probarlo ejecutando `ipython` en la consola:\n",
    "\n",
    "    PS C:\\Users\\Asus\\OneDrive\\Escritorio\\ProgComp2024_0\\Material de clase\\Sesion 01> ipython\n",
    "    Python 3.10.9 | packaged by Anaconda, Inc. | (main, Mar  1 2023, 18:18:15) [MSC v.1916 64 bit (AMD64)]\n",
    "    Type 'copyright', 'credits' or 'license' for more information\n",
    "    IPython 8.10.0 -- An enhanced Interactive Python. Type '?' for help.\n",
    "\n",
    "    In [1]: print(\"Hola Mundo!\")\n",
    "    Hola Mundo!\n",
    "\n",
    "    In [2]: 1 + 2\n",
    "    Out[2]: 3\n",
    "    \n",
    "    \n",
    "Si prueba las instrucciones anteriores, observará que diferentes secciones de las instrucciones tienen diferentes colores (lo que indica si es una palabra reservada, una función o un tipo de datos). Además, soporta autocompletado con la tecla `Tab`. Pero lo más notable es el uso de celdas numeradas de la forma `In[1]` para las celdas de entrada y `Out[2]` para las celdas de salida.\n",
    "\n",
    "Observe que la celda 1 no tiene una celda de salida porque la instrucción ejecutada en esta es una impresión. En cambio, en la celda 2 se tiene un operación aritmética que _retorna_ un valor de salida, por lo que se muestra en una celda de salida.\n",
    "\n",
    "_NOTA: Igual que en el caso anterior, esto último solo funcionará si Python es parte del PATH del sistema._"
   ]
  },
  {
   "cell_type": "markdown",
   "metadata": {
    "user_expressions": []
   },
   "source": [
    "## Jupyter Notebook\n",
    "Si se traslada el ambiente de ipython a un ambiente de tecnología web, lo que se tiene es un Jupyter Notebook. Estos son documentos interactivos que combinan celdas con texto en formato Markdown y codigo Python (y con algunas técnicas especiales, HTML, JavaScript, Bash Scripts e instrucciones del sistema). El tipo de celda puede modificarse en la barra de tareas (Code -> Markdown). Para ejecutar una celda debe de presionar la combinación de teclas `Ctrl + ENTER`. Seleccione la celda inferior y haga `Ctrl + ENTER`"
   ]
  },
  {
   "cell_type": "code",
   "execution_count": null,
   "metadata": {},
   "outputs": [],
   "source": [
    "print(\"Pruebe la ejecución de esta celda de codigo en Jupyter Notebook presionando Ctrl + ENTER\")"
   ]
  },
  {
   "cell_type": "markdown",
   "metadata": {
    "user_expressions": []
   },
   "source": [
    "Puede modificar una celda de código y probar los cambios. Pruebe agregar un texto entre \"\" como argumento de la funcion predefinida (_BIF: Built In Function_) de Python `print`"
   ]
  },
  {
   "cell_type": "code",
   "execution_count": 2,
   "metadata": {},
   "outputs": [
    {
     "name": "stdout",
     "output_type": "stream",
     "text": [
      "Cualquier cosa\n"
     ]
    }
   ],
   "source": [
    "print(\"Cualquier cosa\")   # Agrege un texto como argumento de la funcion print()"
   ]
  },
  {
   "cell_type": "markdown",
   "metadata": {
    "user_expressions": []
   },
   "source": [
    "Ahora que ya sabe como ejecutar un código Python en una celda de código y como modificar su contenido, empecemos con lecciones de Programación en Python.\n",
    "\n",
    "Pero antes, un [_huevo de pascua_](https://es.wikipedia.org/wiki/Huevo_de_pascua_(virtual)) de Python:"
   ]
  },
  {
   "cell_type": "code",
   "execution_count": 5,
   "metadata": {},
   "outputs": [],
   "source": [
    "import antigravity"
   ]
  },
  {
   "cell_type": "markdown",
   "metadata": {
    "user_expressions": []
   },
   "source": [
    "## Editores de Código e IDE\n",
    "Un código Python se desarrolla en un Editor de Código o en un IDE (_Integrated Development Environment_). Estas aplicaciones tienen herramientas especiales para la edición de código como reconocimientos de errores de sintáxis, problamas de importación de paquetes, análisis de eficiencia, depuración de datos, etc. Existen varios editores que soportan Python:\n",
    "\n",
    "    - Visual Studio Code\n",
    "    - Sublime Text\n",
    "    - Notepad++\n",
    "    - Vim o Neovim\n",
    "    \n",
    "Así también, IDEs que permiten el desarrollo de aplicaciones y depuración de código:\n",
    "\n",
    "    - Spyder\n",
    "    - PyCharm\n",
    "    - Thonny\n",
    "    \n",
    "En esta curso, las herramientas soportadas para el desarrollo de los materiales del curso son:\n",
    "\n",
    "    - Distribución Anaconda (Python)\n",
    "    - IDE Spyder\n",
    "    - Jupyter Notebook\n",
    "    \n",
    "Para la instalación de los recursos del curso, revise las instrucciones dadas en clase, así como los links con los recursos."
   ]
  },
  {
   "cell_type": "markdown",
   "metadata": {},
   "source": [
    "## Primeros pasos en Python\n",
    "![](https://media1.tenor.com/images/ac9cf136a3c0f857e436c32561e9b6e8/tenor.gif?itemid=16957606)\n",
    "\n",
    "Los primero que debemos de saber es cómo se comenta un programa en Python. Para comentar una linea en un código Python se utiliza el caracter `#`"
   ]
  },
  {
   "cell_type": "code",
   "execution_count": 3,
   "metadata": {},
   "outputs": [],
   "source": [
    "# Esta es una linea de codigo y no se ejecutara por el compilador"
   ]
  },
  {
   "cell_type": "markdown",
   "metadata": {
    "user_expressions": []
   },
   "source": [
    "Se puede tener un bloque de código (llamado técnicamente un _docstring_) utilizando triple-comilla `'''`"
   ]
  },
  {
   "cell_type": "code",
   "execution_count": 4,
   "metadata": {},
   "outputs": [
    {
     "data": {
      "text/plain": [
       "'\\nEste es un bloque de comentario de varias lineas\\n\\nEn un script la ejecución de esta celda no muestra nada. \\nEn Jupyter si retorna una cadena con el formado de saltos de lineas establecidos.\\n'"
      ]
     },
     "execution_count": 4,
     "metadata": {},
     "output_type": "execute_result"
    }
   ],
   "source": [
    "'''\n",
    "Este es un bloque de comentario de varias lineas\n",
    "\n",
    "En un script la ejecución de esta celda no muestra nada. \n",
    "En Jupyter si retorna una cadena con el formado de saltos de lineas establecidos.\n",
    "'''"
   ]
  },
  {
   "cell_type": "markdown",
   "metadata": {
    "user_expressions": []
   },
   "source": [
    "La celda anterior muestra un ejemplo de lo que es un `str` (string), un tipo de datos en Python que permite representar cadenas de caractres (es decir, texto). Una caracteristica interesante de Python es que, al momento de definir una cadena, se puede utilizar de manera indistinta comillas dobles `\"` o comillas simples `'`. Por ejemplo, al momento de utilizar la funcion `print()`  se puede especificar el argumento de la funcion de dos formas diferentes:"
   ]
  },
  {
   "cell_type": "code",
   "execution_count": 2,
   "metadata": {},
   "outputs": [
    {
     "name": "stdout",
     "output_type": "stream",
     "text": [
      "En el restaurante Snoopy's se venden perros calientes\n"
     ]
    }
   ],
   "source": [
    "print(\"En el restaurante Snoopy's se venden perros calientes\")"
   ]
  },
  {
   "cell_type": "code",
   "execution_count": 5,
   "metadata": {},
   "outputs": [
    {
     "name": "stdout",
     "output_type": "stream",
     "text": [
      "A los José se les llama Pépe, lo que es ejemplo deun \"hipocorístico\"\n"
     ]
    }
   ],
   "source": [
    "print('A los José se les llama Pépe, lo que es ejemplo deun \"hipocorístico\"')"
   ]
  },
  {
   "cell_type": "markdown",
   "metadata": {},
   "source": [
    "Note que en los casos anteriores si una cadena inicia con `\"\"`, debe terminar con `\"\"`, y los mismo para `''`. Esto permite utilizar las comillas en un `str` en caso sea necesario.\n",
    "\n",
    "Por otro lado, `print()` es un ejemplo de un BIF: una funcion pre-definida en Python (_Built In Function_). La función `print()` imprime un `str` y permite observar los resultados de una operación."
   ]
  },
  {
   "cell_type": "markdown",
   "metadata": {},
   "source": [
    "## print() y keywords"
   ]
  },
  {
   "cell_type": "markdown",
   "metadata": {},
   "source": [
    "Note el retorno de la función `print()`:"
   ]
  },
  {
   "cell_type": "code",
   "execution_count": 7,
   "metadata": {},
   "outputs": [
    {
     "name": "stdout",
     "output_type": "stream",
     "text": [
      "1 2 3 4 5\n"
     ]
    }
   ],
   "source": [
    "print(1, 2, 3, 4, 5)"
   ]
  },
  {
   "cell_type": "markdown",
   "metadata": {},
   "source": [
    "Cada uno de los argumentos de `print()` se imprimen por separado, ya que el separador de argumentos `,` se reemplaza por un espacio en blanco ' '. Esto esta definido en la misma función como un argumento asociado a una palabra clave o *keyword*, el keyword `sep`. Puede verificar esto consultando en la ayuda de la función `print()`"
   ]
  },
  {
   "cell_type": "code",
   "execution_count": 8,
   "metadata": {},
   "outputs": [],
   "source": [
    "print?"
   ]
  },
  {
   "cell_type": "markdown",
   "metadata": {
    "user_expressions": []
   },
   "source": [
    "Como puede observar en la ayuda, el keyword `sep=' '` indica que el separador de argumentos será reemplazado por un espacio en blanco. Este separador puede modificarse para que sea reemplazado por otro caracter. Por ejemplo:"
   ]
  },
  {
   "cell_type": "code",
   "execution_count": 6,
   "metadata": {},
   "outputs": [
    {
     "name": "stdout",
     "output_type": "stream",
     "text": [
      "1->2->3->4->5\n"
     ]
    }
   ],
   "source": [
    "print(1, 2, 3, 4, 5, sep='->')"
   ]
  },
  {
   "cell_type": "markdown",
   "metadata": {
    "user_expressions": []
   },
   "source": [
    "Vuelva a consultar la ayuda de `print()`. Observe otro keyword de la funcion: `end`. Por defecto, tiene el valor `end=\\n`. Esto quiere decir que una vez que ha terminado con la impresión, agrega al final el caracter de escape `\\n` que significa *nueva linea*, es decir que cada llamada de la función `print()` imprime una linea independiente:"
   ]
  },
  {
   "cell_type": "code",
   "execution_count": 10,
   "metadata": {},
   "outputs": [
    {
     "name": "stdout",
     "output_type": "stream",
     "text": [
      "Hola\n",
      "mundo\n"
     ]
    }
   ],
   "source": [
    "print(\"Hola\")\n",
    "print(\"mundo\")"
   ]
  },
  {
   "cell_type": "markdown",
   "metadata": {},
   "source": [
    "Un uso frecuente de la asignación de keywords en `print()` es modificar este funcionamiento de la siguiente forma:"
   ]
  },
  {
   "cell_type": "code",
   "execution_count": 11,
   "metadata": {},
   "outputs": [
    {
     "name": "stdout",
     "output_type": "stream",
     "text": [
      "Hola mundo\n"
     ]
    }
   ],
   "source": [
    "print(\"Hola \", end='')\n",
    "print(\"mundo\")"
   ]
  },
  {
   "cell_type": "markdown",
   "metadata": {},
   "source": [
    "Python soporta los caracteres de escape estándar (definidos en C). Entre estos se pueden listar los siguientes\n",
    "    \n",
    "* \\n: New Line\n",
    "* \\t: Tab\n",
    "* \\b: Backspace\n",
    "* \\a: Alarm"
   ]
  },
  {
   "cell_type": "code",
   "execution_count": 12,
   "metadata": {},
   "outputs": [
    {
     "name": "stdout",
     "output_type": "stream",
     "text": [
      "Hola\n",
      "munda\n"
     ]
    }
   ],
   "source": [
    "print(\"Hola\\nmundo\\ba\")   # \\a: Si se prueba en Spyder se escucha un tono de alarma"
   ]
  },
  {
   "cell_type": "markdown",
   "metadata": {
    "user_expressions": []
   },
   "source": [
    "## Palabras reservadas\n",
    "Como todo lenguaje de progrmamación, Python tiene ciertas palabras reservadas que forman parte del léxico estándar del lenguaje de programación. Estas palabras tienen un uso específico y no podran ser utilizadas como nombres de variables o nombres de archivos.\n",
    "\n",
    "<img src=\"https://docplayer.es/docs-images/68/58635954/images/5-0.jpg\" alt=\"Drawing\" style=\"width: 500px;\"/>"
   ]
  },
  {
   "cell_type": "markdown",
   "metadata": {},
   "source": [
    "## Operaciones aritméticas\n",
    "Python soporta 7 operaciones aritméticas:"
   ]
  },
  {
   "cell_type": "code",
   "execution_count": 13,
   "metadata": {},
   "outputs": [
    {
     "name": "stdout",
     "output_type": "stream",
     "text": [
      "2 + 3 = 7\n",
      "3 - 6 = -3\n",
      "4 X 3 = 12\n",
      "3 / 2 = 1.5\n",
      "3 // 2 = 1\n",
      "3 ** 2 = 9\n",
      "3 % 2 =  1\n"
     ]
    }
   ],
   "source": [
    "print(\"2 + 3 =\", 2 + 5)\n",
    "print(\"3 - 6 =\", 3 - 6)\n",
    "print(\"4 X 3 =\", 4 * 3)\n",
    "print(\"3 / 2 =\", 3 / 2)\n",
    "print(\"3 // 2 =\", 3 // 2)\n",
    "print(\"3 ** 2 =\", 3 ** 2)\n",
    "print(\"3 % 2 = \", 3 % 2)"
   ]
  },
  {
   "cell_type": "markdown",
   "metadata": {
    "user_expressions": []
   },
   "source": [
    "¿Puede identificar que es lo que realiza cada operación?\n",
    "\n",
    "Existe un orden de precedencia al momento de realizar las operaciones que sigue las reglas matemáticas (siempre de izquierda a derecha en el caso del mismo orden de precedencia):\n",
    "\n",
    "1. ( )\n",
    "1. **\n",
    "1. %, *, /\n",
    "1. +, -"
   ]
  },
  {
   "cell_type": "code",
   "execution_count": 10,
   "metadata": {},
   "outputs": [
    {
     "data": {
      "text/plain": [
       "5"
      ]
     },
     "execution_count": 10,
     "metadata": {},
     "output_type": "execute_result"
    }
   ],
   "source": [
    "1 + 2 *  2 ** (6 - 3) % 12"
   ]
  },
  {
   "cell_type": "markdown",
   "metadata": {},
   "source": [
    "## Tipos de datos\n",
    "Note los resultados de las siguientes operaciones y considere sus resultados:"
   ]
  },
  {
   "cell_type": "code",
   "execution_count": 11,
   "metadata": {},
   "outputs": [
    {
     "data": {
      "text/plain": [
       "8"
      ]
     },
     "execution_count": 11,
     "metadata": {},
     "output_type": "execute_result"
    }
   ],
   "source": [
    "2 ** (6 - 3)"
   ]
  },
  {
   "cell_type": "code",
   "execution_count": 14,
   "metadata": {},
   "outputs": [
    {
     "data": {
      "text/plain": [
       "4.0"
      ]
     },
     "execution_count": 14,
     "metadata": {},
     "output_type": "execute_result"
    }
   ],
   "source": [
    "2 ** (6 - 3) / 2"
   ]
  },
  {
   "cell_type": "markdown",
   "metadata": {
    "user_expressions": []
   },
   "source": [
    "En ambas celdas de ejecución lo que se obtiene son valores enteros, pero en la segunda celda se observa que, aunque no tiene un valor decinal significativo, se muestra el valor `4.0` en lugar de `4`. Esto es porque en la primera celda se estan realizando operaciones que retornan valores enteros (_int_), mientras que la división real retorna un valor real (_float_). Esto es una manifestación de que Python soporta tipos de datos y estos estan asociados tanto a la asignación de variables, como a las operaciones sobre estos valores o variables.\n",
    "\n",
    "Python soporta _tipado dinámico_, esto es que el tipo de datos de una variable puede reasignarse. Esto permite que se pueda desarrollar código muy rápido, ya que no hay que preocuparse por la asignación inicial del tipo de una variable y esta puede cambiar en ejecución (que esto último suceda no significa, en terminos generales, que sea una buena idea...)."
   ]
  },
  {
   "cell_type": "code",
   "execution_count": 16,
   "metadata": {},
   "outputs": [
    {
     "name": "stdout",
     "output_type": "stream",
     "text": [
      "10\n",
      "Hola mundo\n"
     ]
    }
   ],
   "source": [
    "a = 10\n",
    "print(a)\n",
    "\n",
    "a = \"Hola mundo\"\n",
    "print(a)"
   ]
  },
  {
   "cell_type": "markdown",
   "metadata": {},
   "source": [
    "Para conocer de que tipo es un dato, se puede llamar a la función `type()`:"
   ]
  },
  {
   "cell_type": "code",
   "execution_count": 17,
   "metadata": {},
   "outputs": [
    {
     "name": "stdout",
     "output_type": "stream",
     "text": [
      "<class 'int'>\n",
      "<class 'float'>\n",
      "<class 'str'>\n",
      "<class 'str'>\n",
      "<class 'str'>\n",
      "<class 'complex'>\n",
      "<class 'bool'>\n",
      "<class 'bool'>\n",
      "<class 'bool'>\n"
     ]
    }
   ],
   "source": [
    "print(type(3))\n",
    "print(type(1.5))\n",
    "print(type(\"a\"))\n",
    "print(type(\"Hola\"))\n",
    "print(type(\"\"))\n",
    "print(type(2+3j))\n",
    "print(type(1 > 2))\n",
    "print(type(True))\n",
    "print(type(False))"
   ]
  },
  {
   "cell_type": "markdown",
   "metadata": {
    "user_expressions": []
   },
   "source": [
    "Python soporta estructuras de datos nativas que permiten almacenar una colección de valores bajo una sola variable (realmente, bajo un solo objeto):"
   ]
  },
  {
   "cell_type": "code",
   "execution_count": 18,
   "metadata": {},
   "outputs": [
    {
     "name": "stdout",
     "output_type": "stream",
     "text": [
      "<class 'tuple'>\n",
      "<class 'list'>\n",
      "<class 'set'>\n",
      "<class 'dict'>\n"
     ]
    }
   ],
   "source": [
    "print(type((1, 2, 3, 4, 5)))        # Tupla\n",
    "print(type([1, 2, 3, 4, 5]))        # Lista\n",
    "print(type({1, 2, 3, 4, 5}))        # Conjunto\n",
    "print(type({1: \"ENE\", 2: \"FEB\"}))   # Diccionario"
   ]
  },
  {
   "cell_type": "markdown",
   "metadata": {
    "user_expressions": []
   },
   "source": [
    "Otra función útil en Python asociada a los tipos de datos en `isinstance()`. Este es un ejemplo de una función que requiere mas de un parametro de entrada, ya que se debe especificar el valor a evaluar asi como el tipo de datos sobre el que se quiere consultar si corresponde. Esta funcion retornará un resultado booleano, ya que pregunta si un dato o variable es de un tipo especificado:"
   ]
  },
  {
   "cell_type": "code",
   "execution_count": 22,
   "metadata": {},
   "outputs": [
    {
     "name": "stdout",
     "output_type": "stream",
     "text": [
      "3 es int?: True\n",
      "3.0 es int?: False\n",
      "3.0 es float?: True\n",
      "True es int?; True\n",
      "True es bool?: True\n",
      "'Hola' es str?: True\n",
      "'' es un str?: True\n"
     ]
    }
   ],
   "source": [
    "print(\"3 es int?:\", isinstance(3, int))\n",
    "print(\"3.0 es int?:\", isinstance(3.0, int))\n",
    "print(\"3.0 es float?:\", isinstance(3.0, float))\n",
    "print(\"True es int?;\", isinstance(True, int))\n",
    "print(\"True es bool?:\", isinstance(True, bool))\n",
    "print(\"'Hola' es str?:\", isinstance('Hola', str))\n",
    "print(\"'' es un str?:\", isinstance('', str))"
   ]
  },
  {
   "cell_type": "markdown",
   "metadata": {},
   "source": [
    "## Operaciones lógicas y de relación\n",
    "Python soporta un conjunto de operaciones lógicas y de relación:"
   ]
  },
  {
   "cell_type": "code",
   "execution_count": 23,
   "metadata": {},
   "outputs": [
    {
     "name": "stdout",
     "output_type": "stream",
     "text": [
      "10 > 3: True\n",
      "5 <= 5: True\n",
      "12 != 10: True\n",
      "12 > 33/3: True\n",
      "'a' < 'b': True\n",
      "'A' < 'a' True\n",
      "12 < 15 < 20: True\n",
      "20 > 15 > 10 True\n"
     ]
    }
   ],
   "source": [
    "print(\"10 > 3:\", 10 > 3)\n",
    "print(\"5 <= 5:\", 5 <= 5)\n",
    "print(\"12 != 10:\", 12 != 10)           # El operador \"!\" es la negación de una operación\n",
    "print(\"12 > 33/3:\", 12 > 33/3)         # Las operaciones de relación tienen menor precedencia que las aritméticas\n",
    "print(\"'a' < 'b':\", 'a' < 'b')         # La minusculas estan en orden alafabético?\n",
    "print(\"'A' < 'a'\", 'A' < 'a')          # La secuencia de letras considera las mayúsulas primero?\n",
    "print(\"12 < 15 < 20:\", 12 < 15 < 20)   # el valor 15 esta entre 12 y 20?\n",
    "print(\"20 > 15 > 10\", 20 > 15 > 10)    # el valor 10 esta entre 20 y 10?"
   ]
  },
  {
   "cell_type": "markdown",
   "metadata": {},
   "source": [
    "Con respecto a las operaciones lógicas, se soportan los operadores lógicos estándar:"
   ]
  },
  {
   "cell_type": "code",
   "execution_count": 21,
   "metadata": {},
   "outputs": [
    {
     "data": {
      "text/plain": [
       "False"
      ]
     },
     "execution_count": 21,
     "metadata": {},
     "output_type": "execute_result"
    }
   ],
   "source": [
    "0 & 1 | 1 != 1"
   ]
  },
  {
   "cell_type": "markdown",
   "metadata": {
    "user_expressions": []
   },
   "source": [
    "Pero Python es un lenguaje que se soporta sobre un concepto clave: la claridad y la belleza. Un código escrito en Python debe de ser **claro, limpio, legible, oprenado**. El código anterior se puede volver a escribir de la siguiente forma:"
   ]
  },
  {
   "cell_type": "code",
   "execution_count": 22,
   "metadata": {},
   "outputs": [
    {
     "data": {
      "text/plain": [
       "False"
      ]
     },
     "execution_count": 22,
     "metadata": {},
     "output_type": "execute_result"
    }
   ],
   "source": [
    "False and True or True is not True"
   ]
  },
  {
   "cell_type": "markdown",
   "metadata": {
    "user_expressions": []
   },
   "source": [
    "Y por supuesto, todas las operaciones de Python (aritméticas, de relación y lógicas) tienen un orden de precedencia completo como se muestra en la siguiente tabla:"
   ]
  },
  {
   "cell_type": "markdown",
   "metadata": {
    "user_expressions": []
   },
   "source": [
    "<div class=\"table-responsive\">\n",
    "    <table>\n",
    "        <tbody>\n",
    "            <tr>\n",
    "                <th>Operators</th>\n",
    "                <th>Meaning</th>\n",
    "            </tr>\n",
    "            <tr>\n",
    "                <td><code>()</code></td>\n",
    "                <td>Parentheses</td>\n",
    "            </tr>\n",
    "            <tr>\n",
    "                <td><code>**</code></td>\n",
    "                <td>Exponent</td>\n",
    "            </tr>\n",
    "            <tr>\n",
    "                <td><code>+x</code>, <code>-x</code>, <code>~x</code></td>\n",
    "                <td>Unary plus, Unary minus, Bitwise NOT</td>\n",
    "            </tr>\n",
    "            <tr>\n",
    "                <td><code>*</code>, <code>/</code>, <code>//</code>, <code>%</code></td>\n",
    "                <td>Multiplication, Division, Floor division, Modulus</td>\n",
    "            </tr>\n",
    "            <tr>\n",
    "                <td><code>+</code>, <code>-</code></td>\n",
    "                <td>Addition, Subtraction</td>\n",
    "            </tr>\n",
    "            <tr>\n",
    "                <td><code>&lt;&lt;</code>, <code>&gt;&gt;</code></td>\n",
    "                <td>Bitwise shift operators</td>\n",
    "            </tr>\n",
    "            <tr>\n",
    "                <td><code>&amp;</code></td>\n",
    "                <td>Bitwise AND</td>\n",
    "            </tr>\n",
    "            <tr>\n",
    "                <td><code>^</code></td>\n",
    "                <td>Bitwise XOR</td>\n",
    "            </tr>\n",
    "            <tr>\n",
    "                <td><code>|</code></td>\n",
    "                <td>Bitwise OR</td>\n",
    "            </tr>\n",
    "            <tr>\n",
    "                <td><code>==</code>, <code>!=</code>, <code>&gt;</code>, <code>&gt;=</code>, <code>&lt;</code>, <code>&lt;=</code>, <code>is</code>, <code>is not</code>, <code>in</code>, <code>not in</code></td>\n",
    "                <td>Comparisons, Identity, Membership operators</td>\n",
    "            </tr>\n",
    "            <tr>\n",
    "                <td><code>not</code></td>\n",
    "                <td>Logical NOT</td>\n",
    "            </tr>\n",
    "            <tr>\n",
    "                <td><code>and</code></td>\n",
    "                <td>Logical AND</td>\n",
    "            </tr>\n",
    "            <tr>\n",
    "                <td><code>or</code></td>\n",
    "                <td>Logical OR</td>\n",
    "            </tr>\n",
    "        </tbody>\n",
    "    </table>\n",
    "</div>"
   ]
  },
  {
   "cell_type": "markdown",
   "metadata": {
    "user_expressions": []
   },
   "source": [
    "## Asignación de variables\n",
    "En Python el operador `=` permite asignar valores a variables. Como en todo lenguaje de programación, se preferible operar con variables que hacerlo directamente con números:"
   ]
  },
  {
   "cell_type": "code",
   "execution_count": 23,
   "metadata": {},
   "outputs": [
    {
     "name": "stdout",
     "output_type": "stream",
     "text": [
      "15\n"
     ]
    }
   ],
   "source": [
    "var = 3\n",
    "result = var * 5\n",
    "print(result)"
   ]
  },
  {
   "cell_type": "markdown",
   "metadata": {},
   "source": [
    "Note que en Python las variable son *case sensitive*, esto es que consideran las letras mayusculas y minusculas de forma diferenciada:"
   ]
  },
  {
   "cell_type": "code",
   "execution_count": 24,
   "metadata": {},
   "outputs": [
    {
     "name": "stdout",
     "output_type": "stream",
     "text": [
      "10 20 30\n"
     ]
    }
   ],
   "source": [
    "var = 10\n",
    "Var = 20\n",
    "VAR = 30\n",
    "\n",
    "print(var, Var,VAR)"
   ]
  },
  {
   "cell_type": "markdown",
   "metadata": {},
   "source": [
    "Asi también, una variable no puede tener espacios en blanco (utilizar `_`), ni palabras reservadas ni tener un número como caracter inicial:"
   ]
  },
  {
   "cell_type": "code",
   "execution_count": 25,
   "metadata": {},
   "outputs": [
    {
     "ename": "SyntaxError",
     "evalue": "invalid syntax (<ipython-input-25-559d23df2e89>, line 1)",
     "output_type": "error",
     "traceback": [
      "\u001b[1;36m  File \u001b[1;32m\"<ipython-input-25-559d23df2e89>\"\u001b[1;36m, line \u001b[1;32m1\u001b[0m\n\u001b[1;33m    4ever = \"Para siempre\"\u001b[0m\n\u001b[1;37m     ^\u001b[0m\n\u001b[1;31mSyntaxError\u001b[0m\u001b[1;31m:\u001b[0m invalid syntax\n"
     ]
    }
   ],
   "source": [
    "4ever = \"Para siempre\""
   ]
  },
  {
   "cell_type": "markdown",
   "metadata": {
    "user_expressions": []
   },
   "source": [
    "El codigo anterior presenta un error de ejecución, lo que en Python se conoce como *excepción*. Las excepciones estan especificadas según una clasificación interna. En el caso anterior, la excepción es del tipo `SyntaxError`; esto es, que se ha cometido un *error de sintaxis* o un error asociado a la forma como se ha escrito la instrucción.\n",
    "\n",
    "Según las reglas de sintáxis de Python (PEP-8), las variables se escriben en minúsculas, utilizando el caracter `_` para los espacios en blanco y se sugiere utilizar nombres representativos:\n",
    "\n",
    "    - nombre_usuario (en lugar de n)\n",
    "    - valor_max (en lugar de v)\n",
    "    - num1 (en lugar de n1)"
   ]
  },
  {
   "cell_type": "markdown",
   "metadata": {},
   "source": [
    "## Asignación de varible interactiva con input()\n",
    "Una variable tambien puede ser asignada de forma interactiva utilizando la función `input()`:"
   ]
  },
  {
   "cell_type": "code",
   "execution_count": 26,
   "metadata": {},
   "outputs": [
    {
     "name": "stdout",
     "output_type": "stream",
     "text": [
      "Ingrese su nombre: Elvio\n",
      "Hola Elvio\n"
     ]
    }
   ],
   "source": [
    "nombre = input(\"Ingrese su nombre: \")\n",
    "print(\"Hola\", nombre)"
   ]
  },
  {
   "cell_type": "markdown",
   "metadata": {},
   "source": [
    "La función `input()` muestra en el terminal un `str` y espera a que el usuario ingrese un dato. Este dato se asigna a una variable y se puede hacer alguna operacion sobre la variable asignada:"
   ]
  },
  {
   "cell_type": "code",
   "execution_count": 27,
   "metadata": {},
   "outputs": [
    {
     "name": "stdout",
     "output_type": "stream",
     "text": [
      "Ingrese un numero a triplicar: 3\n",
      "El valor triplicado es \n",
      "333\n"
     ]
    }
   ],
   "source": [
    "num = input(\"Ingrese un numero a triplicar: \")\n",
    "result = num * 3\n",
    "print(\"El valor triplicado es \")\n",
    "print(result)"
   ]
  },
  {
   "cell_type": "markdown",
   "metadata": {},
   "source": [
    "¿Algo salió mal? ¿El resultado es el esperado? De que tipo es el dato que retorna la función `input()`:"
   ]
  },
  {
   "cell_type": "code",
   "execution_count": 28,
   "metadata": {},
   "outputs": [
    {
     "name": "stdout",
     "output_type": "stream",
     "text": [
      "Ingrese un numero a triplicar: 3\n",
      "<class 'str'>\n"
     ]
    }
   ],
   "source": [
    "num = input(\"Ingrese un numero a triplicar: \")\n",
    "print(type(num))"
   ]
  },
  {
   "cell_type": "markdown",
   "metadata": {},
   "source": [
    "Las operaciones aritméticas calculan los resultados esperados entre valores numéricos (por ejemplo, un `int` con un `int`, o un `int` con un `float`). Sin embargo, si se utiliza el operador `*` entre variables del tipo `int` y `str` se produce la repetición del `str` tantas veces como indique el valor `int`. Asi también, el operador `+` entre dos `str` realiza una *concatenación*:"
   ]
  },
  {
   "cell_type": "code",
   "execution_count": 29,
   "metadata": {},
   "outputs": [
    {
     "name": "stdout",
     "output_type": "stream",
     "text": [
      "Zzzzzzzzzzz...\n"
     ]
    }
   ],
   "source": [
    "print('Z' + 'z' * 10 + \".\" * 3)"
   ]
  },
  {
   "cell_type": "markdown",
   "metadata": {
    "user_expressions": []
   },
   "source": [
    "Esto es que , hay que tener un conocimiento de como los diferentes operadores interactuan con los diferentes tipos de datos para retornar resultados. \n",
    "\n",
    "Si se quiere asignar un valor entero a partir de un `str` obtenido por medio de la función `input()` debe de realizarse una conversión de tipo de datos, o un *typecast*. Esto en Python se realiza de la siguiente forma:\n",
    "\n",
    "    - int(val)\n",
    "    - float(val)\n",
    "    - str(val)"
   ]
  },
  {
   "cell_type": "code",
   "execution_count": 30,
   "metadata": {},
   "outputs": [
    {
     "name": "stdout",
     "output_type": "stream",
     "text": [
      "10 type: <class 'str'>\n",
      "10 type: <class 'int'>\n"
     ]
    }
   ],
   "source": [
    "diez = \"10\"\n",
    "numero = int(diez)\n",
    "\n",
    "print(diez, \"type:\", type(diez))\n",
    "print(numero, \"type:\", type(numero))"
   ]
  },
  {
   "cell_type": "markdown",
   "metadata": {
    "user_expressions": []
   },
   "source": [
    "La asignación del tipo de datos se puede hacer de dos maneras: operación sobre una variable, o asociando el retorno de una función como entrada de una segunda función:"
   ]
  },
  {
   "cell_type": "code",
   "execution_count": 31,
   "metadata": {},
   "outputs": [
    {
     "name": "stdout",
     "output_type": "stream",
     "text": [
      "Ingrese un numero a triplicar: 3\n",
      "El valor triplicado es \n",
      "9\n"
     ]
    }
   ],
   "source": [
    "# Se cambia el tipo a a variable asignada\n",
    "num = input(\"Ingrese un numero a triplicar: \")\n",
    "result = int(num) * 3\n",
    "print(\"El valor triplicado es \")\n",
    "print(result)"
   ]
  },
  {
   "cell_type": "code",
   "execution_count": 32,
   "metadata": {},
   "outputs": [
    {
     "name": "stdout",
     "output_type": "stream",
     "text": [
      "Ingrese un numero a triplicar: 3\n",
      "El valor triplicado es \n",
      "9\n"
     ]
    }
   ],
   "source": [
    "# Se toma el resultado de la función input() y se modifica el tipo de datos con int()\n",
    "num = int(input(\"Ingrese un numero a triplicar: \"))\n",
    "result = num * 3\n",
    "print(\"El valor triplicado es \")\n",
    "print(result)"
   ]
  },
  {
   "cell_type": "markdown",
   "metadata": {},
   "source": [
    "Se puede mejorar el resultado considerando las opciones disponibles en la función print():"
   ]
  },
  {
   "cell_type": "code",
   "execution_count": 33,
   "metadata": {},
   "outputs": [
    {
     "name": "stdout",
     "output_type": "stream",
     "text": [
      "Ingrese un numero a triplicar: 3\n",
      "3 x 3 = 9\n"
     ]
    }
   ],
   "source": [
    "num = int(input(\"Ingrese un numero a triplicar: \"))\n",
    "result = num * 3\n",
    "print(num, \"x 3 =\", result)"
   ]
  },
  {
   "cell_type": "markdown",
   "metadata": {},
   "source": [
    "Y recuerde que se puede utilizar el operador `+` entre `str` para concatenar cadenas:"
   ]
  },
  {
   "cell_type": "code",
   "execution_count": 34,
   "metadata": {},
   "outputs": [
    {
     "name": "stdout",
     "output_type": "stream",
     "text": [
      "Ingrese su nombre: Elvio\n",
      "Hola Elvio!\n"
     ]
    }
   ],
   "source": [
    "nombre = input(\"Ingrese su nombre: \")\n",
    "print(\"Hola\", nombre + \"!\")"
   ]
  },
  {
   "cell_type": "markdown",
   "metadata": {
    "user_expressions": []
   },
   "source": [
    "## Formato de visualización numerica: método format o f-strings\n",
    "Los números se visualizan según reglas internas de la función `print()`."
   ]
  },
  {
   "cell_type": "code",
   "execution_count": 35,
   "metadata": {},
   "outputs": [
    {
     "name": "stdout",
     "output_type": "stream",
     "text": [
      "0.3333333333333333\n"
     ]
    }
   ],
   "source": [
    "print(1 / 3)"
   ]
  },
  {
   "cell_type": "markdown",
   "metadata": {
    "user_expressions": []
   },
   "source": [
    "Esto se puede modificar especificando el formato de visualización de los resultados, de dos maneras:"
   ]
  },
  {
   "cell_type": "markdown",
   "metadata": {
    "user_expressions": []
   },
   "source": [
    "### Uso del método format()\n",
    "`format()` es un ejemplo de algo llamado *método*. Es una función asociada a un objeto, en este caso a un objeto `str` y se utiliza la siguiente nomencaltura:\n",
    "\n",
    "    str.method()\n",
    "    \n",
    "Así, es una operación que afecta a este `str` específico. Todos los tipos de datos tienen métodos asociados. Por ejemplo, un número complejo tiene un método para obtener el \"conjugado\":"
   ]
  },
  {
   "cell_type": "code",
   "execution_count": 3,
   "metadata": {},
   "outputs": [
    {
     "name": "stdout",
     "output_type": "stream",
     "text": [
      "z = (10+3j)\n",
      "Conjugado: (10-3j)\n"
     ]
    }
   ],
   "source": [
    "z = 10 + 3j\n",
    "print(\"z =\", z)\n",
    "print(\"Conjugado:\", z.conjugate())"
   ]
  },
  {
   "cell_type": "markdown",
   "metadata": {
    "user_expressions": []
   },
   "source": [
    "El método `format` permite especificar el formato de visualización de cualquier cadena de texto utilizando unos caracteres { } conocidos como *placeholders*. De tal forma que se puede escribir la siguiente instrucción:"
   ]
  },
  {
   "cell_type": "code",
   "execution_count": 36,
   "metadata": {},
   "outputs": [
    {
     "name": "stdout",
     "output_type": "stream",
     "text": [
      "10 + 20 = 30\n"
     ]
    }
   ],
   "source": [
    "print(\"{} + {} = {}\".format(10, 20, 10+20))"
   ]
  },
  {
   "cell_type": "markdown",
   "metadata": {},
   "source": [
    "En los *placeholders* se puede especificar el *formato de visualización* con el caracter `:`:"
   ]
  },
  {
   "cell_type": "code",
   "execution_count": 37,
   "metadata": {},
   "outputs": [
    {
     "name": "stdout",
     "output_type": "stream",
     "text": [
      "82 / 1.72 ^2 = 28.39\n"
     ]
    }
   ],
   "source": [
    "peso = 82\n",
    "altura = 1.72\n",
    "imc = 28.393726338561386\n",
    "print(\"{} / {:.2f} ^2 = {:.2f}\".format(peso, altura, imc))"
   ]
  },
  {
   "cell_type": "markdown",
   "metadata": {
    "user_expressions": []
   },
   "source": [
    "Así también, se puede especificar el dato que va en cada uno de los *placeholders*:"
   ]
  },
  {
   "cell_type": "code",
   "execution_count": 38,
   "metadata": {},
   "outputs": [
    {
     "name": "stdout",
     "output_type": "stream",
     "text": [
      "Elvio Lado y Dina Mita forman un equipo liderado por Elvio Lado\n"
     ]
    }
   ],
   "source": [
    "nombre1 = \"Elvio Lado\"\n",
    "nombre2 = \"Dina Mita\"\n",
    "print(\"{0} y {1} forman un equipo liderado por {0}\".format(nombre1, nombre2))"
   ]
  },
  {
   "cell_type": "markdown",
   "metadata": {},
   "source": [
    "Esta característica puede ser de mucha utilidad para repetir valores en varias líneas:"
   ]
  },
  {
   "cell_type": "code",
   "execution_count": 39,
   "metadata": {},
   "outputs": [
    {
     "name": "stdout",
     "output_type": "stream",
     "text": [
      "2 x 1 = 2\n",
      "2 x 2 = 4\n"
     ]
    }
   ],
   "source": [
    "print(\"{0} x 1 = {0}\\n{0} x 2 = {1}\".format(2, 4))"
   ]
  },
  {
   "cell_type": "markdown",
   "metadata": {},
   "source": [
    "El formato de visualización no solo sirve para especificar el número de decimales a mostrar en caso de un dato tipo `float`, sin que además permite especificar el tamaño del espacio de impresión de una cadena y algunos otros trucos del método `format()`:"
   ]
  },
  {
   "cell_type": "code",
   "execution_count": 46,
   "metadata": {},
   "outputs": [
    {
     "name": "stdout",
     "output_type": "stream",
     "text": [
      "\n",
      "                        Fecha: 28/2/2024\n",
      "\n",
      "          ALUMNOS MATRICULADOS          \n",
      "          ====================          \n",
      "\n",
      "       NOMBRE               CODIGO       \n",
      "       ------               ------       \n",
      "Armando Paredes .............. a20177676\n",
      "Elmer Curio .................. a20177676\n"
     ]
    }
   ],
   "source": [
    "print()\n",
    "print(\"{:>40}\".format(\"Fecha: 28/2/2024\"))                   # Justificado a la derecha en un campo de 40 caracteres\n",
    "print()\n",
    "print(\"{:^40}\".format(\"ALUMNOS MATRICULADOS\"))               # Centrado en un campo de 40 caracteres\n",
    "print(\"{:^40}\".format(\"====================\"))\n",
    "print()\n",
    "print(\"{:^20} {:^20}\".format(\"NOMBRE\", \"CODIGO\"))\n",
    "print(\"{:^20} {:^20}\".format(\"------\", \"------\"))\n",
    "print(\"{:.<30}{}\".format(\"Armando Paredes \", \" a20177676\"))   # Justificado a la izquierda con \".\" para rellenar espacios en blanco\n",
    "print(\"{:.<30}{}\".format(\"Elmer Curio \", \" a20177676\"))"
   ]
  },
  {
   "cell_type": "markdown",
   "metadata": {
    "user_expressions": []
   },
   "source": [
    "### Uso de f-strings\n",
    "A partir de Python 3.6 se puede utilizar una forma más abreviada de controlar el formato de visualización con un `f-string`:"
   ]
  },
  {
   "cell_type": "code",
   "execution_count": 55,
   "metadata": {},
   "outputs": [
    {
     "name": "stdout",
     "output_type": "stream",
     "text": [
      "Paciente: Elvio\n",
      "===============\n",
      "IMC: 82 / 1.72 ^2 = 28.39\n"
     ]
    }
   ],
   "source": [
    "nombre = \"Elvio\"\n",
    "peso = 82\n",
    "altura = 1.72\n",
    "imc = 28.393726338561386\n",
    "print(f\"Paciente: {nombre}\")\n",
    "print(\"=\" * 15)\n",
    "print(f\"IMC: {peso} / {altura:.2f} ^2 = {imc:.2f}\")"
   ]
  },
  {
   "cell_type": "markdown",
   "metadata": {
    "user_expressions": []
   },
   "source": [
    "Esta es la opción que se utiliza cada vez con mayor frecuencia por parte de la comunidad de programadores de Python. En este curso utilizaremos de forma indistinta el método format y los f-string dependiendo de cual resulte más conveniente."
   ]
  },
  {
   "cell_type": "markdown",
   "metadata": {},
   "source": [
    "## Separación de cadenas: el método split()\n",
    "Otro método útil en la manipulación de cadenas es `split()` que separa una cadena en secciones:"
   ]
  },
  {
   "cell_type": "code",
   "execution_count": 42,
   "metadata": {},
   "outputs": [
    {
     "name": "stdout",
     "output_type": "stream",
     "text": [
      "Dos\n",
      "palabras\n"
     ]
    }
   ],
   "source": [
    "word1, word2 = \"Dos palabras\".split()\n",
    "print(word1)\n",
    "print(word2)"
   ]
  },
  {
   "cell_type": "markdown",
   "metadata": {},
   "source": [
    "Esto se puede combinar con el ingreso interactivo de datos para obtener varios datos en una sola consulta:"
   ]
  },
  {
   "cell_type": "code",
   "execution_count": 43,
   "metadata": {},
   "outputs": [
    {
     "name": "stdout",
     "output_type": "stream",
     "text": [
      "Ingrese su nombre y apellido: Elvio Lado\n",
      "Lado, Elvio\n"
     ]
    }
   ],
   "source": [
    "nombre, apellido = input(\"Ingrese su nombre y apellido: \").split()\n",
    "print(apellido + \",\", nombre)"
   ]
  },
  {
   "cell_type": "markdown",
   "metadata": {},
   "source": [
    "El caracter que se utiliza como separador es el espacio en blanco, pero se puede especificar un caracter de separación diferente como argumento del método `split()`:"
   ]
  },
  {
   "cell_type": "code",
   "execution_count": 44,
   "metadata": {},
   "outputs": [
    {
     "name": "stdout",
     "output_type": "stream",
     "text": [
      "Ingrese la hora actual [hh:mm:ss]: 10:12:45\n",
      "Hora: 10\n",
      "Minuto: 12\n",
      "Segundo: 45\n"
     ]
    }
   ],
   "source": [
    "hh, mm, ss = input(\"Ingrese la hora actual [hh:mm:ss]: \").split(\":\")\n",
    "print(\"Hora:\", hh)\n",
    "print(\"Minuto:\", mm)\n",
    "print(\"Segundo:\", ss)"
   ]
  },
  {
   "cell_type": "markdown",
   "metadata": {},
   "source": [
    "Hay que notar que se tiene que tener cuidado al momento de realizar un *typecast* al utilizar el método `split()` pues los cambios de tipos de variables se deben realizar sobre cada uno de los datos de forma independiente:"
   ]
  },
  {
   "cell_type": "code",
   "execution_count": 61,
   "metadata": {},
   "outputs": [
    {
     "name": "stdin",
     "output_type": "stream",
     "text": [
      "Ingrese dos numeros:  4 2\n"
     ]
    },
    {
     "name": "stdout",
     "output_type": "stream",
     "text": [
      "4 + 2 = 42\n"
     ]
    }
   ],
   "source": [
    "n1, n2 = input(\"Ingrese dos numeros: \").split()\n",
    "#n1 = int(n1); n2 = int(n2)\n",
    "print(f\"{n1} + {n2} = {n1 + n2}\")"
   ]
  }
 ],
 "metadata": {
  "kernelspec": {
   "display_name": "Python 3 (ipykernel)",
   "language": "python",
   "name": "python3"
  },
  "language_info": {
   "codemirror_mode": {
    "name": "ipython",
    "version": 3
   },
   "file_extension": ".py",
   "mimetype": "text/x-python",
   "name": "python",
   "nbconvert_exporter": "python",
   "pygments_lexer": "ipython3",
   "version": "3.11.5"
  }
 },
 "nbformat": 4,
 "nbformat_minor": 4
}
