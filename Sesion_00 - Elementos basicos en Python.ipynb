{
 "cells": [
  {
   "cell_type": "markdown",
   "metadata": {},
   "source": [
    "# Sesion 0 - Elementos básicos del lenguaje de programación Python\n",
    "![](https://lh3.googleusercontent.com/proxy/DCiVbuG6HDRSmZlOZZeH4jM8yFAqa4oX_E4VoKBrSwkabMMtnLZRtQ5QXNtghm6jZ3S-BwklQinpZGc1FqYxUlcv43fHkVLxXSHIXeHWZc3lg7uJ9WgSyzBpHLCm2CiKUlsgRC7KUEY3JAlN8C_B8dRqRIsG_g)\n",
    "<div style=\"text-align: right\">Autor: Luis A. Muñoz - 2020 </div>"
   ]
  },
  {
   "cell_type": "markdown",
   "metadata": {},
   "source": [
    "### Ideas clave a recordar en Python:\n",
    "\n",
    "* Python en un lenguaje de codigo abierto\n",
    "* Python es un lenguaje interpretado\n",
    "* La versión activa de Python es la 3.x\n",
    "* Python es uno de los lenguajes de programación más populares y de mayor crecimiento en la actualidad\n",
    "\n",
    "### Informacion:\n",
    "* Index TIOBE: https://www.tiobe.com/tiobe-index/\n",
    "* PYPL: PopularitY of Programming Language: http://pypl.github.io/PYPL.html\n",
    "\n",
    "---"
   ]
  },
  {
   "cell_type": "markdown",
   "metadata": {},
   "source": [
    "## Lenguajes de programacion\n",
    "Todos los lenguajes de programación realizan las mismas tareas, en términos generales, utilizando diferentes instrucciones o construcciones de código.\n",
    "\n",
    "* Entrada / Salida\n",
    "* Operaciones aritméticas / lógicas\n",
    "* Toma de decisiones (condiciones)\n",
    "* Repetición de operaciones (bucles)\n",
    "* Modelamiento del mundo real (objetos)"
   ]
  },
  {
   "cell_type": "markdown",
   "metadata": {},
   "source": [
    "## Jupyter Notebook\n",
    "Son documentos interactivos que combinan celdas con texto en formato Markdown y codigo Python (y con algunas técnicas especiales, HTML, JavaScript, Bash Scripts e instrucciones del sistema). El tipo de celda puede modificarse en la barra de tareas (Code - Markdown). Para ejecutar una celda debe de presionar la combinación de teclas `Ctrl + ENTER`. Seleccione la celda inferior y haga `Ctrl + ENTER`"
   ]
  },
  {
   "cell_type": "code",
   "execution_count": null,
   "metadata": {},
   "outputs": [],
   "source": [
    "print(\"Pruebe la ejecución de esta celda de codigo en Jupyter Notebook presionando Ctrl + ENTER\")"
   ]
  },
  {
   "cell_type": "markdown",
   "metadata": {},
   "source": [
    "Puede modificar una celda de código y probar los cambios. Pruebe agregar un texto entre \"\" como argumento de la funcion predefinida (BIF: Built In Funtion) de Python `print`"
   ]
  },
  {
   "cell_type": "code",
   "execution_count": null,
   "metadata": {},
   "outputs": [],
   "source": [
    "print()   # Agrege un texto como argumento de la funcion print()"
   ]
  },
  {
   "cell_type": "markdown",
   "metadata": {},
   "source": [
    "Ahora que ya sabe como ejecutar un código Python en una celda de código y como modificar su contenido, empecemos con lecciones de Programación en Python."
   ]
  },
  {
   "cell_type": "markdown",
   "metadata": {},
   "source": [
    "## Primeros pasos en Python\n",
    "![](https://media1.tenor.com/images/ac9cf136a3c0f857e436c32561e9b6e8/tenor.gif?itemid=16957606)\n",
    "\n",
    "Los primero que debemos de saber es como se comenta un programa en Python. Para comentar una linea en un código Python se utiliza el caracter `#`"
   ]
  },
  {
   "cell_type": "code",
   "execution_count": null,
   "metadata": {},
   "outputs": [],
   "source": [
    "# Esta es una linea de codigo y no se ejecutara por el compilador"
   ]
  },
  {
   "cell_type": "markdown",
   "metadata": {},
   "source": [
    "Se puede tener un bloque de código (llamado técnicamente un 'docstring') utilizando triple-comilla `'''`"
   ]
  },
  {
   "cell_type": "code",
   "execution_count": null,
   "metadata": {},
   "outputs": [],
   "source": [
    "'''\n",
    "Este es un bloque de comentario de varias lineas\n",
    "\n",
    "En un script la ejecución de esta celda no muestra nada. \n",
    "En Jupyter si retorna una cadena con el formado de saltos de lineas establecidos.\n",
    "'''"
   ]
  },
  {
   "cell_type": "markdown",
   "metadata": {},
   "source": [
    "La celda anterior muestra un ejemplo de lo que es un `str` (string), un tipo de datos en Python que permite representar cadenas de caractres (lo que se conoce vulgarmente como texto). Un ejemplo interesante de Python es que al momento de definir una cadena se puede utilizar de manera indistinta comillas dobles `\"` o comillas simples `'`. Por ejemplo, al momento de utilizar la funcion `print()`  se puede especificar el argumento de la funcion de dos formas diferentes:"
   ]
  },
  {
   "cell_type": "code",
   "execution_count": null,
   "metadata": {},
   "outputs": [],
   "source": [
    "print(\"En el restaurante Snoopy's se venden perros calientes\")"
   ]
  },
  {
   "cell_type": "code",
   "execution_count": null,
   "metadata": {},
   "outputs": [],
   "source": [
    "print('A Francisco Riado le dicen \"Pancho Riado...\"')"
   ]
  },
  {
   "cell_type": "markdown",
   "metadata": {},
   "source": [
    "Note que en los casos anteriores si una cadena inicia con `\"\"`, debe terminar con `\"\"`, y los mismo para `''`. Esto permite utilizar las comillas en un `str` en caso sea necesario.\n",
    "\n",
    "Por otro lado, `print()` es un ejemplo de un BIF: una funcion pre-definida en Python (Built In Funcion). La función `print()` imprime un `str` y permite observar los resultados de una operación."
   ]
  },
  {
   "cell_type": "markdown",
   "metadata": {},
   "source": [
    "## print() y keywords"
   ]
  },
  {
   "cell_type": "markdown",
   "metadata": {},
   "source": [
    "Note el retorno de la función `print()`:"
   ]
  },
  {
   "cell_type": "code",
   "execution_count": null,
   "metadata": {},
   "outputs": [],
   "source": [
    "print(1, 2, 3, 4, 5)"
   ]
  },
  {
   "cell_type": "markdown",
   "metadata": {},
   "source": [
    "Cada uno de los argumentos de `print()` se imprimen por separado, ya que el separador de argumentos `,` se reemplaza por un espacio en blanco ' '. Esto esta definido en la misma función como un argumento asociado a una palabra clave o *keyword*, el keyword `sep`. Puede verificar esto consultando en la ayuda de la función `print()`"
   ]
  },
  {
   "cell_type": "code",
   "execution_count": null,
   "metadata": {},
   "outputs": [],
   "source": [
    "print?"
   ]
  },
  {
   "cell_type": "markdown",
   "metadata": {},
   "source": [
    "Como puede observar, el keyword `sep=' '` indica que el separador de argumentos será reemplazado por un espacio en blanco. Este separador puede modificarse para que sea reemplazado por otro caracter. Por ejemplo:"
   ]
  },
  {
   "cell_type": "code",
   "execution_count": null,
   "metadata": {},
   "outputs": [],
   "source": [
    "print(1, 2, 3, 4, 5, sep=' -> ')"
   ]
  },
  {
   "cell_type": "markdown",
   "metadata": {},
   "source": [
    "Vuelva a consultar la ayuda de `print()`. Observe el otro keyword de la funcion: `end`. Por defecto, tiene el valor `end=\\n`. Esto quiere decir que una vez que ha terminado con la impresión, agrega al final el caracter de escape `\\n` que significa *nueva linea*, es decir que cada llamada de la función `print()` imprime una linea independiente:"
   ]
  },
  {
   "cell_type": "code",
   "execution_count": null,
   "metadata": {},
   "outputs": [],
   "source": [
    "print(\"Hola\")\n",
    "print(\"mundo\")"
   ]
  },
  {
   "cell_type": "markdown",
   "metadata": {},
   "source": [
    "Un uso frecuente de la asignación de keywords en `print()` es modificar este funcionamiento de la siguiente forma:"
   ]
  },
  {
   "cell_type": "code",
   "execution_count": null,
   "metadata": {},
   "outputs": [],
   "source": [
    "print(\"Hola \", end='')\n",
    "print(\"mundo\")"
   ]
  },
  {
   "cell_type": "markdown",
   "metadata": {},
   "source": [
    "Python soporta los caracteres de escape estándar. Entre estos se pueden listas los siguientes\n",
    "    \n",
    "* \\n: New Line\n",
    "* \\t: Tab\n",
    "* \\b: Backspace\n",
    "* \\a: Alarm"
   ]
  },
  {
   "cell_type": "code",
   "execution_count": null,
   "metadata": {},
   "outputs": [],
   "source": [
    "print(\"Hola\\nmundo\\ba\")   # \\a: Si se prueba en Spyder se escucha un tono de alarma"
   ]
  },
  {
   "cell_type": "markdown",
   "metadata": {},
   "source": [
    "## Palabras reservadas\n",
    "Como todo lenguaje de progrmamación, Python tiene ciertas palabras reservadas que forman parte del léxico estándar del lenguaje de programación. Estas palabras tienen un uso específico y no podran ser utilizadas como nombres de variables o nombres de archivos.\n",
    "\n",
    "<img src=\"https://docplayer.es/docs-images/68/58635954/images/5-0.jpg\" alt=\"Drawing\" style=\"width: 500px;\"/>"
   ]
  },
  {
   "cell_type": "markdown",
   "metadata": {},
   "source": [
    "## Operaciones aritméticas\n",
    "Python soporta 6 operaciones aritméticas:"
   ]
  },
  {
   "cell_type": "code",
   "execution_count": null,
   "metadata": {},
   "outputs": [],
   "source": [
    "print(\"2 + 3 =\", 2 + 5)\n",
    "print(\"3 - 6 =\", 3 - 6)\n",
    "print(\"4 X 3 =\", 4 * 3)\n",
    "print(\"3 / 2 =\", 3 / 2)\n",
    "print(\"3 // 2 =\", 3 // 2)\n",
    "print(\"3 ** 2 =\", 3 ** 2)\n",
    "print(\"3 % 2 = \", 3 % 2)"
   ]
  },
  {
   "cell_type": "code",
   "execution_count": null,
   "metadata": {},
   "outputs": [],
   "source": []
  },
  {
   "cell_type": "markdown",
   "metadata": {},
   "source": [
    "¿Puede identificar que es lo que realiza cada operación?\n",
    "\n",
    "Existe un orden de precedencia al momento de realizar las operaciones que sigue las reglas matemáticas:\n",
    "\n",
    "1. ()\n",
    "1. **\n",
    "1. %, *, /\n",
    "1. +, -"
   ]
  },
  {
   "cell_type": "code",
   "execution_count": null,
   "metadata": {},
   "outputs": [],
   "source": [
    "20 + 3 * 50 / 5 ** (2 % 4)"
   ]
  },
  {
   "cell_type": "markdown",
   "metadata": {},
   "source": [
    "## Tipos de datos\n",
    "Note los resultados de las siguientes operaciones y considere sus resultados:"
   ]
  },
  {
   "cell_type": "code",
   "execution_count": null,
   "metadata": {},
   "outputs": [],
   "source": [
    "print(1 / 2)\n",
    "print(1 // 2)\n",
    "print(1.0 // 2)"
   ]
  },
  {
   "cell_type": "markdown",
   "metadata": {},
   "source": [
    "Aunque el operador \"//\" calcula una división entera, el resultado es un dato con un valor decimal. Python ajusta este resultado en función de los números involucrados en el procedimiento aritmético. Esto porque como cualquier lenguaje de programación, Python soporta *tipos* de datos. Sin embargo, es un lenguaje de *prototipado débil*, esto es que no requiere que se defina el tipo de datos de una variable para utilizarla. En la celda siguiente se asigna la variable `a` con un valor directamente sin especificar el tipo de datos, para luego cambiar por otro tipo de dato diferente. Python va a reasignar el tipo de variable (en este caso, pasará a ser un valor de 4 bytes a uno de 10 bytes)."
   ]
  },
  {
   "cell_type": "code",
   "execution_count": null,
   "metadata": {},
   "outputs": [],
   "source": [
    "a = 10\n",
    "print(a)\n",
    "\n",
    "a = \"Hola mundo\"\n",
    "print(a)"
   ]
  },
  {
   "cell_type": "markdown",
   "metadata": {},
   "source": [
    "Para conocer de que tipo es una dato se puede llamar a la función `type()`:"
   ]
  },
  {
   "cell_type": "code",
   "execution_count": null,
   "metadata": {},
   "outputs": [],
   "source": [
    "print(type(3))\n",
    "print(type(1.5))\n",
    "print(type(\"a\"))\n",
    "print(type(\"Hola\"))\n",
    "print(type(\"\"))\n",
    "print(type(2+3j))\n",
    "print(type(1 > 2))\n",
    "print(type(True))\n",
    "print(type(False))"
   ]
  },
  {
   "cell_type": "markdown",
   "metadata": {},
   "source": [
    "Python soporta *contenedores*, agrupaciones de datos bajo una sola variable:"
   ]
  },
  {
   "cell_type": "code",
   "execution_count": null,
   "metadata": {},
   "outputs": [],
   "source": [
    "print(type((1, 2, 3, 4, 5)))        # Tupla\n",
    "print(type([1, 2, 3, 4, 5]))        # Lista\n",
    "print(type({1, 2, 3, 4, 5}))        # Conjunto\n",
    "print(type({1: \"ENE\", 2: \"FEB\"}))   # Diccionario"
   ]
  },
  {
   "cell_type": "markdown",
   "metadata": {},
   "source": [
    "Otra función útil en Python asociada a los tipos de datos en `isinstance()`. Este es un caso de una función que requiere mas de un parametro de entrada, ya que requiere que se especifique el valor a evaluar y el tipo de datos al que se quiere consultar si corresponde. Esta funcion retornará un resultado booleano, ya que pregunta si un dato es de un tipo especificado:"
   ]
  },
  {
   "cell_type": "code",
   "execution_count": null,
   "metadata": {},
   "outputs": [],
   "source": [
    "print(\"3 es int?:\", isinstance(3, int))\n",
    "print(\"3.0 es int?:\", isinstance(3.0, int))\n",
    "print(\"3.0 es float?:\", isinstance(3.0, float))\n",
    "print(\"True es int?;\", isinstance(True, int))\n",
    "print(\"True es bool?:\", isinstance(True, bool))\n",
    "print(\"'Hola' es str?:\", isinstance('Hola', str))"
   ]
  },
  {
   "cell_type": "markdown",
   "metadata": {},
   "source": [
    "## Operaciones lógicas y de relación\n",
    "Python soporta un conjunto de operaciones logicas y de relación:"
   ]
  },
  {
   "cell_type": "code",
   "execution_count": null,
   "metadata": {},
   "outputs": [],
   "source": [
    "print(\"10 > 3:\", 10 > 5)\n",
    "print(\"5 <= 5:\", 5 <= 5)\n",
    "print(\"12 != 10:\", 12 != 10)\n",
    "print(\"12 > 33/3:\", 12 > 33/3)\n",
    "print(\"'a' < 'b':\", 'a' < 'b')\n",
    "print(\"'A' < 'a'\", 'A' < 'a')\n",
    "print(\"12 < 15 < 20:\", 12 < 15 < 20)\n",
    "print(\"20 > 15 > 10\", 20 > 15 > 10)"
   ]
  },
  {
   "cell_type": "markdown",
   "metadata": {},
   "source": [
    "Con respecto a las operaciones lógicas, se soportan los operadores lógicos estándar:"
   ]
  },
  {
   "cell_type": "code",
   "execution_count": null,
   "metadata": {},
   "outputs": [],
   "source": [
    "0 & 1 | 1 != 1"
   ]
  },
  {
   "cell_type": "markdown",
   "metadata": {},
   "source": [
    "Pero Python es un lenguaje que se soporta sobre un concepto clave: la claridad y la belleza. Un codigo escrito en Python debe de ser **claro**. El código anterior se puede volver a escribir de la siguiente forma:"
   ]
  },
  {
   "cell_type": "code",
   "execution_count": null,
   "metadata": {},
   "outputs": [],
   "source": [
    "False and True or True is not True"
   ]
  },
  {
   "cell_type": "markdown",
   "metadata": {},
   "source": [
    "## Asignación de variables\n",
    "En Python el operador `=` permite asignar valores a variables. Como en todo lenguaje de programación, se preferible a operar con variables a hacer con números:"
   ]
  },
  {
   "cell_type": "code",
   "execution_count": null,
   "metadata": {},
   "outputs": [],
   "source": [
    "var = 3\n",
    "result = var * 5\n",
    "print(result)"
   ]
  },
  {
   "cell_type": "markdown",
   "metadata": {},
   "source": [
    "Note que el Python las variable son *case sensitive*, esto es que consideran las letras mayusculas y minusculas:"
   ]
  },
  {
   "cell_type": "code",
   "execution_count": null,
   "metadata": {},
   "outputs": [],
   "source": [
    "var = 10\n",
    "Var = 20\n",
    "VAR = 30\n",
    "\n",
    "print(var, Var,VAR)"
   ]
  },
  {
   "cell_type": "markdown",
   "metadata": {},
   "source": [
    "Asi también,una variable no puede tener espacios en blanco (utilizar `_`), ni palabras reservadas y i tener un número como caracter inicial:"
   ]
  },
  {
   "cell_type": "code",
   "execution_count": null,
   "metadata": {},
   "outputs": [],
   "source": [
    "4ever = \"Para siempre\""
   ]
  },
  {
   "cell_type": "markdown",
   "metadata": {},
   "source": [
    "El codigo anterior presenta un error de ejecución, lo que en Python se conoce como *excepción*. Las excepciones estan especificadas según una clasificación interna. En el caso anterior, la excepción es del tipo `SyntaxError`; esto es, que se ha cometido un *error de sintaxis* o un error con la forma como se ha escrito la instrucción."
   ]
  },
  {
   "cell_type": "markdown",
   "metadata": {},
   "source": [
    "## Asignación de varible interactiva con input()\n",
    "Una variable tambien puede ser asignada de forma interactiva utilizando la función `input()`:"
   ]
  },
  {
   "cell_type": "code",
   "execution_count": null,
   "metadata": {},
   "outputs": [],
   "source": [
    "nombre = input(\"Ingrese su nombre: \")\n",
    "print(\"Hola\", nombre)"
   ]
  },
  {
   "cell_type": "markdown",
   "metadata": {},
   "source": [
    "La función `input()` muestra en el terminal un `str` y espera a que el usuario ingrese un dato. Este dato se asigna a una variable y se puede hacer alguna operacion sobre la variable asignada:"
   ]
  },
  {
   "cell_type": "code",
   "execution_count": null,
   "metadata": {},
   "outputs": [],
   "source": [
    "num = input(\"Ingrese un numero a triplicar: \")\n",
    "result = num * 3\n",
    "print(\"El valor triplicado es \")\n",
    "print(result)"
   ]
  },
  {
   "cell_type": "markdown",
   "metadata": {},
   "source": [
    "¿Algo salió mal? ¿El resultado es el esperado? De que tipo es el dato que retorna la función `input()`:"
   ]
  },
  {
   "cell_type": "code",
   "execution_count": null,
   "metadata": {},
   "outputs": [],
   "source": [
    "num = input(\"Ingrese un numero a triplicar: \")\n",
    "print(type(num))"
   ]
  },
  {
   "cell_type": "markdown",
   "metadata": {},
   "source": [
    "Las operaciones aritméticas calculan los resultados esperados entre valores numéricos (por ejemplo, un `int` con un `int`, o un `int` con un `float`). Sin embargo, si se utiliza el operador `*` entre variables del tipo `int` y `str` se produce la repetición del `str` tantas veces como indique el valor `int`. Asi también, el operador `+` entre dos `str` realiza una *concatenación*:"
   ]
  },
  {
   "cell_type": "code",
   "execution_count": null,
   "metadata": {},
   "outputs": [],
   "source": [
    "print('Z' + 'z' * 10 + \".\" * 3)"
   ]
  },
  {
   "cell_type": "markdown",
   "metadata": {},
   "source": [
    "Si se quiere asignar un valor entero a partir de un `str` obtenido por medio de la función `input()` debe de realizarse una conversión de tipo de datos, o un *typecast*. Esto en Python se realizar de la siguiente forma:"
   ]
  },
  {
   "cell_type": "code",
   "execution_count": null,
   "metadata": {},
   "outputs": [],
   "source": [
    "diez = \"10\"\n",
    "numero = int(diez)\n",
    "\n",
    "print(diez, \"type:\", type(diez))\n",
    "print(numero, \"type:\", type(numero))"
   ]
  },
  {
   "cell_type": "markdown",
   "metadata": {},
   "source": [
    "La asignación del tipo de datos se puede realizar de dos maneras: operación sobre una variable, o encadenando los retornos de las funciones:"
   ]
  },
  {
   "cell_type": "code",
   "execution_count": null,
   "metadata": {},
   "outputs": [],
   "source": [
    "# Se cambia el tipo a a variable asignada\n",
    "num = input(\"Ingrese un numero a triplicar: \")\n",
    "result = int(num) * 3\n",
    "print(\"El valor triplicado es \")\n",
    "print(result)"
   ]
  },
  {
   "cell_type": "code",
   "execution_count": null,
   "metadata": {},
   "outputs": [],
   "source": [
    "# Se toma el resultado de la función input() y se modifica el tipo de datos\n",
    "num = int(input(\"Ingrese un numero a triplicar: \"))\n",
    "result = num * 3\n",
    "print(\"El valor triplicado es \")\n",
    "print(result)"
   ]
  },
  {
   "cell_type": "markdown",
   "metadata": {},
   "source": [
    "Se puede mejorar el resultado considerando las opciones disponibles en la función print():"
   ]
  },
  {
   "cell_type": "code",
   "execution_count": null,
   "metadata": {},
   "outputs": [],
   "source": [
    "num = int(input(\"Ingrese un numero a triplicar: \"))\n",
    "result = num * 3\n",
    "print(num, \"x 3 =\", result)"
   ]
  },
  {
   "cell_type": "markdown",
   "metadata": {},
   "source": [
    "Y recuerde que se puede utilizar el operador `+` entre `str` para concatenar cadenas:"
   ]
  },
  {
   "cell_type": "code",
   "execution_count": null,
   "metadata": {},
   "outputs": [],
   "source": [
    "nombre = input(\"Ingrese su nombre: \")\n",
    "print(\"Hola\", nombre + \"!\")"
   ]
  },
  {
   "cell_type": "markdown",
   "metadata": {},
   "source": [
    "## Formato de visualización numerica: método format o f-strings\n",
    "Los números se visualizan según reglas internas de la función `print()`. Esto se puede modificar utilizando de dos maneras:\n",
    "\n",
    "### Uso del método format()\n",
    "`format()` es un ejemplo de algo llamado *método*. Es una función asociada a un objeto, en este caso a un objeto `str` y se utiliza la siguiente nomencaltura:\n",
    "\n",
    "    str.method()\n",
    "    \n",
    "Así, es una operación que afecta a este `str` específico. Todos los tipos de datos tiene métodos asociados. Por ejemplo, un número complejo tiene los siguientes métodos:"
   ]
  },
  {
   "cell_type": "code",
   "execution_count": null,
   "metadata": {},
   "outputs": [],
   "source": [
    "z = 10 + 3j\n",
    "print(\"z =\", z)\n",
    "print(\"Parte Real:\", z.real)\n",
    "print(\"Parte Imaginaria:\", z.imag)"
   ]
  },
  {
   "cell_type": "markdown",
   "metadata": {},
   "source": [
    "El método format permite especificar el formato de visualización de cualquier cadena de texto utilizando unos caracteres {} conocidos como *place holders*. De tal forma que se puede escribir la siguiente instrucción:"
   ]
  },
  {
   "cell_type": "code",
   "execution_count": null,
   "metadata": {},
   "outputs": [],
   "source": [
    "print(\"{} + {} = {}\".format(10, 20, 10+20))"
   ]
  },
  {
   "cell_type": "markdown",
   "metadata": {},
   "source": [
    "En los *place holders* se puede especificar el *formato de visualización* con el caracter `:`:"
   ]
  },
  {
   "cell_type": "code",
   "execution_count": null,
   "metadata": {},
   "outputs": [],
   "source": [
    "peso = 82\n",
    "altura = 1.72\n",
    "imc = 28.393726338561386\n",
    "print(\"{} / {:.2f} ^2 = {:.2f}\".format(peso, altura, imc))"
   ]
  },
  {
   "cell_type": "markdown",
   "metadata": {},
   "source": [
    "Así también, se puede especificar el dato que va en cada uno de los *place holders*:"
   ]
  },
  {
   "cell_type": "code",
   "execution_count": null,
   "metadata": {},
   "outputs": [],
   "source": [
    "nombre1 = \"Elvio Lado\"\n",
    "nombre2 = \"Dina Mita\"\n",
    "print(\"{0} y {1} forman un equipo liderado por {0}\".format(nombre1, nombre2))"
   ]
  },
  {
   "cell_type": "markdown",
   "metadata": {},
   "source": [
    "Esta característica puede ser de mucha utilidad para repetir valores en varias líneas:"
   ]
  },
  {
   "cell_type": "code",
   "execution_count": null,
   "metadata": {},
   "outputs": [],
   "source": [
    "print(\"{0} x 1 = {0}\\n{0} x 2 = {1}\".format(2, 4))"
   ]
  },
  {
   "cell_type": "markdown",
   "metadata": {},
   "source": [
    "El formato de visualización no solo sirve para especificar el número de decimales a mostrar en caso de un dato tipo `float`, sin que además permite especificar el tamaño del espacio de impresión de una cadena y algunos otros trucos del método `format()`:"
   ]
  },
  {
   "cell_type": "code",
   "execution_count": null,
   "metadata": {},
   "outputs": [],
   "source": [
    "print()\n",
    "print(\"{:^40}\".format(\"ALUMNOS MATRICULADOS\"))\n",
    "print(\"{:^40}\".format(\"====================\"))\n",
    "print()\n",
    "print(\"{:^20} {:^20}\".format(\"NOMBRE\", \"CODIGO\"))\n",
    "print(\"{:^20} {:^20}\".format(\"------\", \"------\"))\n",
    "print(\"{:.<30}{}\".format(\"Armando Paredes \", \" a20177676\"))\n",
    "print(\"{:.<30}{}\".format(\"Elmer Curio \", \" a20177676\"))"
   ]
  },
  {
   "cell_type": "markdown",
   "metadata": {},
   "source": [
    "### Uso de f-strings\n",
    "A partir de Python 3.6 se puede utilizar una forma más abreviada de controlar el formato de visualización con un `f-string`:"
   ]
  },
  {
   "cell_type": "code",
   "execution_count": null,
   "metadata": {},
   "outputs": [],
   "source": [
    "peso = 82\n",
    "altura = 1.72\n",
    "imc = 28.393726338561386\n",
    "print(f\"{peso} / {altura:.2f} ^2 = {imc:.2f}\")"
   ]
  },
  {
   "cell_type": "markdown",
   "metadata": {},
   "source": [
    "Esta es la opción que se utiliza cada vez con mayor frencuencia por parte de la comunidad de programadores de Python. En este curso utilizaremos de forma indistinta el método format y los f-string."
   ]
  },
  {
   "cell_type": "markdown",
   "metadata": {},
   "source": [
    "## Separación de cadenas: el método split()\n",
    "Otro método útil en la manipulación de cadenas en `split()` que separa una cadena en secciones:"
   ]
  },
  {
   "cell_type": "code",
   "execution_count": null,
   "metadata": {},
   "outputs": [],
   "source": [
    "word1, word2 = \"Dos palabras\".split()\n",
    "print(word1)\n",
    "print(word2)"
   ]
  },
  {
   "cell_type": "markdown",
   "metadata": {},
   "source": [
    "Esto se puede combinar con el ingreso interactivo de datos para obtener varios datos en una sola consulta:"
   ]
  },
  {
   "cell_type": "code",
   "execution_count": null,
   "metadata": {},
   "outputs": [],
   "source": [
    "nombre, apellido = input(\"Ingrese su nombre y apellido: \").split()\n",
    "print(apellido + \",\", nombre)"
   ]
  },
  {
   "cell_type": "markdown",
   "metadata": {},
   "source": [
    "El caracter que se utiliza como separador es el espacio en blanco, pero se puede especificar un caracter de separación diferente como argumento del método `split()`:"
   ]
  },
  {
   "cell_type": "code",
   "execution_count": null,
   "metadata": {},
   "outputs": [],
   "source": [
    "hh, mm, ss = input(\"Ingrese la hora actual [hh:mm:ss]: \").split(\":\")\n",
    "print(\"Hora:\", hh)\n",
    "print(\"Minuto:\", mm)\n",
    "print(\"Segundo:\", ss)"
   ]
  },
  {
   "cell_type": "markdown",
   "metadata": {},
   "source": [
    "Hay que notar que se tiene que tener cuidado al momento de realizar un *type cast* al utilizar el método `split()` pues los cambios de tipos de variables se deben realizar sobre cada uno de los datos de forma independiente:"
   ]
  },
  {
   "cell_type": "code",
   "execution_count": null,
   "metadata": {},
   "outputs": [],
   "source": [
    "n1, n2 = input(\"Ingrese dos numeros: \").split()\n",
    "#n1 = int(n1); n2 = int(n2)\n",
    "print(\"{} + {} = {}\".format(n1, n2, int(n1)+int(n2)))"
   ]
  },
  {
   "cell_type": "markdown",
   "metadata": {},
   "source": [
    "## Bloque try... except\n",
    "En Python, se pueden agrupar instrucciones en un bloque de código, utilizando el caracter `:` y la sangría para especificar el inicio y fin del bloque. Esta sintaxis permite tener un código *ordenado* y *bonito*, siendo esto último una caraterística de un código en Python: los código escritos en Python con bonitos.\n",
    "\n",
    "Al colocar un conjunto de instrucciones en un bloque `try... except`, lo que se le indica al interprete de Python es que intente ejecutar todas las instrucciones que se encuentran en el bloque; si una de estas genera una excepción, la ejecución del bloque debe de detenerse y saltar a la sección `except`. Se puede especificar el tipode excepción para que salte a la excepción especificamente generada."
   ]
  },
  {
   "cell_type": "code",
   "execution_count": null,
   "metadata": {},
   "outputs": [],
   "source": [
    "n1, n2 = input(\"Ingrese dos numeros: \").split()\n",
    "\n",
    "try:\n",
    "    # Intenta ejecutar todo el bloque\n",
    "    # y si algoi sale mal, salta a except\n",
    "    n1 = int(n1); n2 = int(n2)\n",
    "\n",
    "    print(\"{} + {} = {:.2f}\".format(n1, n2, n1 + n2))\n",
    "    print(\"{} - {} = {:.2f}\".format(n1, n2, n1 - n2))\n",
    "    print(\"{} x {} = {:.2f}\".format(n1, n2, n1 * n2))\n",
    "    print(\"{} / {} = {:.2f}\".format(n1, n2, n1 / n2))\n",
    "    print(\"{} ** {} = {:.2f}\".format(n1, n2, n1 ** n2))\n",
    "    print(\"{} % {} = {}\".format(n1, n2, n1 % n2))    \n",
    "\n",
    "except ValueError:\n",
    "    print(\"\\aLos numeros ingresados deben ser enteros\")\n",
    "    \n",
    "except ZeroDivisionError:\n",
    "    print(\"\\a\\nNo se puede realizar la division: Division por cero!!!\")\n"
   ]
  }
 ],
 "metadata": {
  "kernelspec": {
   "display_name": "Python 3",
   "language": "python",
   "name": "python3"
  },
  "language_info": {
   "codemirror_mode": {
    "name": "ipython",
    "version": 3
   },
   "file_extension": ".py",
   "mimetype": "text/x-python",
   "name": "python",
   "nbconvert_exporter": "python",
   "pygments_lexer": "ipython3",
   "version": "3.8.3"
  }
 },
 "nbformat": 4,
 "nbformat_minor": 4
}
