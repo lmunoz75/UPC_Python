{
 "cells": [
  {
   "cell_type": "markdown",
   "metadata": {
    "user_expressions": []
   },
   "source": [
    "# Funciones definidas por el usuario\n",
    "\n",
    "![](https://aprendepython.es/_images/function-definition.jpg)\n",
    "\n",
    "Ref: https://aprendepython.es/core/modularity/functions/\n",
    "\n",
    "<div style=\"text-align: right\">Autor: Luis A. Muñoz - 2024 </div>"
   ]
  },
  {
   "cell_type": "markdown",
   "metadata": {},
   "source": [
    "Ideas clave:\n",
    "\n",
    "* Las funciones son scripts autocontenidos que pueden tomar datos de entrada para retornar datos de salida\n",
    "* La programación estructurada toma un proyecto y lo separa en sus partes consistuyentes, independientes entre si.\n",
    "* Utilizar funciones en un script sigue la estrategia \"divide y vencerás\" para resolver problemas complejos\n",
    "\n",
    "Informacion:\n",
    "* https://devcode.la/tutoriales/funciones-en-python/\n",
    "* https://book.pythontips.com/en/latest/map_filter.html\n",
    "* https://www.w3schools.com/python/python_functions.asp\n",
    "\n",
    "---"
   ]
  },
  {
   "cell_type": "markdown",
   "metadata": {},
   "source": [
    "## Definición de funciones\n",
    "En Python, una función se define con la palabra reservada `def`. La sintaxis completa en la definición de una función es la siguiente:"
   ]
  },
  {
   "cell_type": "code",
   "execution_count": null,
   "metadata": {},
   "outputs": [],
   "source": [
    "def suma_num(num1, num2):\n",
    "    '''suma_num(num1, num2): Retorna la suma de dos numeros\n",
    "    \n",
    "    Parametros:\n",
    "        - num1, num2: int\n",
    "        \n",
    "    Uso:\n",
    "        suma_num(3, 5) -> 8\n",
    "    '''\n",
    "    return num1 + num2"
   ]
  },
  {
   "cell_type": "markdown",
   "metadata": {},
   "source": [
    "La función anterior define un \"procedimiento\" que requiere de dos valores de entrada para retornar un valor de salida que será igual a la suma de los valores de entrada. Esta función tiene un bloque de comentarios utilizando `\"\"\"` que define el `docstring`, un cadena de texto que estará asociada a la auyda de la función:"
   ]
  },
  {
   "cell_type": "code",
   "execution_count": null,
   "metadata": {},
   "outputs": [],
   "source": [
    "suma_num?"
   ]
  },
  {
   "cell_type": "markdown",
   "metadata": {
    "user_expressions": []
   },
   "source": [
    "Una función es un programa autocontenido que resuelve un problema y que se utiliza directamente: por ejemplo, cuando usted utiliza la función `randrange` no inspecciona lo que hace el código de la función sino que la utiliza directamente y si necesita saber como utilizarla, consulta la ayuda de `randrange`. La misma idea debe de estar en su mente cuando defina sus propias funciones: una vez resuelto el çodigo, la utiliza y pasa a ser una herramienta en su arsenal de herramientas de programación."
   ]
  },
  {
   "cell_type": "code",
   "execution_count": null,
   "metadata": {},
   "outputs": [],
   "source": [
    "print(suma_num(1, 2))"
   ]
  },
  {
   "cell_type": "markdown",
   "metadata": {},
   "source": [
    "**La funcion anterior retorna un valor, no lo imprime**. Debe de considerar esto con mucho ciudado y entendiendo bien sus implicancias. Por ejemplo, si tuviera un script que utilizara la funcion anterior de la forma:\n",
    "\n",
    "    a = 10\n",
    "    b = 20\n",
    "    resp = suma(a, b)\n",
    "    \n",
    "Su código respondería de forma correcta porque `suma` retorna un valor que es asignado por el operador `=` a la variable `resp`. Si por el contario, su funcion *imprimiera* el resultado el script anterior mostraría el resultado de la suma de `a` y `b`, pero `resp` no tendría ningún valor (`None`).\n",
    "\n",
    "¡Evite ese error de principiante!"
   ]
  },
  {
   "cell_type": "markdown",
   "metadata": {},
   "source": [
    "## Variables locales y globales"
   ]
  },
  {
   "cell_type": "markdown",
   "metadata": {},
   "source": [
    "Cuando se define una función se especifican operaciones que utilizan variables que solo tienen exsistencia en el interior de la función. Esto significa que las variables de una función tienen *alcance local*. Por ejemplo:"
   ]
  },
  {
   "cell_type": "code",
   "execution_count": null,
   "metadata": {},
   "outputs": [],
   "source": [
    "nombre = \"Elvio\"\n",
    "\n",
    "def cambia_nombre():\n",
    "    nombre = \"Elsa\"\n",
    "\n",
    "cambia_nombre()"
   ]
  },
  {
   "cell_type": "markdown",
   "metadata": {},
   "source": [
    "Si llama a la función `cambia_nombre()` (note que no tiene argumentos o parametros de entrada), ¿cual será el valor de la variable `nombre`?"
   ]
  },
  {
   "cell_type": "code",
   "execution_count": null,
   "metadata": {},
   "outputs": [],
   "source": [
    "print(nombre)"
   ]
  },
  {
   "cell_type": "markdown",
   "metadata": {
    "user_expressions": []
   },
   "source": [
    "La variable `nombre` con el valor \"Elvio\" esta fuera de la función; la variable `nombre` con el valor \"Elsa\" esta dentro de la función y tiene alcance local, es decir, que solo existe en el interior de la función. Cuando la función termina, la variable local `nombre` deja de existír (la confusión se debe a que ambas variables tienen el mismo nombre, pero ocupan diferentes posiciones de memoria).\n",
    "\n",
    "Note otra cosa: la función no tiene la instrucción `return`. Cuando esto sucede, Python ejecutará automáticamente la instrucción `return None`.\n",
    "\n",
    "Se puede modificar el alcance de una variable con la palabra reservada `global`. Esto hace que una variable este disponible tanto dentro como fuera de una función (es decir, el alcance de la variable es \"global\")."
   ]
  },
  {
   "cell_type": "code",
   "execution_count": null,
   "metadata": {},
   "outputs": [],
   "source": [
    "nombre = \"Elvio\"\n",
    "\n",
    "def cambia_nombre():\n",
    "    global nombre\n",
    "    nombre = \"Elsa\"\n",
    "\n",
    "cambia_nombre()\n",
    "\n",
    "print(nombre)"
   ]
  },
  {
   "cell_type": "markdown",
   "metadata": {
    "user_expressions": []
   },
   "source": [
    "## La regla LEGB: Local, Enclosing, Global, Built-In\n",
    "La defincion de \"alcance\" de una variable en Python, en términos generales, se resume con la regla LEGB.\n",
    "\n",
    "- Primero, se utiliza una variable dentro del ámbito local\n",
    "- Luego, se utiliza una variable que esté dentro de un bloque al que pertenece la instrucción\n",
    "- Luego, se utiliza una variable en el script de forma global\n",
    "- Al final, se busca en los BIFs de Python.\n",
    "\n",
    "Considere el siguiente ejemplo:"
   ]
  },
  {
   "cell_type": "code",
   "execution_count": 9,
   "metadata": {},
   "outputs": [
    {
     "name": "stdout",
     "output_type": "stream",
     "text": [
      "var interna\n",
      "var global\n"
     ]
    }
   ],
   "source": [
    "var = \"var global\"\n",
    "\n",
    "def fun_externa():\n",
    "    var = \"var externa\"   # (2) Comente esta linea\n",
    "    \n",
    "    def fun_interna():\n",
    "        var = \"var interna\"   # (1) Comente esta linea\n",
    "        print(var)\n",
    "    \n",
    "    fun_interna()\n",
    "    print(var)\n",
    "    \n",
    "fun_externa()"
   ]
  },
  {
   "cell_type": "markdown",
   "metadata": {
    "user_expressions": []
   },
   "source": [
    "Puede ver que si ejecuta el script anterior se mostraran que ambas funciones imprimen sus variables locales.\n",
    "\n",
    "Si se comenta la línea (1) la funcion `fun_interna` imprime una variable que ya no esta definida, por lo que busca la variable que este dentro del bloque donde se encuentra y por lo tanto imprimirá \"var_externa\" dos veces.\n",
    "\n",
    "Si comenta a su vez la línea (2) tanto la función `fun_interna` como `fun_externa` ya no tienen variables locales, por lo que utilizarán la variable del script que es la variable global, es decir se mostrará dos veces la impresión \"var_global\".\n",
    "\n",
    "¿Qué pasará si solo comenta la línea (2)? Tiene sentido el resultado?\n",
    "\n",
    "Los BIFs de Python son las funciones de Python definidas en la biblioteca estandar. Estas están agrupadas en una librería llamada `builtins`:"
   ]
  },
  {
   "cell_type": "code",
   "execution_count": 10,
   "metadata": {
    "scrolled": true,
    "tags": []
   },
   "outputs": [
    {
     "data": {
      "text/plain": [
       "['ArithmeticError',\n",
       " 'AssertionError',\n",
       " 'AttributeError',\n",
       " 'BaseException',\n",
       " 'BlockingIOError',\n",
       " 'BrokenPipeError',\n",
       " 'BufferError',\n",
       " 'BytesWarning',\n",
       " 'ChildProcessError',\n",
       " 'ConnectionAbortedError',\n",
       " 'ConnectionError',\n",
       " 'ConnectionRefusedError',\n",
       " 'ConnectionResetError',\n",
       " 'DeprecationWarning',\n",
       " 'EOFError',\n",
       " 'Ellipsis',\n",
       " 'EnvironmentError',\n",
       " 'Exception',\n",
       " 'False',\n",
       " 'FileExistsError',\n",
       " 'FileNotFoundError',\n",
       " 'FloatingPointError',\n",
       " 'FutureWarning',\n",
       " 'GeneratorExit',\n",
       " 'IOError',\n",
       " 'ImportError',\n",
       " 'ImportWarning',\n",
       " 'IndentationError',\n",
       " 'IndexError',\n",
       " 'InterruptedError',\n",
       " 'IsADirectoryError',\n",
       " 'KeyError',\n",
       " 'KeyboardInterrupt',\n",
       " 'LookupError',\n",
       " 'MemoryError',\n",
       " 'ModuleNotFoundError',\n",
       " 'NameError',\n",
       " 'None',\n",
       " 'NotADirectoryError',\n",
       " 'NotImplemented',\n",
       " 'NotImplementedError',\n",
       " 'OSError',\n",
       " 'OverflowError',\n",
       " 'PendingDeprecationWarning',\n",
       " 'PermissionError',\n",
       " 'ProcessLookupError',\n",
       " 'RecursionError',\n",
       " 'ReferenceError',\n",
       " 'ResourceWarning',\n",
       " 'RuntimeError',\n",
       " 'RuntimeWarning',\n",
       " 'StopAsyncIteration',\n",
       " 'StopIteration',\n",
       " 'SyntaxError',\n",
       " 'SyntaxWarning',\n",
       " 'SystemError',\n",
       " 'SystemExit',\n",
       " 'TabError',\n",
       " 'TimeoutError',\n",
       " 'True',\n",
       " 'TypeError',\n",
       " 'UnboundLocalError',\n",
       " 'UnicodeDecodeError',\n",
       " 'UnicodeEncodeError',\n",
       " 'UnicodeError',\n",
       " 'UnicodeTranslateError',\n",
       " 'UnicodeWarning',\n",
       " 'UserWarning',\n",
       " 'ValueError',\n",
       " 'Warning',\n",
       " 'WindowsError',\n",
       " 'ZeroDivisionError',\n",
       " '__IPYTHON__',\n",
       " '__build_class__',\n",
       " '__debug__',\n",
       " '__doc__',\n",
       " '__import__',\n",
       " '__loader__',\n",
       " '__name__',\n",
       " '__package__',\n",
       " '__spec__',\n",
       " 'abs',\n",
       " 'all',\n",
       " 'any',\n",
       " 'ascii',\n",
       " 'bin',\n",
       " 'bool',\n",
       " 'breakpoint',\n",
       " 'bytearray',\n",
       " 'bytes',\n",
       " 'callable',\n",
       " 'chr',\n",
       " 'classmethod',\n",
       " 'compile',\n",
       " 'complex',\n",
       " 'copyright',\n",
       " 'credits',\n",
       " 'delattr',\n",
       " 'dict',\n",
       " 'dir',\n",
       " 'display',\n",
       " 'divmod',\n",
       " 'enumerate',\n",
       " 'eval',\n",
       " 'exec',\n",
       " 'filter',\n",
       " 'float',\n",
       " 'format',\n",
       " 'frozenset',\n",
       " 'get_ipython',\n",
       " 'getattr',\n",
       " 'globals',\n",
       " 'hasattr',\n",
       " 'hash',\n",
       " 'help',\n",
       " 'hex',\n",
       " 'id',\n",
       " 'input',\n",
       " 'int',\n",
       " 'isinstance',\n",
       " 'issubclass',\n",
       " 'iter',\n",
       " 'len',\n",
       " 'license',\n",
       " 'list',\n",
       " 'locals',\n",
       " 'map',\n",
       " 'max',\n",
       " 'memoryview',\n",
       " 'min',\n",
       " 'next',\n",
       " 'object',\n",
       " 'oct',\n",
       " 'open',\n",
       " 'ord',\n",
       " 'pow',\n",
       " 'print',\n",
       " 'property',\n",
       " 'range',\n",
       " 'repr',\n",
       " 'reversed',\n",
       " 'round',\n",
       " 'set',\n",
       " 'setattr',\n",
       " 'slice',\n",
       " 'sorted',\n",
       " 'staticmethod',\n",
       " 'str',\n",
       " 'sum',\n",
       " 'super',\n",
       " 'tuple',\n",
       " 'type',\n",
       " 'vars',\n",
       " 'zip']"
      ]
     },
     "execution_count": 10,
     "metadata": {},
     "output_type": "execute_result"
    }
   ],
   "source": [
    "import builtins\n",
    "\n",
    "dir(builtins)"
   ]
  },
  {
   "cell_type": "markdown",
   "metadata": {},
   "source": [
    "Puede reconocer en esta lista funciones como `print`, `sum`, `len`, `min`, `max`, etc. Estas __no__ pueden ser utilizadas como nombre de variables o funciones ya que son parte de la regla de alcance de una variable. Por ejemplo:"
   ]
  },
  {
   "cell_type": "code",
   "execution_count": 12,
   "metadata": {},
   "outputs": [
    {
     "ename": "TypeError",
     "evalue": "min() takes 0 positional arguments but 1 was given",
     "output_type": "error",
     "traceback": [
      "\u001b[1;31m---------------------------------------------------------------------------\u001b[0m",
      "\u001b[1;31mTypeError\u001b[0m                                 Traceback (most recent call last)",
      "\u001b[1;32m<ipython-input-12-168ad092c736>\u001b[0m in \u001b[0;36m<module>\u001b[1;34m\u001b[0m\n\u001b[0;32m      3\u001b[0m \u001b[1;33m\u001b[0m\u001b[0m\n\u001b[0;32m      4\u001b[0m \u001b[0mlista\u001b[0m \u001b[1;33m=\u001b[0m \u001b[1;33m[\u001b[0m\u001b[1;36m12\u001b[0m\u001b[1;33m,\u001b[0m \u001b[1;36m15\u001b[0m\u001b[1;33m,\u001b[0m \u001b[1;36m26\u001b[0m\u001b[1;33m,\u001b[0m \u001b[1;36m72\u001b[0m\u001b[1;33m,\u001b[0m \u001b[1;36m33\u001b[0m\u001b[1;33m]\u001b[0m\u001b[1;33m\u001b[0m\u001b[1;33m\u001b[0m\u001b[0m\n\u001b[1;32m----> 5\u001b[1;33m \u001b[0mprint\u001b[0m\u001b[1;33m(\u001b[0m\u001b[0mmin\u001b[0m\u001b[1;33m(\u001b[0m\u001b[0mlista\u001b[0m\u001b[1;33m)\u001b[0m\u001b[1;33m)\u001b[0m\u001b[1;33m\u001b[0m\u001b[1;33m\u001b[0m\u001b[0m\n\u001b[0m",
      "\u001b[1;31mTypeError\u001b[0m: min() takes 0 positional arguments but 1 was given"
     ]
    }
   ],
   "source": [
    "def min():\n",
    "    pass\n",
    "\n",
    "lista = [12, 15, 26, 72, 33]\n",
    "print(min(lista))"
   ]
  },
  {
   "cell_type": "markdown",
   "metadata": {},
   "source": [
    "Al interntar mostrar el valor mínimo de una lista, el error nos indica que \"min no tiene argumentos y le hemos pasado uno\". Esto indica que estamos intentando llamar a la función \"min\" que hemos escrito y no al BIF `min`. Con esta acción ya \"deshabilitamos la función `min` (intente borrar o comentar la función \"min\". No funcionará). Debemos eliminar la definción de nuestra función \"min\" para que Python pueda volver a reconocer el BIF `min`:"
   ]
  },
  {
   "cell_type": "code",
   "execution_count": 13,
   "metadata": {},
   "outputs": [],
   "source": [
    "del(min)"
   ]
  },
  {
   "cell_type": "code",
   "execution_count": 14,
   "metadata": {},
   "outputs": [
    {
     "name": "stdout",
     "output_type": "stream",
     "text": [
      "12\n"
     ]
    }
   ],
   "source": [
    "lista = [12, 15, 26, 72, 33]\n",
    "print(min(lista))"
   ]
  },
  {
   "cell_type": "markdown",
   "metadata": {},
   "source": [
    "Asi que hay que mantenerse alejado de las palabras reservadas de Python y los BIF tanto para el nombre de las variables como para el nombre de las funciones. El editor de codigo ayuda en este proceso pues a ambas les asigna un color específico (en este caso, el verde) para distinguirlas."
   ]
  },
  {
   "cell_type": "markdown",
   "metadata": {
    "user_expressions": []
   },
   "source": [
    "---\n",
    "## Keywords\n",
    "Al momento de definir una función, lo más común es que tenga parametros o argumentos de entrada. Estos argumentos se definen como variables pero pueden utilizarse en el momento de llamar a la función especificando el nombre del argumento, a diferencia de la \"definición posicional\". Esto es:"
   ]
  },
  {
   "cell_type": "code",
   "execution_count": null,
   "metadata": {},
   "outputs": [],
   "source": [
    "def resta_num(num1, num2):\n",
    "    return num1 - num2"
   ]
  },
  {
   "cell_type": "markdown",
   "metadata": {},
   "source": [
    "Para ejecutar esta función se puede utilizar la notación posicional:"
   ]
  },
  {
   "cell_type": "code",
   "execution_count": null,
   "metadata": {},
   "outputs": [],
   "source": [
    "print(resta_num(10, 3))"
   ]
  },
  {
   "cell_type": "markdown",
   "metadata": {},
   "source": [
    "Pero también se puede utilizar los nombres de los parametros como \"keywords\" y especificar que valor es asignado a que parametro:"
   ]
  },
  {
   "cell_type": "code",
   "execution_count": null,
   "metadata": {},
   "outputs": [],
   "source": [
    "print(resta_num(num1=10, num2=3))"
   ]
  },
  {
   "cell_type": "markdown",
   "metadata": {},
   "source": [
    "Esto es un uso típico de Python (recuerde el keyword `end=''` en `print()`, por ejemplo). De esta forma, la posición de un argumento al momento de llamar a una función puede personalizarse:"
   ]
  },
  {
   "cell_type": "code",
   "execution_count": null,
   "metadata": {},
   "outputs": [],
   "source": [
    "print(resta_num(num2=3, num1=10))"
   ]
  },
  {
   "cell_type": "markdown",
   "metadata": {},
   "source": [
    "Pero ojo, aca hay una regla: __no se puede indicar un argumento posicional luego de un argumento por keyword__: "
   ]
  },
  {
   "cell_type": "code",
   "execution_count": 1,
   "metadata": {},
   "outputs": [
    {
     "ename": "SyntaxError",
     "evalue": "positional argument follows keyword argument (<ipython-input-1-2db3273db33a>, line 1)",
     "output_type": "error",
     "traceback": [
      "\u001b[1;36m  File \u001b[1;32m\"<ipython-input-1-2db3273db33a>\"\u001b[1;36m, line \u001b[1;32m1\u001b[0m\n\u001b[1;33m    print(resta_num(num1=10, 3))\u001b[0m\n\u001b[1;37m                             ^\u001b[0m\n\u001b[1;31mSyntaxError\u001b[0m\u001b[1;31m:\u001b[0m positional argument follows keyword argument\n"
     ]
    }
   ],
   "source": [
    "print(resta_num(num1=10, 3))"
   ]
  },
  {
   "cell_type": "markdown",
   "metadata": {
    "user_expressions": []
   },
   "source": [
    "## Parametros con valores por defecto\n",
    "Se puede definir valores por defecto para los parametros de entrada. Por ejemplo:"
   ]
  },
  {
   "cell_type": "code",
   "execution_count": null,
   "metadata": {},
   "outputs": [],
   "source": [
    "print(resta_num(10))"
   ]
  },
  {
   "cell_type": "markdown",
   "metadata": {},
   "source": [
    "La ejecución de esta función genera una excepción del tipo `TypeError`, con el mensaje de error que indica que falta un argumento posicional: `num2`. Modifiquemos la función especificando que el parametro `num2` tendrá 0 como valor por defecto :"
   ]
  },
  {
   "cell_type": "code",
   "execution_count": null,
   "metadata": {},
   "outputs": [],
   "source": [
    "def resta_num(num1, num2=0):\n",
    "    return num1 - num2"
   ]
  },
  {
   "cell_type": "markdown",
   "metadata": {},
   "source": [
    "Esta vez, la función no retornará una excepción con la llamada anterior:"
   ]
  },
  {
   "cell_type": "code",
   "execution_count": null,
   "metadata": {},
   "outputs": [],
   "source": [
    "print(resta_num(10))"
   ]
  },
  {
   "cell_type": "markdown",
   "metadata": {},
   "source": [
    "Ahora, la función puede ser llamada de muchas formas:"
   ]
  },
  {
   "cell_type": "code",
   "execution_count": null,
   "metadata": {},
   "outputs": [],
   "source": [
    "print(resta_num(12, 5))\n",
    "print(resta_num(num2=5, num1=12))\n",
    "print(resta_num(12))"
   ]
  },
  {
   "cell_type": "markdown",
   "metadata": {
    "user_expressions": []
   },
   "source": [
    "Pero tenga mucho cuidado: **no todas las palabras especificada en los parametros son keywords**. Considere la función `sum()`:"
   ]
  },
  {
   "cell_type": "code",
   "execution_count": 5,
   "metadata": {},
   "outputs": [
    {
     "data": {
      "text/plain": [
       "\u001b[1;31mSignature:\u001b[0m \u001b[0msum\u001b[0m\u001b[1;33m(\u001b[0m\u001b[0miterable\u001b[0m\u001b[1;33m,\u001b[0m \u001b[1;33m/\u001b[0m\u001b[1;33m,\u001b[0m \u001b[0mstart\u001b[0m\u001b[1;33m=\u001b[0m\u001b[1;36m0\u001b[0m\u001b[1;33m)\u001b[0m\u001b[1;33m\u001b[0m\u001b[1;33m\u001b[0m\u001b[0m\n",
       "\u001b[1;31mDocstring:\u001b[0m\n",
       "Return the sum of a 'start' value (default: 0) plus an iterable of numbers\n",
       "\n",
       "When the iterable is empty, return the start value.\n",
       "This function is intended specifically for use with numeric values and may\n",
       "reject non-numeric types.\n",
       "\u001b[1;31mType:\u001b[0m      builtin_function_or_method"
      ]
     },
     "metadata": {},
     "output_type": "display_data"
    }
   ],
   "source": [
    "sum?"
   ]
  },
  {
   "cell_type": "markdown",
   "metadata": {
    "user_expressions": []
   },
   "source": [
    "Lea la ayuda: la función `sum()` retorna la suma de todos los valores de un iterable _más un valor inicial start=0_. Es decir:"
   ]
  },
  {
   "cell_type": "code",
   "execution_count": 1,
   "metadata": {},
   "outputs": [
    {
     "name": "stdout",
     "output_type": "stream",
     "text": [
      "15\n"
     ]
    }
   ],
   "source": [
    "print(sum([1, 2, 3, 4, 5]))"
   ]
  },
  {
   "cell_type": "code",
   "execution_count": 2,
   "metadata": {},
   "outputs": [
    {
     "name": "stdout",
     "output_type": "stream",
     "text": [
      "25\n"
     ]
    }
   ],
   "source": [
    "print(sum([1, 2, 3, 4, 5], 10))"
   ]
  },
  {
   "cell_type": "code",
   "execution_count": 7,
   "metadata": {},
   "outputs": [
    {
     "name": "stdout",
     "output_type": "stream",
     "text": [
      "25\n"
     ]
    }
   ],
   "source": [
    "print(sum([1, 2, 3, 4, 5], start=10))"
   ]
  },
  {
   "cell_type": "code",
   "execution_count": 9,
   "metadata": {},
   "outputs": [
    {
     "ename": "TypeError",
     "evalue": "sum() takes at least 1 positional argument (0 given)",
     "output_type": "error",
     "traceback": [
      "\u001b[1;31m---------------------------------------------------------------------------\u001b[0m",
      "\u001b[1;31mTypeError\u001b[0m                                 Traceback (most recent call last)",
      "Cell \u001b[1;32mIn[9], line 1\u001b[0m\n\u001b[1;32m----> 1\u001b[0m \u001b[38;5;28mprint\u001b[39m(\u001b[38;5;28;43msum\u001b[39;49m\u001b[43m(\u001b[49m\u001b[43miterable\u001b[49m\u001b[38;5;241;43m=\u001b[39;49m\u001b[43m[\u001b[49m\u001b[38;5;241;43m1\u001b[39;49m\u001b[43m,\u001b[49m\u001b[43m \u001b[49m\u001b[38;5;241;43m2\u001b[39;49m\u001b[43m,\u001b[49m\u001b[43m \u001b[49m\u001b[38;5;241;43m3\u001b[39;49m\u001b[43m,\u001b[49m\u001b[43m \u001b[49m\u001b[38;5;241;43m4\u001b[39;49m\u001b[43m,\u001b[49m\u001b[43m \u001b[49m\u001b[38;5;241;43m5\u001b[39;49m\u001b[43m]\u001b[49m\u001b[43m,\u001b[49m\u001b[43m \u001b[49m\u001b[43mstart\u001b[49m\u001b[38;5;241;43m=\u001b[39;49m\u001b[38;5;241;43m10\u001b[39;49m\u001b[43m)\u001b[49m)\n",
      "\u001b[1;31mTypeError\u001b[0m: sum() takes at least 1 positional argument (0 given)"
     ]
    }
   ],
   "source": [
    "print(sum(iterable=[1, 2, 3, 4, 5], start=10))"
   ]
  },
  {
   "cell_type": "markdown",
   "metadata": {
    "user_expressions": []
   },
   "source": [
    "La palabra `iterable` hace referencia o un iterable y no es un _keyword_ llamado iterable. Esto se especifica con el caracter `/` como un parámetro en la función. Todas los parametros a la izquierda de este caracter son referencias, mientras que los parametros que estan a la derecha si son keywords (y pueden expresarse por su nombre o por su posición). Este atento a esta información."
   ]
  },
  {
   "cell_type": "markdown",
   "metadata": {},
   "source": [
    "## Retorno de dos o más variables\n",
    "Una función puede retornar más de un valor:"
   ]
  },
  {
   "cell_type": "code",
   "execution_count": null,
   "metadata": {},
   "outputs": [],
   "source": [
    "def mult_div(num1, num2):\n",
    "    return num1*num2, num1/num2"
   ]
  },
  {
   "cell_type": "markdown",
   "metadata": {},
   "source": [
    "Esta función retornará varios valores separados por `,` y Python reconocerá esto como una tupla."
   ]
  },
  {
   "cell_type": "code",
   "execution_count": null,
   "metadata": {},
   "outputs": [],
   "source": [
    "res = mult_div(3, 2)\n",
    "\n",
    "print(type(res))\n",
    "\n",
    "print(res[0])\n",
    "print(res[1])"
   ]
  },
  {
   "cell_type": "markdown",
   "metadata": {},
   "source": [
    "En la practica, se utiliza el desempaquetamiento de tuplas para llamar a esta función:"
   ]
  },
  {
   "cell_type": "code",
   "execution_count": null,
   "metadata": {},
   "outputs": [],
   "source": [
    "m, d = mult_div(3, 2)\n",
    "\n",
    "print(m)\n",
    "print(d)"
   ]
  },
  {
   "cell_type": "markdown",
   "metadata": {
    "user_expressions": []
   },
   "source": [
    "## Número variable de parametros de entrada\n",
    "Es posible que se requiera definír una función que requiera un número variable de parametros del tipo:\n",
    "    \n",
    "    def suma_todos(num1, num2, num3, ...)\n",
    "    \n",
    "Y no será posible saber de antemano cuantos parámetros habrá que colocar. Para esto utilizaremos el operador `*` (el operador \"splat\"). Cuando se coloca el caracter `*` antes de una lista o tupla esta se desempaqueta. Considere las siguientes instrucciones:"
   ]
  },
  {
   "cell_type": "code",
   "execution_count": 10,
   "metadata": {},
   "outputs": [
    {
     "name": "stdout",
     "output_type": "stream",
     "text": [
      "[10, 20, 30]\n",
      "10 20 30\n"
     ]
    }
   ],
   "source": [
    "nums = [10, 20, 30]\n",
    "\n",
    "print(nums)\n",
    "print(*nums)"
   ]
  },
  {
   "cell_type": "markdown",
   "metadata": {},
   "source": [
    "Observe que la primera impresion muestra una lista. En cambio, la segunda impresión muestra una secuencia de valores sueltos, como ejecutar `print(10, 20, 30)`; es decir el operador `*` ha desempaquetado los valores de una lista y los ha ingresado a la función print. Esto se puede utilizar para definir todos los argumentos posibles de una función:"
   ]
  },
  {
   "cell_type": "code",
   "execution_count": null,
   "metadata": {},
   "outputs": [],
   "source": [
    "def suma_todos(*args):\n",
    "    return sum(args)"
   ]
  },
  {
   "cell_type": "code",
   "execution_count": null,
   "metadata": {},
   "outputs": [],
   "source": [
    "print(suma_todos(1))\n",
    "print(suma_todos(1, 2, 3, 4, 5))"
   ]
  },
  {
   "cell_type": "markdown",
   "metadata": {},
   "source": [
    "Este operador es utilizado con frecuencia en la definición de las funciones de Python. Considere la ayuda de la función `range()`:"
   ]
  },
  {
   "cell_type": "code",
   "execution_count": 11,
   "metadata": {},
   "outputs": [
    {
     "data": {
      "text/plain": [
       "\u001b[1;31mInit signature:\u001b[0m \u001b[0mrange\u001b[0m\u001b[1;33m(\u001b[0m\u001b[0mself\u001b[0m\u001b[1;33m,\u001b[0m \u001b[1;33m/\u001b[0m\u001b[1;33m,\u001b[0m \u001b[1;33m*\u001b[0m\u001b[0margs\u001b[0m\u001b[1;33m,\u001b[0m \u001b[1;33m**\u001b[0m\u001b[0mkwargs\u001b[0m\u001b[1;33m)\u001b[0m\u001b[1;33m\u001b[0m\u001b[1;33m\u001b[0m\u001b[0m\n",
       "\u001b[1;31mDocstring:\u001b[0m     \n",
       "range(stop) -> range object\n",
       "range(start, stop[, step]) -> range object\n",
       "\n",
       "Return an object that produces a sequence of integers from start (inclusive)\n",
       "to stop (exclusive) by step.  range(i, j) produces i, i+1, i+2, ..., j-1.\n",
       "start defaults to 0, and stop is omitted!  range(4) produces 0, 1, 2, 3.\n",
       "These are exactly the valid indices for a list of 4 elements.\n",
       "When step is given, it specifies the increment (or decrement).\n",
       "\u001b[1;31mType:\u001b[0m           type\n",
       "\u001b[1;31mSubclasses:\u001b[0m     "
      ]
     },
     "metadata": {},
     "output_type": "display_data"
    }
   ],
   "source": [
    "range?"
   ]
  },
  {
   "cell_type": "markdown",
   "metadata": {
    "user_expressions": []
   },
   "source": [
    "Los argumentos estan especificados como `*args` (la definición `**kwargs` despempaqueta un diccionario de keywords. Recuerde: si necesita expresar un número indefinido de parametros de entrada, utilice `*args` y considere `args` como una tupla en el interior de la función."
   ]
  },
  {
   "cell_type": "markdown",
   "metadata": {
    "user_expressions": []
   },
   "source": [
    "## Funciones: de más a menos\n",
    "Pensar en funciones es la diferencia entre aproximarse a un problema de programación con un plan de acción que se va resolviendo de lo más fácil a lo más difícil, en lugar de ir avanzando a ciegas. Para esto se debe de considerar atacar siempre un problema de más a menos y no al reves, como suele suceder en quienes inician con la programación. Por ejemplo, considere el siguiente problema: Escriba un script que pida al usuario que escriba el número máximo a evaluar para listar una secuencia de primos:\n",
    "\n",
    "    Ingrese el numero máximo a buscar: 15\n",
    "    \n",
    "    1. 2\n",
    "    2. 3\n",
    "    3. 5\n",
    "    4. 7\n",
    "    5. 11\n",
    "    6. 13\n",
    "    \n",
    "¿Por donde empezaría a resolver este problema? Seguramente considera iniciar con cómo saber si un número es primo o no para insertar esto en una estructura de lazo condicionado para imprimir los resultados. Esto significa que tendrá varios problemas al mismo tiempo.\n",
    "\n",
    "Por otro lado puede considerar escribír una función que retorne una lista de N números primos por lo que debe de considerar cuando un número es primo...\n",
    "\n",
    "Sin embargo, si considera solucionar el problema desde arriba hacia abajo el razonamiento del desarollo lo ira guiando a la solución final.\n",
    "\n",
    "Considere resolver esto desde más a menos: es decir, de la información que ya tiene, definiendo funciones pero sin resolverlas, solo considerando _que funcionarán en el futuro_. Entonces, tendrémos el siguiente script:\n",
    "\n",
    "    n_total = int(input(\"Ingrese el numero maximo a buscar: \"))\n",
    "    l_primos = lista_primos(n_total)\n",
    "\n",
    "    for idx, num in enumerate(l_primos):\n",
    "        print(f\"{idx+1}. {num}\")\n",
    "        \n",
    "Este script resuelve el problema, *siempre y cuando la función `lista_primos(n)` haga lo que se espera que haga*, es decir, retornar una lista con los *n* números primos. Entonces, necesitamos ahora resolver un solo problema: ¿cómo obtener una lista con los números primos?\n",
    "\n",
    "    def lista_primos(n, start=2):\n",
    "        out = []\n",
    "        for num in range(start, n+1):\n",
    "            if es_primo(num):\n",
    "                out.append(num)\n",
    "\n",
    "        return out\n",
    "        \n",
    "O mejor aun, como una lista por comprehensión:\n",
    "\n",
    "    def lista_primos(n, start=2):\n",
    "        return [num for num in range(start, n+1) if es_primo(num)]\n",
    "        \n",
    "Nuevamente, esta función retornará una lista con un número de valores primos especificado con el parámetro de entrada `num`, _siempre y cuando la función `es_primo(n)` haga lo que se espera que haga_, es decir, indicarnos con un valor True o False si `n` es un número primo. Entonces, necesitamos ahora resolver un solo problema nuevamente: ¿cómo saber si un número es primo o no? Resuelva esta función para resolver el script."
   ]
  },
  {
   "cell_type": "code",
   "execution_count": null,
   "metadata": {},
   "outputs": [],
   "source": [
    "# Definimos las funciones antes de que sean invocadas\n",
    "def es_primo(num):\n",
    "    pass\n",
    "\n",
    "\n",
    "def lista_primos(n, start=2):\n",
    "    return [num for num in range(start, n+1) if es_primo(num)]\n",
    "\n",
    "\n",
    "# --- Script ---\n",
    "n_total = int(input(\"Ingrese el numero maximo a buscar: \"))\n",
    "l_primos = lista_primos(n_total, start=2)\n",
    "\n",
    "for idx, num in enumerate(l_primos):\n",
    "    print(f\"{idx+1}. {num}\")\n"
   ]
  },
  {
   "cell_type": "markdown",
   "metadata": {
    "user_expressions": []
   },
   "source": [
    "---\n",
    "## Funciones recursivas\n",
    "Una función recursiva es una función que se llama a si misma. Esto permite resolver con un código muy ligero un problema complejo, siempre y cuando tenga una definición recursiva; es decir, que la definción de un objeto utiliza el mismo objeto como parte de la definión.\n",
    "\n",
    "Considere la definición recursiva del factorial:\n",
    "\n",
    "    n! = (n-1)! x n\n",
    "    0! = 1\n",
    "\n",
    "El factorial de un número es el mismo número multiplicado por el factorial del número anterior: eso es una definición recursiva. Para salir de esta definición recursiva se requiere un _caso base_, un caso en donde la definición no forme parte del resultado, esto es que el factorial de cero es uno.\n",
    "\n",
    "Entonces se puede definír una función que resuelva como calcular el factorial de un número utilizando la definición recursiva: analice el siguiente script con atención y pruebe su funcionamiento:"
   ]
  },
  {
   "cell_type": "code",
   "execution_count": null,
   "metadata": {},
   "outputs": [],
   "source": [
    "def factorial(n):\n",
    "    if n == 0:\n",
    "        return 1\n",
    "    else:\n",
    "        return n * factorial(n-1)\n",
    "    \n",
    "print(factorial(5))"
   ]
  },
  {
   "cell_type": "markdown",
   "metadata": {},
   "source": [
    "¿Lográ ver como se ejecuta una función recursiva? Esto puede ayudarlo a visualizar mejor el problema:\n",
    "\n",
    "![](https://www.ks7000.net.ve/wp-content/uploads/2017/07/factorial-recursion-animated-penjee-com.gif)\n",
    "\n",
    "¿Ahora si? Las soluciones recursivas suelen utilizar muchos recursos de memoria por lo que su uso esta restingido cuando la solución recursiva resulta ser mucho más simple que la solución iterativa, y normalmente va acompañada de un proceso llamada \"memoización\" donde los datos previos se van almacenando para utilizarlos en llamadas recursivas posteriores."
   ]
  },
  {
   "cell_type": "markdown",
   "metadata": {},
   "source": [
    "## Funciones anónimas: Lambda functions\n",
    "Python tiene una característica especial: se pueden asignar funciones a una variable. Considere el siguiente ejemplo:"
   ]
  },
  {
   "cell_type": "code",
   "execution_count": null,
   "metadata": {},
   "outputs": [],
   "source": [
    "def por_tres(n):\n",
    "    return 3 * n\n",
    "\n",
    "print(por_tres(5))"
   ]
  },
  {
   "cell_type": "markdown",
   "metadata": {},
   "source": [
    "Ahora, asigne a una variable la función `por_tres`:"
   ]
  },
  {
   "cell_type": "code",
   "execution_count": null,
   "metadata": {},
   "outputs": [],
   "source": [
    "# Note que no se utiliza \"()\" ya que se esta asigando la función y no su ejecución\n",
    "triplicar = por_tres"
   ]
  },
  {
   "cell_type": "markdown",
   "metadata": {},
   "source": [
    "¿De que tipo será esta variable?"
   ]
  },
  {
   "cell_type": "code",
   "execution_count": null,
   "metadata": {},
   "outputs": [],
   "source": [
    "print(type(triplicar))"
   ]
  },
  {
   "cell_type": "markdown",
   "metadata": {},
   "source": [
    "Esto quiere decir que la variable `triplicar` ahora es una función: una versión o alias de la versión original `por_tres`. Por lo tanto, puede utilizarse como la función original:"
   ]
  },
  {
   "cell_type": "code",
   "execution_count": null,
   "metadata": {},
   "outputs": [],
   "source": [
    "print(triplicar(5))"
   ]
  },
  {
   "cell_type": "markdown",
   "metadata": {},
   "source": [
    "Esto es importante: _la variable `triplicar` tiene el contenido de la función `por_tres`_. Por lo tanto, no es necesario pasarle un función sino solo el contenido de la función. Es esta la razon por la que existen las *funciones anónimas*: funciones que no tienen un nombre específico que luego serán asignados a una variable, ya que lo que importa es su contenido y no su nombre.\n",
    "\n",
    "Una función anónima tiene el nombre genérico de `lambda` y se especifican los parametros de entrada inmediatamente despues. Por ejemplo, el ejemplo anterior se puede volver a hacer de la siguiente forma:"
   ]
  },
  {
   "cell_type": "code",
   "execution_count": null,
   "metadata": {},
   "outputs": [],
   "source": [
    "triplicar = lambda x: 3 * x\n",
    "print(triplicar(5))"
   ]
  },
  {
   "cell_type": "markdown",
   "metadata": {},
   "source": [
    "La instrucción `lambda x: 3 * x` es equivalente a la definición de la función `por_tres`. Compare ambas y observe las similitudes entre una y otra. Una función anónima puede tener varios parametros de entrada."
   ]
  },
  {
   "cell_type": "code",
   "execution_count": null,
   "metadata": {},
   "outputs": [],
   "source": [
    "sumar = lambda x, y: x + y\n",
    "\n",
    "print(sumar(3, 5))"
   ]
  },
  {
   "cell_type": "markdown",
   "metadata": {},
   "source": [
    "Las funciones anónimas suelen ser funciones sencillas de una sola línea para los que escribir una función lambda es más sencillo que definir una función completa. Su uso típico es en combinación con los BIFs `map` y `filter`.\n",
    "\n",
    "### map\n",
    "La función `map` permite afectar por una operación a todos los valores de una lista. Por ejemplo, considere que tiene una lista de valores que quiere afectar por una operación, como duplicar el valor de cada elemento."
   ]
  },
  {
   "cell_type": "code",
   "execution_count": null,
   "metadata": {},
   "outputs": [],
   "source": [
    "lista = [1, 2, 3, 4, 5]\n",
    "\n",
    "for i in range(len(lista)):\n",
    "    lista[i] = lista[i] * 2\n",
    "    \n",
    "print(lista)"
   ]
  },
  {
   "cell_type": "markdown",
   "metadata": {},
   "source": [
    "Esto mismo se puede realizar con la función `map` que tiene la siguiente descripción:\n",
    "\n",
    "    map(func, list)\n",
    "    \n",
    "donde `func` será una función que realiza alguna operación y `list` será la lista cuyos elementos serán afectados por esta operación. La función `map` retorna una \"objeto mapa\" que contendrá las operaciones a realizar a cada uno de los elementos, por lo que si se requiere tener nuevamente una lista con los valores actualizados por la operación, hay que convertir ese mapa en una lista.\n",
    "\n",
    "Por lo tanto, el ejemplo anterior se puede resolver con la siguiente instrucción:"
   ]
  },
  {
   "cell_type": "code",
   "execution_count": null,
   "metadata": {},
   "outputs": [],
   "source": [
    "lista = [1, 2, 3, 4, 5]\n",
    "lista = list(map(lambda x: x * 2, lista))\n",
    "print(lista)"
   ]
  },
  {
   "cell_type": "markdown",
   "metadata": {},
   "source": [
    "### filter\n",
    "La función `filter` permite filtrar los valores de una lista tomando una condición como elemento de exclusión. Por ejemplo, considere que tiene una lista de valores numéricos y desea conservar en la misma lista los valores que sean pares:"
   ]
  },
  {
   "cell_type": "code",
   "execution_count": null,
   "metadata": {},
   "outputs": [],
   "source": [
    "lista = [1, 2, 3, 4, 5, 6, 7, 8, 9, 10]\n",
    "\n",
    "i = 0\n",
    "while i < len(lista):\n",
    "    if lista[i] %2 != 0:\n",
    "        lista.pop(i)\n",
    "    i += 1\n",
    "        \n",
    "print(lista)"
   ]
  },
  {
   "cell_type": "markdown",
   "metadata": {},
   "source": [
    "Esto mismo se puede realizar con la función `filter` que tiene la siguiente descripción:\n",
    "\n",
    "    filter(func, list)\n",
    "    \n",
    "donde `func` será una función que retornará un valor booleano y `list` será la lista cuyos elementos serán removidos si no cumplen con la condición de la función. La función `filter` retorna una \"objeto filter\" que contendrá una secuencia de True y False según cumplan o no la condición, por lo que si se requiere tener la lista de valores que cumplen con la condición, hay que convertír este filtro a una lista.\n",
    "\n",
    "Por lo tanto, el ejemplo anterior se puede resolver con la siguiente instrucción:"
   ]
  },
  {
   "cell_type": "code",
   "execution_count": null,
   "metadata": {},
   "outputs": [],
   "source": [
    "lista = [1, 2, 3, 4, 5, 6, 7, 8, 9, 10]\n",
    "lista = list(filter(lambda x: x % 2 == 0, lista))\n",
    "print(lista)"
   ]
  },
  {
   "cell_type": "markdown",
   "metadata": {
    "user_expressions": []
   },
   "source": [
    "## Paquetes definidos por el usuario\n",
    "La idea detrás de las funciones es reutilizar código, por lo que lo ideal es tener una colección de funciones agrupadas en un archivo. Este archivo, luego, puede ser importado desde otro código para utilizar las funciones alli definidas.\n",
    "\n",
    "Considere que escribe el siguiente código en un archivo llamado `func_electro.py`:"
   ]
  },
  {
   "cell_type": "code",
   "execution_count": 22,
   "metadata": {},
   "outputs": [
    {
     "name": "stdout",
     "output_type": "stream",
     "text": [
      "Writing func_electro.py\n"
     ]
    }
   ],
   "source": [
    "%%writefile func_electro.py\n",
    "def res_serie(*res):\n",
    "    return sum(res)\n",
    "\n",
    "\n",
    "def res_paralelo(*res):\n",
    "    res_inv = list(map(lambda x: 1/x, res))\n",
    "    return 1 / sum(res_inv)"
   ]
  },
  {
   "cell_type": "markdown",
   "metadata": {
    "user_expressions": []
   },
   "source": [
    "Ahora utilicemos estas definciones en otro script:"
   ]
  },
  {
   "cell_type": "code",
   "execution_count": 24,
   "metadata": {},
   "outputs": [
    {
     "name": "stdout",
     "output_type": "stream",
     "text": [
      "2000\n",
      "500.0\n"
     ]
    }
   ],
   "source": [
    "import func_electro as electro\n",
    "\n",
    "R1 = 1000\n",
    "R2 = 1000\n",
    "\n",
    "print(electro.res_serie(R1, R2))\n",
    "print(electro.res_paralelo(R1,R2))"
   ]
  }
 ],
 "metadata": {
  "kernelspec": {
   "display_name": "Python 3 (ipykernel)",
   "language": "python",
   "name": "python3"
  },
  "language_info": {
   "codemirror_mode": {
    "name": "ipython",
    "version": 3
   },
   "file_extension": ".py",
   "mimetype": "text/x-python",
   "name": "python",
   "nbconvert_exporter": "python",
   "pygments_lexer": "ipython3",
   "version": "3.11.5"
  }
 },
 "nbformat": 4,
 "nbformat_minor": 4
}
