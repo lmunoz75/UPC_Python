{
 "cells": [
  {
   "cell_type": "markdown",
   "metadata": {},
   "source": [
    "# Estructuras de control y lazos de repetición\n",
    "<img src=\"https://danielcolato.files.wordpress.com/2011/04/soporte_informatico_hazlo_tu_mismo.jpg\" alt=\"Drawing\" style=\"width: 500px;\"/>\n",
    "\n",
    "<div style=\"text-align: right\">Autor: Luis A. Muñoz - 2024 </div>\n",
    "\n",
    "---"
   ]
  },
  {
   "cell_type": "markdown",
   "metadata": {},
   "source": [
    "### Ideas clave:\n",
    "\n",
    "* Los bloques de código de Python se inician con el caracter \":\" y se limitan con el Tab (sangría de 4 espacios)\n",
    "* Se pueden anidar bloques, aunque se prefiere utilizar conectores lógicos (and, or, not) para reducir la lógica a una sola instrucción\n",
    "* El operador \"is\" evalua si dos objetos son lo mismo. El operador \"==\" evalua si dos objetos son equivalentes\n",
    "* El operador \"in\" verifica si un objeto esta incluido en un contenedor (por ejemplo, una lista)\n",
    "* Las instruccones for y while gestionan los iteradores\n",
    "* Los contenedores principales de Python (listas, tuplas, diccionarios...) son iterables.\n",
    "* La combinación de un lazo while con un control para romper el lazo con \"break\" permite implementar un lazo \"do... while\"\n",
    "* La instrucción \"else\" puede incluirse en un lazo for o while para especificar las instrucciones a realizar luego que el lazo de repetición se haya finalizado correctamente\n",
    "\n",
    "Informacion:\n",
    "* https://www.w3schools.com/python/python_conditions.asp\n",
    "* https://www.w3schools.com/python/python_while_loops.asp\n",
    "* https://www.w3schools.com/python/python_for_loops.asp\n",
    "\n",
    "---"
   ]
  },
  {
   "cell_type": "markdown",
   "metadata": {},
   "source": [
    "## Estructura de control: if... elif... else"
   ]
  },
  {
   "cell_type": "markdown",
   "metadata": {},
   "source": [
    "En programación, una estructura de control permite controlar el flujo de un programa en función del resultado de una condición. Esta se realiza combinando la instrucción `if` con operaciones lógicas y de relación.\n",
    "\n",
    "La instrucción `if` realiza una operación que retornará `True` o `False`. Si el resultado es `True`, se ejecutará el bloque definido luego de los `:`\n",
    "\n",
    "Pruebe modificando el valor de `num` y observe los resultados del código en la celda siguiente. (Recuerde, ejecute una celda de código presionando Ctrl + ENTER)"
   ]
  },
  {
   "cell_type": "code",
   "execution_count": 1,
   "metadata": {},
   "outputs": [
    {
     "name": "stdout",
     "output_type": "stream",
     "text": [
      "* 10 es mayor que 5\n",
      "* 10 es par\n"
     ]
    }
   ],
   "source": [
    "num = 10\n",
    "# Operador de relación\n",
    "if num > 5:\n",
    "    print(f\"* {num} es mayor que 5\")\n",
    "    \n",
    "# Operador aritmetico (%) y logico (==)\n",
    "if num % 2 == 0:\n",
    "    print(f\"* {num} es par\")\n"
   ]
  },
  {
   "cell_type": "markdown",
   "metadata": {},
   "source": [
    "Note que es **mandatorio** que exista un orden al momento de definir un bloque. Se deben de respetar las sangrías (espacios de 4 caracteres) al momento de definir el código. Ejecute la siguiente celda y observe la excepción generada (`IdentationError`). Luego, corriga la celda para que se ejecute correctamente."
   ]
  },
  {
   "cell_type": "code",
   "execution_count": 2,
   "metadata": {},
   "outputs": [
    {
     "ename": "IndentationError",
     "evalue": "expected an indented block after 'if' statement on line 3 (3566834635.py, line 4)",
     "output_type": "error",
     "traceback": [
      "\u001b[1;36m  Cell \u001b[1;32mIn[2], line 4\u001b[1;36m\u001b[0m\n\u001b[1;33m    if 0 <= num <= 10:\u001b[0m\n\u001b[1;37m    ^\u001b[0m\n\u001b[1;31mIndentationError\u001b[0m\u001b[1;31m:\u001b[0m expected an indented block after 'if' statement on line 3\n"
     ]
    }
   ],
   "source": [
    "num = 25\n",
    "\n",
    "if num % 5 == 0:\n",
    "if 0 <= num <= 10:\n",
    "print(\"{} esta en el rango 0 a 25\")\n",
    "print(f\"{num} es multiplo de 5\")\n",
    "print(\"Fin de programa\")"
   ]
  },
  {
   "cell_type": "markdown",
   "metadata": {},
   "source": [
    "Se puede incluir la instrucción `else` para considerar la opción *de lo contario* en la estructura de control:"
   ]
  },
  {
   "cell_type": "code",
   "execution_count": 5,
   "metadata": {},
   "outputs": [
    {
     "name": "stdout",
     "output_type": "stream",
     "text": [
      "* 10 es mayor que 5\n",
      "* 10 es par\n"
     ]
    }
   ],
   "source": [
    "num = 10\n",
    "\n",
    "if num < 5:\n",
    "    print(f\"* {num} es menor que 5\")\n",
    "else:\n",
    "    print(f\"* {num} es mayor que 5\")\n",
    "    \n",
    "print(f\"* {num} es \", end='')\n",
    "if num % 2 == 0:\n",
    "    print(f\"par\")\n",
    "else:\n",
    "    print(f\"impar\")"
   ]
  },
  {
   "cell_type": "markdown",
   "metadata": {},
   "source": [
    "Así también, se puede incluir la instrucción `elif` para considerar otras posibles condiciones a evaluar. Considere el código de la siguiente celda. Pruebe con varios números y siga la lógica del script:"
   ]
  },
  {
   "cell_type": "code",
   "execution_count": 9,
   "metadata": {},
   "outputs": [
    {
     "name": "stdout",
     "output_type": "stream",
     "text": [
      "Propiedades del numero {num}:\n",
      "* 7 es un número positivo\n",
      "* 7 es un numero impar multiplo de 7\n"
     ]
    }
   ],
   "source": [
    "num = 7\n",
    "\n",
    "print(\"Propiedades del numero {num}:\")\n",
    "\n",
    "print(f\"* {num} es un número \", end='')\n",
    "if num < 0:\n",
    "    print(\"negativo\")\n",
    "else:\n",
    "    print(\"positivo\")\n",
    "    \n",
    "print(f\"* {num} es un numero \", end='')\n",
    "if num % 2 == 0:\n",
    "    print(\"par\")\n",
    "else:\n",
    "    print(\"impar \", end='')\n",
    "    if num % 3 == 0:\n",
    "        print(\"multiplo de 3\")\n",
    "    elif num % 5 == 0:\n",
    "        print(\"multiplo de 5\")\n",
    "    elif num % 7 == 0:\n",
    "        print(\"multiplo de 7\")\n"
   ]
  },
  {
   "cell_type": "markdown",
   "metadata": {
    "user_expressions": []
   },
   "source": [
    "## `if` anidados versus `if` planos\n",
    "Una estructura de control anidada consiste en una cascada de operaciones, una dentro de la otra. En el bloque `if` externo se considera una decision que, segun la condición, ingresa a un bloque interno. De ser preferible, esta practica se debe evitar para mantener el codigo simple, utilizando expresiones lógicas como conectores entre condiciones. Por ejemplo, considere la evaluación de si un año es bisiesto:\n",
    "\n",
    "\"*Año bisiesto es el divisible entre 4, salvo que sea año secular -último de cada siglo, terminado en «00»-, en cuyo caso también ha de ser divisible entre 400*\". ([Wikipedia](https://es.wikipedia.org/wiki/A%C3%B1o_bisiesto))\n",
    "\n",
    "Esto se puede expresar de la siguiente forma:"
   ]
  },
  {
   "cell_type": "code",
   "execution_count": null,
   "metadata": {},
   "outputs": [],
   "source": [
    "anio = int(input(\"Ingrese un año: \"))\n",
    "\n",
    "# Si el año es multiplo de 4 puede ser bisiesto\n",
    "if anio % 4 == 0:\n",
    "    # Dependera de si termina en \"00\"\n",
    "    if anio % 100 == 0:\n",
    "        # Aunque si es multiplo de \"400\" es año es bisiesto\n",
    "        if anio % 400 == 0:\n",
    "            # Es bisiesto\n",
    "            print(\"El bisiesto\")\n",
    "        else:\n",
    "            # Si termina en \"00\" y no es multiplo de \"400\" no es bisiesto\n",
    "            print(\"No es bisiesto\")\n",
    "    else:\n",
    "        # Si es multiplo de 4 y no termina en \"00\" no es bisiesto\n",
    "        print(\"Es bisiesto\")\n",
    "else:\n",
    "    # Si no es mutiplo de \"4\" no es bisiesto sin mayores evaluaciones\n",
    "    print(\"No es bisiesto\")"
   ]
  },
  {
   "cell_type": "markdown",
   "metadata": {},
   "source": [
    "Compare el código anterior con el siguiente:"
   ]
  },
  {
   "cell_type": "code",
   "execution_count": null,
   "metadata": {},
   "outputs": [],
   "source": [
    "anio = int(input(\"Ingrese un año: \"))\n",
    "\n",
    "# Un año es bisiesto si es multiplo de \"4\" y no termina en \"00\" \n",
    "# a menos que sea multiplo de \"400\"\n",
    "if anio % 4 == 0 and (anio % 100 != 0 or anio % 400 == 0):\n",
    "    print(\"Es bisiesto\")\n",
    "else:\n",
    "    print(\"No es bisiesto\")"
   ]
  },
  {
   "cell_type": "markdown",
   "metadata": {},
   "source": [
    "Plano es mejor que anidado..."
   ]
  },
  {
   "cell_type": "markdown",
   "metadata": {},
   "source": [
    "## Palabras reservadas `in` e `is`\n",
    "La palabra reservada `in` se utiliza en Python para verificar si un elemento es parte de un conjunto de datos, por ejemplo una tupla o una lista. Considere el siguiente uso de `in` con una tupla:"
   ]
  },
  {
   "cell_type": "code",
   "execution_count": null,
   "metadata": {},
   "outputs": [],
   "source": [
    "lista = [\"alicia\", \"ernesto\", \"gustavo\", \"rosa\", \"andrea\", \"emilio\"]\n",
    "print(\"lista:\", lista)\n",
    "print()\n",
    "\n",
    "print(\"* Esta 'alicia' en la lista:\", \"alicia\" in lista)\n",
    "print(\"* Esta 'raul' en la lista:\", \"raul\" in lista)\n",
    "print()\n",
    "\n",
    "print(\"* Esta 'Gustavo' en la lista:\", \"Gustavo\" in lista)\n",
    "print(\"* Esta 'gustavo' en la lista:\", \"gustavo\" in lista)\n",
    "print()\n",
    "\n",
    "print(\"* No esta 'alicia' en la lista:\", \"alicia\" not in lista)\n",
    "print(\"* No esta 'amalia' en la lista:\", \"amalia\" not in lista)"
   ]
  },
  {
   "cell_type": "markdown",
   "metadata": {},
   "source": [
    "Por ejemplo, se puede utilizar `in` para resolver lo siguiente:"
   ]
  },
  {
   "cell_type": "code",
   "execution_count": null,
   "metadata": {},
   "outputs": [],
   "source": [
    "num = int(input(\"Ingrese un numero entre 1 y 10\"))\n",
    "\n",
    "if num in [0, 2, 4, 6, 8, 10]:\n",
    "    print(f\"{num} es par\")\n",
    "else:\n",
    "    print(f\"{num} es impar\")"
   ]
  },
  {
   "cell_type": "markdown",
   "metadata": {
    "user_expressions": []
   },
   "source": [
    "Otra palabra reservada útil es `is`. Permite evaluar *si un objeto es otro*. Por ejemplo:"
   ]
  },
  {
   "cell_type": "code",
   "execution_count": null,
   "metadata": {},
   "outputs": [],
   "source": [
    "(3 * 6) is 18"
   ]
  },
  {
   "cell_type": "markdown",
   "metadata": {},
   "source": [
    "Pero debe se utilizado con precaución: `is` *no verifica si un objeto es igual a otro*. Por ejemplo:"
   ]
  },
  {
   "cell_type": "code",
   "execution_count": 11,
   "metadata": {},
   "outputs": [
    {
     "data": {
      "text/plain": [
       "False"
      ]
     },
     "execution_count": 11,
     "metadata": {},
     "output_type": "execute_result"
    }
   ],
   "source": [
    "[1, 2, 3] is [1, 2, 3]"
   ]
  },
  {
   "cell_type": "markdown",
   "metadata": {},
   "source": [
    "El operador `==` verifica si un objeto es igual a otro:"
   ]
  },
  {
   "cell_type": "code",
   "execution_count": 12,
   "metadata": {},
   "outputs": [
    {
     "data": {
      "text/plain": [
       "True"
      ]
     },
     "execution_count": 12,
     "metadata": {},
     "output_type": "execute_result"
    }
   ],
   "source": [
    "[1, 2, 3] == [1, 2, 3]"
   ]
  },
  {
   "cell_type": "markdown",
   "metadata": {
    "user_expressions": []
   },
   "source": [
    "## Función `range`\n",
    "La función `range` genera un rango de datos enteros. Formalmente hablando, genera una construccion conocida como _generador_, es decir algo que _genera_ valores en línea que puede ser *iterado* por un lazo de repetición (al respecto, más adelante). Tiene la siguiente sintaxis: `range(start, end, step)`:\n",
    "\n",
    "- `range(10)` genera un rango de 10 valores entre 0 y 9: `0, 1, 2, 3, 4, 5, 6, 7, 8, 9`\n",
    "- `range(1, 10)` genera un rango de valores entre 1 y 9: `1, 2, 3, 4, 5, 6, 7, 8, 9`\n",
    "- `range(1, 10, 2)` genera un rango de valores entre 1 y 9 en pasos de 2: `1, 3, 5, 7, 9 `\n",
    "- `range(1, 10, 2)` genera un rango de valores entre 1 y 9 en pasos de 2: `1, 3, 5, 7, 9`\n",
    "- `range(10, 1, -2)` genera un rango de valores entre 10 y 1 en pasos de -2 (es decir, en forma descendente): `10, 8, 6, 4, 2`\n",
    "\n",
    "Note que se genera un rango de datos hasta el segundo argumento menos 1. Esto se repite en muchas operaciones de Python donde se generan rangos. Asi, `range(1, 20)` genera un rango entre 1 y 20-1, es decir, entre 1 y 19.\n",
    "\n",
    "Se puede combinar con la instrucción `in` para verificar si un valor se encuentra dentro del rango. Considere los siguientes ejemplos:"
   ]
  },
  {
   "cell_type": "code",
   "execution_count": null,
   "metadata": {},
   "outputs": [],
   "source": [
    "print(\"5 in range(1, 10):\", 5 in range(1, 10))\n",
    "print(\"10 in range(1, 10):\", 10 in range(1, 10)) \n",
    "print(\"4 in range(1, 10, 2):\", 2 in range(1, 10, 2)) \n",
    "print(\"0 in range(1, 10):\", 5 in range(10)) \n",
    "print(\"7 in range(1, 10):\", 5 in range(1, 10)) "
   ]
  },
  {
   "cell_type": "markdown",
   "metadata": {},
   "source": [
    "Podemos resolver el problema que verifica si un numero es par o impar utilizando `range()`:"
   ]
  },
  {
   "cell_type": "code",
   "execution_count": null,
   "metadata": {},
   "outputs": [],
   "source": [
    "num = int(input(\"Ingrese un numero entero positivo:\"))\n",
    "\n",
    "if num < 0:\n",
    "    print(\"El numero ingresado debe ser positivo\")\n",
    "else:\n",
    "    if num in range(0, num+1, 2):\n",
    "        print(f\"{num} es par\")\n",
    "    else:\n",
    "        print(\"{num} es impar\")"
   ]
  },
  {
   "cell_type": "markdown",
   "metadata": {
    "user_expressions": []
   },
   "source": [
    "## Lazo de control con `for`\n",
    "El lazo de control `for` permite iterar una secuencia iterable como una tupla o una lista. La instrucción `for` se conoce como un _iterador_: esto es, una construcción que toma un iterable y extrae los elementos que lo conforman uno a uno. Considere el código de la siguiente celda:"
   ]
  },
  {
   "cell_type": "code",
   "execution_count": 13,
   "metadata": {},
   "outputs": [
    {
     "name": "stdout",
     "output_type": "stream",
     "text": [
      "1\n",
      "2\n",
      "3\n",
      "4\n",
      "5\n",
      "6\n",
      "7\n",
      "8\n",
      "9\n"
     ]
    }
   ],
   "source": [
    "number_list = [1, 2, 3, 4, 5, 6, 7, 8, 9]\n",
    "\n",
    "for number in number_list:\n",
    "    print(number)"
   ]
  },
  {
   "cell_type": "markdown",
   "metadata": {
    "user_expressions": []
   },
   "source": [
    "Como se observa, la instrucción `for` va extrayendo los datos de la lista `number_list`, un iterable. Esta forma de operar de un lazo `for` permite tener un código legible ya que la lectura del código es clara (\"_para cada valor de la secuencia 1, 2, 3, 4..._\").\n",
    "\n",
    "Se puede combinar con la función `range()` para obtener un código más reducido:"
   ]
  },
  {
   "cell_type": "code",
   "execution_count": 14,
   "metadata": {},
   "outputs": [
    {
     "name": "stdout",
     "output_type": "stream",
     "text": [
      "Secuencia de numeros pares:\n",
      "* 2\n",
      "* 4\n",
      "* 6\n",
      "* 8\n",
      "* 10\n",
      "* 12\n",
      "* 14\n",
      "* 16\n",
      "* 18\n",
      "* 20\n"
     ]
    }
   ],
   "source": [
    "print(\"Secuencia de numeros pares:\")\n",
    "for num in range(2, 21, 2):\n",
    "    print(f\"* {num}\")"
   ]
  },
  {
   "cell_type": "markdown",
   "metadata": {},
   "source": [
    "# Lazo de repetición `while`\n",
    "![](https://blog.penjee.com/wp-content/uploads/2015/04/top-5-programming-animated-gifs_demonstration-of-while-loop-animation_logo.gif)\n",
    "\n",
    "El lazo de control `while` permite establecer un lazo de control mientras una condición se mantenga como verdadera. Por ejemplo:"
   ]
  },
  {
   "cell_type": "code",
   "execution_count": null,
   "metadata": {},
   "outputs": [],
   "source": [
    "num = 5\n",
    "\n",
    "while num > 0:\n",
    "    print(num)\n",
    "    num -= 1\n"
   ]
  },
  {
   "cell_type": "markdown",
   "metadata": {
    "user_expressions": []
   },
   "source": [
    "¿Qué sucederá si se elimina la línea `num -= 1`? En el caso de Jupyter Notebook, el indicador de la celda mostrará `[*]` y el programa entrada en un \"bucle infinito\" ya que la condición siempre será verdadera (el número nunca será menor o igual a 0). En caso esto suceda, se debe de detener el \"kernel\", es decir, el núcleo de ejcución de Python. Para esto, seleccionar en el `Menu Kernel >  Restart Kernel...` y seleccionar `Restart`.\n",
    "\n",
    "Cuando se ejecute esta secuencia en un terminal, debe de detener la ejecución con la combinación de teclas __Ctrl + C__\n",
    "\n",
    "![](https://blog.penjee.com/wp-content/uploads/2015/11/while-loop-if-else-even-vs-odd-animation-how-it-works.gif)"
   ]
  },
  {
   "cell_type": "markdown",
   "metadata": {},
   "source": [
    "## try...except y estructuras de control\n",
    "El bloque `try...except` permite probar una secuencia de instrucciones y en caso de un error en la ejecución de alguna de las instrucciones que forman parte del bloque, se generará una excepción (un error) que puede ser capturada por el bloque `try...except` para ejecutar alguna acción.\n",
    "\n",
    "Considere el siguiente código:"
   ]
  },
  {
   "cell_type": "code",
   "execution_count": 17,
   "metadata": {},
   "outputs": [
    {
     "name": "stdin",
     "output_type": "stream",
     "text": [
      "Ingrese su edad: 12.4\n"
     ]
    },
    {
     "name": "stdout",
     "output_type": "stream",
     "text": [
      "Debe de ingresar un valor entero\n"
     ]
    }
   ],
   "source": [
    "edad = input(\"Ingrese su edad:\")\n",
    "\n",
    "# Verificamos que su edad es un valor entero con isinstance(var, type)\n",
    "if isinstance(edad, int):\n",
    "    edad = int(edad)\n",
    "    if edad < 18:\n",
    "        print(\"En menor de edad\")\n",
    "    else:\n",
    "        print(\"Es mayor de edad\")\n",
    "else:\n",
    "    print(\"Debe de ingresar un valor entero\")"
   ]
  },
  {
   "cell_type": "markdown",
   "metadata": {},
   "source": [
    "Se puede lograr lo mismo utilizando un bloque try...except:"
   ]
  },
  {
   "cell_type": "code",
   "execution_count": 19,
   "metadata": {},
   "outputs": [
    {
     "name": "stdin",
     "output_type": "stream",
     "text": [
      "Ingrese su edad: 12\n"
     ]
    },
    {
     "name": "stdout",
     "output_type": "stream",
     "text": [
      "En menor de edad\n"
     ]
    }
   ],
   "source": [
    "try:\n",
    "    edad = int(input(\"Ingrese su edad:\"))\n",
    "    \n",
    "    if edad < 18:\n",
    "        print(\"En menor de edad\")\n",
    "    else:\n",
    "        print(\"Es mayor de edad\")\n",
    "        \n",
    "except ValueError:\n",
    "    print(\"Debe de ingresar un valor entero\")\n",
    "    "
   ]
  },
  {
   "cell_type": "markdown",
   "metadata": {},
   "source": [
    "Si se ingresa un valor como `12.5` como edad, al convertír este `str` en un `int` se producirá una excepción del tipo `ValueError`:"
   ]
  },
  {
   "cell_type": "code",
   "execution_count": null,
   "metadata": {},
   "outputs": [],
   "source": [
    "int('12.5')"
   ]
  },
  {
   "cell_type": "markdown",
   "metadata": {
    "user_expressions": []
   },
   "source": [
    "Este evento detiene la ejecución del bloque de código y se captura el tipo de excepción para ejecutar las acciones según el tipo de excepción. Si se utiliza la instrucción `except` sin especificar el tipo de excepción se esta definiendo un caso de error genérico, lo que no se recomienda. En lugar de esto se recomienda utilizar la siguiente construcción:\n",
    "\n",
    "    try:\n",
    "        edad = int(edad)\n",
    "    except Exception as e:\n",
    "        print(e)"
   ]
  },
  {
   "cell_type": "code",
   "execution_count": 6,
   "metadata": {},
   "outputs": [
    {
     "name": "stdin",
     "output_type": "stream",
     "text": [
      "Ingrese dos numeros:  12\n"
     ]
    },
    {
     "name": "stdout",
     "output_type": "stream",
     "text": [
      "not enough values to unpack (expected 2, got 1)\n"
     ]
    }
   ],
   "source": [
    "two_numbers = False\n",
    "try:\n",
    "    n1, n2 = input(\"Ingrese dos numeros: \").split()\n",
    "    two_numbers = True\n",
    "except Exception as e:\n",
    "    print(e)    # Esto muestra el mensaje de la excepcion generada\n",
    "\n",
    "if two_numbers:\n",
    "    try:\n",
    "        # Intenta ejecutar todo el bloque\n",
    "        # y si algo sale mal, salta a except\n",
    "        n1 = int(n1); n2 = int(n2)\n",
    "\n",
    "        print(f\"{n1} + {n2} = {n1 + n2:.2f}\")\n",
    "        print(f\"{n1} - {n2} = {n1 - n2:.2f}\")\n",
    "        print(f\"{n1} x {n2} = {n1 * n2:.2f}\")\n",
    "        print(f\"{n1} / {n2} = {n1 / n2:.2f}\")\n",
    "        print(f\"{n1} ** {n2} = {n1 ** n2:.2f}\")\n",
    "        print(f\"{n1} % {n2} = {n1 % n2}\")    \n",
    "\n",
    "    except ValueError:\n",
    "        print(\"Los numeros ingresados deben ser enteros\")\n",
    "\n",
    "    except ZeroDivisionError:\n",
    "        print(\"No se puede realizar la division: Division por cero!!!\")\n"
   ]
  },
  {
   "cell_type": "markdown",
   "metadata": {},
   "source": [
    "## `break` y `continue`\n",
    "Las instrucciones `break` y `continue` permiten alterar la ejecución de un lazo.\n",
    "\n",
    "`break` detiene la ejecución de un lazo de forma inmediata. Considere el siguiente código:"
   ]
  },
  {
   "cell_type": "code",
   "execution_count": 7,
   "metadata": {},
   "outputs": [
    {
     "name": "stdout",
     "output_type": "stream",
     "text": [
      "1 no es multiplo de 7\n",
      "2 no es multiplo de 7\n",
      "3 no es multiplo de 7\n",
      "4 no es multiplo de 7\n",
      "5 no es multiplo de 7\n",
      "6 no es multiplo de 7\n",
      "7 es multiplo de 7\n"
     ]
    }
   ],
   "source": [
    "# Este script imprime los valores numéricos de un rango hasta que alcance a algun multiplo de 7\n",
    "for num in range(1, 20):\n",
    "    if num % 7 == 0:\n",
    "        print(f\"{num} es multiplo de 7\")\n",
    "        break\n",
    "    else:\n",
    "        print(f\"{num} no es multiplo de 7\")\n",
    "        "
   ]
  },
  {
   "cell_type": "markdown",
   "metadata": {},
   "source": [
    "`continue` detiene la iteración del ciclo de repetición para continuar con la siguiente iteración en caso de existír. Considere el siguiente código:"
   ]
  },
  {
   "cell_type": "code",
   "execution_count": 11,
   "metadata": {},
   "outputs": [
    {
     "name": "stdout",
     "output_type": "stream",
     "text": [
      "1 no es multiplo de 7\n",
      "2 no es multiplo de 7\n",
      "3 no es multiplo de 7\n",
      "4 no es multiplo de 7\n",
      "5 no es multiplo de 7\n",
      "6 no es multiplo de 7\n",
      "---- SIGUIENTE ITERACION ---\n",
      "8 no es multiplo de 7\n",
      "9 no es multiplo de 7\n",
      "10 no es multiplo de 7\n",
      "11 no es multiplo de 7\n",
      "12 no es multiplo de 7\n",
      "13 no es multiplo de 7\n",
      "---- SIGUIENTE ITERACION ---\n",
      "15 no es multiplo de 7\n",
      "16 no es multiplo de 7\n",
      "17 no es multiplo de 7\n",
      "18 no es multiplo de 7\n",
      "19 no es multiplo de 7\n"
     ]
    }
   ],
   "source": [
    "# Este script imprime todos los valores numéricos de un rango a excepción de los múltiplos de 7\n",
    "for num in range(1, 20):\n",
    "    if num % 7 == 0:\n",
    "        print(\"---- SIGUIENTE ITERACION ---\")\n",
    "        continue\n",
    "    else:\n",
    "        print(f\"{num} no es multiplo de 7\")"
   ]
  },
  {
   "cell_type": "markdown",
   "metadata": {},
   "source": [
    "Su uso es restringido para casos en donde su presencia ayuda a hacer un código más legible o cuando no se tiene una mejor solución.\n",
    "\n",
    "Un caso típico es la contrucción de un lazo \"do...while\" en donde se evalúa una variable despues de haberla ingresado. El siguiente script pide un valor entre 1 y 10. Si se ingresa un valor fuera de este rango el script continua pidiendo un valor hasta que este en el rango esperado:"
   ]
  },
  {
   "cell_type": "code",
   "execution_count": 15,
   "metadata": {},
   "outputs": [
    {
     "name": "stdin",
     "output_type": "stream",
     "text": [
      "Ingrese un numero entre 1 y 10:  diez\n"
     ]
    },
    {
     "name": "stdout",
     "output_type": "stream",
     "text": [
      "Debe de ingresar un número entero\n"
     ]
    },
    {
     "name": "stdin",
     "output_type": "stream",
     "text": [
      "Ingrese un numero entre 1 y 10:  5\n"
     ]
    },
    {
     "name": "stdout",
     "output_type": "stream",
     "text": [
      "5 es impar\n"
     ]
    }
   ],
   "source": [
    "while True:\n",
    "    try:\n",
    "        num = int(input(\"Ingrese un numero entre 1 y 10: \"))\n",
    "    except ValueError:\n",
    "        print(\"Debe de ingresar un número entero\")\n",
    "        continue\n",
    "    \n",
    "    if num < 1 or num > 10:\n",
    "        print(\"Debe de ingresar un numero entre 1 y 10\")\n",
    "    else:\n",
    "        if num % 2 == 0:\n",
    "            print(\"{} es par\".format(num))\n",
    "        else:\n",
    "            print(\"{} es impar\".format(num))\n",
    "    \n",
    "        break\n"
   ]
  },
  {
   "cell_type": "markdown",
   "metadata": {
    "user_expressions": []
   },
   "source": [
    "Este tipo de construcciones suele ser confuso pues contiene un `while True` que indica que es un lazo infinito cuando no lo se ya que se interrumpirá en algún momento y para saber bajo que condición es necesario leer el código. Es mejor utilizar una variable tipo _bandera_ que indique la condición. Esto hace el código más legíble:"
   ]
  },
  {
   "cell_type": "code",
   "execution_count": 14,
   "metadata": {},
   "outputs": [
    {
     "name": "stdin",
     "output_type": "stream",
     "text": [
      "Ingrese un numero entre 1 y 10:  12.5\n"
     ]
    },
    {
     "name": "stdout",
     "output_type": "stream",
     "text": [
      "Debe de ingresar un número entero\n"
     ]
    },
    {
     "name": "stdin",
     "output_type": "stream",
     "text": [
      "Ingrese un numero entre 1 y 10:  20\n"
     ]
    },
    {
     "name": "stdout",
     "output_type": "stream",
     "text": [
      "Debe de ingresar un numero entre 1 y 10\n"
     ]
    },
    {
     "name": "stdin",
     "output_type": "stream",
     "text": [
      "Ingrese un numero entre 1 y 10:  12\n"
     ]
    },
    {
     "name": "stdout",
     "output_type": "stream",
     "text": [
      "Debe de ingresar un numero entre 1 y 10\n"
     ]
    },
    {
     "name": "stdin",
     "output_type": "stream",
     "text": [
      "Ingrese un numero entre 1 y 10:  8\n"
     ]
    },
    {
     "name": "stdout",
     "output_type": "stream",
     "text": [
      "8 es par\n"
     ]
    }
   ],
   "source": [
    "num_valido = False\n",
    "while not num_valido:\n",
    "    try:\n",
    "        num = int(input(\"Ingrese un numero entre 1 y 10: \"))\n",
    "    except ValueError:\n",
    "        print(\"Debe de ingresar un número entero\")\n",
    "        continue\n",
    "    \n",
    "    if num < 1 or num > 10:\n",
    "        print(\"Debe de ingresar un numero entre 1 y 10\")\n",
    "    else:\n",
    "        num_valido = True\n",
    "        if num % 2 == 0:\n",
    "            print(\"{} es par\".format(num))\n",
    "        else:\n",
    "            print(\"{} es impar\".format(num))"
   ]
  },
  {
   "cell_type": "markdown",
   "metadata": {},
   "source": [
    "## Uso de `else` en un lazo de control\n",
    "Considere el siguiente código:"
   ]
  },
  {
   "cell_type": "code",
   "execution_count": null,
   "metadata": {},
   "outputs": [],
   "source": [
    "num_primos = [2, 3, 5, 7, 11, 13, 17, 19, 23, 29, 31, 37, 41, 53, 57, 59]\n",
    "\n",
    "print(\"Para todos los numeros impares entre 1 y 59, los numeros primos son:\")\n",
    "for num in range(1, 60, 2):\n",
    "    if num in num_primos:\n",
    "        print( \" *\", num)\n",
    "print(\"Los demas numeros no son primos\")"
   ]
  },
  {
   "cell_type": "markdown",
   "metadata": {
    "user_expressions": []
   },
   "source": [
    "La última línea `print(\"Los demas numeros no son primos\")` esta fuera del bloque `if` y del bloque `for`, por lo que es una instrucción que se ejecutará al finalizar ambos bloques. Sin embargo, algun programador puede considerar que esta línea deberia estar dentro del alguno de los bloques. Para evitar esta falta de claridad, se puede incluír la instrucción `else` para un lazo de control:"
   ]
  },
  {
   "cell_type": "code",
   "execution_count": null,
   "metadata": {},
   "outputs": [],
   "source": [
    "num_primos = [2, 3, 5, 7, 11, 13, 17, 19, 23, 29, 31, 37, 41, 53, 57, 59]\n",
    "\n",
    "print(\"Para todos los numeros impares entre 1 y 59, los numeros primos son:\")\n",
    "for num in range(1, 60, 2):\n",
    "    if num in num_primos:\n",
    "        print( \" *\", num)\n",
    "else:\n",
    "    print(\"Los demas numeros no son primos\")"
   ]
  },
  {
   "cell_type": "markdown",
   "metadata": {},
   "source": [
    "En el código anterior, la instrucción `else` es parte del bloque `for` (NO del bloque `if`). En Python `else` puede ser parte de un lazo e indica lo que sucederá cuando el lazo concluya *normalmente*. Por ejemplo:"
   ]
  },
  {
   "cell_type": "code",
   "execution_count": null,
   "metadata": {},
   "outputs": [],
   "source": [
    "for i in range(1, 6):\n",
    "    print(i)\n",
    "else:\n",
    "    print(\"Fin del lazo\")"
   ]
  },
  {
   "cell_type": "code",
   "execution_count": null,
   "metadata": {},
   "outputs": [],
   "source": [
    "i = 6\n",
    "while i > 0:\n",
    "    print(i)\n",
    "    i -= 1\n",
    "else:\n",
    "    print(\"Fin del lazo\")"
   ]
  },
  {
   "cell_type": "markdown",
   "metadata": {},
   "source": [
    "Recuerde: el uso de `else` permite especificar las instrucciones a ejecutar cuando el lazo acabe *normalmente*. Considere el siguente caso:"
   ]
  },
  {
   "cell_type": "code",
   "execution_count": null,
   "metadata": {},
   "outputs": [],
   "source": [
    "for num in range(1, 11):\n",
    "    if num % 7 != 0:\n",
    "        print(num)\n",
    "    else:\n",
    "        break\n",
    "else:\n",
    "    print(\"Fin del lazo\")\n",
    "    \n",
    "print(\"La lazo fue interrumpido por un 'break'\")"
   ]
  },
  {
   "cell_type": "markdown",
   "metadata": {},
   "source": [
    "### No ejecutar nada: `pass`\n",
    "La instrucción `pass` sirve para especificar que no se quiere realizar nada. Esto tiene utilidad al momento de escribir un código en desarrollo. Por ejemplo, considere el siguiente ejemplo:"
   ]
  },
  {
   "cell_type": "code",
   "execution_count": null,
   "metadata": {},
   "outputs": [],
   "source": [
    "num = 82\n",
    "\n",
    "if num < 0:\n",
    "    # TODO: Se colocara un mensaje de error\n",
    "    pass\n",
    "elif num > 100:\n",
    "    # TODO: Se colocara un mensaje de error\n",
    "    pass\n",
    "elif num % 2 == 0:\n",
    "    print(\"{} es par\".format(num))\n",
    "else:\n",
    "    print(\"{} es impar\".format(num))"
   ]
  },
  {
   "cell_type": "markdown",
   "metadata": {
    "user_expressions": []
   },
   "source": [
    "Si retira las instrucciones `pass` del codigo anterior este dejará de funcionar. ¿Entiende por qué? La instrucción `pass` por lo tanto permite ir construyendo los bloques de decisión e ir resolviendo cada una de las condiciones poco a poco."
   ]
  },
  {
   "cell_type": "markdown",
   "metadata": {},
   "source": [
    "## Directorio de recursos e importación de librerias: generación de números aleatorios\n",
    "Las funciones incluidas en Python son limitadas. Para realizar otras operaciones será necesario importar librerías hacia el interprete utilizando la instrucción `import`. Por ejemplo, podemos importar la librería `random` para acceder a las funciones que retornan valores aleatorios:"
   ]
  },
  {
   "cell_type": "code",
   "execution_count": 16,
   "metadata": {},
   "outputs": [],
   "source": [
    "import random"
   ]
  },
  {
   "cell_type": "markdown",
   "metadata": {},
   "source": [
    "Si la instrucción anterior no ha generado error, la librería random debe de estar agregada al directorio de recursos de Python. Verifique  la acción anterior confirmando su presencia en el directorio con la instrucción `dir()`:"
   ]
  },
  {
   "cell_type": "code",
   "execution_count": 17,
   "metadata": {},
   "outputs": [
    {
     "data": {
      "text/plain": [
       "['In',\n",
       " 'Out',\n",
       " '_',\n",
       " '__',\n",
       " '___',\n",
       " '__builtin__',\n",
       " '__builtins__',\n",
       " '__doc__',\n",
       " '__loader__',\n",
       " '__name__',\n",
       " '__package__',\n",
       " '__spec__',\n",
       " '_dh',\n",
       " '_i',\n",
       " '_i1',\n",
       " '_i10',\n",
       " '_i11',\n",
       " '_i12',\n",
       " '_i13',\n",
       " '_i14',\n",
       " '_i15',\n",
       " '_i16',\n",
       " '_i17',\n",
       " '_i2',\n",
       " '_i3',\n",
       " '_i4',\n",
       " '_i5',\n",
       " '_i6',\n",
       " '_i7',\n",
       " '_i8',\n",
       " '_i9',\n",
       " '_ih',\n",
       " '_ii',\n",
       " '_iii',\n",
       " '_oh',\n",
       " 'exit',\n",
       " 'get_ipython',\n",
       " 'num',\n",
       " 'num_valido',\n",
       " 'open',\n",
       " 'quit',\n",
       " 'random',\n",
       " 'two_numbers']"
      ]
     },
     "execution_count": 17,
     "metadata": {},
     "output_type": "execute_result"
    }
   ],
   "source": [
    "dir()"
   ]
  },
  {
   "cell_type": "markdown",
   "metadata": {},
   "source": [
    "¿Ubica la palabra \"random\" en la lista anterior? Se encuentra al final de la lista. ¿Encuentra también las palabras `num` y `edad`? El directorio de Python guarda un registro de todas las variables y objetos que se han ido creando en Python. ¿Que funciones ahora estan disponibles en la librería Python? Verifiquemos el directorio en `random`:"
   ]
  },
  {
   "cell_type": "code",
   "execution_count": 18,
   "metadata": {},
   "outputs": [
    {
     "data": {
      "text/plain": [
       "['BPF',\n",
       " 'LOG4',\n",
       " 'NV_MAGICCONST',\n",
       " 'RECIP_BPF',\n",
       " 'Random',\n",
       " 'SG_MAGICCONST',\n",
       " 'SystemRandom',\n",
       " 'TWOPI',\n",
       " '_ONE',\n",
       " '_Sequence',\n",
       " '_Set',\n",
       " '__all__',\n",
       " '__builtins__',\n",
       " '__cached__',\n",
       " '__doc__',\n",
       " '__file__',\n",
       " '__loader__',\n",
       " '__name__',\n",
       " '__package__',\n",
       " '__spec__',\n",
       " '_accumulate',\n",
       " '_acos',\n",
       " '_bisect',\n",
       " '_ceil',\n",
       " '_cos',\n",
       " '_e',\n",
       " '_exp',\n",
       " '_floor',\n",
       " '_index',\n",
       " '_inst',\n",
       " '_isfinite',\n",
       " '_log',\n",
       " '_os',\n",
       " '_pi',\n",
       " '_random',\n",
       " '_repeat',\n",
       " '_sha512',\n",
       " '_sin',\n",
       " '_sqrt',\n",
       " '_test',\n",
       " '_test_generator',\n",
       " '_urandom',\n",
       " '_warn',\n",
       " 'betavariate',\n",
       " 'choice',\n",
       " 'choices',\n",
       " 'expovariate',\n",
       " 'gammavariate',\n",
       " 'gauss',\n",
       " 'getrandbits',\n",
       " 'getstate',\n",
       " 'lognormvariate',\n",
       " 'normalvariate',\n",
       " 'paretovariate',\n",
       " 'randbytes',\n",
       " 'randint',\n",
       " 'random',\n",
       " 'randrange',\n",
       " 'sample',\n",
       " 'seed',\n",
       " 'setstate',\n",
       " 'shuffle',\n",
       " 'triangular',\n",
       " 'uniform',\n",
       " 'vonmisesvariate',\n",
       " 'weibullvariate']"
      ]
     },
     "execution_count": 18,
     "metadata": {},
     "output_type": "execute_result"
    }
   ],
   "source": [
    "dir(random)"
   ]
  },
  {
   "cell_type": "markdown",
   "metadata": {
    "tags": [],
    "user_expressions": []
   },
   "source": [
    "La instrucción anterior muestra una lista de todas las funciones disponibles como parte de las librería `random`. Aquellas funciones cuyo nombre inicia con los caracteres `__` e `_` no estan disponibles para nosotros (son privadas y protegidas, respectivamente). ¿Encuentra en el listado la función `random`? Esta en la función `random()` incluida en la librería `random`. ¿Cómo ejecutar la función `radom()` de la librería `random`?"
   ]
  },
  {
   "cell_type": "code",
   "execution_count": null,
   "metadata": {},
   "outputs": [],
   "source": [
    "random.random()"
   ]
  },
  {
   "cell_type": "markdown",
   "metadata": {},
   "source": [
    "## ¿Como se puede obtener ayuda sobre la instrucción anterior?"
   ]
  },
  {
   "cell_type": "markdown",
   "metadata": {
    "user_expressions": []
   },
   "source": [
    "La siguiente línea imprime la ayuda de la librería `random` (Puede hacer click derecho sobre la celda de salida y habilitar \"Enable Scrolling for Outputs\" para un mejor resultado)."
   ]
  },
  {
   "cell_type": "code",
   "execution_count": 19,
   "metadata": {
    "scrolled": true,
    "tags": []
   },
   "outputs": [
    {
     "name": "stdout",
     "output_type": "stream",
     "text": [
      "Help on module random:\n",
      "\n",
      "NAME\n",
      "    random - Random variable generators.\n",
      "\n",
      "MODULE REFERENCE\n",
      "    https://docs.python.org/3.10/library/random.html\n",
      "    \n",
      "    The following documentation is automatically generated from the Python\n",
      "    source files.  It may be incomplete, incorrect or include features that\n",
      "    are considered implementation detail and may vary between Python\n",
      "    implementations.  When in doubt, consult the module reference at the\n",
      "    location listed above.\n",
      "\n",
      "DESCRIPTION\n",
      "        bytes\n",
      "        -----\n",
      "               uniform bytes (values between 0 and 255)\n",
      "    \n",
      "        integers\n",
      "        --------\n",
      "               uniform within range\n",
      "    \n",
      "        sequences\n",
      "        ---------\n",
      "               pick random element\n",
      "               pick random sample\n",
      "               pick weighted random sample\n",
      "               generate random permutation\n",
      "    \n",
      "        distributions on the real line:\n",
      "        ------------------------------\n",
      "               uniform\n",
      "               triangular\n",
      "               normal (Gaussian)\n",
      "               lognormal\n",
      "               negative exponential\n",
      "               gamma\n",
      "               beta\n",
      "               pareto\n",
      "               Weibull\n",
      "    \n",
      "        distributions on the circle (angles 0 to 2pi)\n",
      "        ---------------------------------------------\n",
      "               circular uniform\n",
      "               von Mises\n",
      "    \n",
      "    General notes on the underlying Mersenne Twister core generator:\n",
      "    \n",
      "    * The period is 2**19937-1.\n",
      "    * It is one of the most extensively tested generators in existence.\n",
      "    * The random() method is implemented in C, executes in a single Python step,\n",
      "      and is, therefore, threadsafe.\n",
      "\n",
      "CLASSES\n",
      "    _random.Random(builtins.object)\n",
      "        Random\n",
      "            SystemRandom\n",
      "    \n",
      "    class Random(_random.Random)\n",
      "     |  Random(x=None)\n",
      "     |  \n",
      "     |  Random number generator base class used by bound module functions.\n",
      "     |  \n",
      "     |  Used to instantiate instances of Random to get generators that don't\n",
      "     |  share state.\n",
      "     |  \n",
      "     |  Class Random can also be subclassed if you want to use a different basic\n",
      "     |  generator of your own devising: in that case, override the following\n",
      "     |  methods:  random(), seed(), getstate(), and setstate().\n",
      "     |  Optionally, implement a getrandbits() method so that randrange()\n",
      "     |  can cover arbitrarily large ranges.\n",
      "     |  \n",
      "     |  Method resolution order:\n",
      "     |      Random\n",
      "     |      _random.Random\n",
      "     |      builtins.object\n",
      "     |  \n",
      "     |  Methods defined here:\n",
      "     |  \n",
      "     |  __getstate__(self)\n",
      "     |      # Issue 17489: Since __reduce__ was defined to fix #759889 this is no\n",
      "     |      # longer called; we leave it here because it has been here since random was\n",
      "     |      # rewritten back in 2001 and why risk breaking something.\n",
      "     |  \n",
      "     |  __init__(self, x=None)\n",
      "     |      Initialize an instance.\n",
      "     |      \n",
      "     |      Optional argument x controls seeding, as for Random.seed().\n",
      "     |  \n",
      "     |  __reduce__(self)\n",
      "     |      Helper for pickle.\n",
      "     |  \n",
      "     |  __setstate__(self, state)\n",
      "     |  \n",
      "     |  betavariate(self, alpha, beta)\n",
      "     |      Beta distribution.\n",
      "     |      \n",
      "     |      Conditions on the parameters are alpha > 0 and beta > 0.\n",
      "     |      Returned values range between 0 and 1.\n",
      "     |  \n",
      "     |  choice(self, seq)\n",
      "     |      Choose a random element from a non-empty sequence.\n",
      "     |  \n",
      "     |  choices(self, population, weights=None, *, cum_weights=None, k=1)\n",
      "     |      Return a k sized list of population elements chosen with replacement.\n",
      "     |      \n",
      "     |      If the relative weights or cumulative weights are not specified,\n",
      "     |      the selections are made with equal probability.\n",
      "     |  \n",
      "     |  expovariate(self, lambd)\n",
      "     |      Exponential distribution.\n",
      "     |      \n",
      "     |      lambd is 1.0 divided by the desired mean.  It should be\n",
      "     |      nonzero.  (The parameter would be called \"lambda\", but that is\n",
      "     |      a reserved word in Python.)  Returned values range from 0 to\n",
      "     |      positive infinity if lambd is positive, and from negative\n",
      "     |      infinity to 0 if lambd is negative.\n",
      "     |  \n",
      "     |  gammavariate(self, alpha, beta)\n",
      "     |      Gamma distribution.  Not the gamma function!\n",
      "     |      \n",
      "     |      Conditions on the parameters are alpha > 0 and beta > 0.\n",
      "     |      \n",
      "     |      The probability distribution function is:\n",
      "     |      \n",
      "     |                  x ** (alpha - 1) * math.exp(-x / beta)\n",
      "     |        pdf(x) =  --------------------------------------\n",
      "     |                    math.gamma(alpha) * beta ** alpha\n",
      "     |  \n",
      "     |  gauss(self, mu, sigma)\n",
      "     |      Gaussian distribution.\n",
      "     |      \n",
      "     |      mu is the mean, and sigma is the standard deviation.  This is\n",
      "     |      slightly faster than the normalvariate() function.\n",
      "     |      \n",
      "     |      Not thread-safe without a lock around calls.\n",
      "     |  \n",
      "     |  getstate(self)\n",
      "     |      Return internal state; can be passed to setstate() later.\n",
      "     |  \n",
      "     |  lognormvariate(self, mu, sigma)\n",
      "     |      Log normal distribution.\n",
      "     |      \n",
      "     |      If you take the natural logarithm of this distribution, you'll get a\n",
      "     |      normal distribution with mean mu and standard deviation sigma.\n",
      "     |      mu can have any value, and sigma must be greater than zero.\n",
      "     |  \n",
      "     |  normalvariate(self, mu, sigma)\n",
      "     |      Normal distribution.\n",
      "     |      \n",
      "     |      mu is the mean, and sigma is the standard deviation.\n",
      "     |  \n",
      "     |  paretovariate(self, alpha)\n",
      "     |      Pareto distribution.  alpha is the shape parameter.\n",
      "     |  \n",
      "     |  randbytes(self, n)\n",
      "     |      Generate n random bytes.\n",
      "     |  \n",
      "     |  randint(self, a, b)\n",
      "     |      Return random integer in range [a, b], including both end points.\n",
      "     |  \n",
      "     |  randrange(self, start, stop=None, step=1)\n",
      "     |      Choose a random item from range(start, stop[, step]).\n",
      "     |      \n",
      "     |      This fixes the problem with randint() which includes the\n",
      "     |      endpoint; in Python this is usually not what you want.\n",
      "     |  \n",
      "     |  sample(self, population, k, *, counts=None)\n",
      "     |      Chooses k unique random elements from a population sequence or set.\n",
      "     |      \n",
      "     |      Returns a new list containing elements from the population while\n",
      "     |      leaving the original population unchanged.  The resulting list is\n",
      "     |      in selection order so that all sub-slices will also be valid random\n",
      "     |      samples.  This allows raffle winners (the sample) to be partitioned\n",
      "     |      into grand prize and second place winners (the subslices).\n",
      "     |      \n",
      "     |      Members of the population need not be hashable or unique.  If the\n",
      "     |      population contains repeats, then each occurrence is a possible\n",
      "     |      selection in the sample.\n",
      "     |      \n",
      "     |      Repeated elements can be specified one at a time or with the optional\n",
      "     |      counts parameter.  For example:\n",
      "     |      \n",
      "     |          sample(['red', 'blue'], counts=[4, 2], k=5)\n",
      "     |      \n",
      "     |      is equivalent to:\n",
      "     |      \n",
      "     |          sample(['red', 'red', 'red', 'red', 'blue', 'blue'], k=5)\n",
      "     |      \n",
      "     |      To choose a sample from a range of integers, use range() for the\n",
      "     |      population argument.  This is especially fast and space efficient\n",
      "     |      for sampling from a large population:\n",
      "     |      \n",
      "     |          sample(range(10000000), 60)\n",
      "     |  \n",
      "     |  seed(self, a=None, version=2)\n",
      "     |      Initialize internal state from a seed.\n",
      "     |      \n",
      "     |      The only supported seed types are None, int, float,\n",
      "     |      str, bytes, and bytearray.\n",
      "     |      \n",
      "     |      None or no argument seeds from current time or from an operating\n",
      "     |      system specific randomness source if available.\n",
      "     |      \n",
      "     |      If *a* is an int, all bits are used.\n",
      "     |      \n",
      "     |      For version 2 (the default), all of the bits are used if *a* is a str,\n",
      "     |      bytes, or bytearray.  For version 1 (provided for reproducing random\n",
      "     |      sequences from older versions of Python), the algorithm for str and\n",
      "     |      bytes generates a narrower range of seeds.\n",
      "     |  \n",
      "     |  setstate(self, state)\n",
      "     |      Restore internal state from object returned by getstate().\n",
      "     |  \n",
      "     |  shuffle(self, x, random=None)\n",
      "     |      Shuffle list x in place, and return None.\n",
      "     |      \n",
      "     |      Optional argument random is a 0-argument function returning a\n",
      "     |      random float in [0.0, 1.0); if it is the default None, the\n",
      "     |      standard random.random will be used.\n",
      "     |  \n",
      "     |  triangular(self, low=0.0, high=1.0, mode=None)\n",
      "     |      Triangular distribution.\n",
      "     |      \n",
      "     |      Continuous distribution bounded by given lower and upper limits,\n",
      "     |      and having a given mode value in-between.\n",
      "     |      \n",
      "     |      http://en.wikipedia.org/wiki/Triangular_distribution\n",
      "     |  \n",
      "     |  uniform(self, a, b)\n",
      "     |      Get a random number in the range [a, b) or [a, b] depending on rounding.\n",
      "     |  \n",
      "     |  vonmisesvariate(self, mu, kappa)\n",
      "     |      Circular data distribution.\n",
      "     |      \n",
      "     |      mu is the mean angle, expressed in radians between 0 and 2*pi, and\n",
      "     |      kappa is the concentration parameter, which must be greater than or\n",
      "     |      equal to zero.  If kappa is equal to zero, this distribution reduces\n",
      "     |      to a uniform random angle over the range 0 to 2*pi.\n",
      "     |  \n",
      "     |  weibullvariate(self, alpha, beta)\n",
      "     |      Weibull distribution.\n",
      "     |      \n",
      "     |      alpha is the scale parameter and beta is the shape parameter.\n",
      "     |  \n",
      "     |  ----------------------------------------------------------------------\n",
      "     |  Class methods defined here:\n",
      "     |  \n",
      "     |  __init_subclass__(**kwargs) from builtins.type\n",
      "     |      Control how subclasses generate random integers.\n",
      "     |      \n",
      "     |      The algorithm a subclass can use depends on the random() and/or\n",
      "     |      getrandbits() implementation available to it and determines\n",
      "     |      whether it can generate random integers from arbitrarily large\n",
      "     |      ranges.\n",
      "     |  \n",
      "     |  ----------------------------------------------------------------------\n",
      "     |  Data descriptors defined here:\n",
      "     |  \n",
      "     |  __dict__\n",
      "     |      dictionary for instance variables (if defined)\n",
      "     |  \n",
      "     |  __weakref__\n",
      "     |      list of weak references to the object (if defined)\n",
      "     |  \n",
      "     |  ----------------------------------------------------------------------\n",
      "     |  Data and other attributes defined here:\n",
      "     |  \n",
      "     |  VERSION = 3\n",
      "     |  \n",
      "     |  ----------------------------------------------------------------------\n",
      "     |  Methods inherited from _random.Random:\n",
      "     |  \n",
      "     |  getrandbits(self, k, /)\n",
      "     |      getrandbits(k) -> x.  Generates an int with k random bits.\n",
      "     |  \n",
      "     |  random(self, /)\n",
      "     |      random() -> x in the interval [0, 1).\n",
      "     |  \n",
      "     |  ----------------------------------------------------------------------\n",
      "     |  Static methods inherited from _random.Random:\n",
      "     |  \n",
      "     |  __new__(*args, **kwargs) from builtins.type\n",
      "     |      Create and return a new object.  See help(type) for accurate signature.\n",
      "    \n",
      "    class SystemRandom(Random)\n",
      "     |  SystemRandom(x=None)\n",
      "     |  \n",
      "     |  Alternate random number generator using sources provided\n",
      "     |  by the operating system (such as /dev/urandom on Unix or\n",
      "     |  CryptGenRandom on Windows).\n",
      "     |  \n",
      "     |   Not available on all systems (see os.urandom() for details).\n",
      "     |  \n",
      "     |  Method resolution order:\n",
      "     |      SystemRandom\n",
      "     |      Random\n",
      "     |      _random.Random\n",
      "     |      builtins.object\n",
      "     |  \n",
      "     |  Methods defined here:\n",
      "     |  \n",
      "     |  getrandbits(self, k)\n",
      "     |      getrandbits(k) -> x.  Generates an int with k random bits.\n",
      "     |  \n",
      "     |  getstate = _notimplemented(self, *args, **kwds)\n",
      "     |  \n",
      "     |  randbytes(self, n)\n",
      "     |      Generate n random bytes.\n",
      "     |  \n",
      "     |  random(self)\n",
      "     |      Get the next random number in the range [0.0, 1.0).\n",
      "     |  \n",
      "     |  seed(self, *args, **kwds)\n",
      "     |      Stub method.  Not used for a system random number generator.\n",
      "     |  \n",
      "     |  setstate = _notimplemented(self, *args, **kwds)\n",
      "     |  \n",
      "     |  ----------------------------------------------------------------------\n",
      "     |  Methods inherited from Random:\n",
      "     |  \n",
      "     |  __getstate__(self)\n",
      "     |      # Issue 17489: Since __reduce__ was defined to fix #759889 this is no\n",
      "     |      # longer called; we leave it here because it has been here since random was\n",
      "     |      # rewritten back in 2001 and why risk breaking something.\n",
      "     |  \n",
      "     |  __init__(self, x=None)\n",
      "     |      Initialize an instance.\n",
      "     |      \n",
      "     |      Optional argument x controls seeding, as for Random.seed().\n",
      "     |  \n",
      "     |  __reduce__(self)\n",
      "     |      Helper for pickle.\n",
      "     |  \n",
      "     |  __setstate__(self, state)\n",
      "     |  \n",
      "     |  betavariate(self, alpha, beta)\n",
      "     |      Beta distribution.\n",
      "     |      \n",
      "     |      Conditions on the parameters are alpha > 0 and beta > 0.\n",
      "     |      Returned values range between 0 and 1.\n",
      "     |  \n",
      "     |  choice(self, seq)\n",
      "     |      Choose a random element from a non-empty sequence.\n",
      "     |  \n",
      "     |  choices(self, population, weights=None, *, cum_weights=None, k=1)\n",
      "     |      Return a k sized list of population elements chosen with replacement.\n",
      "     |      \n",
      "     |      If the relative weights or cumulative weights are not specified,\n",
      "     |      the selections are made with equal probability.\n",
      "     |  \n",
      "     |  expovariate(self, lambd)\n",
      "     |      Exponential distribution.\n",
      "     |      \n",
      "     |      lambd is 1.0 divided by the desired mean.  It should be\n",
      "     |      nonzero.  (The parameter would be called \"lambda\", but that is\n",
      "     |      a reserved word in Python.)  Returned values range from 0 to\n",
      "     |      positive infinity if lambd is positive, and from negative\n",
      "     |      infinity to 0 if lambd is negative.\n",
      "     |  \n",
      "     |  gammavariate(self, alpha, beta)\n",
      "     |      Gamma distribution.  Not the gamma function!\n",
      "     |      \n",
      "     |      Conditions on the parameters are alpha > 0 and beta > 0.\n",
      "     |      \n",
      "     |      The probability distribution function is:\n",
      "     |      \n",
      "     |                  x ** (alpha - 1) * math.exp(-x / beta)\n",
      "     |        pdf(x) =  --------------------------------------\n",
      "     |                    math.gamma(alpha) * beta ** alpha\n",
      "     |  \n",
      "     |  gauss(self, mu, sigma)\n",
      "     |      Gaussian distribution.\n",
      "     |      \n",
      "     |      mu is the mean, and sigma is the standard deviation.  This is\n",
      "     |      slightly faster than the normalvariate() function.\n",
      "     |      \n",
      "     |      Not thread-safe without a lock around calls.\n",
      "     |  \n",
      "     |  lognormvariate(self, mu, sigma)\n",
      "     |      Log normal distribution.\n",
      "     |      \n",
      "     |      If you take the natural logarithm of this distribution, you'll get a\n",
      "     |      normal distribution with mean mu and standard deviation sigma.\n",
      "     |      mu can have any value, and sigma must be greater than zero.\n",
      "     |  \n",
      "     |  normalvariate(self, mu, sigma)\n",
      "     |      Normal distribution.\n",
      "     |      \n",
      "     |      mu is the mean, and sigma is the standard deviation.\n",
      "     |  \n",
      "     |  paretovariate(self, alpha)\n",
      "     |      Pareto distribution.  alpha is the shape parameter.\n",
      "     |  \n",
      "     |  randint(self, a, b)\n",
      "     |      Return random integer in range [a, b], including both end points.\n",
      "     |  \n",
      "     |  randrange(self, start, stop=None, step=1)\n",
      "     |      Choose a random item from range(start, stop[, step]).\n",
      "     |      \n",
      "     |      This fixes the problem with randint() which includes the\n",
      "     |      endpoint; in Python this is usually not what you want.\n",
      "     |  \n",
      "     |  sample(self, population, k, *, counts=None)\n",
      "     |      Chooses k unique random elements from a population sequence or set.\n",
      "     |      \n",
      "     |      Returns a new list containing elements from the population while\n",
      "     |      leaving the original population unchanged.  The resulting list is\n",
      "     |      in selection order so that all sub-slices will also be valid random\n",
      "     |      samples.  This allows raffle winners (the sample) to be partitioned\n",
      "     |      into grand prize and second place winners (the subslices).\n",
      "     |      \n",
      "     |      Members of the population need not be hashable or unique.  If the\n",
      "     |      population contains repeats, then each occurrence is a possible\n",
      "     |      selection in the sample.\n",
      "     |      \n",
      "     |      Repeated elements can be specified one at a time or with the optional\n",
      "     |      counts parameter.  For example:\n",
      "     |      \n",
      "     |          sample(['red', 'blue'], counts=[4, 2], k=5)\n",
      "     |      \n",
      "     |      is equivalent to:\n",
      "     |      \n",
      "     |          sample(['red', 'red', 'red', 'red', 'blue', 'blue'], k=5)\n",
      "     |      \n",
      "     |      To choose a sample from a range of integers, use range() for the\n",
      "     |      population argument.  This is especially fast and space efficient\n",
      "     |      for sampling from a large population:\n",
      "     |      \n",
      "     |          sample(range(10000000), 60)\n",
      "     |  \n",
      "     |  shuffle(self, x, random=None)\n",
      "     |      Shuffle list x in place, and return None.\n",
      "     |      \n",
      "     |      Optional argument random is a 0-argument function returning a\n",
      "     |      random float in [0.0, 1.0); if it is the default None, the\n",
      "     |      standard random.random will be used.\n",
      "     |  \n",
      "     |  triangular(self, low=0.0, high=1.0, mode=None)\n",
      "     |      Triangular distribution.\n",
      "     |      \n",
      "     |      Continuous distribution bounded by given lower and upper limits,\n",
      "     |      and having a given mode value in-between.\n",
      "     |      \n",
      "     |      http://en.wikipedia.org/wiki/Triangular_distribution\n",
      "     |  \n",
      "     |  uniform(self, a, b)\n",
      "     |      Get a random number in the range [a, b) or [a, b] depending on rounding.\n",
      "     |  \n",
      "     |  vonmisesvariate(self, mu, kappa)\n",
      "     |      Circular data distribution.\n",
      "     |      \n",
      "     |      mu is the mean angle, expressed in radians between 0 and 2*pi, and\n",
      "     |      kappa is the concentration parameter, which must be greater than or\n",
      "     |      equal to zero.  If kappa is equal to zero, this distribution reduces\n",
      "     |      to a uniform random angle over the range 0 to 2*pi.\n",
      "     |  \n",
      "     |  weibullvariate(self, alpha, beta)\n",
      "     |      Weibull distribution.\n",
      "     |      \n",
      "     |      alpha is the scale parameter and beta is the shape parameter.\n",
      "     |  \n",
      "     |  ----------------------------------------------------------------------\n",
      "     |  Class methods inherited from Random:\n",
      "     |  \n",
      "     |  __init_subclass__(**kwargs) from builtins.type\n",
      "     |      Control how subclasses generate random integers.\n",
      "     |      \n",
      "     |      The algorithm a subclass can use depends on the random() and/or\n",
      "     |      getrandbits() implementation available to it and determines\n",
      "     |      whether it can generate random integers from arbitrarily large\n",
      "     |      ranges.\n",
      "     |  \n",
      "     |  ----------------------------------------------------------------------\n",
      "     |  Data descriptors inherited from Random:\n",
      "     |  \n",
      "     |  __dict__\n",
      "     |      dictionary for instance variables (if defined)\n",
      "     |  \n",
      "     |  __weakref__\n",
      "     |      list of weak references to the object (if defined)\n",
      "     |  \n",
      "     |  ----------------------------------------------------------------------\n",
      "     |  Data and other attributes inherited from Random:\n",
      "     |  \n",
      "     |  VERSION = 3\n",
      "     |  \n",
      "     |  ----------------------------------------------------------------------\n",
      "     |  Static methods inherited from _random.Random:\n",
      "     |  \n",
      "     |  __new__(*args, **kwargs) from builtins.type\n",
      "     |      Create and return a new object.  See help(type) for accurate signature.\n",
      "\n",
      "FUNCTIONS\n",
      "    betavariate(alpha, beta) method of Random instance\n",
      "        Beta distribution.\n",
      "        \n",
      "        Conditions on the parameters are alpha > 0 and beta > 0.\n",
      "        Returned values range between 0 and 1.\n",
      "    \n",
      "    choice(seq) method of Random instance\n",
      "        Choose a random element from a non-empty sequence.\n",
      "    \n",
      "    choices(population, weights=None, *, cum_weights=None, k=1) method of Random instance\n",
      "        Return a k sized list of population elements chosen with replacement.\n",
      "        \n",
      "        If the relative weights or cumulative weights are not specified,\n",
      "        the selections are made with equal probability.\n",
      "    \n",
      "    expovariate(lambd) method of Random instance\n",
      "        Exponential distribution.\n",
      "        \n",
      "        lambd is 1.0 divided by the desired mean.  It should be\n",
      "        nonzero.  (The parameter would be called \"lambda\", but that is\n",
      "        a reserved word in Python.)  Returned values range from 0 to\n",
      "        positive infinity if lambd is positive, and from negative\n",
      "        infinity to 0 if lambd is negative.\n",
      "    \n",
      "    gammavariate(alpha, beta) method of Random instance\n",
      "        Gamma distribution.  Not the gamma function!\n",
      "        \n",
      "        Conditions on the parameters are alpha > 0 and beta > 0.\n",
      "        \n",
      "        The probability distribution function is:\n",
      "        \n",
      "                    x ** (alpha - 1) * math.exp(-x / beta)\n",
      "          pdf(x) =  --------------------------------------\n",
      "                      math.gamma(alpha) * beta ** alpha\n",
      "    \n",
      "    gauss(mu, sigma) method of Random instance\n",
      "        Gaussian distribution.\n",
      "        \n",
      "        mu is the mean, and sigma is the standard deviation.  This is\n",
      "        slightly faster than the normalvariate() function.\n",
      "        \n",
      "        Not thread-safe without a lock around calls.\n",
      "    \n",
      "    getrandbits(k, /) method of Random instance\n",
      "        getrandbits(k) -> x.  Generates an int with k random bits.\n",
      "    \n",
      "    getstate() method of Random instance\n",
      "        Return internal state; can be passed to setstate() later.\n",
      "    \n",
      "    lognormvariate(mu, sigma) method of Random instance\n",
      "        Log normal distribution.\n",
      "        \n",
      "        If you take the natural logarithm of this distribution, you'll get a\n",
      "        normal distribution with mean mu and standard deviation sigma.\n",
      "        mu can have any value, and sigma must be greater than zero.\n",
      "    \n",
      "    normalvariate(mu, sigma) method of Random instance\n",
      "        Normal distribution.\n",
      "        \n",
      "        mu is the mean, and sigma is the standard deviation.\n",
      "    \n",
      "    paretovariate(alpha) method of Random instance\n",
      "        Pareto distribution.  alpha is the shape parameter.\n",
      "    \n",
      "    randbytes(n) method of Random instance\n",
      "        Generate n random bytes.\n",
      "    \n",
      "    randint(a, b) method of Random instance\n",
      "        Return random integer in range [a, b], including both end points.\n",
      "    \n",
      "    random() method of Random instance\n",
      "        random() -> x in the interval [0, 1).\n",
      "    \n",
      "    randrange(start, stop=None, step=1) method of Random instance\n",
      "        Choose a random item from range(start, stop[, step]).\n",
      "        \n",
      "        This fixes the problem with randint() which includes the\n",
      "        endpoint; in Python this is usually not what you want.\n",
      "    \n",
      "    sample(population, k, *, counts=None) method of Random instance\n",
      "        Chooses k unique random elements from a population sequence or set.\n",
      "        \n",
      "        Returns a new list containing elements from the population while\n",
      "        leaving the original population unchanged.  The resulting list is\n",
      "        in selection order so that all sub-slices will also be valid random\n",
      "        samples.  This allows raffle winners (the sample) to be partitioned\n",
      "        into grand prize and second place winners (the subslices).\n",
      "        \n",
      "        Members of the population need not be hashable or unique.  If the\n",
      "        population contains repeats, then each occurrence is a possible\n",
      "        selection in the sample.\n",
      "        \n",
      "        Repeated elements can be specified one at a time or with the optional\n",
      "        counts parameter.  For example:\n",
      "        \n",
      "            sample(['red', 'blue'], counts=[4, 2], k=5)\n",
      "        \n",
      "        is equivalent to:\n",
      "        \n",
      "            sample(['red', 'red', 'red', 'red', 'blue', 'blue'], k=5)\n",
      "        \n",
      "        To choose a sample from a range of integers, use range() for the\n",
      "        population argument.  This is especially fast and space efficient\n",
      "        for sampling from a large population:\n",
      "        \n",
      "            sample(range(10000000), 60)\n",
      "    \n",
      "    seed(a=None, version=2) method of Random instance\n",
      "        Initialize internal state from a seed.\n",
      "        \n",
      "        The only supported seed types are None, int, float,\n",
      "        str, bytes, and bytearray.\n",
      "        \n",
      "        None or no argument seeds from current time or from an operating\n",
      "        system specific randomness source if available.\n",
      "        \n",
      "        If *a* is an int, all bits are used.\n",
      "        \n",
      "        For version 2 (the default), all of the bits are used if *a* is a str,\n",
      "        bytes, or bytearray.  For version 1 (provided for reproducing random\n",
      "        sequences from older versions of Python), the algorithm for str and\n",
      "        bytes generates a narrower range of seeds.\n",
      "    \n",
      "    setstate(state) method of Random instance\n",
      "        Restore internal state from object returned by getstate().\n",
      "    \n",
      "    shuffle(x, random=None) method of Random instance\n",
      "        Shuffle list x in place, and return None.\n",
      "        \n",
      "        Optional argument random is a 0-argument function returning a\n",
      "        random float in [0.0, 1.0); if it is the default None, the\n",
      "        standard random.random will be used.\n",
      "    \n",
      "    triangular(low=0.0, high=1.0, mode=None) method of Random instance\n",
      "        Triangular distribution.\n",
      "        \n",
      "        Continuous distribution bounded by given lower and upper limits,\n",
      "        and having a given mode value in-between.\n",
      "        \n",
      "        http://en.wikipedia.org/wiki/Triangular_distribution\n",
      "    \n",
      "    uniform(a, b) method of Random instance\n",
      "        Get a random number in the range [a, b) or [a, b] depending on rounding.\n",
      "    \n",
      "    vonmisesvariate(mu, kappa) method of Random instance\n",
      "        Circular data distribution.\n",
      "        \n",
      "        mu is the mean angle, expressed in radians between 0 and 2*pi, and\n",
      "        kappa is the concentration parameter, which must be greater than or\n",
      "        equal to zero.  If kappa is equal to zero, this distribution reduces\n",
      "        to a uniform random angle over the range 0 to 2*pi.\n",
      "    \n",
      "    weibullvariate(alpha, beta) method of Random instance\n",
      "        Weibull distribution.\n",
      "        \n",
      "        alpha is the scale parameter and beta is the shape parameter.\n",
      "\n",
      "DATA\n",
      "    __all__ = ['Random', 'SystemRandom', 'betavariate', 'choice', 'choices...\n",
      "\n",
      "FILE\n",
      "    c:\\users\\asus\\anaconda3\\lib\\random.py\n",
      "\n",
      "\n"
     ]
    }
   ],
   "source": [
    "help(random)"
   ]
  },
  {
   "cell_type": "markdown",
   "metadata": {},
   "source": [
    "La siguiente línea imprime información de la función `random()`:"
   ]
  },
  {
   "cell_type": "code",
   "execution_count": 20,
   "metadata": {},
   "outputs": [
    {
     "name": "stdout",
     "output_type": "stream",
     "text": [
      "Help on built-in function random:\n",
      "\n",
      "random() method of random.Random instance\n",
      "    random() -> x in the interval [0, 1).\n",
      "\n"
     ]
    }
   ],
   "source": [
    "help(random.random)"
   ]
  },
  {
   "cell_type": "markdown",
   "metadata": {},
   "source": [
    "Como puede observar, `random.random()` retorna una valor entre 0 y 0.99999...."
   ]
  },
  {
   "cell_type": "code",
   "execution_count": 21,
   "metadata": {},
   "outputs": [
    {
     "name": "stdout",
     "output_type": "stream",
     "text": [
      "0.8309979826763929\n",
      "0.839864873030073\n",
      "0.6996786516183964\n",
      "0.24637615547625913\n",
      "0.3094165665094325\n"
     ]
    }
   ],
   "source": [
    "for i in range(5):\n",
    "    print(random.random())"
   ]
  },
  {
   "cell_type": "markdown",
   "metadata": {},
   "source": [
    "Otra función útil en la librería `random` es `randrange()`. Esta genera un rango de valores enteros (al igual que `range()`) y retorna un valor aleatorio dentro del rango generado:"
   ]
  },
  {
   "cell_type": "code",
   "execution_count": 22,
   "metadata": {},
   "outputs": [
    {
     "name": "stdout",
     "output_type": "stream",
     "text": [
      "2\n",
      "1\n",
      "2\n",
      "5\n",
      "6\n"
     ]
    }
   ],
   "source": [
    "for i in range(5):\n",
    "    print(random.randrange(1, 10))"
   ]
  },
  {
   "cell_type": "markdown",
   "metadata": {},
   "source": [
    "Así también, la función `uniform()` retorna un valor aleatorio `float` en un rango:"
   ]
  },
  {
   "cell_type": "code",
   "execution_count": 23,
   "metadata": {},
   "outputs": [
    {
     "name": "stdout",
     "output_type": "stream",
     "text": [
      "3.490770226697019\n",
      "9.674063315170267\n",
      "4.527729215990874\n",
      "6.5165374268575125\n",
      "1.3644621499051426\n"
     ]
    }
   ],
   "source": [
    "for i in range(5):\n",
    "    print(random.uniform(1, 10))"
   ]
  }
 ],
 "metadata": {
  "kernelspec": {
   "display_name": "Python 3 (ipykernel)",
   "language": "python",
   "name": "python3"
  },
  "language_info": {
   "codemirror_mode": {
    "name": "ipython",
    "version": 3
   },
   "file_extension": ".py",
   "mimetype": "text/x-python",
   "name": "python",
   "nbconvert_exporter": "python",
   "pygments_lexer": "ipython3",
   "version": "3.11.5"
  }
 },
 "nbformat": 4,
 "nbformat_minor": 4
}
