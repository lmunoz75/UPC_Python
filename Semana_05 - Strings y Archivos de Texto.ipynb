{
 "cells": [
  {
   "cell_type": "markdown",
   "metadata": {
    "user_expressions": []
   },
   "source": [
    "# Strings y archivos de texto\n",
    "![](https://studymachinelearning.com/wp-content/uploads/2019/11/python_string.png)\n",
    "\n",
    "Ref: https://studymachinelearning.com/python-string/\n",
    "\n",
    "<div style=\"text-align: right\">Autor: Luis A. Muñoz - 2024 </div>"
   ]
  },
  {
   "cell_type": "markdown",
   "metadata": {
    "user_expressions": []
   },
   "source": [
    "Ideas clave:\n",
    "* Los strings representan cadenas de caracteres y son objetos inmutables\n",
    "* Los strings soportan indexación como las listas y tuplas.\n",
    "* Los caracteres en Python son datos codificados en utf-8 como valores enteros.\n",
    "* La manipulación de strings se realiza por medio de los métodos de la clase string\n",
    "* Los archivos son objetos almacenados en el File System del Sistema Operativo.\n",
    "* Un archivo puede ser de texto o de datos binarios.\n",
    "* Python puede acceder a los archivos utilizando la instrucción open() y luego cerrarlos con la instucción close(). No se debe dejar un archivo abierto en el sistema.\n",
    "* Se puede utilizar un Context Manager (with) para controlar el acceso a los archivos.\n",
    "* Al abrir un archivo en Python se genera un cursor, un puntero que \"apunta\" a la primera linea de un archivo de texto.\n",
    "* Los métodos read(), readline() y readlines() permiten leer el texto de un archivo de texto.\n",
    "* Lo métodos write() y writelines() permiten escribir en un archivo de texto.\n",
    "* El cursor de un archivo de texto es un iterable; esto es, que si se incluye en un lazo for leera cada línea de un archivo de texto hasta el final.\n",
    "\n",
    "Informacion:\n",
    "* https://www.programiz.com/python-programming/string\n",
    "* https://apuntes.de/python/trabajo-con-archivos-en-python-lectura-y-escritura-simplificada/#gsc.tab=0\n",
    "---"
   ]
  },
  {
   "cell_type": "markdown",
   "metadata": {
    "tags": [],
    "user_expressions": []
   },
   "source": [
    "## strings (`str`) en Python\n",
    "Un string es una secuencia de caracteres (aunque esta secuencia tenga cero elementos, como una cadena vacia \"\"). Este puede ser especificado utilizando comillas doblas, simples o inclusive triple comilla."
   ]
  },
  {
   "cell_type": "code",
   "execution_count": 1,
   "metadata": {},
   "outputs": [
    {
     "name": "stdout",
     "output_type": "stream",
     "text": [
      "Soy un string\n",
      "También soy un string\n",
      "Y yo tambien soy un string\n",
      "Y por supuesto yo tambien\n",
      "<class 'str'>\n"
     ]
    }
   ],
   "source": [
    "print(\"Soy un string\")\n",
    "print('También soy un string')\n",
    "print(\"\"\"Y yo tambien soy un string\"\"\")\n",
    "print('''Y por supuesto yo tambien''')\n",
    "\n",
    "print(type(\"\"))"
   ]
  },
  {
   "cell_type": "markdown",
   "metadata": {
    "user_expressions": []
   },
   "source": [
    "No existe diferencia entre utilizar \"\" o '' aunque si en los casos de triple comilla, ya que aqui se define un bloque string con formato incluido. Por ejemplo:"
   ]
  },
  {
   "cell_type": "code",
   "execution_count": 2,
   "metadata": {},
   "outputs": [
    {
     "name": "stdout",
     "output_type": "stream",
     "text": [
      "Esto se imprimira en una linea\n",
      "y esto en la segunda linea\n"
     ]
    }
   ],
   "source": [
    "print(\"\"\"Esto se imprimira en una linea\n",
    "y esto en la segunda linea\"\"\")"
   ]
  },
  {
   "cell_type": "markdown",
   "metadata": {
    "user_expressions": []
   },
   "source": [
    "Esto, con una sola comilla, generará un error:"
   ]
  },
  {
   "cell_type": "code",
   "execution_count": 3,
   "metadata": {},
   "outputs": [
    {
     "ename": "SyntaxError",
     "evalue": "unterminated string literal (detected at line 1) (2004609760.py, line 1)",
     "output_type": "error",
     "traceback": [
      "\u001b[1;36m  Cell \u001b[1;32mIn[3], line 1\u001b[1;36m\u001b[0m\n\u001b[1;33m    print(\"Esto se imprimira en una linea\u001b[0m\n\u001b[1;37m          ^\u001b[0m\n\u001b[1;31mSyntaxError\u001b[0m\u001b[1;31m:\u001b[0m unterminated string literal (detected at line 1)\n"
     ]
    }
   ],
   "source": [
    "print(\"Esto se imprimira en una linea\n",
    "y esto en la segunda linea\")"
   ]
  },
  {
   "cell_type": "markdown",
   "metadata": {
    "user_expressions": []
   },
   "source": [
    "Aunque se puede utilizar el caracter de escape `\\` para indicar que la instrucción continúa en la línea de abajo, pero la impresión se mantiene en la misma linea porque no existe un caracter de escape de nueva línea (como `\\n`)."
   ]
  },
  {
   "cell_type": "code",
   "execution_count": 4,
   "metadata": {},
   "outputs": [
    {
     "name": "stdout",
     "output_type": "stream",
     "text": [
      "Esto se imprimirá en una linea y esto también\n"
     ]
    }
   ],
   "source": [
    "print(\"Esto se imprimirá en una linea \\\n",
    "y esto también\")"
   ]
  },
  {
   "cell_type": "markdown",
   "metadata": {
    "user_expressions": []
   },
   "source": [
    "Las cadenas son tipos de datos que son indexables, es decir que al igual que las tuplas y listas, soportan índices e index slicing. Revise las siguientes instrucciones y evalúe los resultados obtenidos:"
   ]
  },
  {
   "cell_type": "code",
   "execution_count": 5,
   "metadata": {},
   "outputs": [
    {
     "name": "stdout",
     "output_type": "stream",
     "text": [
      "S\n",
      "a\n",
      "Soy un tex\n",
      "S  x  ua\n",
      "abeurp ed otxet nu yoS\n"
     ]
    }
   ],
   "source": [
    "texto = \"Soy un texto de prueba\"\n",
    "\n",
    "print(texto[0])\n",
    "print(texto[-1])\n",
    "print(texto[:10])\n",
    "print(texto[::3])\n",
    "print(texto[::-1])"
   ]
  },
  {
   "cell_type": "markdown",
   "metadata": {
    "user_expressions": []
   },
   "source": [
    "Una característica importante a considerar es que los string __son inmutables__: "
   ]
  },
  {
   "cell_type": "code",
   "execution_count": 6,
   "metadata": {},
   "outputs": [
    {
     "ename": "TypeError",
     "evalue": "'str' object does not support item assignment",
     "output_type": "error",
     "traceback": [
      "\u001b[1;31m---------------------------------------------------------------------------\u001b[0m",
      "\u001b[1;31mTypeError\u001b[0m                                 Traceback (most recent call last)",
      "Cell \u001b[1;32mIn[6], line 1\u001b[0m\n\u001b[1;32m----> 1\u001b[0m texto[\u001b[38;5;241m0\u001b[39m] \u001b[38;5;241m=\u001b[39m \u001b[38;5;124m'\u001b[39m\u001b[38;5;124ms\u001b[39m\u001b[38;5;124m'\u001b[39m\n",
      "\u001b[1;31mTypeError\u001b[0m: 'str' object does not support item assignment"
     ]
    }
   ],
   "source": [
    "texto[0] = 's'"
   ]
  },
  {
   "cell_type": "markdown",
   "metadata": {
    "user_expressions": []
   },
   "source": [
    "El error que arroja el intérprete de Python es el mismo que se obtenía al intentar asignar un valor a un elemento de una tupla: este objeto no soporta asignación de items.\n",
    "\n",
    "Por otro lado, un string es un *iterable*, es decir que puede formar parte de un lazo `for` y retornará cada caracter de un string (incluyendo los espacios en blanco: también son caracteres)."
   ]
  },
  {
   "cell_type": "code",
   "execution_count": 8,
   "metadata": {},
   "outputs": [
    {
     "name": "stdout",
     "output_type": "stream",
     "text": [
      "S\n",
      "T\n",
      "R\n",
      "I\n",
      "N\n",
      "G\n"
     ]
    }
   ],
   "source": [
    "for char in 'STRING':\n",
    "    print(char)"
   ]
  },
  {
   "cell_type": "markdown",
   "metadata": {},
   "source": [
    "## Operaciones y funciones útiles con strings"
   ]
  },
  {
   "cell_type": "markdown",
   "metadata": {},
   "source": [
    "Los strings soportan los operadores `+` y `*`:"
   ]
  },
  {
   "cell_type": "code",
   "execution_count": null,
   "metadata": {},
   "outputs": [],
   "source": [
    "print(\"z\" * 3 + \".\" * 6)"
   ]
  },
  {
   "cell_type": "markdown",
   "metadata": {
    "user_expressions": []
   },
   "source": [
    "Así también, la función `len()` permite conocer el número de caracteres de un string (de forma semejante a el número de elementos de una tupla/lista). Combinado con lo anterior, por ejemplo, se puede subrayar un texto de forma interactiva:"
   ]
  },
  {
   "cell_type": "code",
   "execution_count": 17,
   "metadata": {},
   "outputs": [
    {
     "name": "stdout",
     "output_type": "stream",
     "text": [
      "MENSAJE A SUBRAYAR\n",
      "==================\n"
     ]
    }
   ],
   "source": [
    "titulo = \"MENSAJE A SUBRAYAR\"\n",
    "print(titulo)\n",
    "print(\"=\" * len(titulo))"
   ]
  },
  {
   "cell_type": "markdown",
   "metadata": {},
   "source": [
    "Los caracteres son almacenados en un sistema informático como valores enteros. Los caracteres en idioma inglés se pueden representar con 8 bits y están especificados bajo el estándar ASCII. Sin embargo, los demás juegos de caracteres (como el español, portugués, ruso, etc.) amplian el estándar (llamado Unicode) y el número de bits necesarios por caracter, de forma tal que hay caracteres de 1 byte y otros de hasta 4 bytes. El estándar UTF-8 soporta una codificación de tamaño variable y es el estándar utilizado por Python.\n",
    "\n",
    "Para conocer el codigo Unicode de un caracter se recurre a la funcion `ord()`, y para conocer el caracter al que le corresponde un código Unicode se utiliza `chr()`:"
   ]
  },
  {
   "cell_type": "code",
   "execution_count": 10,
   "metadata": {},
   "outputs": [
    {
     "name": "stdout",
     "output_type": "stream",
     "text": [
      "A = 65\n",
      "65 = A\n"
     ]
    }
   ],
   "source": [
    "print(\"A =\", ord(\"A\"))\n",
    "print(\"65 =\", chr(65))"
   ]
  },
  {
   "cell_type": "markdown",
   "metadata": {},
   "source": [
    "## Métodos de un str\n",
    "La lista de métodos de un string es bastante amplia:"
   ]
  },
  {
   "cell_type": "code",
   "execution_count": 11,
   "metadata": {
    "scrolled": true,
    "tags": []
   },
   "outputs": [
    {
     "data": {
      "text/plain": [
       "['__add__',\n",
       " '__class__',\n",
       " '__contains__',\n",
       " '__delattr__',\n",
       " '__dir__',\n",
       " '__doc__',\n",
       " '__eq__',\n",
       " '__format__',\n",
       " '__ge__',\n",
       " '__getattribute__',\n",
       " '__getitem__',\n",
       " '__getnewargs__',\n",
       " '__gt__',\n",
       " '__hash__',\n",
       " '__init__',\n",
       " '__init_subclass__',\n",
       " '__iter__',\n",
       " '__le__',\n",
       " '__len__',\n",
       " '__lt__',\n",
       " '__mod__',\n",
       " '__mul__',\n",
       " '__ne__',\n",
       " '__new__',\n",
       " '__reduce__',\n",
       " '__reduce_ex__',\n",
       " '__repr__',\n",
       " '__rmod__',\n",
       " '__rmul__',\n",
       " '__setattr__',\n",
       " '__sizeof__',\n",
       " '__str__',\n",
       " '__subclasshook__',\n",
       " 'capitalize',\n",
       " 'casefold',\n",
       " 'center',\n",
       " 'count',\n",
       " 'encode',\n",
       " 'endswith',\n",
       " 'expandtabs',\n",
       " 'find',\n",
       " 'format',\n",
       " 'format_map',\n",
       " 'index',\n",
       " 'isalnum',\n",
       " 'isalpha',\n",
       " 'isascii',\n",
       " 'isdecimal',\n",
       " 'isdigit',\n",
       " 'isidentifier',\n",
       " 'islower',\n",
       " 'isnumeric',\n",
       " 'isprintable',\n",
       " 'isspace',\n",
       " 'istitle',\n",
       " 'isupper',\n",
       " 'join',\n",
       " 'ljust',\n",
       " 'lower',\n",
       " 'lstrip',\n",
       " 'maketrans',\n",
       " 'partition',\n",
       " 'removeprefix',\n",
       " 'removesuffix',\n",
       " 'replace',\n",
       " 'rfind',\n",
       " 'rindex',\n",
       " 'rjust',\n",
       " 'rpartition',\n",
       " 'rsplit',\n",
       " 'rstrip',\n",
       " 'split',\n",
       " 'splitlines',\n",
       " 'startswith',\n",
       " 'strip',\n",
       " 'swapcase',\n",
       " 'title',\n",
       " 'translate',\n",
       " 'upper',\n",
       " 'zfill']"
      ]
     },
     "execution_count": 11,
     "metadata": {},
     "output_type": "execute_result"
    }
   ],
   "source": [
    "dir(str)"
   ]
  },
  {
   "cell_type": "markdown",
   "metadata": {
    "user_expressions": []
   },
   "source": [
    "Así que vamos a revisar los de uso más común y separarlos por categorías. \n",
    "\n",
    "### Métodos que eliminan caracteres\n",
    "Vamos a revisar los métodos que modifican un `str` eliminando caracteres innecesarios. Aqui debemos entender que \"modificar\" un `str` significa obtener un nuevo  `str` modificado (no como en las listas, en donde se modificaba la lista misma). Entonces podemos utilizar estos métodos con `print` ya que generamos una cadena de caracteres nueva que puede ser impresa.\n",
    "\n",
    "Tenemos los métodos que eliminan los caracteres de \"cabeza\" y \"cola\" en un `str`. Por defecto, estos son los espacios en blanco.\n",
    "\n",
    "    * str.strip()      : Elimina los caracteres adicionales \n",
    "                         al inicio y al final de una cadena\n",
    "    * str.lstrip()     : Elimina los caracteres adicionales al \n",
    "                         inicio de una cadena (es decir, a la izquierda. \"l\": left)\n",
    "    * str.rstrip()     : Elimina los caracteres adicionales al \n",
    "                         final de una cadena (es decir, a la derecha. \"r\": right)\n",
    "    \n",
    "Veamos algunos ejemplos:"
   ]
  },
  {
   "cell_type": "code",
   "execution_count": 12,
   "metadata": {},
   "outputs": [
    {
     "name": "stdout",
     "output_type": "stream",
     "text": [
      "|       este es un texto de prueba    |\n",
      "|este es un texto de prueba|\n",
      "|este es un texto de prueba    |\n",
      "|       este es un texto de prueba|\n"
     ]
    }
   ],
   "source": [
    "texto = \"       este es un texto de prueba    \"\n",
    "\n",
    "print(\"|{}|\".format(texto))            # texto original (como caracteres de limites)\n",
    "print(\"|{}|\".format(texto.strip()))    # strip: despojar (no tiene espacios en blanco antes ni despues)\n",
    "print(\"|{}|\".format(texto.lstrip()))   # l: left (no tiene caracteres especiales antes)\n",
    "print(\"|{}|\".format(texto.rstrip()))   # r: right (no tiene caracteres especiales despues)"
   ]
  },
  {
   "cell_type": "markdown",
   "metadata": {
    "user_expressions": []
   },
   "source": [
    "Estos métodos permiten especificar los caracteres que se quieran eliminar al principio y/o al final. Por ejemplo:"
   ]
  },
  {
   "cell_type": "code",
   "execution_count": 13,
   "metadata": {},
   "outputs": [
    {
     "name": "stdout",
     "output_type": "stream",
     "text": [
      "banana\n"
     ]
    }
   ],
   "source": [
    "print(\",,,,,rrttgg.....banana....rrr\".strip(\",.grt\"))"
   ]
  },
  {
   "cell_type": "markdown",
   "metadata": {},
   "source": [
    "Esto también es válido para los caracteres de escape como `\\n`. Por ejemplo:"
   ]
  },
  {
   "cell_type": "code",
   "execution_count": 14,
   "metadata": {},
   "outputs": [
    {
     "name": "stdout",
     "output_type": "stream",
     "text": [
      "Al final de este mensaje hay un caracter de nueva linea\n",
      "...\n",
      "Al final de este mensaje ya no hay un caracter de nueva línea...\n"
     ]
    }
   ],
   "source": [
    "print(\"Al final de este mensaje hay un caracter de nueva linea\\n\", end='')   # end='' es para evitar el \\n del print()\n",
    "print(\"...\")\n",
    "print(\"Al final de este mensaje ya no hay un caracter de nueva línea\\n\".strip(), end='')\n",
    "print(\"...\")"
   ]
  },
  {
   "cell_type": "markdown",
   "metadata": {
    "user_expressions": []
   },
   "source": [
    "### Métodos de cambian los caracteres de un str\n",
    "Otros métodos modifican los caracteres de un str:\n",
    "    \n",
    "    * str.capitalize()      : Capitaliza un str, es decir, convierte el primer caracter del str en mayuscula\n",
    "    * str.title()           : Convierte un str en un \"titulo\", es decir, la primer letra de cada palabra en mayuscula\n",
    "    * str.upper()           : Convierte todo el str en MAYUSCULAS\n",
    "    * str.lower()           : Convierte todo el str en minusculas\n",
    "    * str.swapcase()        : Intercambia MAYUSCULAS por minúsculas y viceversa"
   ]
  },
  {
   "cell_type": "code",
   "execution_count": 15,
   "metadata": {},
   "outputs": [
    {
     "name": "stdout",
     "output_type": "stream",
     "text": [
      "Este es un texto de prueba\n",
      "ESTE ES UN TEXTO DE PRUEBA\n",
      "este es un texto de prueba\n",
      "Este Es Un Texto De Prueba\n",
      "eSTE eS uN tEXTO dE pRUEBA\n"
     ]
    }
   ],
   "source": [
    "texto = \"       este es un texto de prueba    \"\n",
    "print(texto.strip().capitalize())\n",
    "print(texto.strip().upper())\n",
    "print(texto.strip().lower())\n",
    "print(texto.strip().title())\n",
    "print(texto.strip().title().swapcase())"
   ]
  },
  {
   "cell_type": "markdown",
   "metadata": {},
   "source": [
    "Considere un detalle de los ejemplos anteriores: como los métodos de un `str` retornan un nuevo `str`, se pueden encadenar en secuencia como en `texto.strip().capitalize()`. Esto, elimina los espacios en blanco al principio y al final de texto y luego capitaliza el `str` anterior."
   ]
  },
  {
   "cell_type": "markdown",
   "metadata": {
    "user_expressions": []
   },
   "source": [
    "### Métodos asociados a ocurencias en un str o substrings\n",
    "Otros métodos cuentan ocurrencias dentro de un `str` (es decír, substrings) o reemplazan su contenido según un criterio de búsqueda:\n",
    "\n",
    "    * str.count(substring)           : Cuenta el número de veces que un substring esta en un string\n",
    "    * str.replace(subtring, str_rep) : Reemplaza un substring por otro string str_rep\n",
    "    * str.find(substring)            : Retorna el indice del string donde se encuentre el caracter \n",
    "                                       inicial de un substring\n",
    "    * str.rfind(substring)           : Retorna el indice del string donde se encuentre el caracter inicial \n",
    "                                       de un substring. Busca el substring de derecha a izquierda"
   ]
  },
  {
   "cell_type": "code",
   "execution_count": 16,
   "metadata": {},
   "outputs": [
    {
     "name": "stdout",
     "output_type": "stream",
     "text": [
      "2\n",
      "este no es un texto de prueba\n",
      "0\n",
      "5\n"
     ]
    }
   ],
   "source": [
    "texto = \"este es un texto de prueba\"\n",
    "print(texto.count(\"es\"))\n",
    "print(texto.replace(\"es \", \"no es \"))\n",
    "print(texto.find(\"es\")) \n",
    "print(texto.rfind(\"es\"))   # Entiende porque se obtiene el 5 como resultado?"
   ]
  },
  {
   "cell_type": "markdown",
   "metadata": {
    "user_expressions": []
   },
   "source": [
    "### Los métodos `strip` y `join`\n",
    "Tenemos un método que ya es conocido: split(), pero esta vez vamos a formalizarlo:\n",
    "\n",
    "    * str.strip()      : Retorna una lista de substring separados por algun caracter \n",
    "                         (por defecto, espacio en blanco)"
   ]
  },
  {
   "cell_type": "code",
   "execution_count": null,
   "metadata": {},
   "outputs": [],
   "source": [
    "l_palabras = \"una golondrina no hace verano\".split()\n",
    "print(l_palabras)"
   ]
  },
  {
   "cell_type": "markdown",
   "metadata": {},
   "source": [
    "El proceso inverso se puede realizar con el método join():\n",
    "\n",
    "    * str.join(lista)  : Retorna un cadena con los substring de una lista, unidos por el str"
   ]
  },
  {
   "cell_type": "code",
   "execution_count": null,
   "metadata": {},
   "outputs": [],
   "source": [
    "print(\" \".join(l_palabras))    # Toma las palabras de l_palabras y las une utilizando el \" \""
   ]
  },
  {
   "cell_type": "markdown",
   "metadata": {
    "user_expressions": []
   },
   "source": [
    "### Métodos que consultan por los caracteres\n",
    "Otros métodos de una string incluyen aquellos que consultan si la cadena esta compuesta por caracteres especiales. estos retornan valores booleanos:\n",
    "\n",
    "    * str.isspace()    : True si str esta compuesta de espacios en blanco\n",
    "    * str.isupper()    : True si todos los caracteres de str con MAYUSCULAS\n",
    "    * str.islower()    : True si todos los caracteres de str son minusculas\n",
    "    * str.isdigit()    : True si todos los catracteres de str son digitos\n",
    "    * str.isalpha()    : True si todos los caracteres de str son letras alfabeticas\n",
    "    * str.isalnum()    : True si todos los caracteres de str son letras o números\n",
    "    * str.isprintable(): True si todos los caracteres de str son imprimibles (no son Tab \\n, Enter \\n, etc)"
   ]
  },
  {
   "cell_type": "code",
   "execution_count": null,
   "metadata": {},
   "outputs": [],
   "source": [
    "print(\"abcde\".isalpha())\n",
    "print(\"abc123\".isalpha())\n",
    "print(\"123\".isdigit())\n",
    "print(\"dina4ever\".isalnum())\n",
    "print(\"Hola\\ntexto\".isprintable())\n",
    "print(\"hola\".islower())\n",
    "print(\"HOLA\".isupper())\n",
    "print(\"123\".isupper())\n",
    "print(\"   \".isspace())"
   ]
  },
  {
   "cell_type": "markdown",
   "metadata": {
    "user_expressions": []
   },
   "source": [
    "---\n",
    "# Archivos en Python\n",
    "Python puede acceder al File System del Sistema Operativo para leer o escribír archivos, ya sea de texto o binarios. vamos a trabajar con archivos del primer tipo.\n",
    "\n",
    "Para Python, un archivo es un recurso al que se accede por medio de un Objeto Archivo (_file object_). Este objeto o manejador (_handler_) es el que permite realizar las operaciones de lectura/escritura (_read/write_) sobre un archivo.\n",
    "\n",
    "NOTA: ¡Tenga precaución al momento de operar con archivos! Puede borrar información importante en el sistema Operativo."
   ]
  },
  {
   "cell_type": "markdown",
   "metadata": {
    "user_expressions": []
   },
   "source": [
    "Para abrir un archivo de texto utilizamos la función `open`. El acceso a un archivo de texto se da en diferentes modos que deben ser especificados:\n",
    "\n",
    "    mode = 'r'      Se desea leer (read) el archivo. Este archivo debe de existír\n",
    "    mode = 'w'      Se desea escribir (write) en el arvhivo. Si el archivo no existe este se crea y si existe se sobreescribe\n",
    "    mode = 'a'      Se desea agregar (append) sobre un archivo. Si el archivo no existe se crea\n",
    "    \n",
    "Otra especificación opcional es el interprete de codificación de los caracteres. A veces se leen archivos de texto cuyas caracteres no son reconocidos (nos arroja un error `charmap`):\n",
    "\n",
    "    encoding = 'utf-8'    Interpreta los caracteres segun la codificación UTF-8\n",
    "    encoding = 'latin-1'  Interpreta los caracteres segun la codificacion en español en casos especiales\n",
    "    \n",
    "Consideremos, como ejemplos, que se quiere almacenar esta información en un archivo que llamaremos `meses.txt` que tenga el siguiente formato:\n",
    "    \n",
    "    1  ene\n",
    "    2  feb\n",
    "    3  mar\n",
    "    .\n",
    "    .\n",
    "    .\n",
    "    10 oct\n",
    "    11 nov\n",
    "    12 dic\n",
    "    \n",
    "La secuencia de acciones al momento de trabajar con archivos de texto es la siguiente:\n",
    "\n",
    "<img src=\"https://ucarecdn.com/c0f593fb-5ab5-4c5d-aa03-4fc15b480a69/\" alt=\"Drawing\" style=\"width: 500px;\"/>"
   ]
  },
  {
   "cell_type": "code",
   "execution_count": 18,
   "metadata": {},
   "outputs": [],
   "source": [
    "meses = ['ene', 'feb', 'mar', 'abr', 'may', 'jun', 'jul', 'ago', 'set', 'oct', 'nov', 'dic']\n",
    "\n",
    "# Se abre el archivo de texto en modo escritura (si no existe se crea un archivo nuevo)\n",
    "file = open(\"meses.txt\", mode='w', encoding='utf-8')\n",
    "\n",
    "# Se modifica el archivo\n",
    "for idx, etiqueta in enumerate(meses):\n",
    "    file.write(f\"{idx+1:2} {etiqueta}\")\n",
    "\n",
    "# Se cierra el archivo\n",
    "file.close()"
   ]
  },
  {
   "cell_type": "markdown",
   "metadata": {},
   "source": [
    "Debe de haberse generado un nuevo archivo en el directorio de trabajo. Reviselo. ¿Tiene la información según lo esperado? Vamos a leer el archivo generado utilizando Python:"
   ]
  },
  {
   "cell_type": "code",
   "execution_count": 19,
   "metadata": {},
   "outputs": [
    {
     "name": "stdout",
     "output_type": "stream",
     "text": [
      " 1 ene 2 feb 3 mar 4 abr 5 may 6 jun 7 jul 8 ago 9 set10 oct11 nov12 dic\n"
     ]
    }
   ],
   "source": [
    "file = open(\"meses.txt\", mode='r', encoding='utf-8')\n",
    "texto = file.read()\n",
    "file.close()\n",
    "\n",
    "print(texto)"
   ]
  },
  {
   "cell_type": "markdown",
   "metadata": {},
   "source": [
    "¿Qué es lo que esta faltando? Los saltos de línea. Estos son caracteres que son parte de la información y también tienen  que considerarse."
   ]
  },
  {
   "cell_type": "code",
   "execution_count": 21,
   "metadata": {},
   "outputs": [],
   "source": [
    "meses = ['ene', 'feb', 'mar', 'abr', 'may', 'jun', 'jul', 'ago', 'set', 'oct', 'nov', 'dic']\n",
    "\n",
    "# El modo 'w' sobreescribe el archivo...\n",
    "file = open(\"meses.txt\", mode='w', encoding='utf-8')\n",
    "\n",
    "# Se modifica el archivo\n",
    "for idx, etiqueta in enumerate(meses):\n",
    "    file.write(f\"{idx+1:2} {etiqueta}\\n\")\n",
    "\n",
    "# Se cierra el archivo\n",
    "file.close()"
   ]
  },
  {
   "cell_type": "code",
   "execution_count": 22,
   "metadata": {},
   "outputs": [
    {
     "name": "stdout",
     "output_type": "stream",
     "text": [
      " 1 ene\n",
      " 2 feb\n",
      " 3 mar\n",
      " 4 abr\n",
      " 5 may\n",
      " 6 jun\n",
      " 7 jul\n",
      " 8 ago\n",
      " 9 set\n",
      "10 oct\n",
      "11 nov\n",
      "12 dic\n",
      "\n"
     ]
    }
   ],
   "source": [
    "file = open(\"meses.txt\", mode='r', encoding='utf-8')\n",
    "texto = file.read()\n",
    "file.close()\n",
    "\n",
    "print(texto)"
   ]
  },
  {
   "cell_type": "markdown",
   "metadata": {},
   "source": [
    "## Context Manager: with\n",
    "Otra forma de realizar lo mismo (y la forma preferida en Python) es utilizar un Context Manager, lo que es equivalente a crear un bloque `with`. Un bloque `with` asocia un objeto a un bloque y este se administra segun el contexto. Cuando el bloque termina, el objeto asociado se cierra de forma automática. Esto quiere decir que el archivo abierto, controlado por un bloque `with`, se cierra una vez terminado el bloque.\n",
    "\n",
    "Consideremos resolver el ejemplo anterior utilizando un bloque `with`:"
   ]
  },
  {
   "cell_type": "code",
   "execution_count": 28,
   "metadata": {},
   "outputs": [],
   "source": [
    "# Creamos el cursor con un bloque with y cuando este termine el archivo se cerrara\n",
    "meses = ['ene', 'feb', 'mar', 'abr', 'may', 'jun', 'jul', 'ago', 'set', 'oct', 'nov', 'dic']\n",
    "\n",
    "with open(\"meses.txt\", mode='w', encoding='utf-8') as file:\n",
    "    for idx, etiqueta in enumerate(meses):\n",
    "        file.write(f\"{idx+1:2} {etiqueta}\\n\")     # \\n: Salto de linea"
   ]
  },
  {
   "cell_type": "code",
   "execution_count": 29,
   "metadata": {},
   "outputs": [
    {
     "name": "stdout",
     "output_type": "stream",
     "text": [
      " 1 ene\n",
      " 2 feb\n",
      " 3 mar\n",
      " 4 abr\n",
      " 5 may\n",
      " 6 jun\n",
      " 7 jul\n",
      " 8 ago\n",
      " 9 set\n",
      "10 oct\n",
      "11 nov\n",
      "12 dic\n",
      "\n"
     ]
    }
   ],
   "source": [
    "# No utilizaremos el modo ya que por defecto es 'r' (lectura)\n",
    "with open(\"meses.txt\", encoding='utf-8') as file:\n",
    "    texto = file.read()\n",
    "\n",
    "print(texto)"
   ]
  },
  {
   "cell_type": "markdown",
   "metadata": {
    "user_expressions": []
   },
   "source": [
    "Note que el archivo se abre con `open` y se cierra con `close` y que entre estas funciones se realiza la escritura con `write` o la lectura con `read`."
   ]
  },
  {
   "cell_type": "markdown",
   "metadata": {},
   "source": [
    "## Un archivo como iterador\n",
    "Así como se puede escribír el archivo línea por línea, también se puede acceder a cada línea, una por una, utilizando algunos métodos de un objeto archivo:\n",
    "\n",
    "    * readline()         Retorna el str al que esta apuntando el cursor hasta \\n \n",
    "                         (incluyendo el \\n)\n",
    "    * readlines()        Retorna una lista con las líneas del archivo de texto, \n",
    "                         incluyendo el \\n al final de cada elemento\n",
    "    \n",
    "Probemos estos métodos:"
   ]
  },
  {
   "cell_type": "code",
   "execution_count": 30,
   "metadata": {},
   "outputs": [
    {
     "name": "stdout",
     "output_type": "stream",
     "text": [
      " 1 ene\n",
      "\n",
      " 2 feb\n",
      "\n",
      " 3 mar\n",
      "\n"
     ]
    }
   ],
   "source": [
    "# Utilizemos los parametros por defecto: lectura, encoding estandar\n",
    "with open(\"meses.txt\") as file:\n",
    "    print(file.readline())\n",
    "    print(file.readline())\n",
    "    print(file.readline())\n"
   ]
  },
  {
   "cell_type": "code",
   "execution_count": 31,
   "metadata": {},
   "outputs": [
    {
     "name": "stdout",
     "output_type": "stream",
     "text": [
      "[' 1 ene\\n', ' 2 feb\\n', ' 3 mar\\n', ' 4 abr\\n', ' 5 may\\n', ' 6 jun\\n', ' 7 jul\\n', ' 8 ago\\n', ' 9 set\\n', '10 oct\\n', '11 nov\\n', '12 dic\\n']\n"
     ]
    }
   ],
   "source": [
    "with open(\"meses.txt\") as file:\n",
    "    print(file.readlines())\n"
   ]
  },
  {
   "cell_type": "markdown",
   "metadata": {},
   "source": [
    "Note que el ejemplo de `readline()` (así como el de `readlines()`) incluye el caracter `\\n`. Esto hace, por ejemplo, que la impresión de cada línea tenga un espacio en blanco entre cada línea (ya que la función `print` también incluye un salto de línea. Lo normal al momento de leer cada línea es no incluir el salto de línea. Para esto utiliremos el métodos de los string `strip()`:"
   ]
  },
  {
   "cell_type": "code",
   "execution_count": 32,
   "metadata": {},
   "outputs": [
    {
     "name": "stdout",
     "output_type": "stream",
     "text": [
      "1 ene\n",
      "2 feb\n",
      "3 mar\n"
     ]
    }
   ],
   "source": [
    "with open(\"meses.txt\") as file:\n",
    "    print(file.readline().strip())\n",
    "    print(file.readline().strip())\n",
    "    print(file.readline().strip())"
   ]
  },
  {
   "cell_type": "markdown",
   "metadata": {
    "user_expressions": []
   },
   "source": [
    "El problema con esta última aproximación es que, si se utiliza un lazo para tener acceso a cada una de las lineas, es necesario condicionar este lazo para saber en que momento debemos de dejar de leer las líneas del archivo. Una forma mejor de tener acceso a cada línea es utilizar el cursor de un archivo como un iterable, es decir, como parte de un lazo for:"
   ]
  },
  {
   "cell_type": "code",
   "execution_count": 37,
   "metadata": {},
   "outputs": [
    {
     "name": "stdout",
     "output_type": "stream",
     "text": [
      "1 ene\n",
      "2 feb\n",
      "3 mar\n",
      "4 abr\n",
      "5 may\n",
      "6 jun\n",
      "7 jul\n",
      "8 ago\n",
      "9 set\n",
      "10 oct\n",
      "11 nov\n",
      "12 dic\n"
     ]
    }
   ],
   "source": [
    "with open(\"meses.txt\") as file:\n",
    "    for line in file:\n",
    "        print(line.strip())"
   ]
  },
  {
   "cell_type": "markdown",
   "metadata": {
    "user_expressions": []
   },
   "source": [
    "Recuerde que al trabajar con un archivo de texto se esta operando con valores tipo `str` (un `str` de entrada para la escritura, un `str` de salida para la lectura. Esto último es importante: para trabajar con los valores puede ser necesario hacer una conversion de valores. Por ejemplo, el archivo `numeros.txt` contiene la siguiente información:"
   ]
  },
  {
   "cell_type": "code",
   "execution_count": 36,
   "metadata": {},
   "outputs": [
    {
     "name": "stdout",
     "output_type": "stream",
     "text": [
      "1 1\n",
      "1 2\n",
      "1 3\n",
      "1 4\n",
      "1 5\n",
      "1 6\n",
      "1 7\n",
      "1 8\n",
      "1 9\n",
      "1 10\n"
     ]
    }
   ],
   "source": [
    "with open(\"numeros.txt\") as file:\n",
    "    text = file.read()\n",
    "\n",
    "print(text)"
   ]
  },
  {
   "cell_type": "markdown",
   "metadata": {
    "user_expressions": []
   },
   "source": [
    "Si generamos una tabla de multiplicación a partir de esta información, tendremos el siguiente resultado:"
   ]
  },
  {
   "cell_type": "code",
   "execution_count": 41,
   "metadata": {},
   "outputs": [
    {
     "ename": "TypeError",
     "evalue": "can't multiply sequence by non-int of type 'str'",
     "output_type": "error",
     "traceback": [
      "\u001b[1;31m---------------------------------------------------------------------------\u001b[0m",
      "\u001b[1;31mTypeError\u001b[0m                                 Traceback (most recent call last)",
      "Cell \u001b[1;32mIn[41], line 4\u001b[0m\n\u001b[0;32m      2\u001b[0m \u001b[38;5;28;01mfor\u001b[39;00m line \u001b[38;5;129;01min\u001b[39;00m file:\n\u001b[0;32m      3\u001b[0m     num1, num2 \u001b[38;5;241m=\u001b[39m line\u001b[38;5;241m.\u001b[39mstrip()\u001b[38;5;241m.\u001b[39msplit()\n\u001b[1;32m----> 4\u001b[0m     \u001b[38;5;28mprint\u001b[39m(\u001b[38;5;124mf\u001b[39m\u001b[38;5;124m\"\u001b[39m\u001b[38;5;132;01m{\u001b[39;00mnum1\u001b[38;5;132;01m}\u001b[39;00m\u001b[38;5;124m x \u001b[39m\u001b[38;5;132;01m{\u001b[39;00mnum2\u001b[38;5;132;01m}\u001b[39;00m\u001b[38;5;124m = \u001b[39m\u001b[38;5;132;01m{\u001b[39;00mnum1\u001b[38;5;250m \u001b[39m\u001b[38;5;241m*\u001b[39m\u001b[38;5;250m \u001b[39mnum2\u001b[38;5;132;01m}\u001b[39;00m\u001b[38;5;124m\"\u001b[39m)\n",
      "\u001b[1;31mTypeError\u001b[0m: can't multiply sequence by non-int of type 'str'"
     ]
    }
   ],
   "source": [
    "with open(\"numeros.txt\") as file:\n",
    "    for line in file:\n",
    "        num1, num2 = line.strip().split()\n",
    "        print(f\"{num1} x {num2} = {num1 * num2}\")"
   ]
  },
  {
   "cell_type": "markdown",
   "metadata": {
    "user_expressions": []
   },
   "source": [
    "Esto error se debe a que las variables `num1` y `num2` son de tipo `str`. Hay que hacer la conversión si se desea operar con ellos como si fueran valores numéricos:"
   ]
  },
  {
   "cell_type": "code",
   "execution_count": 42,
   "metadata": {},
   "outputs": [
    {
     "name": "stdout",
     "output_type": "stream",
     "text": [
      "1 x 1 = 1\n",
      "1 x 2 = 2\n",
      "1 x 3 = 3\n",
      "1 x 4 = 4\n",
      "1 x 5 = 5\n",
      "1 x 6 = 6\n",
      "1 x 7 = 7\n",
      "1 x 8 = 8\n",
      "1 x 9 = 9\n",
      "1 x 10 = 10\n"
     ]
    }
   ],
   "source": [
    "with open(\"numeros.txt\") as file:\n",
    "    for line in file:\n",
    "        num1, num2 = line.strip().split()\n",
    "        print(f\"{num1} x {num2} = {int(num1) * int(num2)}\")"
   ]
  },
  {
   "cell_type": "markdown",
   "metadata": {
    "user_expressions": []
   },
   "source": [
    "Así también, si se quiere guardar datos sobre un archivo de texto, la información debe de ser tipo `str` y nos estamos asegurando de eso a cada momento utilizando un f-string para generar las lineas con información."
   ]
  },
  {
   "cell_type": "code",
   "execution_count": 45,
   "metadata": {},
   "outputs": [],
   "source": [
    "# mode 'a' anexa nuevas lineas sobre un archivo\n",
    "with open(\"numeros.txt\", mode='a') as file:\n",
    "    for mult in range(11, 21):\n",
    "        # El valor entero generado por range se convierte en parte de un str\n",
    "        file.write(f\"1 {mult}\\n\")    "
   ]
  }
 ],
 "metadata": {
  "kernelspec": {
   "display_name": "Python 3 (ipykernel)",
   "language": "python",
   "name": "python3"
  },
  "language_info": {
   "codemirror_mode": {
    "name": "ipython",
    "version": 3
   },
   "file_extension": ".py",
   "mimetype": "text/x-python",
   "name": "python",
   "nbconvert_exporter": "python",
   "pygments_lexer": "ipython3",
   "version": "3.11.5"
  }
 },
 "nbformat": 4,
 "nbformat_minor": 4
}
