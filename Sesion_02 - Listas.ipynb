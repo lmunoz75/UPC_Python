{
 "cells": [
  {
   "cell_type": "markdown",
   "metadata": {},
   "source": [
    "# Sesion 2 - Librerías, tuplas y listas\n",
    "<img src=\"https://www.educative.io/api/edpresso/shot/6303728271360000/image/6097462668296192\" alt=\"Drawing\" style=\"width: 400px;\"/>\n",
    "<div style=\"text-align: right\">Autor: Luis A. Muñoz - 2020 </div>"
   ]
  },
  {
   "cell_type": "markdown",
   "metadata": {},
   "source": [
    "Ideas clave:\n",
    "\n",
    "* La filosofía tras el diseño de Python se puede obtener importando la librería \"this\"\n",
    "* Python permite importar librerias para agregar capacidades adicionales en forma de funciones u objetos con métodos.\n",
    "* Las librerías se pueden importar de forma tal que agregen todos sus componenetes al directorio del sistema o utilizando un alias (namespace).\n",
    "* La librería \"math\" agrega capacidades matematicas al lenguajes de programación.\n",
    "* Un tupla es una colección de datos heterogéneos e inmutable.\n",
    "* Una lista es una colección de datos heterogéneos y mutable.\n",
    "* Tanto una lista como una tupla son iterables a nivel de elementos.\n",
    "* La funcion \"enumerate\" retorna a partir de una tupla o lista una secuencia enumerada\n",
    "* La función \"zip\" permite iterar dos o mas listas/tuplas en cada iteración\n",
    "* Una lista se puede generar utilizando una construcción sintácticamente más clara basada en la programación funcional llamda \"listas por comprehensión\".\n",
    "\n",
    "Informacion:\n",
    "* https://realpython.com/python-math-module/\n",
    "* https://www.w3schools.com/python/python_tuples.asp\n",
    "* https://www.w3schools.com/python/python_lists.asp\n",
    "\n",
    "---"
   ]
  },
  {
   "cell_type": "markdown",
   "metadata": {},
   "source": [
    "## Importación de librerías en Python: el Zen de Python\n",
    "El número de instrucciones disponibles en Python es bastante limitado. Las \"palabras reservadas\" en Python se puede listar ingresando al sistema de ayuda de Python. Se muestra los resultados de una sesión interactiva en el sistema de ayuda en la que se consulta sobre los \"keywords\"\n",
    "\n",
    "    help()\n",
    "    \n",
    "    help > keyword\n",
    "    \n",
    "    help > q\n",
    "   "
   ]
  },
  {
   "cell_type": "code",
   "execution_count": null,
   "metadata": {},
   "outputs": [],
   "source": [
    "help()"
   ]
  },
  {
   "cell_type": "markdown",
   "metadata": {},
   "source": [
    "El listado que se muestra contiene todas las instrucciones disponibles en Python. Como puede observar, no se puede hacer muchos con tan pocas instrucciones. Esa es la razon por la que las funcionalidades adicionales han sido agrupads en librerías adicionales, que son parte de la distribución base de Python o librerías confeccionadas por terceros.\n",
    "\n",
    "Para importar librerías se utiliza la instucción `import`. Esto agrega la librería al directorio del sistema. Pruebe la ejecución de la s siguientes celdas de código:"
   ]
  },
  {
   "cell_type": "code",
   "execution_count": null,
   "metadata": {},
   "outputs": [],
   "source": [
    "import this"
   ]
  },
  {
   "cell_type": "code",
   "execution_count": null,
   "metadata": {},
   "outputs": [],
   "source": [
    "dir()"
   ]
  },
  {
   "cell_type": "markdown",
   "metadata": {},
   "source": [
    "¿Observa que la palabra \"this\" esta al final de la lista de los elementos del directorio del sistema? Esto quiere decir que la libreria `this` se ha incluido en el directorio del sistema. Respecto a la librería `this`, esta no agrega capacidades adicionales en Python, solo lista el \"Zen de Python\", una especie de reglas no escritas con las ideas detrás del diseño del lenguaje de programación. Lealas con atención y considere como Python busca la estética en el código, como prefiere lo \"plano\" sobre lo \"anidado\" (¿recuerda los `if` anidados?), la capcidad de tener un código legible y dos ideas guía al momento de pensar en una solución:\n",
    "\n",
    "* Si la implementación de difíci de explicar, es una mala idea\n",
    "* Si la implementación es sencilla de explicar, puede ser un buena idea"
   ]
  },
  {
   "cell_type": "markdown",
   "metadata": {},
   "source": [
    "## Librería `math`"
   ]
  },
  {
   "cell_type": "markdown",
   "metadata": {},
   "source": [
    "La librería `math` incorpora capacidades de cálculo matemático a Python. Utilizando esta librería como ejemplo, se puede importar esta librería utilizando las siguientes instrucciones:\n",
    "\n",
    "    import math\n",
    "    import math as m\n",
    "    from math import sin, cos\n",
    "    from math import *\n",
    "    \n",
    "Cada una de estas instrucciones importa la librería de distintas maneras."
   ]
  },
  {
   "cell_type": "code",
   "execution_count": null,
   "metadata": {},
   "outputs": [],
   "source": [
    "import math"
   ]
  },
  {
   "cell_type": "code",
   "execution_count": null,
   "metadata": {},
   "outputs": [],
   "source": [
    "dir()"
   ]
  },
  {
   "cell_type": "markdown",
   "metadata": {},
   "source": [
    "Observe que `math` ahora es parte del directorio del sistema. Explore el contenido de la librería."
   ]
  },
  {
   "cell_type": "code",
   "execution_count": null,
   "metadata": {},
   "outputs": [],
   "source": [
    "dir(math)"
   ]
  },
  {
   "cell_type": "markdown",
   "metadata": {},
   "source": [
    "¿Puede reconocer algunas de las funciones disponibles en la librería `math`? Pruebe consultar con el sistema de ayuda la función `sin` como parte de `math` en el directorio del sistema:"
   ]
  },
  {
   "cell_type": "code",
   "execution_count": null,
   "metadata": {},
   "outputs": [],
   "source": [
    "math.sin?"
   ]
  },
  {
   "cell_type": "markdown",
   "metadata": {},
   "source": [
    "La notación `libreria.método` especifica la función definida como parte de la librería `math` (retorna el seno de x, medida en radiaes). La ayuda también indica que es un BIF (Built In Function), es decir, un método que es parte de la distribución estándar de Python. El catacter \"/\" en la lista de parametros de `sin` indica que no se puede utilizar `x` como indicativo del parametro. Es decir, la siguiente instrucción es inválida:\n",
    "\n",
    "    math.sin(x=0.5)\n",
    "    \n",
    "Ahora, importe la librería `math` con un alias:"
   ]
  },
  {
   "cell_type": "code",
   "execution_count": null,
   "metadata": {},
   "outputs": [],
   "source": [
    "import math as m"
   ]
  },
  {
   "cell_type": "code",
   "execution_count": null,
   "metadata": {},
   "outputs": [],
   "source": [
    "dir()"
   ]
  },
  {
   "cell_type": "markdown",
   "metadata": {},
   "source": [
    "¿Como buscaría información sobre la función `sin` importada con el alias \"m\"?"
   ]
  },
  {
   "cell_type": "code",
   "execution_count": null,
   "metadata": {},
   "outputs": [],
   "source": [
    "m.sin?"
   ]
  },
  {
   "cell_type": "markdown",
   "metadata": {},
   "source": [
    "Puede importar ciertas funciones de la librería math al directorio del sistema:"
   ]
  },
  {
   "cell_type": "code",
   "execution_count": null,
   "metadata": {},
   "outputs": [],
   "source": [
    "from math import sin, cos, tan"
   ]
  },
  {
   "cell_type": "code",
   "execution_count": null,
   "metadata": {},
   "outputs": [],
   "source": [
    "dir()"
   ]
  },
  {
   "cell_type": "markdown",
   "metadata": {},
   "source": [
    "¿Observa como las instrucciones `sin`, `cos` y `tan` ahora son parte del directorio del sistema? Como consultaria ahora la ayuda dela instrucción `sin`?"
   ]
  },
  {
   "cell_type": "code",
   "execution_count": null,
   "metadata": {},
   "outputs": [],
   "source": [
    "sin?"
   ]
  },
  {
   "cell_type": "markdown",
   "metadata": {},
   "source": [
    "Es posible importar todas las funciones de una librería utilizando el caracter `*`:"
   ]
  },
  {
   "cell_type": "code",
   "execution_count": null,
   "metadata": {},
   "outputs": [],
   "source": [
    "from math import *"
   ]
  },
  {
   "cell_type": "code",
   "execution_count": null,
   "metadata": {},
   "outputs": [],
   "source": [
    "dir()"
   ]
  },
  {
   "cell_type": "markdown",
   "metadata": {},
   "source": [
    "Esto casi siempre NO es una buena idea. Es preferible utilizar un alias (esto es, utilizar un namespace o un nombre que especifique un espacio donde estan las funciones) o la importación de las funciones específicas. En esta Hoja de Trabajo, utilizaremos la importación de `math `con `*` para poder tener códigos más cortos, pero en un código en producción no se suele hacer esto.\n",
    "\n",
    "Probemos algunas de las funciones disponibles en la librería `math`:"
   ]
  },
  {
   "cell_type": "code",
   "execution_count": null,
   "metadata": {},
   "outputs": [],
   "source": [
    "# Notacion y Numeros especiales\n",
    "print()\n",
    "print(\"1.4 x 10^-3 =\", 1.4e-3)\n",
    "print(\"PI =\", pi)\n",
    "print(\"e =\", e)\n",
    "\n",
    "# Funciones exponeciales y logaritmicas\n",
    "print()\n",
    "print(\"3**2 =\", pow(3, 2))    # equivalente a 3**2\n",
    "print(\"sqrt(2) =\", sqrt(2))\n",
    "print(\"e^2.1 =\", exp(2.1))\n",
    "print(\"Ln(100) =\", log(100))\n",
    "print(\"log(100) =\", log10(100))\n",
    "print(\"log2(16) =\", log2(16))\n",
    "\n",
    "# Funciones trigonométricas\n",
    "print()\n",
    "print(\"sin(pi/4) =\", sin(pi/4))\n",
    "print(\"cos(0) =\", cos(0))\n",
    "print(\"tan(pi/4) =\", tan(pi/4))\n",
    "\n",
    "# Dos formas de obtener arctan (atan, atan2)\n",
    "print()\n",
    "print(\"arctan(5/4) =\", atan(5/4))\n",
    "print(\"Arctan(5/4) =\", atan2(5, 4))\n",
    "\n",
    "# Conversion grados-radianes\n",
    "print()\n",
    "print(\"sin(pi/4) =\", sin(radians(45)))\n",
    "print(\"arcsin(0.707 rad) =\", degrees(asin(0.707)))\n",
    "\n",
    "# Operaciones con núemros complejos\n",
    "print()\n",
    "z = 3 + 4j\n",
    "print(\"z =\", z)\n",
    "print(abs(z))\n",
    "print(atan2(z.imag, z.real))\n",
    "\n",
    "print(round(pi))\n",
    "print(round(pi, 2))\n",
    "print(round(10.5))\n",
    "\n",
    "# Redondeo de numeros\n",
    "print()\n",
    "print(\"trunc(1.7182) =\", trunc(e))\n",
    "print(\"floor(10.6) =\", floor(10.6))   # floor: piso (redondea hacia -Inf)\n",
    "print(\"floor(-3.6) =\", floor(-3.6))\n",
    "print(\"ceil(10.6) =\", ceil(10.6))    # ceil: techo (redondea hacia Inf)\n",
    "print(\"ceil(-3.6) =\", ceil(-3.6))\n",
    "\n",
    "# Algunas operaciones especiales\n",
    "print()\n",
    "print(\"Hipotenusa de dos catetos: 3 y 4:\", hypot(3, 4))\n",
    "print(\"5! =\", factorial(5))\n",
    "print(\"Residuo 10/4 =\", remainder(10, 4))\n",
    "print(\"Maximo Comun Divisor(24, 9) =\", gcd(24, 9))\n"
   ]
  },
  {
   "cell_type": "markdown",
   "metadata": {},
   "source": [
    "Existen ciertas operaciones matemáticas que son parte de Python y no requieren de la librería `math`:"
   ]
  },
  {
   "cell_type": "code",
   "execution_count": null,
   "metadata": {},
   "outputs": [],
   "source": [
    "print(\"abs(-10.5) =\", abs(-10.5))\n",
    "print(\"abs(3 + 4j) =\", abs(3 + 4j))\n",
    "print(\"round(pi) =\", round(pi))\n",
    "print(\"round(pi, 2) =\", round(pi, 2))"
   ]
  },
  {
   "cell_type": "markdown",
   "metadata": {},
   "source": [
    "## Tuplas\n",
    "Una tupla es una colección de elementos bajo una sola variable. Una tupla se forma agrupando elementos, separados por \",\" y encerrados por \"()\". Es un conjunto \"inmutable\". Esto significa que una vez definido no se puede modificar. Existen muchas formas de definir una tupla:"
   ]
  },
  {
   "cell_type": "code",
   "execution_count": null,
   "metadata": {},
   "outputs": [],
   "source": [
    "t1 = (1, 2, 3, 4, 5)\n",
    "t2 = (1, 'Uno', 'one', 1+0j)\n",
    "t3 = (t1, t2)\n",
    "t4 = (1, t2, 'A', t2, t3)\n",
    "t5 = tuple(range(10))\n",
    "\n",
    "print(t1)\n",
    "print(t2)\n",
    "print(t3)\n",
    "print(t4)\n",
    "print(t5)\n",
    "print(type(t5))"
   ]
  },
  {
   "cell_type": "markdown",
   "metadata": {},
   "source": [
    "En `t1` se observa una tupla con todos los elementos homogeneos (es decir, del mismo tipo). En `t2` se tiene elementos no homogeneos. En `t3` se tiene una tupla de dos elementos, donde cada uno es una tupla. En `t4` se tiene cinco elementos, donde se combinan enteros, strings y tuplas. En `t5` se genera una tupla a partir de una rango de enteros, utilizando la palabra reservada `tuple`. Esto último se comprueba con la función `type`.\n",
    "\n",
    "### Indices e index slicing\n",
    "Cada uno de los elementos de una tupla ocupa una posicion denomidad índice. El conteo de los indices inicia en 0. Se puede especifar un elemento utilizando su índice entre `[]`:"
   ]
  },
  {
   "cell_type": "code",
   "execution_count": null,
   "metadata": {},
   "outputs": [],
   "source": [
    "t1 = ('A', 'B', 'C', 'D', 'E', 'F', 'G')\n",
    "\n",
    "print(\"i =  0:\", t1[0])\n",
    "print(\"i =  1:\",t1[1])\n",
    "print(\"i = -1:\", t1[-1])\n",
    "print(\"i = -2:\", t1[-2])"
   ]
  },
  {
   "cell_type": "markdown",
   "metadata": {},
   "source": [
    "Observe que el Python los índices pueden ser negativos y hacen referencia a los indices de posición de derecha a izquierda. Asi, el índice -1 es el último elemento, el índice -2 el penútimo, y asi seucesivamente.\n",
    "\n",
    "Se puede especificar un rango de indices utilizando un \"index slicing\", esto es, una sección de datos especificada por indices, con el formato:\n",
    "\n",
    "    [i inicial: i_final + 1: paso_entre_indices]\n",
    "    \n",
    "Si no se coloca uno de los valores se toman sus valores por defecto:\n",
    "\n",
    "    i_inicial: 0\n",
    "    i_final:-1\n",
    "    paso_entre_indices: 1\n",
    "    \n",
    "Observe bien los siguientes ejemplos y entienda la forma como se especifica un index slicing:"
   ]
  },
  {
   "cell_type": "code",
   "execution_count": null,
   "metadata": {},
   "outputs": [],
   "source": [
    "t1 = ('A', 'B', 'C', 'D', 'E', 'F', 'G')\n",
    "\n",
    "print(t1[0:3])\n",
    "print(t1[-1:-3:-1])\n",
    "print(t1[::-1])\n",
    "print(t1[::])"
   ]
  },
  {
   "cell_type": "markdown",
   "metadata": {},
   "source": [
    "Complete la siguiente celda: ¿que expresión tendría que escribir utilizando index slicing sobre t1 para obtener la tupla resultante (A, C, E)?"
   ]
  },
  {
   "cell_type": "code",
   "execution_count": null,
   "metadata": {},
   "outputs": [],
   "source": []
  },
  {
   "cell_type": "markdown",
   "metadata": {},
   "source": [
    "Complete la siguiente celda: ¿que expresión tendría que escribir utilizando index slicing sobre t1 para obtener la tupla resultante (A, D, G)?"
   ]
  },
  {
   "cell_type": "code",
   "execution_count": null,
   "metadata": {},
   "outputs": [],
   "source": []
  },
  {
   "cell_type": "markdown",
   "metadata": {},
   "source": [
    "### Tupla de tuplas\n",
    "Debe de considerar que los índices hacen referencia a la posición de los datos en cada tupla. Considere la siguiente construcción:"
   ]
  },
  {
   "cell_type": "code",
   "execution_count": null,
   "metadata": {},
   "outputs": [],
   "source": [
    "t1 = (1, 2, 3, 4, 5)\n",
    "t2 = (1, 'Uno', 'one', 1+0j)\n",
    "t3 = (t1, t2)\n",
    "\n",
    "print(t3)"
   ]
  },
  {
   "cell_type": "markdown",
   "metadata": {},
   "source": [
    "Antes de ejecutar la siguinete celda piense: ¿cuantos elementos tiene la tupla t3?"
   ]
  },
  {
   "cell_type": "code",
   "execution_count": null,
   "metadata": {},
   "outputs": [],
   "source": [
    "print(len(t3))   # len() retorna el numero de elementos de una colección"
   ]
  },
  {
   "cell_type": "markdown",
   "metadata": {},
   "source": [
    "El primer elemento de la tupla t3  podrá ser obtenido utilizando la siguente instrucción y retornará la tupla interna de la posición 0:"
   ]
  },
  {
   "cell_type": "code",
   "execution_count": null,
   "metadata": {},
   "outputs": [],
   "source": [
    "print(t3[0])"
   ]
  },
  {
   "cell_type": "markdown",
   "metadata": {},
   "source": [
    "El primer elemento de la tupla que ocupa la posición 0 en t3 podrá ser obtenida con la siguiente instrucción:"
   ]
  },
  {
   "cell_type": "code",
   "execution_count": null,
   "metadata": {},
   "outputs": [],
   "source": [
    "print(t3[0][0])"
   ]
  },
  {
   "cell_type": "markdown",
   "metadata": {},
   "source": [
    "Considere las siguientes instrucciones y entiendalas:"
   ]
  },
  {
   "cell_type": "code",
   "execution_count": null,
   "metadata": {},
   "outputs": [],
   "source": [
    "print(t3[0][2])\n",
    "print(t3[1][-2])"
   ]
  },
  {
   "cell_type": "markdown",
   "metadata": {},
   "source": [
    "Complete la siguente celda: ¿que instrucción tendría que escribir para obtener el número 1+0j?"
   ]
  },
  {
   "cell_type": "code",
   "execution_count": null,
   "metadata": {},
   "outputs": [],
   "source": [
    "t1 = (1, 2, 3, 4, 5)\n",
    "t2 = (1, 'Uno', 'one', 1+0j)\n",
    "t3 = (t1, t2)\n",
    "\n"
   ]
  },
  {
   "cell_type": "markdown",
   "metadata": {},
   "source": [
    "### Desempaquetamiento de tuplas\n",
    "Una tupla se puede desempaquetar en un constituyentes utilizando el operador de asignación con un número de variables equivalentes al número de tuplas. Considere la siguiente instrucción:"
   ]
  },
  {
   "cell_type": "code",
   "execution_count": null,
   "metadata": {},
   "outputs": [],
   "source": [
    "a, b, c = (1, 2, 3)\n",
    "print(a)\n",
    "print(b)\n",
    "print(c)"
   ]
  },
  {
   "cell_type": "markdown",
   "metadata": {},
   "source": [
    "Esta operación resulta importante para realizar algunas operaciones en una instrucción simple. Por ejemplo, cuando se escribe:\n",
    "\n",
    "    num1, num2 = input(\"Escriba dos nuemeros: \").split()\n",
    "    \n",
    "Hemos utilizado el desempaquetamiento de elementos (aunque en este caso, de una lista, pero es un proceso equivalente).\n",
    "\n",
    "El desempaqetamiento permite realizar algunas operaciones que en otro lenguaje de programación requieren variables adicionales. Por ejemplo, en C, cuando se requiere intercambiar los valores de dos variables a y b se debe recurrir a una variable auxiliar de la forma:\n",
    "\n",
    "    temp = a\n",
    "    a = b\n",
    "    b = temp\n",
    "    \n",
    "En Python se realiza esto de forma directa:"
   ]
  },
  {
   "cell_type": "code",
   "execution_count": null,
   "metadata": {},
   "outputs": [],
   "source": [
    "a = 100; b = 200\n",
    "print(\"a =\", a)\n",
    "print(\"b =\", b)\n",
    "\n",
    "a, b = b, a\n",
    "\n",
    "print()\n",
    "print(\"a =\", a)\n",
    "print(\"b =\", b)"
   ]
  },
  {
   "cell_type": "markdown",
   "metadata": {},
   "source": [
    "### Inmutabilidad de una tupla\n",
    "Una tupla es inmutable: no puede cambiar de tamaño, ni sus elementos pueden reasignarse. Piense en los \"()\" de una tupla con una esfera que una vez cerrada ya no puede abrirse. Observe el resultado de la sigunte instrucción:"
   ]
  },
  {
   "cell_type": "code",
   "execution_count": null,
   "metadata": {},
   "outputs": [],
   "source": [
    "t1 = ('A', 'B', 'C', 'D', 'E', 'F', 'G')\n",
    "t1[0] = 'a'    # Tupla es inmutable"
   ]
  },
  {
   "cell_type": "markdown",
   "metadata": {},
   "source": [
    "Al intentar reasigar el elemento de índice 0 con un nuevo valor, se genera la excepción `TypeError`, indicando que una tupla no soporta asigación de elementos. Asi que una tupla suele utilizarse cuando se quiere tener una colección de datos que se quiere mantener fija. Muchas de las funciones de Python retornan tuplas como resultados\n",
    "\n",
    "### Tuplas como iterables\n",
    "Las tuplas son colecciones iterables: esto quiere decir que pueden ingresarse a un iterador (es decir, un lazo `for`) y este extraerá sus elementos:"
   ]
  },
  {
   "cell_type": "code",
   "execution_count": null,
   "metadata": {},
   "outputs": [],
   "source": [
    "for number in (1, 2, 3, 4, 5):\n",
    "    print(number)"
   ]
  },
  {
   "cell_type": "markdown",
   "metadata": {},
   "source": [
    "Se puede acceder a los índices para obtener un barrido diferente a ir de elemento a elemento:"
   ]
  },
  {
   "cell_type": "code",
   "execution_count": null,
   "metadata": {},
   "outputs": [],
   "source": [
    "t1 = ('A', 'B', 'C', 'D', 'E', 'F', 'G')\n",
    "\n",
    "for idx in range(0, len(t1), 2):\n",
    "    print(t1[idx])"
   ]
  },
  {
   "cell_type": "markdown",
   "metadata": {},
   "source": [
    "¿Como podría arreglar el siguiente código para que retorne lo que se espera (sin cambiar los elementos de la tupla \"numbers\")?"
   ]
  },
  {
   "cell_type": "code",
   "execution_count": null,
   "metadata": {},
   "outputs": [],
   "source": [
    "numbers = (1, 2, 3, 4, 5, 6, 7, 8, 9, 10)\n",
    "\n",
    "# Se imprimen los valores impares barriendo los indices de numbers\n",
    "for i in range(0, len(numbers), 2):\n",
    "    print(i)"
   ]
  },
  {
   "cell_type": "markdown",
   "metadata": {},
   "source": [
    "### Operaciones con tuplas\n",
    "Los operadores `+` y `*` realizan operaciones diferentes sobre las tuplas respecto a lo que realizan cuando se aplican sobre objetos numéricos:"
   ]
  },
  {
   "cell_type": "code",
   "execution_count": null,
   "metadata": {},
   "outputs": [],
   "source": [
    "# Operador de concatenación: genera una nueva tupla uniendo las tuplas\n",
    "(1, 2, 3) + (4, 5, 6)"
   ]
  },
  {
   "cell_type": "code",
   "execution_count": null,
   "metadata": {},
   "outputs": [],
   "source": [
    "# Operador de repetición: genera una tupla nueva con la repeticion de la tupla por un factor entero\n",
    "(1, 2, 3) * 3"
   ]
  },
  {
   "cell_type": "markdown",
   "metadata": {},
   "source": [
    "### Funciones utiles sobre tuplas\n",
    "Existen ciertas funciones de Python (BIFs) que pueden resultar de utilidad con las tuplas:\n",
    "\n",
    "    len()       Retorna el numero de elementos de una colección\n",
    "    min()       Retorna el minimo valor de una colección\n",
    "    max()       Retiorma el máximo valor de una colección\n",
    "    sorted()    Retorna una nueva colección con los valores ordenados de forma ascendente o descendente (ver sorted?)\n",
    "    sum()       Retorna la suma de todos los elementos de una colección\n",
    "    "
   ]
  },
  {
   "cell_type": "code",
   "execution_count": null,
   "metadata": {},
   "outputs": [],
   "source": [
    "t1 = (1, 4, 8, 12, 9, 5, 3)\n",
    "print(len(t1))\n",
    "print(min(t1))\n",
    "print(max(t1))\n",
    "print(sorted(t1))\n",
    "print(sum(t1))"
   ]
  },
  {
   "cell_type": "markdown",
   "metadata": {},
   "source": [
    "También existen dos funciones lógicas que se pueden utilizar con una tupla:\n",
    "\n",
    "    any()    Retorna True si algunos de los valores son True\n",
    "    all()    Retorna True si todos los valores son True\n",
    "    \n",
    "En programación, 0 se considera como False, miestras que cualquier valores que no sea 0 será True."
   ]
  },
  {
   "cell_type": "code",
   "execution_count": null,
   "metadata": {},
   "outputs": [],
   "source": [
    "print(any((1, 2, 3, 0, 7, 3)))\n",
    "print(all((1, 2, 3, 0, 7, 3)))"
   ]
  },
  {
   "cell_type": "markdown",
   "metadata": {},
   "source": [
    "### Métodos de la clase tuple\n",
    "Formalmente hablando, una tupla es una \"clase\", algo que entenderemos completamente más adelante en el curso. Lo que necesitamos saber por el momento es que toda clase tiene \"metodos\", es decir, operaciones privadas que se aplican a una tupla específica, siguiendo la nomenclatura: \n",
    "    \n",
    "    clase.metodo\n"
   ]
  },
  {
   "cell_type": "markdown",
   "metadata": {},
   "source": [
    "Los métodos de una tupla se puede listar utilizando la instrucción genérica `dir(tuple)`:"
   ]
  },
  {
   "cell_type": "code",
   "execution_count": null,
   "metadata": {},
   "outputs": [],
   "source": [
    "dir(tuple)"
   ]
  },
  {
   "cell_type": "markdown",
   "metadata": {},
   "source": [
    "Dejaremos de lado los métodos encerrados entre \"__\" (volveremos a ellos cuando abordemos la Programación Orientada a Objetos) y veamos los dos últimos: `count` e `index`:\n",
    "\n",
    "El método `count` retorna el número de ocurrecias dentro de una tupla:"
   ]
  },
  {
   "cell_type": "code",
   "execution_count": null,
   "metadata": {},
   "outputs": [],
   "source": [
    "(1, 2, 4, 2, 5, 7, 3, 5, 8, 3).count(3)"
   ]
  },
  {
   "cell_type": "markdown",
   "metadata": {},
   "source": [
    "El método `index` retorna el índice de un elemento en un tupla:"
   ]
  },
  {
   "cell_type": "code",
   "execution_count": null,
   "metadata": {},
   "outputs": [],
   "source": [
    "('a', 'e', 'i', 'o', 'u').index('i')"
   ]
  },
  {
   "cell_type": "markdown",
   "metadata": {},
   "source": [
    "Reforzando la idea de la diferencia entre una función y un método, las siguientes instrucciones son ilegales:\n",
    "\n",
    "    count(tuple)\n",
    "    index(tuple)\n",
    "    \n",
    "Ya que son métodos. Esto es, que afectan a un objeto tupla especifico de la forma:\n",
    "\n",
    "    tuple.count()\n",
    "    tuple.index()\n",
    "    \n",
    "Esta idea es importante ya que la mayor parte de las instrucciones en Python (y en toda la programación moderna) sigue las mismas reglas al estar basadas en el paradigma de programación de Objetos de Programación.\n",
    "\n",
    "Entienda bien todas las nociones aprendidas en una tupla pues se repetitran en el siguiente tema. Interiorice bien los conceptos, el manejo de indices e index slicing, su operación con un azo `for` y sus métodos asociados.\n",
    "\n",
    "Ahora: **descanse**. Tómese un respiro, distraigase un poco antes de entrar en las listas en Python.\n",
    "\n",
    "<img src=\"https://webcomicms.net/sites/default/files/clipart/167194/think-time-cliparts-167194-188108.png\" alt=\"Drawing\" style=\"width: 400px;\"/>\n",
    "\n",
    "---"
   ]
  },
  {
   "cell_type": "markdown",
   "metadata": {},
   "source": [
    "## Listas\n",
    "Una lista es una colección de elementos bajo una sola variable. Una lista se forma agrupando elementos, separados por \",\" y encerrados por \"[ ]\". Es un conjunto \"mutable\". Esto significa que puede modificarse libremente. Existen muchas formas de definir una lista:"
   ]
  },
  {
   "cell_type": "code",
   "execution_count": null,
   "metadata": {},
   "outputs": [],
   "source": [
    "L1 = [1, 2, 3, 4, 5, 6, 7, 8, 9]\n",
    "L2 = ['1', 'one', 1+3j]\n",
    "L3 = [l1, l2, 'aqui estoy']\n",
    "L4 = list(range(10))\n",
    "L5 = list(tuple(range(20)))\n",
    "L6 = [1, 2, ['A', 'B'], ('a', 'b')]\n",
    "\n",
    "print(L1)\n",
    "print(L2)\n",
    "print(L3)\n",
    "print(L4)\n",
    "print(L5)\n",
    "print(L6)\n",
    "print(type(L1))"
   ]
  },
  {
   "cell_type": "markdown",
   "metadata": {},
   "source": [
    "Al igual que una tupla, una lista soporta indices positivos, negativos y operaciones de index slicing:"
   ]
  },
  {
   "cell_type": "code",
   "execution_count": null,
   "metadata": {},
   "outputs": [],
   "source": [
    "L1 = [1, 2, 3, 4, 5, 6, 7, 8, 9]\n",
    "L6 = [1, 2, ['A', 'B'], ('a', 'b')]\n",
    "print(L6[0])\n",
    "print(L6[-1])\n",
    "print(L1[1:7:3])\n",
    "print(L6[2][1])"
   ]
  },
  {
   "cell_type": "markdown",
   "metadata": {},
   "source": [
    "La principal diferencia entre ua tupla y una lista (y lo que la convierte en una colección tan versátil) es su mutabilidad. Piense en los \"[ ]\" de una lista como una caja que puede abrirse y modificar sus valores y el número de elementos:"
   ]
  },
  {
   "cell_type": "code",
   "execution_count": null,
   "metadata": {},
   "outputs": [],
   "source": [
    "L1 = [1, 2, 3, 4, 5, 6, 7, 8, 9]\n",
    "print(L1)\n",
    "\n",
    "L1[0] = 10      # list es mutable\n",
    "print(L1)"
   ]
  },
  {
   "cell_type": "markdown",
   "metadata": {},
   "source": [
    "Una consideración a tener en cuanta que la \"mutabilidad\" opera sobre los elementos existentes. Si se quiere modificar un elementos que no exista, la lista retornará una exepción `IndexError`:"
   ]
  },
  {
   "cell_type": "code",
   "execution_count": null,
   "metadata": {},
   "outputs": [],
   "source": [
    "L1[9] = 100"
   ]
  },
  {
   "cell_type": "markdown",
   "metadata": {},
   "source": [
    "Los operadores `+`  y `*` también realizan las operaciones de concatenamiento y repetición, respectivamente:"
   ]
  },
  {
   "cell_type": "code",
   "execution_count": null,
   "metadata": {},
   "outputs": [],
   "source": [
    "L1 = ['A', 'B', 'C']\n",
    "L2 = ['a', 'b', 'c']\n",
    "\n",
    "print(L1 + L2)   # Concatenacion de listas\n",
    "print(L1 * 3)    # Repeticion de lista"
   ]
  },
  {
   "cell_type": "markdown",
   "metadata": {},
   "source": [
    "Las listas también son colecciones iterables: esto quiere decir que pueden ingresarse a un iterador (es decir, un lazo `for`) y este extraerá sus elementos:"
   ]
  },
  {
   "cell_type": "code",
   "execution_count": null,
   "metadata": {},
   "outputs": [],
   "source": [
    "L1 = [1, 2, 3, 4, 5, 6, 7, 8, 9]\n",
    "for num in L1:\n",
    "    print(num)"
   ]
  },
  {
   "cell_type": "markdown",
   "metadata": {},
   "source": [
    "### enumerate y zip\n",
    "Existen dos funciones que se pueden utilizar tanto con tuplas como con listas, combinadas con un lazo `for`: `enumerate` y `zip`.\n",
    "    \n",
    "`enumerate` retorna una secuencia enumerada en tuplas de la forma (número, elemento) que se puede desempaquetar. Por ejemplo., si se requiere listas los elementos de una lista de vocales en lugar de escribir el siguiente código:"
   ]
  },
  {
   "cell_type": "code",
   "execution_count": null,
   "metadata": {},
   "outputs": [],
   "source": [
    "idx = 0\n",
    "for vowel in ['A', 'E', 'I', 'O', 'U']:\n",
    "    print(\"{}: {}\".format(idx+1, vowel))\n",
    "    idx += 1"
   ]
  },
  {
   "cell_type": "markdown",
   "metadata": {},
   "source": [
    "En Python es preferible escribir el siguente codigo:"
   ]
  },
  {
   "cell_type": "code",
   "execution_count": null,
   "metadata": {},
   "outputs": [],
   "source": [
    "for idx, vowel in enumerate(['A', 'E', 'I', 'O', 'U']):\n",
    "    print(\"{}: {}\".format(idx+1, vowel))"
   ]
  },
  {
   "cell_type": "markdown",
   "metadata": {},
   "source": [
    "`zip` extrae los elementos correspondientes de varias listas en simultaneo y en un lazo `for` va retornando tuplas que ueden desempaquetarse. Por ejemplo, si se requiere mostrar los elementos correspondientes de dos listas separadas enlugar de escribir el siguiente código:"
   ]
  },
  {
   "cell_type": "code",
   "execution_count": null,
   "metadata": {},
   "outputs": [],
   "source": [
    "num = [1, 2, 3, 4, 5]\n",
    "cuad = [1, 4, 9, 16, 25]\n",
    "\n",
    "for i in range(len(num)):\n",
    "    print(\"{}**2 = {}\".format(num[i], cuad[i]))"
   ]
  },
  {
   "cell_type": "markdown",
   "metadata": {},
   "source": [
    "En Python es preferible escribir el siguiente codigo:"
   ]
  },
  {
   "cell_type": "code",
   "execution_count": null,
   "metadata": {},
   "outputs": [],
   "source": [
    "num = [1, 2, 3, 4, 5]\n",
    "cuad = [1, 4, 9, 16, 25]\n",
    "\n",
    "for n1, n2 in zip(num, cuad):\n",
    "    print(\"{}**2 = {}\".format(n1, n2))"
   ]
  },
  {
   "cell_type": "markdown",
   "metadata": {},
   "source": [
    "### Métodos de la clase list\n",
    "Se puede listar los métodos de la clase list con la instrucción genérica dir(list):"
   ]
  },
  {
   "cell_type": "code",
   "execution_count": null,
   "metadata": {},
   "outputs": [],
   "source": [
    "dir(list)"
   ]
  },
  {
   "cell_type": "markdown",
   "metadata": {},
   "source": [
    "Como se observa hay más métodos disponibles en la clase lista, por el hecho de ser una colección mutable.\n",
    "\n",
    "    append()         Agregar un elemento al final de la lista\n",
    "    clear()          Limpia los elementos de la lista\n",
    "    copy()           Copia los elementos de una lista a otra\n",
    "    count()          Retorna el numero de elementos presentes en una lista\n",
    "    index()          Retorna el índice que ocupa un elemento en una lista\n",
    "    insert()         Inserta un elemento en la lista especificando el indice\n",
    "    pop()            Retorna el útimo elemento de la lista y lo elimina de la colección. Se puede epecificar un indice específico\n",
    "    remove()         Elimina un elemento de la lista especificando su valor, buscando la ocurrencia en indice ascendente\n",
    "    reverse()        Invierte el orden actual de la lista\n",
    "    sort()           Ordena los elementos de lista de forma ascendente. Se puede especificar que lo haga de forma descentente"
   ]
  },
  {
   "cell_type": "markdown",
   "metadata": {},
   "source": [
    "Lo importante a recordar aqui es que los métodos que afectan una lista (como append() ,sort() o reverse() por ejemplo), afectan la lista misma y no retornan nada. Por ejemplo, es necesario distinguir entre la función sort() y el método sorted() de una lista:"
   ]
  },
  {
   "cell_type": "code",
   "execution_count": null,
   "metadata": {},
   "outputs": [],
   "source": [
    "L1 = [1, 4, 3, 2, 5, 8, 4]\n",
    "# La función sorted() RETORNA una nueva lista ordenada\n",
    "print(sorted(L1))\n",
    "\n",
    "# EL metodo sort() ORDENA la lista L1 y no retorna NADA \n",
    "print(L1.sort())\n",
    "\n",
    "# Si se imprime la lista L1 se oberva que el metodo sort() ordenó la lista\n",
    "print(L1)"
   ]
  },
  {
   "cell_type": "markdown",
   "metadata": {},
   "source": [
    "Tomando esto en consideración, consideremos el uso de algunos métodos de una lista en la práctica:"
   ]
  },
  {
   "cell_type": "code",
   "execution_count": null,
   "metadata": {},
   "outputs": [],
   "source": [
    "L1 = ['a', 'b', 'c']\n",
    "\n",
    "# Se anexa un elemento a la lista L1 (se agrega al final)\n",
    "L1.append('d')\n",
    "print(L1)"
   ]
  },
  {
   "cell_type": "code",
   "execution_count": null,
   "metadata": {},
   "outputs": [],
   "source": [
    "# Se inserta el valor 'A' en el índice 1 de la lista L1\n",
    "L1.insert(1, 'A')\n",
    "print(L1)"
   ]
  },
  {
   "cell_type": "code",
   "execution_count": null,
   "metadata": {},
   "outputs": [],
   "source": [
    "# Se elimina el valor 'A' de la lista L1\n",
    "L1.remove('A')\n",
    "print(L1)"
   ]
  },
  {
   "cell_type": "code",
   "execution_count": null,
   "metadata": {},
   "outputs": [],
   "source": [
    "# Si se elmina un valor que tiene mas de una ocurrencia en la lista, se elimina el de menor índice\n",
    "L1.append('a')\n",
    "print(L1)\n",
    "\n",
    "L1.remove('a')\n",
    "print(L1)"
   ]
  },
  {
   "cell_type": "code",
   "execution_count": null,
   "metadata": {},
   "outputs": [],
   "source": [
    "# Extrae el ultimo valor de la lista y lo elimina de la colección\n",
    "var = L1.pop()\n",
    "print(L1)\n",
    "print(var)"
   ]
  },
  {
   "cell_type": "code",
   "execution_count": null,
   "metadata": {},
   "outputs": [],
   "source": [
    "# Se puede especificar un índice diferente en el metodo pop()\n",
    "var = L1.pop(1)\n",
    "print(L1)\n",
    "print(var)"
   ]
  },
  {
   "cell_type": "code",
   "execution_count": null,
   "metadata": {},
   "outputs": [],
   "source": [
    "# Se puede limpiar el contenido de una lista\n",
    "L1.clear()\n",
    "print(L1)"
   ]
  },
  {
   "cell_type": "code",
   "execution_count": null,
   "metadata": {},
   "outputs": [],
   "source": [
    "# Si se utiliza el metodo append() sobre una lista y se anexa una lista de valores\n",
    "# esta lista se agregara como una lista interna\n",
    "L1 = ['a', 'b', 'c']\n",
    "L1.append(['X', 'Y', 'Z'])\n",
    "print(L1)"
   ]
  },
  {
   "cell_type": "code",
   "execution_count": null,
   "metadata": {},
   "outputs": [],
   "source": [
    "# Se se utiliza el metodos extend() sobre una lista y se anexa una lista de valores\n",
    "# los elementos de esta lista se agregaran a la lista original\n",
    "l1 = ['a', 'b', 'c']\n",
    "l1.extend(['X', 'Y', 'Z'])\n",
    "print(l1)"
   ]
  },
  {
   "cell_type": "markdown",
   "metadata": {},
   "source": [
    "El operador de asignación `=` asigna una lista a otra. Pero aqui hay que tener mucho cuidado. Considere el siguiente ejemplo:"
   ]
  },
  {
   "cell_type": "code",
   "execution_count": null,
   "metadata": {},
   "outputs": [],
   "source": [
    "L1 = ['a', 'b', 'c']\n",
    "L2 = L1\n",
    "\n",
    "print(L1)\n",
    "print(L2)"
   ]
  },
  {
   "cell_type": "markdown",
   "metadata": {},
   "source": [
    "Observe el resultados de las siguientes instrucciones:"
   ]
  },
  {
   "cell_type": "code",
   "execution_count": null,
   "metadata": {},
   "outputs": [],
   "source": [
    "L1[0] = 'A'\n",
    "\n",
    "print(L1)\n",
    "print(L2)"
   ]
  },
  {
   "cell_type": "markdown",
   "metadata": {},
   "source": [
    "Al modificar uno de los elementos de L1, ¡el mismo elemento en L2 tambien cambia! Al utilizar el operador `=` lo que sucede entre las listas es que ambos objetos apuntan a los mismos valores almacenados en una porción de la memoría. Para confirmar esto podemos verifcar la ubicación de cada una de la listas con la función id():"
   ]
  },
  {
   "cell_type": "code",
   "execution_count": null,
   "metadata": {},
   "outputs": [],
   "source": [
    "print(id(L1))\n",
    "print(id(L2))"
   ]
  },
  {
   "cell_type": "markdown",
   "metadata": {},
   "source": [
    "Ambas listas apuntan a la misma posición de memoria donde incia el almacenamiento de los valores de la lista. Si se cambia uno de los valores en una de la listas, se esta modificando el valor en la memoria que ambas listas comparten. Esto es de gran utilidad ya que si se quiere tener referencias diferentes a una lista, en lugar de duplicar en memoria los valores de una lista se comparten los valores apuntando a la posición de los valores.\n",
    "\n",
    "Este comportamiento se puede modificar utilizando el método copy():"
   ]
  },
  {
   "cell_type": "code",
   "execution_count": null,
   "metadata": {},
   "outputs": [],
   "source": [
    "# Se copian los elementos de L1 a L2\n",
    "L1 = ['a', 'b', 'c']\n",
    "L2 = L1.copy()\n",
    "print(L1)\n",
    "print(L2)\n",
    "print()\n",
    "\n",
    "# Se modifica el valor del elemento de indice o en L1\n",
    "L1[0] = 'A'\n",
    "print(L1)\n",
    "print(L2)\n",
    "print()\n",
    "\n",
    "# Se muestra el id de cada una de las listas\n",
    "print(id(L1))\n",
    "print(id(L2))"
   ]
  },
  {
   "cell_type": "markdown",
   "metadata": {},
   "source": [
    "El método `sort` permite ordenar de forma ascendente los elementos de una lista. El keyword reverse especifica si se invierte el tipo de ordenamiento:"
   ]
  },
  {
   "cell_type": "code",
   "execution_count": null,
   "metadata": {},
   "outputs": [],
   "source": [
    "L1 = ['d', 'e', 'j', 'A', 'D', 'y']\n",
    "L1.sort()\n",
    "print(L1)"
   ]
  },
  {
   "cell_type": "code",
   "execution_count": null,
   "metadata": {},
   "outputs": [],
   "source": [
    "L1 = ['d', 'e', 'j', 'A', 'D', 'y']\n",
    "L1.sort(reverse=True)\n",
    "print(L1)"
   ]
  },
  {
   "cell_type": "markdown",
   "metadata": {},
   "source": [
    "Notese que en una secuencia de letras, las mayúsculas ocupan un menor valor que las minúsculas."
   ]
  },
  {
   "cell_type": "markdown",
   "metadata": {},
   "source": [
    "## Uso de listas en una aplicación: Ejemplo animado\n",
    "![](https://blog.penjee.com/wp-content/uploads/2015/11/loop-over-python-list-animation.gif)"
   ]
  },
  {
   "cell_type": "markdown",
   "metadata": {},
   "source": [
    "### Listas por comprehensión\n",
    "Las listas por comprehension son una forma de generar listas utilizando un paradigma de programación llamada \"programación funcional\". Sin entrar en detalles de la forma como se concibe la programación funcional, es una manera de escrbir instrucciones de forma tal que tengan una claridad sintática más clara.\n",
    "\n",
    "Considere el codigo siguiente:"
   ]
  },
  {
   "cell_type": "code",
   "execution_count": null,
   "metadata": {},
   "outputs": [],
   "source": [
    "lista = []\n",
    "for num in range(1, 10):\n",
    "    lista.append(num)\n",
    "    \n",
    "print(lista)"
   ]
  },
  {
   "cell_type": "markdown",
   "metadata": {},
   "source": [
    "Se puede obtener el mismo resultado utilizando una lista por comprehension:"
   ]
  },
  {
   "cell_type": "code",
   "execution_count": null,
   "metadata": {},
   "outputs": [],
   "source": [
    "lista = [num for num in range(1, 10)]\n",
    "print(lista)"
   ]
  },
  {
   "cell_type": "markdown",
   "metadata": {},
   "source": [
    "Si se lee directamente el código anterior se tendrá la sentencia: *\"lista será igual a los numeros para todos los numeros en el rango de 1 a 9\"*. Esto es lo que significa \"claridad sintáctica\". Por ejemplo, considere el siguiente ejemplo:"
   ]
  },
  {
   "cell_type": "code",
   "execution_count": null,
   "metadata": {},
   "outputs": [],
   "source": [
    "from random import randrange\n",
    "\n",
    "numeros = [randrange(1, 100) for i in range(10)]\n",
    "print(numeros)"
   ]
  },
  {
   "cell_type": "markdown",
   "metadata": {},
   "source": [
    "Puede utilizar un `if` en la definición de una lista por comprehensión para obtener resultados más complejos:"
   ]
  },
  {
   "cell_type": "code",
   "execution_count": null,
   "metadata": {},
   "outputs": [],
   "source": [
    "from random import randrange\n",
    "\n",
    "numeros = [randrange(1, 100) for i in range(10)]\n",
    "mult_tres = [num for num in numeros if num % 3 == 0]\n",
    "print(mult_tres)"
   ]
  },
  {
   "cell_type": "markdown",
   "metadata": {},
   "source": [
    "Las listas por comprehension permiten crear en una sola línea una lista de forma compacta y legible (y recuerde, para Python lo legible es importante y lo que reconoce un código Python de lo que quizo ser un código Python). Además de utilizarse para crearun código elegante, se puede utiliar para crear una lista de listas:"
   ]
  },
  {
   "cell_type": "code",
   "execution_count": null,
   "metadata": {},
   "outputs": [],
   "source": [
    "tabla = [[0] * 10 for i in range(10)]\n",
    "print(tabla)"
   ]
  },
  {
   "cell_type": "markdown",
   "metadata": {},
   "source": [
    "El código anterior genera una lista de 10 elementos, donde cada uno de estos son listas de 10 elementos, utilizando una lista por comprehensión. Entienda el código anterior antes de continuar.\n",
    "\n",
    "Una lista de listas permite modelar una estructura tabular o matricial:"
   ]
  },
  {
   "cell_type": "code",
   "execution_count": null,
   "metadata": {},
   "outputs": [],
   "source": [
    "# Se genera una lista por comprehension: lista de listas\n",
    "tabla = [[0] * 10 for i in range(10)]\n",
    "\n",
    "# Se modifican los elementos de la lista anterior. Si se considera que la lista de listas\n",
    "# modela un matriz de dos dimensiones, i, j representan los indices de fila y columnas\n",
    "for i in range(10):\n",
    "    for j in range(10):\n",
    "        tabla[i][j] = i + j\n",
    "\n",
    "# Se imprimen los resultados de la lista de listas\n",
    "# con los cambios realizados\n",
    "for i in range(10):\n",
    "    for j in range(10):\n",
    "        print(\"{:4}\".format(tabla[i][j]), end='')\n",
    "    else:\n",
    "        print()\n"
   ]
  },
  {
   "cell_type": "markdown",
   "metadata": {},
   "source": [
    "¿Y una lista de listas de listas? Será una estructa numérica de tres dimensiones, un cubo numérico. ¿Y una lista de listas de listas de listas? Una meta-estructura de 4D... el límite de este tipo de estructras lo defininen las restricciones de memoria y no del lenguaje de progamación.\n",
    "\n",
    "Antes de que su cerebro explote, no se preocupe: cuando se trata de construcciones elaboradas como estas utilizaremos una contrucción mas sencilla y eficiente llamada Arreglo. Respire tranquilo..."
   ]
  },
  {
   "cell_type": "markdown",
   "metadata": {},
   "source": [
    "---\n",
    "## Ejercicios"
   ]
  },
  {
   "cell_type": "markdown",
   "metadata": {},
   "source": [
    "### Ejercicio 1\n",
    "Calcule las siguentes expresiones:\n",
    "\n",
    "a. $$\\frac{(14.8^2 + 6.5^2)}{3.8^2} + \\frac{55}{\\sqrt{2}+14}$$\n",
    "\n",
    "b. $$\\frac{(-3.5)}{3} + \\frac{e^6}{ln 524} + 206^{1/3}$$\n",
    "\n",
    "c. $$15\\left(\\frac{\\sqrt{10} + 3.7^2}{log_{10}(1365)} + 1.9\\right)$$\n",
    "\n",
    "d. $$\\frac{sin(\\frac{7\\pi}{9})}{cos^2(\\frac{5}{7}\\pi)} + \\frac{1}{7}tan(\\frac{5}{12}\\pi)$$"
   ]
  },
  {
   "cell_type": "code",
   "execution_count": null,
   "metadata": {},
   "outputs": [],
   "source": [
    "# ESCRIBA SU CODIGO AQUI\n",
    "import math\n"
   ]
  },
  {
   "cell_type": "markdown",
   "metadata": {},
   "source": [
    "### Ejercicio 2\n",
    "El decaimiento radioactivo del carbono-14 es utilizado para estimar la edad de un material orgánico. El decaimiento esta modelado con la función exponencial $f(t) = f(0)e^{kt}$, donde $t$ es el tiempo, $f(0)$ es la cantidad de material para $t = 0$, $f(t)$ es la cantidad de material en el tiempo $t$, y $k$ es una constante. El cabono-14 tiene una vida media de aproximadamente 5,730 años. Una muestra de papel tomada de los Rollos del Mar Muerto muestra que el 78.8% de la cantidad inicial $(t=0)$ de carbono-14 esta presente. Determine la edad estimada de los rollos. Resuelva el problema con un script en Python que determine la constante $k$, luego calcule $t$ para $f(t) = 0.788f(0)$ y finalmente redonde la respuesta al año más cercano."
   ]
  },
  {
   "cell_type": "code",
   "execution_count": null,
   "metadata": {},
   "outputs": [],
   "source": [
    "# ESCRIBA AQUI SU CODIGO\n"
   ]
  },
  {
   "cell_type": "markdown",
   "metadata": {},
   "source": [
    "### Ejercicio 3\n",
    "Escriba un script que pida la velocidad y el angulo de disparo de una bala que recorrerá un recorrido parabólico. Imprima la altura máxima de la bala, el alcance horizontal total y el tiempo total de la bala en el aire.\n",
    "\n",
    "Formulas: http://recursostic.educacion.es/descartes/web/materiales_didacticos/comp_movimientos/parabolico.htm"
   ]
  },
  {
   "cell_type": "code",
   "execution_count": null,
   "metadata": {},
   "outputs": [],
   "source": [
    "# ESCRIBA AQUI SU CODIGO\n"
   ]
  },
  {
   "cell_type": "code",
   "execution_count": null,
   "metadata": {},
   "outputs": [],
   "source": []
  },
  {
   "cell_type": "markdown",
   "metadata": {},
   "source": [
    "### Ejercicio 4\n",
    "Escriba un script que genere una lista con 20 numeros aleatorios enteros entre 1 y 50, utilizando el método `randrange` de la librería `random`.\n",
    "\n",
    "Una vez que haya obtenido la lista, imprima los elementos de la lista en forma enumerada de la forma (XX representa los números aleatorios generados):\n",
    "\n",
    "    1. XX\n",
    "    2. XX\n",
    "    3. XX\n",
    "    .\n",
    "    .\n",
    "    .\n",
    "    20. XX"
   ]
  },
  {
   "cell_type": "code",
   "execution_count": null,
   "metadata": {},
   "outputs": [],
   "source": [
    "# ESCRIBA SU CODIGO AQUI\n"
   ]
  },
  {
   "cell_type": "markdown",
   "metadata": {},
   "source": [
    "### Ejercicio 5\n",
    "Escriba un programa que genere una lista llamada `numeros` de 50 valores entre 1 y 99. Luego, cree dos valores llamadas `pares` e `impares` que contengan los valores pares e impares de la lista `numeros`.\n",
    "\n",
    "Imprima los valores de la forma\n",
    "\n",
    "    PARES:\n",
    "    1. XX\n",
    "    2. XX\n",
    "    .\n",
    "    .\n",
    "    .\n",
    "    \n",
    "    IMPARES:\n",
    "    1. XX\n",
    "    2. XX\n",
    "    .\n",
    "    .\n",
    "    .\n",
    " "
   ]
  },
  {
   "cell_type": "code",
   "execution_count": null,
   "metadata": {},
   "outputs": [],
   "source": [
    "# ESCRIBA SU CODIGO AQUI\n"
   ]
  },
  {
   "cell_type": "markdown",
   "metadata": {},
   "source": [
    "### Ejercicio 6\n",
    "Escriba un script que genere una lista de 50 valores aleaorios entre 1 y 99. A partir de esta lista, genera una lista nueva que contenga todos los elementos que sean mayores al promedio de la lista de números aleatorios. Muestre el listado enumerado de la lista resultante, así como el nuemro de elementos de la lista final."
   ]
  },
  {
   "cell_type": "code",
   "execution_count": null,
   "metadata": {},
   "outputs": [],
   "source": [
    "# ESCRIBA SU CODIGO AQUI\n"
   ]
  },
  {
   "cell_type": "markdown",
   "metadata": {},
   "source": [
    "### Ejercicio 7\n",
    "Convierta la siguiente construcción en una lista por comprehension:\n",
    "\n",
    "\n",
    "    lista = []\n",
    "    for num in range(1, 100):\n",
    "        if num % 3 == 0:\n",
    "            if (num - 3) % 7 == 0:\n",
    "                lista.append()\n",
    "\n",
    "    print(lista)\n",
    "    \n",
    "    [3, 24, 45, 66, 87]"
   ]
  },
  {
   "cell_type": "code",
   "execution_count": null,
   "metadata": {},
   "outputs": [],
   "source": []
  },
  {
   "cell_type": "markdown",
   "metadata": {},
   "source": [
    "---\n",
    "## Desafíos\n",
    "### Desafío 1\n",
    "Escriba un script que, utilizando listas por comprensión, genere una lista de 50 números aleatorios y luego extraiga de esta lista dos listas con los números pares e impares.Luego, imprima los resultados de forma tabular como se muestra:\n",
    "\n",
    "       PARES    IMPARES\n",
    "       XX       XX\n",
    "       XX       XX\n",
    "       .        .\n",
    "       .        .\n",
    "       .        .\n",
    "       \n",
    "       "
   ]
  },
  {
   "cell_type": "code",
   "execution_count": null,
   "metadata": {},
   "outputs": [],
   "source": [
    "# ESCRIBA SU CODIGO AQUI\n"
   ]
  },
  {
   "cell_type": "markdown",
   "metadata": {},
   "source": [
    "### Desafío 2\n",
    "Escriba un programa que genere dos listas de pesos (entre 45 y 120 kg) y alturas (entre 150 y 2.10 m) para a partir de estas listas calcular una lista con el IMC de de unos 10 pacientes (el numero de elementos de todas las listas anteriores). \n",
    "\n",
    "Imprima los valores obtenidos en las listas anteriores utilizando `enumerate` y `zip` y el siguiente formato:\n",
    "     \n",
    "    Paciente 1:\n",
    "        Altura [m]: 1.71\n",
    "        Peso [kg]: 67\n",
    "        IMC: 22.9\n",
    "        Estado: Normal\n",
    "\n",
    "    Paciente 2:\n",
    "        Altura [m]: 1.64\n",
    "        Peso [kg]: 88\n",
    "        IMC: 32.7\n",
    "        Estado: Obeso\n",
    "\n",
    "     ....\n",
    "     \n",
    " Utilice la siguiente tabla para mostrar la intepretación de los resultados:\n",
    " \n",
    "| IMC       | Condicion   |\n",
    "|-----------|-------------|\n",
    "| Bajo peso | < 18.5      |\n",
    "| Normal    | 18.5 - 24.9 |\n",
    "| Sobrepeso | 25.0 - 29.9 |\n",
    "| Obeso     | > 30        |"
   ]
  },
  {
   "cell_type": "code",
   "execution_count": null,
   "metadata": {},
   "outputs": [],
   "source": [
    "# ESCRIBA SU CODIGO AQUI\n"
   ]
  }
 ],
 "metadata": {
  "kernelspec": {
   "display_name": "Python 3",
   "language": "python",
   "name": "python3"
  },
  "language_info": {
   "codemirror_mode": {
    "name": "ipython",
    "version": 3
   },
   "file_extension": ".py",
   "mimetype": "text/x-python",
   "name": "python",
   "nbconvert_exporter": "python",
   "pygments_lexer": "ipython3",
   "version": "3.8.3"
  }
 },
 "nbformat": 4,
 "nbformat_minor": 4
}
