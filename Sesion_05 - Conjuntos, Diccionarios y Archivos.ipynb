{
 "cells": [
  {
   "cell_type": "markdown",
   "metadata": {},
   "source": [
    "# Sesion 5 - Conjuntos, Diccionarios y Archivos\n",
    "<div style=\"text-align: right\">Autor: Luis A. Muñoz - 2020 </div>"
   ]
  },
  {
   "cell_type": "markdown",
   "metadata": {},
   "source": [
    "Ideas clave:\n",
    "\n",
    "* Los conjuntos son contenedores de datos en Python que no admiten valores duplicados.\n",
    "* Un conjunto tiene el formato {val1, val2, ...}\n",
    "* Los valores en un conjunto (set) se agregan con el método add y si el valor a añadir ya se encuentra en el conjunto, este se descarta\n",
    "* Los conjunto soportan operaciones de interacción, union, diferencia y diferencia simétrica.\n",
    "\n",
    "* Un diccionario es un tipo de datos de Python que convierte un dato en otro\n",
    "* Funciona como un formulario de datos: los campos a llenar se llaman llaves (keys) y los datos con que se llenan los campos con valores (values)\n",
    "* Un diccionario tiene el formato {key1: value1, key2: value2, ....}\n",
    "* Un diccionario utiliza las llaves como índices para acceder a los valores\n",
    "\n",
    "* Los archivos son objetos almacenados en el File System del Sistema Operativo.\n",
    "* Un archivo puede ser de texto o de datos binarios.\n",
    "* Python puede acceder a los archivos utilizando la instrucción open() y luego cerrarlos con la instucción close(). No se debe dejar un archivo abierto en el sistema.\n",
    "* Se puede utilizar un Context Manager (with) para controlar el acceso a los archivos.\n",
    "* Al abrir un archivos Python genera un cursor, un puntero que \"apunta\" a la primera linea de un archivo de texto.\n",
    "* Los métodos read(), readline() y readlines() permite leer el texto de un archivo de texto.\n",
    "* Lo métodos write(), writelines() permiten escribir en un archivo de texto.\n",
    "* El cursor de un archivo de texto es un iterable; esto es, que si se incluye en un lazo for leera cada línea de un archivo de texto hasta el final.\n",
    "* Un archivo CSV es un archivo de texto con un formato específico en donde se almacenan los valores seperados por comas y al que se tiene acceso de forma interactiva importando el módulo CSV.\n",
    "\n",
    "Informacion:\n",
    "* https://recursospython.com/guias-y-manuales/conjuntos-sets/\n",
    "* https://recursospython.com/guias-y-manuales/diccionarios/\n",
    "* https://uniwebsidad.com/libros/algoritmos-python/capitulo-11\n",
    "\n",
    "---"
   ]
  },
  {
   "cell_type": "markdown",
   "metadata": {},
   "source": [
    "# Sets\n",
    "<img src=\"https://miro.medium.com/proxy/0*_Pc2_6NV9IUgTQ9m.png\" alt=\"Drawing\" style=\"width: 400px;\"/>\n",
    "Un conjunto `set` es una colección no ordenada de objetos únicos. Los conjuntos son ampliamente utilizados en lógica y matemática, y desde el lenguaje podemos sacar provecho de sus propiedades para crear código más eficiente y legible en menos tiempo.\n",
    "\n",
    "Para crear un conjunto se utiliza la siguiente sintáxis:"
   ]
  },
  {
   "cell_type": "code",
   "execution_count": null,
   "metadata": {},
   "outputs": [],
   "source": [
    "s = {1, 2, 3, 4, 5, 6, 7, 8, 9}\n",
    "print(type(s))\n",
    "print(s)"
   ]
  },
  {
   "cell_type": "markdown",
   "metadata": {},
   "source": [
    "La idea más importante a recordar respecto a un conjunto es que no puede contener elementos repetidos:"
   ]
  },
  {
   "cell_type": "code",
   "execution_count": null,
   "metadata": {},
   "outputs": [],
   "source": [
    "s = {1, 2, 3, 4, 5, 5, 5, 6, 7, 8, 8, 8, 9}\n",
    "print(s)"
   ]
  },
  {
   "cell_type": "markdown",
   "metadata": {},
   "source": [
    "Como se observa, los elementos repetidos se descartan del conjunto y solo estan presentes una sola vez. Esto tiene sentido si considera la noción matematica de un conjunto: una colección de elementos únicos y cuyo orden es irrelevante. Esto es que este es un conjunto válido:"
   ]
  },
  {
   "cell_type": "code",
   "execution_count": null,
   "metadata": {},
   "outputs": [],
   "source": [
    "pares = {4, 2, 16, 24, 102}\n",
    "print(pares)"
   ]
  },
  {
   "cell_type": "markdown",
   "metadata": {},
   "source": [
    "Note que la impresión de los valores no tiene un orden específico ya que su orden es irrelvante; esto quiere decir que no exste algo como \"el primer elemento\", o \"el último elemento\" o \"el n-ésimo elemento\". Lo que a su veces significa que los elementos de un conjunto no están indexados (\"*not suscriptable*\"):"
   ]
  },
  {
   "cell_type": "code",
   "execution_count": null,
   "metadata": {},
   "outputs": [],
   "source": [
    "pares[0]"
   ]
  },
  {
   "cell_type": "markdown",
   "metadata": {},
   "source": [
    "Estas características pueden ayudar a resolver algunos problemas. Por ejemplo, descartar un número si es que tiene dígitos repetidos:"
   ]
  },
  {
   "cell_type": "code",
   "execution_count": null,
   "metadata": {},
   "outputs": [],
   "source": [
    "# Pruebe con diferentes valores de num (como str)\n",
    "num = '1293'\n",
    "\n",
    "# Lista por comprehension de cada caracter del str num que luego se convierte en un set\n",
    "numeros = set([n for n in num])      # ['1', '2', '3', '3']\n",
    "\n",
    "# Si el numero de elementos del str num es igual al numero de elementos del set\n",
    "# quiere decir que todos los caracteres son diferentes\n",
    "if len(num) == len(numeros):\n",
    "    print(\"Todos los digitos son diferentes\")\n",
    "else:\n",
    "    print(\"Hay digitos repetidos\")"
   ]
  },
  {
   "cell_type": "markdown",
   "metadata": {},
   "source": [
    "Los métodos disponibles en un conjunto se pueden observar con la directorio de un set:"
   ]
  },
  {
   "cell_type": "code",
   "execution_count": null,
   "metadata": {},
   "outputs": [],
   "source": [
    "dir(set)"
   ]
  },
  {
   "cell_type": "markdown",
   "metadata": {},
   "source": [
    "De este listado, los métodos para la manipulación de los elementos son:\n",
    "    \n",
    "    - add()          Agrega un elemento al conjunto\n",
    "    - remove()       Elimina un elemento de un conjunto y si el elemento no existe genera una excepción\n",
    "    - discard()      Equivalente a remove(), pero en caso el elemento a eliminar no exista esta operación se descarta.\n",
    "    - pop()          Extrae un elemento aleatorio del conjunto\n",
    "    \n",
    "Un detalle a considerar, para inicializar un conjunto vacio hay que utilizar la instrucción `set()` y no `{}`."
   ]
  },
  {
   "cell_type": "code",
   "execution_count": null,
   "metadata": {},
   "outputs": [],
   "source": [
    "# Conjunto vacio\n",
    "s = set()\n",
    "\n",
    "# Se agrgan elementos al conjunto\n",
    "s.add(0)\n",
    "s.add(1)\n",
    "s.add(3)\n",
    "s.add(10)\n",
    "s.add(7)\n",
    "print(s)\n",
    "\n",
    "# Se descartan elementos de un conjunto\n",
    "s.discard(3)\n",
    "s.discard(20)    # Esto no genera una excepcion\n",
    "print(s)\n",
    "\n",
    "# Se extrae un valor aleatorio\n",
    "val = s.pop()\n",
    "print(\"\\nValor extraido aleatorio:\", val)\n",
    "print(s)\n",
    "\n",
    "val = s.pop()\n",
    "print(\"\\nValor extraido aleatorio:\", val)\n",
    "print(s)"
   ]
  },
  {
   "cell_type": "markdown",
   "metadata": {},
   "source": [
    "Los conjunto soportan las siguientes operaciones:\n",
    "    \n",
    "    * &      Intersaccion\n",
    "    * |      Union\n",
    "    * -      Diferencia\n",
    "    * ^      Diferencia simétrica"
   ]
  },
  {
   "cell_type": "code",
   "execution_count": null,
   "metadata": {},
   "outputs": [],
   "source": [
    "pares = {0, 2, 4, 6, 8, 10, 12, 14, 16, 18, 20}\n",
    "mult_3 = {0, 3, 6, 9, 12, 15, 18, 21}\n",
    "mult_5 = {0, 5, 10, 15, 20, 25}\n",
    "\n",
    "print(pares & mult_3)    # Equivalente al método: pares.intersection(mult_3)\n",
    "print(mult_5 | mult_3)   # Equivalente al método: mult_3.union(mult_5)\n",
    "print(pares - mult_3)    # Equivalente al método: pares.difference(mult_3)\n",
    "print(mult_3 ^ mult_5)   # Equivalente al método: mult_3.symetric_difference(mult_5)"
   ]
  },
  {
   "cell_type": "markdown",
   "metadata": {},
   "source": [
    "Un conjunto es un \"iterable\", esto es que puede ser parte de un lazo for y lo retornará serán sus elementos:"
   ]
  },
  {
   "cell_type": "code",
   "execution_count": null,
   "metadata": {},
   "outputs": [],
   "source": [
    "for element in {1, 2, 3, 3, 4, 5, 5}:\n",
    "    print(element)"
   ]
  },
  {
   "cell_type": "markdown",
   "metadata": {},
   "source": [
    "# Dict\n",
    "<img src=\"https://www.i2tutorials.com/wp-content/uploads/2020/05/Append-a-Dictionary-to-a-list-in-Python-5-i2tutorials.jpg\" alt=\"Drawing\" style=\"width: 500px;\"/>\n",
    "Un diccionario es una colección no ordenada de objetos. Es por eso que para identificar un valor cualquiera dentro de él, especificamos una llave (a diferencia de las listas y tuplas, cuyos elementos se identifican por su posición). Las llaves suelen ser números enteros o cadenas, aunque cualquier otro objeto inmutable puede actuar como una clave. Los valores, por el contrario, pueden ser de cualquier tipo, incluso otros diccionarios.\n",
    "\n",
    "Un diccionario vacío se puede expresar de dos formas: `dict()` o `{}` y tiene el formato `(key: value)`:"
   ]
  },
  {
   "cell_type": "code",
   "execution_count": null,
   "metadata": {},
   "outputs": [],
   "source": [
    "d = {\"Python\": 1991, \"C\": 1972, \"Java\": 1996}\n",
    "\n",
    "print(type(d))\n",
    "print(d)\n",
    "print(\"Num de elementos:\", len(d))"
   ]
  },
  {
   "cell_type": "markdown",
   "metadata": {},
   "source": [
    "Como se puede observar, cada par \"llave:valor\" se considera un elemento, pero estos no tiene índices:"
   ]
  },
  {
   "cell_type": "code",
   "execution_count": null,
   "metadata": {},
   "outputs": [],
   "source": [
    "d[0]"
   ]
  },
  {
   "cell_type": "markdown",
   "metadata": {},
   "source": [
    "En un diccionario el elemento que se utiliza para especificar un elemento es la llave:"
   ]
  },
  {
   "cell_type": "code",
   "execution_count": null,
   "metadata": {},
   "outputs": [],
   "source": [
    "d['Python']"
   ]
  },
  {
   "cell_type": "markdown",
   "metadata": {},
   "source": [
    "Y se puede utilizar el operador `=` para asignarle un valor o agregar un nuevo elemento: "
   ]
  },
  {
   "cell_type": "code",
   "execution_count": null,
   "metadata": {},
   "outputs": [],
   "source": [
    "d['Python'] = 2001\n",
    "d['C++'] = 1983\n",
    "\n",
    "print(d)"
   ]
  },
  {
   "cell_type": "markdown",
   "metadata": {},
   "source": [
    "Como las llaves son empleados en lugar de los índices, estos no pueden ser duplicados, a diferencia de los valores que si pueden ser repetidos:"
   ]
  },
  {
   "cell_type": "code",
   "execution_count": null,
   "metadata": {},
   "outputs": [],
   "source": [
    "d[\"JavaScript\"] = 1995\n",
    "d[\"PHP\"] = 1995\n",
    "\n",
    "print(d)"
   ]
  },
  {
   "cell_type": "markdown",
   "metadata": {},
   "source": [
    "Cuando se considera el uso de un diccionario como parte de un código de programación, se debe pensar en un diccionario como un formulario. Considere el siguiente diccionario:"
   ]
  },
  {
   "cell_type": "code",
   "execution_count": null,
   "metadata": {},
   "outputs": [],
   "source": [
    "# El diccionario 'persona' almacena cada dato de una persona en llaves\n",
    "persona = {'nombre': 'Elvio',\n",
    "           'apellido': 'Lado',\n",
    "           'edad': 20,\n",
    "           'telefono': '976-765-262',\n",
    "           'direccion': 'Av. Separadora Industrial 2134, Ate'}\n",
    "\n",
    "print(persona)\n",
    "\n",
    "# Observe en esta línea como el diccionario aclara el código pues en lugar de usar un índice\n",
    "# en 'persona' se usa el nombre de la llave y se puede entender que primero se imprime el nombre\n",
    "# y luego el apellido.\n",
    "print(persona['nombre'] + ' ' + persona['apellido'])"
   ]
  },
  {
   "cell_type": "markdown",
   "metadata": {},
   "source": [
    "¿Como se cambiaría el teléfono de la persona en el diccionario?"
   ]
  },
  {
   "cell_type": "code",
   "execution_count": null,
   "metadata": {},
   "outputs": [],
   "source": [
    "persona['telefono'] = '987-363-999'\n",
    "print(persona)"
   ]
  },
  {
   "cell_type": "markdown",
   "metadata": {},
   "source": [
    "¿Y cómo se agregaría el email de esta persona en el diccionario?"
   ]
  },
  {
   "cell_type": "code",
   "execution_count": null,
   "metadata": {},
   "outputs": [],
   "source": [
    "persona['email'] = 'elado@mail.com'\n",
    "print(persona)"
   ]
  },
  {
   "cell_type": "markdown",
   "metadata": {},
   "source": [
    "## dict como un iterable\n",
    "Un diccionario también es un iterable, pero que retorna: ¿las llaves, los valores, ambos?"
   ]
  },
  {
   "cell_type": "code",
   "execution_count": null,
   "metadata": {},
   "outputs": [],
   "source": [
    "meses = {1: 'ene', 2: 'feb', 3: 'mar',\n",
    "         4: 'abr', 5: 'may', 6: 'jun',\n",
    "         7: 'jul', 8: 'ago', 9: 'set',\n",
    "         10: 'oct', 11: 'nov', 12: 'dic'}\n",
    "\n",
    "\n",
    "for data in meses:\n",
    "    print(data)"
   ]
  },
  {
   "cell_type": "markdown",
   "metadata": {},
   "source": [
    "Las llaves. Esto tiene sentido ya que con las llaves se pueden obtener los valores, y no se pueden obtener las llaves de los valores (ya que estos últimos pueden ser duplicados). Esto puede modificarse utilizando los siguientes métodos:\n",
    "\n",
    "    * dict.keys()      Retorna una lista con las llaves de un diccionario\n",
    "    * dict.values()    Retorna una lista con los valores de un diccionario\n",
    "    * dict.items()     Retorna una lista de tuplas con los pares (llave, valor)"
   ]
  },
  {
   "cell_type": "code",
   "execution_count": null,
   "metadata": {},
   "outputs": [],
   "source": [
    "print(\"Método keys()\")\n",
    "for data in meses.keys():\n",
    "    print(data)\n",
    "else:\n",
    "    print()\n",
    "\n",
    "print(\"Método values()\")\n",
    "for data in meses.values():\n",
    "    print(data)\n",
    "else:\n",
    "    print()\n",
    "\n",
    "print(\"Método items()\")\n",
    "for data in meses.items():\n",
    "    print(data)"
   ]
  },
  {
   "cell_type": "markdown",
   "metadata": {},
   "source": [
    "## Métodos en un diccionario\n",
    "Adicionalmente a los métodos anteriores, también se tienen los siguientes métodos:"
   ]
  },
  {
   "cell_type": "code",
   "execution_count": null,
   "metadata": {},
   "outputs": [],
   "source": [
    "dir(dict)"
   ]
  },
  {
   "cell_type": "markdown",
   "metadata": {},
   "source": [
    "Los siguientes métodos realizan las siguientes acciones:    \n",
    "    \n",
    "    * clear()         Elimina todos los elementos de un diccionario\n",
    "    * copy()          Copia los elementos de un diccionario en otro, equivalente a las listas\n",
    "    * fromkeys()      Crea un dict a partir de los elementos de una lista que servirán como llaves y con valores = None\n",
    "    * get()           Retorna un valor de una llave. Equivalente a dict[key], \n",
    "                      pero no genera una excepcion si la llave no existe\n",
    "    * pop()           Extrae el valor de una diccionario a partir de una llave.\n",
    "    * popitem()       Extrae un par (llave, valor) de forma aleatoria\n",
    "    * setdefault      Crea un diccionario a partir de una llave y un valor por defecto. \n",
    "                      En caso la llave ya existe la operacion se descarta\n",
    "    * update()        Actualiza los elementos de un diccionadio a partir de otro\n",
    "    \n",
    "Creemos un diccionario `numeros` y saquemos un valor con `pop()`:"
   ]
  },
  {
   "cell_type": "code",
   "execution_count": null,
   "metadata": {},
   "outputs": [],
   "source": [
    "numeros = {1: 'uno', 2: 'dos', 3: 'tres', 4: 'cuatro', 5: 'cinco', 6: 'seis', 7: 'siete', 8: 'ocho', 9: 'nueve'}\n",
    "\n",
    "val = numeros.pop(9)\n",
    "print(val)\n",
    "print(numeros)"
   ]
  },
  {
   "cell_type": "markdown",
   "metadata": {},
   "source": [
    "Si utilizamos la sintaxis `dict[key]` para obtener el valor de una llave, tendrémos una excepción porque esta llave no existe:"
   ]
  },
  {
   "cell_type": "code",
   "execution_count": null,
   "metadata": {},
   "outputs": [],
   "source": [
    "# Esto genera un excepción porque la llave 9 ya no existe\n",
    "numeros[9]"
   ]
  },
  {
   "cell_type": "markdown",
   "metadata": {},
   "source": [
    "Es preferible utilizar el método `get()` para obtener el valor de una llave:"
   ]
  },
  {
   "cell_type": "code",
   "execution_count": null,
   "metadata": {},
   "outputs": [],
   "source": [
    "# Esto no genera una excepcion\n",
    "numeros.get(9)\n",
    "\n",
    "# E incusive puede devolver algo en caso esta llave no exista\n",
    "numeros.get(9, \"No existe\")"
   ]
  },
  {
   "cell_type": "markdown",
   "metadata": {},
   "source": [
    "Un uso muy útil del método setdefault() es para contar las diferentes letras de una cadena de caracteres:"
   ]
  },
  {
   "cell_type": "code",
   "execution_count": null,
   "metadata": {},
   "outputs": [],
   "source": [
    "# Este es un uso util del método setdafault: contar cuantas letras diferentes tiene una cadena\n",
    "texto = \"este mensaje tiene muchas letras y quisiera saber cuantas letras hay de cada letra en general\"\n",
    "letras = {}\n",
    "\n",
    "for char in texto:\n",
    "    # Esta linea genera una entrada {char: 0} por cada letra nueva en el diccionario 'letras'\n",
    "    letras.setdefault(char, 0)      # letras = {'e': 2, 's': 1, 't': 1, }\n",
    "    # Si esta llave ya existe entonces se descarta la operacion anterior y solo se incrementa el valor asociado\n",
    "    letras[char] = letras[char] + 1\n",
    "    \n",
    "print(letras)"
   ]
  },
  {
   "cell_type": "markdown",
   "metadata": {},
   "source": [
    "Se puede combinar la función `zip` con dos listas para crear un diccionario a partir de valores predefinidos en listas:"
   ]
  },
  {
   "cell_type": "code",
   "execution_count": null,
   "metadata": {},
   "outputs": [],
   "source": [
    "meses_n = ['ene', 'feb', 'mar', 'abr', 'may', 'jun', \n",
    "          'jul', 'ago', 'set', 'oct', 'nov', 'dic']\n",
    "meses_d = [1, 2, 3, 4, 5, 6, 7, 8, 9, 10, 11, 12]\n",
    "\n",
    "meses = dict(zip(meses_d, meses_n))\n",
    "print(meses)"
   ]
  },
  {
   "cell_type": "markdown",
   "metadata": {},
   "source": [
    "El operador `in` también se puede utilizar para verificar si una llave esta presente en un diccionario:"
   ]
  },
  {
   "cell_type": "code",
   "execution_count": null,
   "metadata": {},
   "outputs": [],
   "source": [
    "print(3 in meses)        # Esta llave esta en el diccionario\n",
    "print('ene' in meses)    # Este valor esta en el diccionario, pero 'in' no busca valores"
   ]
  },
  {
   "cell_type": "markdown",
   "metadata": {},
   "source": [
    "## Listas en un diccionario\n",
    "Se pueden incluír listas como valores de un diccionario. Considere el siguiente código:"
   ]
  },
  {
   "cell_type": "code",
   "execution_count": null,
   "metadata": {},
   "outputs": [],
   "source": [
    "leng_prog = {'juan': ['Python'],\n",
    "             'maria': ['C', 'C++'],\n",
    "             'elvio': ['HTML', 'JavaScript', 'PHP'],\n",
    "             'clodoaldo': ['Assembler', 'Haskell'],\n",
    "             'rosa': ['Python', 'VisualBasic']\n",
    "             }\n",
    "\n",
    "# El lazo for extrae los pares (llave, valor) con el metodo items()\n",
    "for nombre, lenguajes in leng_prog.items():\n",
    "    print(\"Lenguajes favoritos de\", nombre.capitalize() +  \":\")\n",
    "    for idx, lenguaje in enumerate(lenguajes):\n",
    "        print(\"  {}: {}\".format(idx+1, lenguaje))\n",
    "    else:\n",
    "        print()"
   ]
  },
  {
   "cell_type": "markdown",
   "metadata": {},
   "source": [
    "## Diccionarios en listas\n",
    "Se pueden tener diccionario como elementos de una lista. Considere el siguiente código:"
   ]
  },
  {
   "cell_type": "code",
   "execution_count": null,
   "metadata": {},
   "outputs": [],
   "source": [
    "# alumnos[0]['apellido']\n",
    "alumnos = [{'nombre': 'Elvio',\n",
    "            'apellido': 'Lado',\n",
    "            'codigo': 'A8383783',\n",
    "            'email': 'elado@yahoo.com',\n",
    "           },\n",
    "           {'nombre': 'Maria',\n",
    "            'apellido': 'Jimenez',\n",
    "            'codigo': 'A8309806',\n",
    "            'email': 'mjimenez@mail.com',\n",
    "           },\n",
    "          ]\n",
    "\n",
    "# Se extraen los elementos de alumnos, donde cada elemento es un diccionario\n",
    "for idx, alumno in enumerate(alumnos):\n",
    "    print(\"ALUMNO\", idx+1)\n",
    "    # Se extraen los pares (llave,valor) de los diccionarios\n",
    "    for k, v in alumno.items():\n",
    "        print(\"  {}: {}\".format(k.capitalize(), v))\n",
    "    else:\n",
    "        print()"
   ]
  },
  {
   "cell_type": "markdown",
   "metadata": {},
   "source": [
    "## Dicionarios en un diccionario\n",
    "Se puede tener un diccionario donde los elementos serán diccionarios a la vez"
   ]
  },
  {
   "cell_type": "code",
   "execution_count": null,
   "metadata": {},
   "outputs": [],
   "source": [
    "alumnos = {'elazo': \n",
    "                {'nombre': 'Elvio',\n",
    "                'apellido': 'Lado',\n",
    "                'codigo': 'A8383783',\n",
    "                'email': 'elado@yahoo.com',\n",
    "                'telefono': {'movil': '987-345-222',\n",
    "                             'fijo': '245-3783',\n",
    "                            }\n",
    "                },\n",
    "           'mjimenez': {'nombre': 'Maria',\n",
    "                'apellido': 'Jimenez',\n",
    "                'codigo': 'A8309806',\n",
    "                'email': 'mjimenez@mail.com',\n",
    "                'telefono': {'movil': '918-727-272',\n",
    "                            }\n",
    "               },\n",
    "          }\n",
    "\n",
    "# Se extraen las llaves (nombre de usuario) y los valores (diccionarios internos)\n",
    "for username, user_info in alumnos.items():\n",
    "    print(\"\\n* Nombre de usuario: {}\".format(username))\n",
    "    print(\"  * Nombres: {}, {}\".format(user_info['apellido'], user_info['nombre']))\n",
    "    print(\"  * Codigo: {}\".format(user_info['codigo']))\n",
    "    print(\"  * Email: {}\".format(user_info['email']))\n",
    "    print(\"  * Telefono:\")\n",
    "    # Se extraen los pares (llave,valor) de los diccionarios internos\n",
    "    for tipo_telef, num_telef in user_info['telefono'].items():\n",
    "        print(\"    - {}: {}\".format(tipo_telef.capitalize(), num_telef))"
   ]
  },
  {
   "cell_type": "code",
   "execution_count": null,
   "metadata": {},
   "outputs": [],
   "source": [
    "# BONUS TRACK\n",
    "import requests \n",
    "\n",
    "r = requests.get(\"https://pomber.github.io/covid19/timeseries.json\")\n",
    "data_dict = r.json()\n",
    "for k, v in data_dict['Peru'][-1].items():\n",
    "    print(k, v)"
   ]
  },
  {
   "cell_type": "markdown",
   "metadata": {},
   "source": [
    "Ahora: **descanse**. Tómese un respiro, distraigase un poco antes de entrar la gestión de archivos en Python.\n",
    "\n",
    "<img src=\"https://webcomicms.net/sites/default/files/clipart/167194/think-time-cliparts-167194-188108.png\" alt=\"Drawing\" style=\"width: 400px;\"/>"
   ]
  },
  {
   "cell_type": "markdown",
   "metadata": {},
   "source": [
    "## Archivos en Python\n",
    "Python puede acceder al File System del Sistema Operativo para leer o escribír archivos, ya sea de texto o binarios. A este nivel, vamos a trabajar con archivos de texto.\n",
    "\n",
    "Para Python, un archivo es un objeto al que se accede por medio de un cursor. Este cursor apunta a cada una de las lineas de un archivo de texto.\n",
    "\n",
    "NOTA: ¡Tenga precaución al momento de operar con archivos! Puede borrar información importante en el sistema Operativo."
   ]
  },
  {
   "cell_type": "markdown",
   "metadata": {},
   "source": [
    "Considere el siguiente diccionario de meses:"
   ]
  },
  {
   "cell_type": "code",
   "execution_count": null,
   "metadata": {},
   "outputs": [],
   "source": [
    "meses_n = ['ene', 'feb', 'mar', 'abr', 'may', 'jun', \n",
    "          'jul', 'ago', 'set', 'oct', 'nov', 'dic']\n",
    "meses_d = [1, 2, 3, 4, 5, 6, 7, 8, 9, 10, 11, 12]\n",
    "\n",
    "meses = dict(zip(meses_d, meses_n))\n",
    "print(meses)"
   ]
  },
  {
   "cell_type": "markdown",
   "metadata": {},
   "source": [
    "Para abrir un archivo de texto utilizamos la función `open`. El acceso a un archivo de texto se da en diferentes modos que deben ser especificados:\n",
    "\n",
    "    mode = 'r'      Se desea leer (read) el archivo. Este archivo debe de existír\n",
    "    mode = 'w'      Se desea escribir (write) en el arvhivo. Si el archivo no existe este se crea y si existe se sobreescribe\n",
    "    mode = 'a'      Se desea agregar (append) sobre un archivo. Si el archivo no existe se crea\n",
    "    \n",
    "Otra especificación opcional la del interprete de codificación de los caracteres. A veces se leen archivos de texto cuyas caracteres no son reconocidos (nos arroja un error `charmap`):\n",
    "\n",
    "    encoding = 'utf-8'    Interpreta los caracteres segun la codificación UTF-8\n",
    "    encoding = 'latin-1'  Interpreta los caracteres segun la codificacion en español\n",
    "    \n",
    "Consideremos, como ejemplos, que se quiere almacenar esta información en un archivo que llamaremos `meses.txt` que tenga el siguiente formato:\n",
    "    \n",
    "    1  ene\n",
    "    2  feb\n",
    "    3  mar\n",
    "    .\n",
    "    .\n",
    "    .\n",
    "    10 oct\n",
    "    11 nov\n",
    "    12 dic\n",
    "    \n",
    "La secuencia de acciones al momento de trabajar con archivos de texto es la siguiente:\n",
    "\n",
    "<img src=\"https://ucarecdn.com/c0f593fb-5ab5-4c5d-aa03-4fc15b480a69/\" alt=\"Drawing\" style=\"width: 500px;\"/>"
   ]
  },
  {
   "cell_type": "code",
   "execution_count": null,
   "metadata": {},
   "outputs": [],
   "source": [
    "# Se abre el archivo de texto en modo escritura\n",
    "file = open(\"meses.txt\", mode='w', encoding='utf-8')\n",
    "\n",
    "# Se modifica el archivo\n",
    "for num, nombre in meses.items():\n",
    "    file.write(\"{:2} {}\".format(num, nombre))\n",
    "\n",
    "# Se cierra el archivo\n",
    "file.close()"
   ]
  },
  {
   "cell_type": "markdown",
   "metadata": {},
   "source": [
    "Debe de haberse generado un nuevo archivo en el directorio de trabajo. Reviselo. ¿Tiene la información según lo esperado? Vamos a leer el archivo generado utilizando Python:"
   ]
  },
  {
   "cell_type": "code",
   "execution_count": null,
   "metadata": {},
   "outputs": [],
   "source": [
    "file = open(\"meses.txt\", mode='r', encoding='utf-8')\n",
    "texto = file.read()\n",
    "file.close()\n",
    "\n",
    "print(texto)"
   ]
  },
  {
   "cell_type": "markdown",
   "metadata": {},
   "source": [
    "¿Qué es lo que esta faltando? Los saltos de línea. Estos son caracteres que son parte de la información y también tienen  que considerarse."
   ]
  },
  {
   "cell_type": "code",
   "execution_count": null,
   "metadata": {},
   "outputs": [],
   "source": [
    "file = open(\"meses.txt\", mode='w', encoding='utf-8')\n",
    "\n",
    "for num, nombre in meses.items():\n",
    "    file.write(\"{:2} {}\\n\".format(num, nombre))     # \\n: Salto de linea\n",
    "\n",
    "file.close()"
   ]
  },
  {
   "cell_type": "code",
   "execution_count": null,
   "metadata": {},
   "outputs": [],
   "source": [
    "file = open(\"meses.txt\", mode='r', encoding='utf-8')\n",
    "texto = file.read()\n",
    "file.close()\n",
    "\n",
    "print(texto)"
   ]
  },
  {
   "cell_type": "markdown",
   "metadata": {},
   "source": [
    "Note que el arvhivo se abrio con `open` y se cierra con `close` y que entre estas funciones se realiza la escritura con `write` o la lecrura con `read`. En ambos casos se trabaja con `str` (un `str` de entada para la escritura, un `str` de salida para la lectura."
   ]
  },
  {
   "cell_type": "markdown",
   "metadata": {},
   "source": [
    "## Context Manager: with\n",
    "Otra forma de realizar lo mismo (y la forma preferida en Python) es utilizar un Context Manager, lo que es equivalente a crear un bloque `with`. Un bloque `with` asocia un objeto a un bloque y esta se administra segun el contexto. Cuando el bloque termina, el objeto asociado se cierra de forma automática. Esto quiere decir que el archivo abierto controlado por un bloque `with` se cierra una vez terminado el bloque.\n",
    "\n",
    "Consideremos resolver el ejemplo anterior utilizando un bloque `with`:"
   ]
  },
  {
   "cell_type": "code",
   "execution_count": null,
   "metadata": {},
   "outputs": [],
   "source": [
    "# Creamos el cursor con un bloque with y cuando este termine el archivo se cerrara\n",
    "with open(\"meses.txt\", mode='w', encoding='utf-8') as file:\n",
    "    for num, nombre in meses.items():\n",
    "        file.write(\"{:2} {}\\n\".format(num, nombre))     # \\n: Salto de linea"
   ]
  },
  {
   "cell_type": "code",
   "execution_count": null,
   "metadata": {},
   "outputs": [],
   "source": [
    "# No utilizaremos el modo ya que por defecto es 'r' (lectura)\n",
    "with open(\"meses.txt\", encoding='utf-8') as file:\n",
    "    texto = file.read()\n",
    "\n",
    "print(texto)"
   ]
  },
  {
   "cell_type": "code",
   "execution_count": null,
   "metadata": {},
   "outputs": [],
   "source": [
    "RUTA RELATIVA: \"./MiMusica\"\n",
    "RUTA ABSOLUTA: \"C:/User/UserName/Music/MiMusica\""
   ]
  },
  {
   "cell_type": "markdown",
   "metadata": {},
   "source": [
    "## Un archivo como iterador\n",
    "Así como se puede escribír el archivo línea por línea, también se puede acceder a cada línea, una por una, utilizando algunos métodos de un objeto archivo:\n",
    "\n",
    "    * readline()         Retorna el str al que esta apuntando el cursor hasta \\n (incluyendo el \\n)\n",
    "    * readlines()        Retorna una lista con las líneas del archivo de texto, incluyendo el \\n al final de cada elemento\n",
    "    \n",
    "Probemos estos métodos:"
   ]
  },
  {
   "cell_type": "code",
   "execution_count": null,
   "metadata": {},
   "outputs": [],
   "source": [
    "# Utilizemos los parametros por defecto: lectura, encoding estandar\n",
    "with open(\"meses.txt\") as file:\n",
    "    print(file.readline())\n",
    "    print(file.readline())\n",
    "    print(file.readline())\n"
   ]
  },
  {
   "cell_type": "code",
   "execution_count": null,
   "metadata": {},
   "outputs": [],
   "source": [
    "with open(\"meses.txt\") as file:\n",
    "    print(file.readlines())\n"
   ]
  },
  {
   "cell_type": "markdown",
   "metadata": {},
   "source": [
    "Note que el ejemplo de `readline()` (así como el de `readlines()`) incluye el caracter `\\n`. Esto hace, por ejemplo, que la impresión de cada línea tenga un espacio en blanco entre cada línea (ya que la función `print` también incluye un salto de línea. Lo normal al momento de leer cada línea es no incluir el salto de línea. Para esto utiliremos el métodos de los string `strip()`:"
   ]
  },
  {
   "cell_type": "code",
   "execution_count": null,
   "metadata": {},
   "outputs": [],
   "source": [
    "with open(\"meses.txt\") as file:\n",
    "    print(file.readline().strip())\n",
    "    print(file.readline().strip())\n",
    "    print(file.readline().strip())"
   ]
  },
  {
   "cell_type": "markdown",
   "metadata": {},
   "source": [
    "El problema con esta última aproximación es que es necesario condicionar un lazo para saber en que momento debemos de dejar de leer cada una de las líneas de un archivo de texto. Una forma mejor de tener acceso a cada línea es utilizar el cursor de un arvhivo como un iterable, es decir, como parte de un lazo for:"
   ]
  },
  {
   "cell_type": "code",
   "execution_count": null,
   "metadata": {},
   "outputs": [],
   "source": [
    "with open(\"meses.txt\") as file:\n",
    "    for linea in file:\n",
    "        print(linea.strip())"
   ]
  },
  {
   "cell_type": "markdown",
   "metadata": {},
   "source": [
    "## Archivos CSV\n",
    "Un archivo CSV es un archivo con valores separados por comas (Comma-Separated Values). Es uno de los formatos estándar para el intercambio de información. Tiene la ventaja de que es un archivo de texto por lo que su acceso es sencillo, y por otro lado tiene un formato sencillo que permite almacenar mucha información de manera ordenada. Por ejemplo, considere que quiere guardar la sigueinte información:\n",
    "\n",
    "    - Nombre\n",
    "    - Telefono\n",
    "    - Email\n",
    "    \n",
    "Utilizando el formato de CSV, se pueden almacenar los datos de varias personas de la forma:\n",
    "\n",
    "    nombre,telefono,email\n",
    "    \n",
    "Los archivos CSV suelen tener un encabezado que especifica el dato de cada campo. Un archivo CSV es reconocido por Excel (en su última versión, con valores separados por \";\" ya que la \",\" es utilizada en algunos paises como separador de miles), pero no debe de olvidar que un archivo CSV no es mas que un archivo de texto pero con una extensión diferente.\n",
    "\n",
    "Para leer un archivo CSV se utiliza el modiulo `csv` de Python. Los método mas importante en el módulo `csv` para leer archivo CSV en reader:\n",
    "\n",
    "    * cursor = reader(csv_file)        Retorna un cursor sobre el archivo csv_file\n",
    "    \n",
    "Una vez establecido un reader este se puede incluir en un lazo for (que es un iterable) para poder extraer cada línea del archivo CSV. Cuando se lee un `reader` este retorna los datos de la línea del archivo en forma de lista, donde los elementos de la lista serán los valores separados por coma sin incluír el \\n.\n",
    "\n",
    "Por ejemplo, copie y pegue el siguiente texto en un archivo y guardelo como 'meses.txt' (no importa si la extension no es CSV):\n",
    "\n",
    "    numero,mes\n",
    "    1,enero\n",
    "    2,febrero\n",
    "    3,marzo\n",
    "    4,abril\n",
    "    5,mayo\n",
    "    6,junio\n",
    "    7,julio\n",
    "    8,agosto\n",
    "    9,setiembre\n",
    "    10,octubre\n",
    "    11,noviembre\n",
    "    12,diciembre\n",
    "    \n",
    "Una vez hecho, probemos el siguiente código para leer el archivo CSV:"
   ]
  },
  {
   "cell_type": "code",
   "execution_count": null,
   "metadata": {},
   "outputs": [],
   "source": [
    "import csv\n",
    "\n",
    "with open(\"meses.txt\") as csv_file:\n",
    "    # Creamos el cursor reader del arvhivo CSV\n",
    "    reader = csv.reader(csv_file)\n",
    "    \n",
    "    # el reader es un iterable: next() realiza una iteración manual y \n",
    "    # al hacerlo descarta la primera linea, que es el encabezado de datos que\n",
    "    # en este momento no no importa\n",
    "    next(reader)\n",
    "    \n",
    "    # Se hace un lazo for con el cursor para extraer cada linea\n",
    "    for data_line in reader:\n",
    "        # data_linea sera una lista donde los elementros serán cada uno de los\n",
    "        # valores separados por comas por cada linea, en este caso [numero, nombre_del_mes]\n",
    "        print(\"El mes numero {} es el mes de {}\".format(data_line[0], data_line[1]))"
   ]
  }
 ],
 "metadata": {
  "kernelspec": {
   "display_name": "Python 3",
   "language": "python",
   "name": "python3"
  },
  "language_info": {
   "codemirror_mode": {
    "name": "ipython",
    "version": 3
   },
   "file_extension": ".py",
   "mimetype": "text/x-python",
   "name": "python",
   "nbconvert_exporter": "python",
   "pygments_lexer": "ipython3",
   "version": "3.8.3"
  }
 },
 "nbformat": 4,
 "nbformat_minor": 4
}
