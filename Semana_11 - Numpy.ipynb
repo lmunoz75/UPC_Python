{
 "cells": [
  {
   "cell_type": "markdown",
   "metadata": {},
   "source": [
    "# Numpy\n",
    "<img src=\"https://miro.medium.com/max/765/1*cyXCE-JcBelTyrK-58w6_Q.png\" alt=\"car_her\" width=\"600\"/>\n",
    "\n",
    "<div style=\"text-align: right\">Autor: Luis A. Muñoz - 2024 </div>"
   ]
  },
  {
   "cell_type": "markdown",
   "metadata": {},
   "source": [
    "NumPy es una extensión de Python, que le agrega soporte para vectores y matrices, constituyendo una biblioteca de funciones matemáticas de alto nivel para operar con esos vectores o matrices. El ancestro de NumPy, Numeric, fue creado originalmente por Jim Hugunin con algunas contribuciones de otros desarrolladores. En 2005, Travis Oliphant creó NumPy incorporando características de Numarray en NumPy con algunas modificaciones. NumPy es open source. [*Wikipedia*](https://es.wikipedia.org/wiki/NumPy)\n",
    "\n",
    "---"
   ]
  },
  {
   "cell_type": "markdown",
   "metadata": {},
   "source": [
    "`numpy` es la librería con la que ingresamos al espacio de *Python Cientfico*, es decir, utilizar Python como una herramienta de análisis numérico y análisis de datos. Este modulo forma parte de un conjunto de módulos que en conjunto forman las herramientas de cálculo científico, donde `numpy` es el soporte de las demás:\n",
    "\n",
    "* numpy, soporte de arreglos y matrices para operaciones matemáticas\n",
    "* matplotlib, soporte de gráficas científicas 2D y 3D\n",
    "* pandas, soporte de análisis y procesamiento de datos\n",
    "* scipy, soporte de matemática simbólica\n",
    "\n",
    "La organización de los módulos se esquematiza en la siguiente figura:\n",
    "\n",
    "<img src=\"https://i.pinimg.com/originals/64/76/33/647633cd03455ded68fd9de2524f09cb.png\" alt=\"car_her\" width=\"300\"/>\n",
    "\n",
    "Lo primero que debemos hacer para trabajar con la librería `numpy` es importarla con el alias `np`. Eso es un estándar:"
   ]
  },
  {
   "cell_type": "code",
   "execution_count": null,
   "metadata": {},
   "outputs": [],
   "source": [
    "#pip install numpy\n",
    "import numpy as np"
   ]
  },
  {
   "cell_type": "markdown",
   "metadata": {},
   "source": [
    "Para entender porque utilizar el objeto estrella de numpy, un `array`, debemos considerar el uso de las listas en las operaciones científicas. Escribimos una lista que contenga valores genéricos de temperaturas en una semana:"
   ]
  },
  {
   "cell_type": "code",
   "execution_count": null,
   "metadata": {},
   "outputs": [],
   "source": [
    "temp_C = [26.8, 29.4, 30.1, 29.5, 28.6, 29.9, 28.4]"
   ]
  },
  {
   "cell_type": "markdown",
   "metadata": {},
   "source": [
    "¿Cómo podemos generar un lista de temperarturas en grados Fahrenheit a partir de la lista de valores de grados centígrados? La forma más básica es recorrer la lista orginal e ir extrayendo cada valor para hacer la conversión y almacenar el resultado en una nueva lista. La conversión de valores utiliza la siguiente ecuación:\n",
    "\n",
    "$$ F = \\frac{9}{5} C° + 32 $$"
   ]
  },
  {
   "cell_type": "code",
   "execution_count": null,
   "metadata": {},
   "outputs": [],
   "source": [
    "# Una forma...\n",
    "temp_F = []\n",
    "for temp in temp_C:\n",
    "    temp_F.append(9/5 * temp + 32)\n",
    "    \n",
    "print(temp_F)"
   ]
  },
  {
   "cell_type": "markdown",
   "metadata": {},
   "source": [
    "Funciona pero... una mejor forma es utilizar una lista por comprehensión. Más al estilo Python..."
   ]
  },
  {
   "cell_type": "code",
   "execution_count": null,
   "metadata": {},
   "outputs": [],
   "source": [
    "# Otra forma\n",
    "temp_F = [9/5 * temp + 32 for temp in temp_C]\n",
    "print(temp_F)"
   ]
  },
  {
   "cell_type": "markdown",
   "metadata": {},
   "source": [
    "O quiza utilizando la función `map` para afectar a todos los valores de una lista por una función en este caso una función tipo `lambda`:"
   ]
  },
  {
   "cell_type": "code",
   "execution_count": null,
   "metadata": {},
   "outputs": [],
   "source": [
    "# Otra forma mas...\n",
    "temp_F = list(map(lambda x: 9/5 * x + 32, temp_C))\n",
    "print(temp_F)"
   ]
  },
  {
   "cell_type": "markdown",
   "metadata": {},
   "source": [
    "### Ventajas de un arreglo\n",
    "Ahora, veamos como hacerlo con un arreglo. Primero, definamos en arreglo a partir de una lista de valores."
   ]
  },
  {
   "cell_type": "code",
   "execution_count": null,
   "metadata": {},
   "outputs": [],
   "source": [
    "array_C = np.array(temp_C)\n",
    "print(array_C)\n",
    "print(type(array_C))"
   ]
  },
  {
   "cell_type": "markdown",
   "metadata": {},
   "source": [
    "Ahora, apliquemos la operación de conversión sobre el arreglo:"
   ]
  },
  {
   "cell_type": "code",
   "execution_count": null,
   "metadata": {},
   "outputs": [],
   "source": [
    "array_F = 9/5 * array_C + 32\n",
    "print(array_F)"
   ]
  },
  {
   "cell_type": "markdown",
   "metadata": {},
   "source": [
    "Es todo. Simple, breve, pero sobre todo con un código equivalente a la ecuación. Esta no se encuentra escondida detrás de un lazo for o en una lista por compehensión o en una función. Esta escrita tal y como se muestra en la ecuación de muestra. Esa es la gran ventaja de utilizar un arreglo: las operaciones matemáticas se expresan exactamente igual que en la descripción analítica (siempre y cuando estemos con operaciones simples... ya luego todo se pone un poco más complicado, pero ya llegaremos a eso).\n",
    "\n",
    "Otra ventaja tiene que ver con los tiempos de operacion. Hagamos una prueba de eficiencia de operación utilizando un método mágico de los Jupyter Notebooks: `%%time` que permite medir el tiempo de ejecución de una celda. Primero generemos 1,000,000 valores de temperatura entre 20 - 30 grados."
   ]
  },
  {
   "cell_type": "code",
   "execution_count": null,
   "metadata": {},
   "outputs": [],
   "source": [
    "from random import uniform\n",
    "\n",
    "temp_C = [uniform(20, 30) for _ in range(1000000)]\n",
    "print(\"{},{},{}..., numero de elementos: {}\".format(temp_C[0], temp_C[1], temp_C[2], len(temp_C)))"
   ]
  },
  {
   "cell_type": "code",
   "execution_count": null,
   "metadata": {},
   "outputs": [],
   "source": [
    "%%time\n",
    "temp_F = []\n",
    "for temp in temp_C:\n",
    "    temp_F.append(9/5 * temp + 32)"
   ]
  },
  {
   "cell_type": "code",
   "execution_count": null,
   "metadata": {},
   "outputs": [],
   "source": [
    "%%time\n",
    "temp_F = list(map(lambda x: 9/5 * x + 32, temp_C))"
   ]
  },
  {
   "cell_type": "code",
   "execution_count": null,
   "metadata": {},
   "outputs": [],
   "source": [
    "%%time\n",
    "temp_F = [9/5 * temp + 32 for temp in temp_C]"
   ]
  },
  {
   "cell_type": "markdown",
   "metadata": {},
   "source": [
    "Obtengamos el arreglo y operemos:"
   ]
  },
  {
   "cell_type": "code",
   "execution_count": null,
   "metadata": {},
   "outputs": [],
   "source": [
    "%%time\n",
    "array_C = np.array(temp_C)"
   ]
  },
  {
   "cell_type": "code",
   "execution_count": null,
   "metadata": {},
   "outputs": [],
   "source": [
    "%%time\n",
    "array_F = 9/5 * array_C + 32"
   ]
  },
  {
   "cell_type": "markdown",
   "metadata": {},
   "source": [
    "Los resultados obtenidos estarán en función del equipo donde se ejecuten las celdas anteriores, pero puede observar cuan ineficiente es el uso de lazos con una lista, como mejora la respuesta con `map` y mejor aun con una lista por comprehensión. Pero los resultados con un arreglo son de lejos mucho más eficientes."
   ]
  },
  {
   "cell_type": "markdown",
   "metadata": {},
   "source": [
    "### Arreglos: vectores o arreglos 1-dimensionales\n",
    "Para entender la forma como `numpy` gestiona los arreglos, debemos empezar con arreglos de una sola dimensión, es decir, arreglos 1-dimensionales. Al igual que en el caso de una lista, los arreglos soportan indexación e *index-slicing*:"
   ]
  },
  {
   "cell_type": "code",
   "execution_count": null,
   "metadata": {},
   "outputs": [],
   "source": [
    "A = np.array([1, 2, 3, 4, 5, 6, 7, 8, 9])\n",
    "print(A)\n",
    "print(A[0])\n",
    "print(A[-1])\n",
    "print(A[::2])"
   ]
  },
  {
   "cell_type": "markdown",
   "metadata": {},
   "source": [
    "Asi también, soportan la asignación de valores por medio de los índices pero no se puede operar con cualquier valor cuando se trata de un arreglo. Analice los siguentes resultados:"
   ]
  },
  {
   "cell_type": "code",
   "execution_count": null,
   "metadata": {},
   "outputs": [],
   "source": [
    "A[0] = 100\n",
    "print(A)\n",
    "\n",
    "A[-1] = 10.5\n",
    "print(A)\n",
    "\n",
    "A[-1] = 'a'\n",
    "print(A)"
   ]
  },
  {
   "cell_type": "markdown",
   "metadata": {},
   "source": [
    "La primera asignación se correcta: el valor 1 es reemplazado por el valor de 100. Sin embargo, el ultimo valor de 9 no se reemplaza por 10.5, sino por 10. Una pista de los que puede estar sucediendo está en el error de la tercera instrucción: 'a' no es un valor entero (int). Esto es porque los arreglos estan pensados para la operación de valores numéricos de manera eficiente (aunque pueden soportar str, por ejemplo, pero no es lo usual) y para que esto suceda todos los valores tienen que ser del mismo tipo (y eso quiere decir no solo del mismo tipo de datos, sino inclusive del mismo tamaño). El arreglo anterior esta conformado por valores enteros de 32 bits y cualquier cosa que se quiera agregar o modificar en el arreglo debe ser del mismo tipo y tamaño.\n",
    "\n",
    "Los métodos disponibles en el módulo numpy son muchos, demasiados como para pretender conocerlos todos. Este es un módulo muy amplio que puede ir descubriendo por su cuenta, por lo que lo que tocaremos en este curso seran los procedimientos básicos para la manipulación de arreglos y los métodos más comúnes.\n",
    "\n",
    "Puede ver lo extensa de este módulo consultando el directorio del módulo. Es posible que reconozca algunos métodos con nombres matemáticos conocidos."
   ]
  },
  {
   "cell_type": "code",
   "execution_count": null,
   "metadata": {
    "scrolled": true
   },
   "outputs": [],
   "source": [
    "dir(np)"
   ]
  },
  {
   "cell_type": "markdown",
   "metadata": {},
   "source": [
    "Asi que en lugar de revisar los métodos, nos vamos a dedicar a conocer los detalles de un arreglo. Todos los arreglos (como buenos objetos clase `ndarray`) tienen algunas propiedades. Entre las más importantes:\n",
    "\n",
    "* `array.size`: El número de elementos de un arreglo\n",
    "* `array.ndim`: El número de dimensiones de un arreglo\n",
    "* `array.shape`: La forma que tiene un arreglo (dimensiones de sus ejes).\n",
    "* `array.dtype`: El tipo de datos de los elementos de un arreglo\n",
    "* `array.itemsize`: El número de bytes por elemento"
   ]
  },
  {
   "cell_type": "code",
   "execution_count": null,
   "metadata": {},
   "outputs": [],
   "source": [
    "A = np.array([1, 2, 3, 4, 5, 6, 7, 8, 9], dtype=np.float32)   # dtype=np.<tipo de datos numpy> : dtype=np.float64\n",
    "print(A)\n",
    "print(\"Num de elementos:\", A.size)     # No use len(A) !!!\n",
    "print(\"Dimensiones:\", A.ndim)\n",
    "print(\"Rango:\", A.shape)               # (n,): Tupla de un solo valor\n",
    "print(\"Tipo de dato\", A.dtype)\n",
    "print(\"Bytes de memoria por elemento:\", A.itemsize)"
   ]
  },
  {
   "cell_type": "markdown",
   "metadata": {},
   "source": [
    "Un conocimiento útil para manipular los arreglos en `numpy` es la siguiente idea central: **Los métodos de numpy siempre crean nuevos arreglos**. Esto es muy importante ya que evita confusiones al momento de operar con los arreglos.\n",
    "\n",
    "Por ejemplo, si tiene una lista `L` y desea anexar un valor a esta lista, utilizará el método `append` del objeto lista de la forma:\n",
    "\n",
    "    L.append(val)\n",
    "    \n",
    "En cambio, si tiene un arreglo `A` y quiere anexar un valor al arreglo, utilizará el método `append` de `numpy` de la forma:\n",
    "\n",
    "    A = np.append(A, val)\n",
    "\n",
    "Es decir, llamará al método `append` de `numpy` y no del areglo `A`, por lo que tendrá que pasarle en los parametros el arreglo `A` así como el valor a anexar. Este método retornará un nuevo arreglo que en este caso lo estamos almacenando en el mismo arreglo `A`. Interiorice esta idea pues es importante para la manipulación de arreglos con `numpy`."
   ]
  },
  {
   "cell_type": "code",
   "execution_count": null,
   "metadata": {},
   "outputs": [],
   "source": [
    "# Los metodos de numpy crean nuevos arreglos\n",
    "A = np.append(A, 10)\n",
    "print(A)"
   ]
  },
  {
   "cell_type": "markdown",
   "metadata": {},
   "source": [
    "Otros ejemplos con métodos de `numpy`. Analice y entienda los resultados:"
   ]
  },
  {
   "cell_type": "code",
   "execution_count": null,
   "metadata": {},
   "outputs": [],
   "source": [
    "A = np.insert(A, 3, [0, 0, 0])\n",
    "print(A)"
   ]
  },
  {
   "cell_type": "code",
   "execution_count": null,
   "metadata": {},
   "outputs": [],
   "source": [
    "A = np.delete(A, -1)\n",
    "print(A)"
   ]
  },
  {
   "cell_type": "markdown",
   "metadata": {},
   "source": [
    "### Creacion de arreglos\n",
    "¿Se pueden crear arreglos a partir de algun mecanismo diferente a utilizar una lista de origen? Podemos utilizar una definición de rango de datos en `numpy`, el método `arange`:"
   ]
  },
  {
   "cell_type": "code",
   "execution_count": null,
   "metadata": {},
   "outputs": [],
   "source": [
    "A = np.arange(10)   # Paso por defecto = 1\n",
    "print(A)"
   ]
  },
  {
   "cell_type": "code",
   "execution_count": null,
   "metadata": {},
   "outputs": [],
   "source": [
    "A = np.arange(1, 50, 3)\n",
    "print(A)"
   ]
  },
  {
   "cell_type": "code",
   "execution_count": null,
   "metadata": {},
   "outputs": [],
   "source": [
    "A = np.arange(1, 5, 0.25)   # arange soporta valores de paso tipo float\n",
    "print(A)"
   ]
  },
  {
   "cell_type": "markdown",
   "metadata": {},
   "source": [
    "Esto resulta de utilidad cuando necesitamos contar con un arreglo y tenemos la información del espaciamiento entre los datos. Por ejemplo, deseamos calcular la distancia alcanzada por un móvil con una aceleración contante en cada instante de tiempo entre 0 y 10 segundos, y queremos calcular la distancia cada 0.5 segundos:"
   ]
  },
  {
   "cell_type": "code",
   "execution_count": null,
   "metadata": {},
   "outputs": [],
   "source": [
    "# Movimiento acelerado uniforme. Aceleración de 1.3 m/s**2\n",
    "a = 1.3\n",
    "t = np.arange(0, 10.5, 0.5) # Instantes de tiempo entre 0 y 10 seg en pasos de 0.5 seg\n",
    "d = 0.5 * a * t**2\n",
    "\n",
    "print(\"   TIEMPO     DISTANCIA\")\n",
    "print(\"   ------     ---------\")\n",
    "for val_t, val_d in zip(t, d):\n",
    "    print(\"{:>6.2f} seg   {:>6.2f} m\".format(val_t, val_d))"
   ]
  },
  {
   "cell_type": "markdown",
   "metadata": {},
   "source": [
    "Por otro lado, también tenemos el método `linspace`, que genera un espaciamiento lineal entre dos valores considerando cuantos elementos se quiere dividir el rango de manera uniforme. Por defecto, `linspace` divide el rango en 50 partes. A diferencia de `arange`, este método llega hasta el valor final, aunque esto se puede modificar estableciedo el parametro `endpoint=False`:"
   ]
  },
  {
   "cell_type": "code",
   "execution_count": null,
   "metadata": {},
   "outputs": [],
   "source": [
    "A = np.linspace(0, 10)  # Espaciamiento lineal entre 0 y 10 (50 valores)   endpoint=True\n",
    "print(A)"
   ]
  },
  {
   "cell_type": "code",
   "execution_count": null,
   "metadata": {},
   "outputs": [],
   "source": [
    "A = np.linspace(0, 100, 12)   # Se obtienen 12 valores\n",
    "print(A)"
   ]
  },
  {
   "cell_type": "markdown",
   "metadata": {},
   "source": [
    "Esto resulta de utilidad cuando queremos analizar un fenómeno un número de veces en un rango numérico. Por ejemplo, queremos saber la distancia alcanzada por un móvil en un rango de tiempo y queremos hacer 6 mediciones igualmente espaciadas:"
   ]
  },
  {
   "cell_type": "code",
   "execution_count": null,
   "metadata": {},
   "outputs": [],
   "source": [
    "# Ejemplo\n",
    "a = 1.3\n",
    "t = np.linspace(0, 10, 6)   # 6 instantes de tiempo entre 0 y 10 seg\n",
    "d = 0.5 * a * t**2\n",
    "\n",
    "print(\"   TIEMPO     DISTANCIA\")\n",
    "print(\"   ------     ---------\")\n",
    "for val_t, val_d in zip(t, d):\n",
    "    print(\"{:>6.2f} seg   {:>6.2f} m\".format(val_t, val_d))"
   ]
  },
  {
   "cell_type": "markdown",
   "metadata": {},
   "source": [
    "Adicionalmente, también tenemos el método `logspace` que permite tener la división de un espacio logarítico (es decir, entre $10^{inicio}$ y $10^{fin}$). Los espaciamientos logarítmicos son importantes en ingeniería para el análisis de los fenómenos asociados al crecimiento exponencial."
   ]
  },
  {
   "cell_type": "code",
   "execution_count": null,
   "metadata": {},
   "outputs": [],
   "source": [
    "A = np.logspace(0, 2, 10)  # Espaciamiento logaritmico de 10^0 hasta 10^2 (10 elementos)\n",
    "print(A)"
   ]
  },
  {
   "cell_type": "markdown",
   "metadata": {},
   "source": [
    "Ahora: **descanse**. Tómese un respiro, distraigase un poco antes de recorrer las siguientes dimensiones.\n",
    "\n",
    "<img src=\"https://image.spreadshirtmedia.net/image-server/v1/products/T1313A1PA4557PT10X0Y11D165949008W5826H3629Cx192F97:x000000:xD41C3B/views/3,width=378,height=378,appearanceId=1,backgroundColor=F2F2F2/programacion-de-codigo-de-recarga-de-cafe.jpg\" alt=\"Drawing\" style=\"width: 300px;\"/>\n",
    "\n",
    "---"
   ]
  },
  {
   "cell_type": "markdown",
   "metadata": {},
   "source": [
    "### Arreglos n-dimensionales: arrays\n",
    "Podemos subir de dimension a 2. Para esto utilizaremos una lista de listas para formar un arreglo y verificar algunas propiedades:"
   ]
  },
  {
   "cell_type": "code",
   "execution_count": 34,
   "metadata": {},
   "outputs": [
    {
     "name": "stdout",
     "output_type": "stream",
     "text": [
      "[[ 1  2  3  4]\n",
      " [ 5  6  7  8]\n",
      " [ 9 10 11 12]]\n",
      "Num de elementos: 12\n",
      "Dimensiones: 2\n",
      "Rango: (3, 4)\n",
      "Tipo de dato int32\n",
      "Bytes de memoria por elemento: 4\n"
     ]
    }
   ],
   "source": [
    "A = np.array([[1, 2, 3, 4], [5, 6, 7, 8], [9, 10, 11, 12]])\n",
    "print(A)\n",
    "print(\"Num de elementos:\", A.size)     # len(A)\n",
    "print(\"Dimensiones:\", A.ndim)\n",
    "print(\"Rango:\", A.shape)\n",
    "print(\"Tipo de dato\", A.dtype)\n",
    "print(\"Bytes de memoria por elemento:\", A.itemsize)"
   ]
  },
  {
   "cell_type": "markdown",
   "metadata": {},
   "source": [
    "Esta vez, al tener dos dimensiones, el número de índices será de 2: uno para las filas y el otro para las columnas. Estas se incluyen en el mismo corchete de la forma [fila, columna], donde cada una de las dimensiones soporta a su vez *index-slicing*:"
   ]
  },
  {
   "cell_type": "code",
   "execution_count": 35,
   "metadata": {},
   "outputs": [
    {
     "name": "stdout",
     "output_type": "stream",
     "text": [
      "9\n",
      "[1 5 9]\n",
      "[5 6 7 8]\n",
      "[[ 1  3]\n",
      " [ 5  7]\n",
      " [ 9 11]]\n",
      "[[ 1  3]\n",
      " [ 9 11]]\n",
      "[12 10]\n",
      "[ 2 10]\n"
     ]
    }
   ],
   "source": [
    "print(A[2,0])   # [fila, columna]: 9\n",
    "print(A[:,0])   # Todas las filas, columna 0: [1 5 9]\n",
    "print(A[1,:])   # [5 6 7 8]\n",
    "print(A[:,::2])    # [todas las filas, todas las columnas en pasos de 2]: [1 3, 5 7, 9, 11]\n",
    "print(A[::2,::2])  # [1 3, 9, 11]\n",
    "print(A[-1,::-2])  # [12 10]\n",
    "print(A[[0, 2], [1]]) # [2 10]"
   ]
  },
  {
   "cell_type": "markdown",
   "metadata": {},
   "source": [
    "Es importante notar que la forma de los arreglos resultantes dependerán de las operaciones de *index-slicing*\n",
    "\n",
    "<img src=\"https://qph.cf2.quoracdn.net/main-qimg-e30598851b26b13ca9fa1d50777822e0-pjlq\" alt=\"car_her\" width=\"400\"/>"
   ]
  },
  {
   "cell_type": "markdown",
   "metadata": {},
   "source": [
    "¿Y un arreglo de 3 dimensiones? No hay mas que extender la misma idea:"
   ]
  },
  {
   "cell_type": "code",
   "execution_count": 36,
   "metadata": {},
   "outputs": [
    {
     "name": "stdout",
     "output_type": "stream",
     "text": [
      "[[[ 1  2  3  4]]\n",
      "\n",
      " [[ 5  6  7  8]]\n",
      "\n",
      " [[ 9 10 11 12]]]\n",
      "Num de elementos: 12\n",
      "Dimensiones: 3\n",
      "Rango: (3, 1, 4)\n",
      "Tipo de dato int32\n",
      "Bytes de memoria por elemento: 4\n"
     ]
    }
   ],
   "source": [
    "A = np.array([[[1, 2, 3, 4]], [[5, 6, 7, 8]], [[9, 10, 11, 12]]])\n",
    "print(A)\n",
    "print(\"Num de elementos:\", A.size)     # len(A)\n",
    "print(\"Dimensiones:\", A.ndim)\n",
    "print(\"Rango:\", A.shape)\n",
    "print(\"Tipo de dato\", A.dtype)\n",
    "print(\"Bytes de memoria por elemento:\", A.itemsize)"
   ]
  },
  {
   "cell_type": "markdown",
   "metadata": {},
   "source": [
    "<img src=\"https://fgnt.github.io/python_crashkurs_doc/_images/numpy_array_t.png\" alt=\"car_her\" width=\"600\"/>"
   ]
  },
  {
   "cell_type": "markdown",
   "metadata": {},
   "source": [
    "### Creacion de arreglos n-dimensionales\n",
    "Se pueden crear arreglos bidimensionales a partir de un arreglo de una dimensión, alterando su \"forma\". Esto se logra con el método `reshape`:"
   ]
  },
  {
   "cell_type": "code",
   "execution_count": 37,
   "metadata": {},
   "outputs": [
    {
     "name": "stdout",
     "output_type": "stream",
     "text": [
      "[[ 1  2  3]\n",
      " [ 4  5  6]\n",
      " [ 7  8  9]\n",
      " [10 11 12]]\n"
     ]
    }
   ],
   "source": [
    "# Se genera un arreglo de 12 elementos y luego se le da la forma de 4x3\n",
    "A = np.arange(1, 13).reshape(4, 3)       # arr.reshape(nfil, ncol)\n",
    "print(A)"
   ]
  },
  {
   "cell_type": "markdown",
   "metadata": {},
   "source": [
    "![](https://numpy.org/devdocs/_images/np_reshape.png)"
   ]
  },
  {
   "cell_type": "markdown",
   "metadata": {},
   "source": [
    "### Operaciones con arreglos n-dimensionales (axis)\n",
    "Cuando se tienen arreglos de 2 o más dimensiones, las operaciones se realizarán a lo largo de los diferentes ejes (axis). Por ejemplo, el metodo `insert` inserta un arreglo dentro de otro, pero hay que especificar si se insertará (en el caso de un arreglo 2-dimensional) una nueva fila o una nueva columna. Esto se hace especificando el axis de operación."
   ]
  },
  {
   "cell_type": "code",
   "execution_count": 38,
   "metadata": {},
   "outputs": [
    {
     "name": "stdout",
     "output_type": "stream",
     "text": [
      "[[ 1  2  3  4]\n",
      " [ 5  6  7  8]\n",
      " [ 9 10 11 12]] \n",
      "\n",
      "[[  1   2   3   4]\n",
      " [100 200 300 400]\n",
      " [  5   6   7   8]\n",
      " [  9  10  11  12]] \n",
      "\n",
      "[[  1   2   0   3   4]\n",
      " [100 200   0 300 400]\n",
      " [  5   6   0   7   8]\n",
      " [  9  10   0  11  12]] \n",
      "\n",
      "[[ 1  2  0  3  4]\n",
      " [ 5  6  0  7  8]\n",
      " [ 9 10  0 11 12]] \n",
      "\n"
     ]
    }
   ],
   "source": [
    "A = np.array([[1, 2, 3, 4], [5, 6, 7, 8], [9, 10, 11, 12]])\n",
    "print(A, '\\n')\n",
    "\n",
    "A = np.insert(A, 1, [100, 200, 300, 400], axis=0)\n",
    "print(A, '\\n')\n",
    "\n",
    "A = np.insert(A, 2, [0, 0, 0, 0], axis=1)\n",
    "print(A, '\\n')\n",
    "\n",
    "A = np.delete(A, 1, axis=0)\n",
    "print(A, '\\n')"
   ]
  },
  {
   "cell_type": "markdown",
   "metadata": {},
   "source": [
    "Lo mismo sucede con el método `concatenate` que concatena dos arreglos, pero puede hacerlo en cualquiera de los ejes:"
   ]
  },
  {
   "cell_type": "code",
   "execution_count": 39,
   "metadata": {},
   "outputs": [
    {
     "name": "stdout",
     "output_type": "stream",
     "text": [
      "[[ 1  2  3  4]\n",
      " [ 5  6  7  8]\n",
      " [ 9 10 11 12]] \n",
      "\n",
      "[[ 1  2  3  4]\n",
      " [ 5  6  7  8]\n",
      " [ 9 10 11 12]\n",
      " [ 1  2  3  4]\n",
      " [ 5  6  7  8]\n",
      " [ 9 10 11 12]] \n",
      "\n",
      "[[ 1  2  3  4  1  2  3  4]\n",
      " [ 5  6  7  8  5  6  7  8]\n",
      " [ 9 10 11 12  9 10 11 12]\n",
      " [ 1  2  3  4  1  2  3  4]\n",
      " [ 5  6  7  8  5  6  7  8]\n",
      " [ 9 10 11 12  9 10 11 12]] \n",
      "\n"
     ]
    }
   ],
   "source": [
    "A = np.array([[1, 2, 3, 4], [5, 6, 7, 8], [9, 10, 11, 12]])\n",
    "print(A, '\\n')\n",
    "\n",
    "A = np.concatenate([A, A], axis=0)\n",
    "print(A, '\\n')\n",
    "\n",
    "A = np.concatenate([A, A], axis=1)\n",
    "print(A, '\\n')"
   ]
  },
  {
   "cell_type": "markdown",
   "metadata": {},
   "source": [
    "Esto también sucede cuando se realiza un método que ejecuta una operación sobre un arreglo. Por ejemplo, el método `sum` sobre un arreglo sumará los elementos de un arreglo, pero los resultados obtenidos variarán dependiendo de si se especifica el parametro `axis` y cual de ellos:"
   ]
  },
  {
   "cell_type": "code",
   "execution_count": 40,
   "metadata": {},
   "outputs": [
    {
     "name": "stdout",
     "output_type": "stream",
     "text": [
      "[[ 1  2  3  4]\n",
      " [ 5  6  7  8]\n",
      " [ 9 10 11 12]] \n",
      "\n",
      "78 \n",
      "\n",
      "[15 18 21 24] \n",
      "\n",
      "[10 26 42] \n",
      "\n"
     ]
    }
   ],
   "source": [
    "A = np.array([[1, 2, 3, 4], [5, 6, 7, 8], [9, 10, 11, 12]])\n",
    "print(A, '\\n')\n",
    "\n",
    "print(np.sum(A), '\\n')            # A.sum() (NO SE RECOMIENDA)\n",
    "print(np.sum(A, axis=0), '\\n')\n",
    "print(np.sum(A, axis=1), '\\n')"
   ]
  },
  {
   "cell_type": "markdown",
   "metadata": {},
   "source": [
    "Suele ser confuso el escojer el eje al momento de llamar a las métodos que realizan operaciones. Una buena regla es que el eje especifica lo que se quiere obtener: 0 para filas y 1 para columnas. Asi, si se tiene un arreglo de 2 x 3 y se especifica que se realice una operación a lo largo del axis=0, entonces se espera obtener una nueva fila, por lo que se operará a lo largo de las columnas de forma vertical.\n",
    "\n",
    "<p>\n",
    "<img src=\"https://www.sharpsightlabs.com/wp-content/uploads/2018/10/np-sum-axis0-example.png\" alt=\"car_her\" width=\"300\"/>\n",
    "<img src=\"https://www.sharpsightlabs.com/wp-content/uploads/2018/10/np-sum-axis1-example_v2.png\" alt=\"car_her\" width=\"300\"/>\n",
    "</p>\n",
    "\n",
    "A continuación se muestran algunos métodos útiles de cálculo sobre arreglos de `numpy`. Entienda que hace cada uno de los métodos:"
   ]
  },
  {
   "cell_type": "code",
   "execution_count": 41,
   "metadata": {},
   "outputs": [
    {
     "name": "stdout",
     "output_type": "stream",
     "text": [
      "15 \n",
      "\n",
      "5 \n",
      "\n",
      "1 \n",
      "\n",
      "3.0 \n",
      "\n",
      "3.0 \n",
      "\n",
      "120 \n",
      "\n",
      "[ 1  3  6 10 15] \n",
      "\n",
      "[  1   2   6  24 120] \n",
      "\n",
      "[1.         1.41421356 1.73205081 2.         2.23606798] \n",
      "\n",
      "[ 0.84147098  0.90929743  0.14112001 -0.7568025  -0.95892427] \n",
      "\n",
      "[0.         0.69314718 1.09861229 1.38629436 1.60943791] \n",
      "\n",
      "3.141592653589793\n"
     ]
    }
   ],
   "source": [
    "# Metodos utiles de Numpy\n",
    "A = np.array([1, 2, 3, 4, 5])\n",
    "print(np.sum(A), '\\n')\n",
    "print(np.max(A), '\\n')\n",
    "print(np.min(A), '\\n')\n",
    "print(np.mean(A), '\\n')\n",
    "print(np.median(A), '\\n')\n",
    "print(np.prod(A), '\\n')\n",
    "print(np.cumsum(A), '\\n')\n",
    "print(np.cumprod(A), '\\n')\n",
    "\n",
    "# Operaciones básicas en numpy\n",
    "print(np.sqrt(A), '\\n')\n",
    "print(np.sin(A), '\\n')\n",
    "print(np.log(A), '\\n')\n",
    "\n",
    "# Valores en numpy\n",
    "print(np.pi)"
   ]
  },
  {
   "cell_type": "markdown",
   "metadata": {},
   "source": [
    "### Numeros aleatorios con Numpy\n",
    "¿Recuerda cuanto demoró el generador de números aleatorios en generar 1,000,000 de números? `numpy` tiene un generador de número aleatorios que incluye las dimensiones del arreglo resultante:"
   ]
  },
  {
   "cell_type": "code",
   "execution_count": 42,
   "metadata": {},
   "outputs": [
    {
     "name": "stdout",
     "output_type": "stream",
     "text": [
      "[0.02111334 0.8989977  0.9248449  0.74631773 0.51812535] \n",
      "\n",
      "[[0.52327646 0.19719334 0.25203675 0.41427469]\n",
      " [0.71869477 0.0916109  0.58998186 0.96446928]\n",
      " [0.61675783 0.60671663 0.61754659 0.82062116]\n",
      " [0.68112146 0.00283402 0.99974744 0.61143799]\n",
      " [0.13494971 0.21987694 0.51360709 0.98042744]] \n",
      "\n",
      "[[4 7 1 4]\n",
      " [2 8 4 4]] \n",
      "\n",
      "[[2.36908711 2.25249979 4.97396896 3.11248733 3.27428631]\n",
      " [2.18686744 1.74257753 4.53246997 1.77732063 3.64168634]\n",
      " [3.3572289  2.58496281 4.20046256 3.75293441 4.75424752]] \n",
      "\n"
     ]
    }
   ],
   "source": [
    "# Las dimensiones del arreglo resultante se especifican en una tupla\n",
    "A = np.random.random((5,))  \n",
    "print(A, '\\n')\n",
    "\n",
    "A = np.random.random((5, 4))\n",
    "print(A, '\\n')\n",
    "\n",
    "A = np.random.randint(1, 10, (2, 4))     # randrange -> randint\n",
    "print(A, '\\n')\n",
    "\n",
    "A = np.random.uniform(1, 5, (3, 5))\n",
    "print(A, '\\n')"
   ]
  },
  {
   "cell_type": "markdown",
   "metadata": {},
   "source": [
    "### Indexacion booleana y el método `where`\n",
    "Los índices de los elementos de un arreglo pueden especificarse por medio de operaciones lógicas. Esta es un operación muy eficiente y muy útil al momento de seleccionar datos en un arreglo. En lugar de especificar un valor o valores númericos como índices, se coloca una operación booleana. De esta forma, los índices se seleccionan en función de una máscara booleana. Considere el siguiente ejemplo:"
   ]
  },
  {
   "cell_type": "code",
   "execution_count": 43,
   "metadata": {},
   "outputs": [
    {
     "data": {
      "text/plain": [
       "array([False,  True, False,  True, False,  True, False,  True, False])"
      ]
     },
     "execution_count": 43,
     "metadata": {},
     "output_type": "execute_result"
    }
   ],
   "source": [
    "A = np.array([1, 2, 3, 4, 5, 6, 7, 8, 9])\n",
    "A % 2 == 0"
   ]
  },
  {
   "cell_type": "markdown",
   "metadata": {},
   "source": [
    "La operación `A % 2 == 0` retorna el valor `True` sobre los valores que son pares en el arreglo `A`. Esto actua como una \"máscara\" que permite filtrar los valores que cumplan con la condición anterior. De esta forma, para filtrar los valores pares del arreglo `A` se puede ejecutar la siguiente instrucción:"
   ]
  },
  {
   "cell_type": "code",
   "execution_count": 44,
   "metadata": {},
   "outputs": [
    {
     "name": "stdout",
     "output_type": "stream",
     "text": [
      "[2 4 6 8]\n"
     ]
    }
   ],
   "source": [
    "A_pares = A[A % 2 == 0]\n",
    "print(A_pares)"
   ]
  },
  {
   "cell_type": "markdown",
   "metadata": {},
   "source": [
    "Esto es de mucha utilidad cuando se trata de procesar grandes volumenes de datos sin tener que recurrir a lazos de control. Por ejemplo, se tienen los valores de temperatura del mes de enero y se quiere saber las temperaturas por encima de 30 grados, las que estan por encima del promedio del mes, asi como las temperaturas en un rango:"
   ]
  },
  {
   "cell_type": "code",
   "execution_count": 45,
   "metadata": {},
   "outputs": [
    {
     "name": "stdout",
     "output_type": "stream",
     "text": [
      "[24.50868558 27.17086692 24.81730859 31.65219917 29.14753432 28.58258051\n",
      " 29.44878446 29.11035071 26.80792656 25.92432639 29.11721092 27.02166378\n",
      " 26.50446597 25.20480198 27.48235218 30.34135596 30.63534116 24.328815\n",
      " 25.33048873 24.01071878 26.9888984  26.43329752 26.21762745 30.56211967\n",
      " 29.14484418 31.04725017 31.47283605 31.86460076 27.11711909 31.76316091\n",
      " 29.18799353] \n",
      "\n",
      "Temperaturas por encima de 30 grados\n",
      "[31.65219917 30.34135596 30.63534116 30.56211967 31.04725017 31.47283605\n",
      " 31.86460076 31.76316091] \n",
      "\n",
      "Temperaturas por encima de promedio del mes\n",
      "[31.65219917 29.14753432 28.58258051 29.44878446 29.11035071 29.11721092\n",
      " 30.34135596 30.63534116 30.56211967 29.14484418 31.04725017 31.47283605\n",
      " 31.86460076 31.76316091 29.18799353] \n",
      "\n",
      "Temperaturas entre 28 y 29 grados\n",
      "[28.58258051] \n",
      "\n"
     ]
    }
   ],
   "source": [
    "temp_Ene = np.random.uniform(24, 32, (31,))\n",
    "print(temp_Ene, '\\n')\n",
    "\n",
    "print(\"Temperaturas por encima de 30 grados\")\n",
    "print(temp_Ene[temp_Ene > 30], '\\n')\n",
    "\n",
    "print(\"Temperaturas por encima de promedio del mes\")\n",
    "print(temp_Ene[temp_Ene > np.mean(temp_Ene)], '\\n')\n",
    "\n",
    "print(\"Temperaturas entre 28 y 29 grados\")\n",
    "print(temp_Ene[(temp_Ene >= 28) & (temp_Ene <= 29)], '\\n')    #, &, |, !="
   ]
  },
  {
   "cell_type": "markdown",
   "metadata": {},
   "source": [
    "Por otro lado, se puede utilizar el método `where` para conocer el índice de los valores que cumplen con una condición. Por ejemplo:"
   ]
  },
  {
   "cell_type": "code",
   "execution_count": 48,
   "metadata": {},
   "outputs": [
    {
     "name": "stdout",
     "output_type": "stream",
     "text": [
      "(array([1, 3, 5, 7], dtype=int64),)\n",
      "<class 'tuple'>\n"
     ]
    }
   ],
   "source": [
    "A_indices_pares = np.where(A % 2 == 0)\n",
    "print(A_indices_pares)\n",
    "print(type(A_indices_pares))"
   ]
  },
  {
   "cell_type": "markdown",
   "metadata": {},
   "source": [
    "Observe que el método `where` retorna una tupla con un arreglo con los indices de los elementos que cumplen con la condición como elemento, por lo que si se desea acceder a los valores se debe de leer el elemento [0] del resultado. (¿Por que una tupla como resultado? En este [link de StackOverFlow](https://stackoverflow.com/questions/50646102/what-is-the-purpose-of-numpy-where-returning-a-tuple?noredirect=1&lq=1) puede encontrar la respuesta).\n",
    "\n",
    "Por ejemplo, ahora queremos saber que días del mes de enero la temperatura estuvo en un rango:"
   ]
  },
  {
   "cell_type": "code",
   "execution_count": 51,
   "metadata": {},
   "outputs": [
    {
     "name": "stdout",
     "output_type": "stream",
     "text": [
      "[25.84880894 30.67957646 27.12896077 30.88400268 29.64537457 26.85299342\n",
      " 25.59284481 27.60107823 26.42707787 30.12945703 26.65058716 27.94478264\n",
      " 29.77882664 28.67467764 26.94873564 27.02247917 25.33893706 25.63733118\n",
      " 27.90998095 26.96363185 24.07198946 25.73932178 28.00891911 26.06508831\n",
      " 28.60271931 25.04104174 30.21361968 24.65558227 28.518204   29.94074611\n",
      " 30.01501466]\n",
      "\n",
      "Ene 14: 28.67°C\n",
      "Ene 23: 28.01°C\n",
      "Ene 25: 28.60°C\n",
      "Ene 29: 28.52°C\n"
     ]
    }
   ],
   "source": [
    "# Ejemplo\n",
    "temp_Ene = np.random.uniform(24, 31, (31,))\n",
    "print(temp_Ene)\n",
    "\n",
    "# Dias entre 28 y 29 grados\n",
    "dias = np.where((temp_Ene >=28) & (temp_Ene <= 29))\n",
    "\n",
    "print()\n",
    "for dia in dias[0]+1:\n",
    "    print(\"Ene {:2}: {:.2f}°C\".format(dia, temp_Ene[dia-1]))"
   ]
  },
  {
   "cell_type": "markdown",
   "metadata": {},
   "source": [
    "### Ejemplo de aplicación\n",
    "El coeficiente de fricción $\\mu$ se puede calcular experimentalmente midiendo la fuerza F requerida para mover una masa *m*. A partir de estos parametros, el coeficiente de fricción se puede calcular de la forma:\n",
    "\n",
    "$$\\mu = F/(mg)$$\n",
    "\n",
    "Donde $g = 9.81 m/s^2$. En la tabla siguiente se presentan los resultados de seis experimentos en los cuales se midio F. Determinar el coeficiente de fricción en cada experimento, así como el valor medio de todos los experimentos realizados.\n",
    "\n",
    "| Experimento | 1    | 2    | 3  | 4  | 5   | 6   |\n",
    "|-------------|------|------|----|----|-----|-----|\n",
    "| Masa (kg)   | 2    | 4    | 5  | 10 | 20  | 50  |\n",
    "| Fuerza (N)  | 12.5 | 25.5 | 30 | 61 | 118 | 294 |"
   ]
  },
  {
   "cell_type": "code",
   "execution_count": 53,
   "metadata": {},
   "outputs": [
    {
     "name": "stdout",
     "output_type": "stream",
     "text": [
      "0.6202004757050629\n"
     ]
    }
   ],
   "source": [
    "import numpy as np\n",
    "\n",
    "g = 9.81\n",
    "m = np.array([2, 4, 5, 10, 20, 50])\n",
    "F = np.array([12.5, 25.5, 30, 61, 118, 294])\n",
    "\n",
    "mu = F / (m * g)\n",
    "print(np.mean(mu))"
   ]
  },
  {
   "cell_type": "markdown",
   "metadata": {},
   "source": [
    "Ahora: **descanse**. Ya falta poco, pero valdrá la pena la recompensa.\n",
    "\n",
    "<img src=\"https://qph.cf2.quoracdn.net/main-qimg-fd38a231953a9e8f8ca99fed4e368003-lq\" alt=\"Drawing\" style=\"width: 400px;\"/>\n",
    "\n",
    "---"
   ]
  },
  {
   "cell_type": "markdown",
   "metadata": {},
   "source": [
    "### Matrices\n",
    "En `numpy` también podemos definir matrices. Estas son arreglos especiales con los que se puede operar de forma especial."
   ]
  },
  {
   "cell_type": "code",
   "execution_count": 54,
   "metadata": {},
   "outputs": [
    {
     "name": "stdout",
     "output_type": "stream",
     "text": [
      "[[ 1  2  3]\n",
      " [ 4  5  6]\n",
      " [ 7  8  9]\n",
      " [10 11 12]] \n",
      "\n",
      "<class 'numpy.matrix'>\n"
     ]
    }
   ],
   "source": [
    "M = np.matrix(np.arange(1, 13).reshape(4, 3))\n",
    "print(M, '\\n')\n",
    "print(type(M))"
   ]
  },
  {
   "cell_type": "markdown",
   "metadata": {},
   "source": [
    "Una propiedad de las matrices, por ejemplo, es que no son conmutativas, por lo que al invertir el orden de operación los resultados son diferentes (en caso de que se pueda operar):"
   ]
  },
  {
   "cell_type": "code",
   "execution_count": 55,
   "metadata": {},
   "outputs": [
    {
     "name": "stdout",
     "output_type": "stream",
     "text": [
      "M1 =\n",
      " [[2]\n",
      " [8]\n",
      " [9]] \n",
      "\n",
      "M2 =\n",
      " [[3 8 2]] \n",
      "\n",
      "M1 * M2 =\n",
      " [[ 6 16  4]\n",
      " [24 64 16]\n",
      " [27 72 18]] \n",
      "\n",
      "M2 * M1 =\n",
      " [[88]]\n"
     ]
    }
   ],
   "source": [
    "M1 = np.matrix(np.random.randint(1, 10, (3, 1)))\n",
    "M2 = np.matrix(np.random.randint(1, 10, (1, 3)))\n",
    "\n",
    "print(\"M1 =\\n\", M1, '\\n')\n",
    "print(\"M2 =\\n\", M2, '\\n')\n",
    "print(\"M1 * M2 =\\n\", M1 * M2, '\\n')\n",
    "print(\"M2 * M1 =\\n\", M2 * M1)"
   ]
  },
  {
   "cell_type": "markdown",
   "metadata": {},
   "source": [
    "El módulo `numpy` tiene ciertas propiedades y métodos reservados para las operaciones matriciales básicas como obtener la Inversa de una matriz, la Transpuesta de una matriz o el valor del Determinante:"
   ]
  },
  {
   "cell_type": "code",
   "execution_count": 56,
   "metadata": {},
   "outputs": [
    {
     "name": "stdout",
     "output_type": "stream",
     "text": [
      "[[3 6 7]\n",
      " [8 2 3]\n",
      " [5 3 5]] \n",
      "\n",
      "[[-0.02040816  0.18367347 -0.08163265]\n",
      " [ 0.51020408  0.40816327 -0.95918367]\n",
      " [-0.28571429 -0.42857143  0.85714286]] \n",
      "\n",
      "[[3 8 5]\n",
      " [6 2 3]\n",
      " [7 3 5]] \n",
      "\n",
      "-48.99999999999999 \n",
      "\n"
     ]
    }
   ],
   "source": [
    "M = np.matrix(np.random.randint(1, 10, (3, 3)))\n",
    "\n",
    "print(M, '\\n')\n",
    "print(M.I, '\\n')   # Inversa\n",
    "print(M.T, '\\n')   # Transpuesta\n",
    "print(np.linalg.det(M), '\\n')  # Determinante"
   ]
  },
  {
   "cell_type": "markdown",
   "metadata": {},
   "source": [
    "### Notacion MATLAB para definicion de Matrices\n",
    "El software utilizado de forma extendida en el campo de la ingeniería es MATLAB, que permite la manipulación de arreglos y matrices (de hecho, el módulo `numpy` es una réplica de MATLAB). En este producto, los arreglos matriciales se especifican utilizando una nomenclatura que separa cada columna con `,` y cada fila con `;`. Se puede utilizar esta nomenclatura en `numpy` especificándola como un `str`, lo que hace no solo más sencilla la definición de una matriz (en lugar de utilizar una lista de listas), sino que permite ingrersar datos de MATLAB a código Python.\n",
    "\n",
    "<img src=\"https://miro.medium.com/max/720/1*c8K3Sy7X0beMNjsKRGmGSA.jpeg\" alt=\"Drawing\" style=\"width: 400px;\"/>\n",
    "\n",
    "Por ejemplo, se puede utilzar una operación matricial para resolver sistemas de ecuaciones múltiples de la forma:\n",
    "\n",
    "$$ \\begin{cases}2x + 3y - 2z = 8 \\\\1x - 4z = 1 \\\\2x - y + 6z = 4\\end{cases} $$\n",
    "\n",
    "En donde se tiene una matriz cuadrada con los coeficientes del sistema, una matriz columna con las variables y otra con los resultados\n",
    "\n",
    "<img src=\"https://i0.wp.com/fisicaymates.com/wp-content/uploads/2019/01/sistema-de-ecuaciones-lineales.jpg?zoom=2.625&resize=396%2C290&ssl=1\" alt=\"Drawing\" style=\"width: 200px;\"/>\n",
    "\n",
    "Para resolver este sistema se utiliza la operación:\n",
    "\n",
    "$$  X = A^{-1} * B $$"
   ]
  },
  {
   "cell_type": "code",
   "execution_count": 57,
   "metadata": {},
   "outputs": [
    {
     "name": "stdout",
     "output_type": "stream",
     "text": [
      "[[2.  ]\n",
      " [1.5 ]\n",
      " [0.25]]\n",
      "<class 'numpy.matrix'>\n"
     ]
    }
   ],
   "source": [
    "A = np.matrix(\"2, 3, -2; 1, 0, -4; 2, -1, 6\")\n",
    "B = np.matrix(\"8; 1; 4\")      # [[8], [1], [4]]\n",
    "\n",
    "# Se calcula Inv(A) * B\n",
    "X = A.I * B\n",
    "\n",
    "print(X)\n",
    "print(type(X))"
   ]
  },
  {
   "cell_type": "markdown",
   "metadata": {},
   "source": [
    "### Ejemplo de aplicación\n",
    "Simular las notas de un grupo de estudiantes (15) con 5 evaluaciones. Debe obtener las estadisticas de notas, promedio por alumno, promedio por evaluacion y numero de aprobados."
   ]
  },
  {
   "cell_type": "code",
   "execution_count": 78,
   "metadata": {},
   "outputs": [
    {
     "name": "stdout",
     "output_type": "stream",
     "text": [
      "ALUMNO        N1    N2    N3    N4    N5    PROM\n",
      "=================================================\n",
      "Alumno  1:    13    11     9    12    18    12.60\n",
      "Alumno  2:    13     9    11    16    11    12.00\n",
      "Alumno  3:    17    15     9    12     9    12.40\n",
      "Alumno  4:    11    16     6    14     6    10.60\n",
      "Alumno  5:    12    14    17    17     7    13.40\n",
      "Alumno  6:    14     9     9     5    18    11.00\n",
      "Alumno  7:     8    11    10    10    18    11.40\n",
      "Alumno  8:    10     8    14    13    13    11.60\n",
      "Alumno  9:    18    12    16     6     6    11.60\n",
      "Alumno 10:     7    12     9    16    14    11.60\n",
      "Alumno 11:    13    14    18     7    16    13.60\n",
      "Alumno 12:    11    15    11     7     7    10.20\n",
      "Alumno 13:    12     5     5    14    12     9.60\n",
      "Alumno 14:     9    15    18     8     7    11.40\n",
      "Alumno 15:    14    15     9     5    18    12.20\n",
      "-------------------------------------------------\n",
      "           12.13 12.07 11.40 10.80 12.00\n"
     ]
    }
   ],
   "source": [
    "import numpy as np\n",
    "\n",
    "notas = np.random.randint(5, 19, (15, 5))\n",
    "prom_alumnos = np.mean(notas, axis=1).reshape(15, 1)\n",
    "prom_evaluaciones = np.mean(notas, axis=0)\n",
    "num_aprob = prom_alumnos[prom_alumnos >= 10.5].size\n",
    "\n",
    "data_notas = np.concatenate([notas, prom_alumnos], axis=1)\n",
    "\n",
    "print(\"ALUMNO        N1    N2    N3    N4    N5    PROM\")\n",
    "print(\"=================================================\")\n",
    "for idx, notas_alum in enumerate(data_notas):\n",
    "    print(\"Alumno {:2}: {:5.0f} {:5.0f} {:5.0f} {:5.0f} {:5.0f}    {:5.2f}\".format(idx+1, *notas_alum))\n",
    "else:\n",
    "    print(\"-------------------------------------------------\")\n",
    "    print(\"           {:5.2f} {:5.2f} {:5.2f} {:5.2f} {:5.2f}\".format(*prom_evaluaciones))\n",
    "    \n"
   ]
  },
  {
   "cell_type": "markdown",
   "metadata": {},
   "source": [
    "### Apéndice\n",
    "Solución anterior con el uso de la librería colorama para el control de colores en el texto."
   ]
  },
  {
   "cell_type": "code",
   "execution_count": 89,
   "metadata": {},
   "outputs": [
    {
     "name": "stdout",
     "output_type": "stream",
     "text": [
      "ALUMNO        N1    N2    N3    N4    N5    PROM\n",
      "=================================================\n",
      "\u001b[35mAlumno  1: \u001b[34m   13 \u001b[34m   16 \u001b[34m   17 \u001b[34m   12 \u001b[31m   10 \u001b[34m   13.60\n",
      "\u001b[35mAlumno  2: \u001b[31m    7 \u001b[34m   13 \u001b[34m   16 \u001b[34m   18 \u001b[31m    6 \u001b[34m   12.00\n",
      "\u001b[35mAlumno  3: \u001b[34m   12 \u001b[31m    8 \u001b[34m   13 \u001b[34m   16 \u001b[34m   11 \u001b[34m   12.00\n",
      "\u001b[35mAlumno  4: \u001b[34m   14 \u001b[31m    6 \u001b[34m   14 \u001b[34m   15 \u001b[34m   14 \u001b[34m   12.60\n",
      "\u001b[35mAlumno  5: \u001b[31m    7 \u001b[34m   14 \u001b[34m   11 \u001b[34m   13 \u001b[34m   17 \u001b[34m   12.40\n",
      "\u001b[35mAlumno  6: \u001b[34m   12 \u001b[31m    9 \u001b[31m    6 \u001b[34m   14 \u001b[31m   10 \u001b[31m   10.20\n",
      "\u001b[35mAlumno  7: \u001b[31m    9 \u001b[34m   16 \u001b[34m   15 \u001b[31m   10 \u001b[31m    7 \u001b[34m   11.40\n",
      "\u001b[35mAlumno  8: \u001b[34m   14 \u001b[31m    8 \u001b[31m    6 \u001b[31m   10 \u001b[31m    8 \u001b[31m    9.20\n",
      "\u001b[35mAlumno  9: \u001b[31m    6 \u001b[34m   12 \u001b[31m    6 \u001b[34m   17 \u001b[34m   18 \u001b[34m   11.80\n",
      "\u001b[35mAlumno 10: \u001b[34m   13 \u001b[34m   11 \u001b[34m   17 \u001b[31m   10 \u001b[34m   18 \u001b[34m   13.80\n",
      "\u001b[35mAlumno 11: \u001b[31m    9 \u001b[34m   17 \u001b[31m    7 \u001b[34m   13 \u001b[34m   17 \u001b[34m   12.60\n",
      "\u001b[35mAlumno 12: \u001b[34m   18 \u001b[31m   10 \u001b[34m   17 \u001b[34m   17 \u001b[34m   11 \u001b[34m   14.60\n",
      "\u001b[35mAlumno 13: \u001b[31m    9 \u001b[31m    9 \u001b[34m   13 \u001b[34m   18 \u001b[31m    6 \u001b[34m   11.00\n",
      "\u001b[35mAlumno 14: \u001b[34m   12 \u001b[31m    8 \u001b[31m    8 \u001b[31m    6 \u001b[34m   16 \u001b[31m   10.00\n",
      "\u001b[35mAlumno 15: \u001b[34m   17 \u001b[31m    6 \u001b[34m   14 \u001b[34m   15 \u001b[34m   16 \u001b[34m   13.60\n",
      "\u001b[0m-------------------------------------------------\n",
      "           \u001b[34m12.13 \u001b[34m12.07 \u001b[34m11.40 \u001b[34m10.80 \u001b[34m12.00 \n",
      "\u001b[0m\n",
      "Numero de aprobados en el curso: 12/15\n"
     ]
    }
   ],
   "source": [
    "import numpy as np\n",
    "from colorama import Fore, Style, Back\n",
    "\n",
    "notas = np.random.randint(5, 19, (15, 5))\n",
    "prom_alumno = np.mean(notas, axis=1)\n",
    "prom_evaluacion = np.mean(notas, axis=0)\n",
    "num_aprob = prom_alumno[prom_alumno > 10.5].size\n",
    "\n",
    "print(\"ALUMNO        N1    N2    N3    N4    N5    PROM\")\n",
    "print(\"=================================================\")\n",
    "\n",
    "for idx, (notas_alum, promedio) in enumerate(zip(notas, prom_alumno)):\n",
    "    print(Fore.MAGENTA, end='')\n",
    "    print(\"Alumno {:2}: \".format(idx+1), end='')\n",
    "    \n",
    "    for nota in notas_alum:\n",
    "        if nota < 10.5:\n",
    "            print(Fore.RED, end='')\n",
    "        else:\n",
    "            print(Fore.BLUE, end='')\n",
    "        print(\"{:5.0f} \".format(nota), end='')\n",
    "    else:\n",
    "        if promedio < 10.5:\n",
    "            print(Fore.RED, end='')\n",
    "        else:\n",
    "            print(Fore.BLUE, end='')\n",
    "        print(\"   {:5.2f}\".format(promedio))\n",
    "        \n",
    "print(Style.RESET_ALL, end='')\n",
    "print(\"-------------------------------------------------\")\n",
    "print(\"           \", end='')\n",
    "for nota in prom_evaluaciones:\n",
    "    if nota < 10.5:\n",
    "        print(Fore.RED, end='')\n",
    "    else:\n",
    "        print(Fore.BLUE, end='')\n",
    "    print(\"{:5.2f} \".format(nota), end='')\n",
    "else:\n",
    "    print()\n",
    "\n",
    "print(Style.RESET_ALL)\n",
    "print(\"Numero de aprobados en el curso: {}/{}\".format(num_aprob, prom_alumno.size))"
   ]
  },
  {
   "cell_type": "code",
   "execution_count": null,
   "metadata": {},
   "outputs": [],
   "source": []
  }
 ],
 "metadata": {
  "kernelspec": {
   "display_name": "Python 3 (ipykernel)",
   "language": "python",
   "name": "python3"
  },
  "language_info": {
   "codemirror_mode": {
    "name": "ipython",
    "version": 3
   },
   "file_extension": ".py",
   "mimetype": "text/x-python",
   "name": "python",
   "nbconvert_exporter": "python",
   "pygments_lexer": "ipython3",
   "version": "3.11.5"
  }
 },
 "nbformat": 4,
 "nbformat_minor": 4
}
