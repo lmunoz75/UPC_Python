{
 "cells": [
  {
   "cell_type": "markdown",
   "metadata": {},
   "source": [
    "# Sesión 7 - Programación Orientada a Objetos - Parte 2\n",
    "<img src=\"https://cdn.educba.com/academy/wp-content/uploads/2019/01/is-python-object-oriented.jpg\" alt=\"car_her\" width=\"500\"/>\n",
    "\n",
    "<div style=\"text-align: right\">Autor: Luis A. Muñoz - 2020 </div>"
   ]
  },
  {
   "cell_type": "markdown",
   "metadata": {},
   "source": [
    "La programacion orientada a objetos en Python tiene una definicion mas flexible y abierta, por lo que se puede definir una clase sencilla sin controles o agregar las restricciones  necesarias como parte de una practica de seguridad. Esta aproximacion obedece a la filosofia de Python de manetener el codigo sencillo y legible, sin perder las ventajas de la OOP.\n",
    "\n",
    "---"
   ]
  },
  {
   "cell_type": "markdown",
   "metadata": {},
   "source": [
    "## The Python Way\n",
    "La idea clave detras de la aproximacion de Python a la OOP es que los atributos de un clase son publicos, no privados. Si se tiene que la clase Persona tiene un atributo llamado nombre, era necesario definir un *setter* para poder asignar un valor al atributo nombre, asi como un *getter* para obtener el valor actual del atributo nombre.\n",
    "\n",
    "    p1 = Persona()\n",
    "    p1.set_nombre('Alan')\n",
    "    p1.get_nombre()\n",
    "    \n",
    "Sin embargo, resulta redundante contar con *setters* y *getters* cuando se puede acceder directamente a los atributos para leer y editar su contenido.\n",
    "\n",
    "    p1 = Persona()\n",
    "    p1.nombre = 'Alan'\n",
    "    p1.nombre\n",
    "    \n",
    "De esta forma, podriamos asigar directamente el valor 'Alan' al atributo nombre del objeto p1 clase Persona y luego podriamos llamar directamente al atributo para ver su valor.\n",
    "\n",
    "Entonces, redefinamos la clase Persona con la aproximacion de Python a la OOP:"
   ]
  },
  {
   "cell_type": "code",
   "execution_count": null,
   "metadata": {},
   "outputs": [],
   "source": [
    "class Persona:\n",
    "    def __init__(self):\n",
    "        self.nombre = ''\n",
    "        self.telefono = ''\n",
    "        self.email = ''\n",
    "        \n",
    "    def __repr__(self):\n",
    "        return \"Persona[nombre={}, telefono={}, email={}]\".format(\n",
    "            self.nombre, self.telefono, self.email)"
   ]
  },
  {
   "cell_type": "markdown",
   "metadata": {},
   "source": [
    "Note que esta vez los atributos son publicos (no tenemos `self.__nombre`, sino `self.nombre`). Entonces podemos asignar y leer los atributos directamente."
   ]
  },
  {
   "cell_type": "code",
   "execution_count": null,
   "metadata": {},
   "outputs": [],
   "source": [
    "p1 = Persona()\n",
    "p1.nombre = 'Alan'\n",
    "p1.telefono = '987-273-362'\n",
    "p1.email = 'alan@mail.com'\n",
    "\n",
    "print(p1)"
   ]
  },
  {
   "cell_type": "code",
   "execution_count": null,
   "metadata": {},
   "outputs": [],
   "source": [
    "p1.nombre"
   ]
  },
  {
   "cell_type": "code",
   "execution_count": null,
   "metadata": {},
   "outputs": [],
   "source": [
    "p1.telefono"
   ]
  },
  {
   "cell_type": "code",
   "execution_count": null,
   "metadata": {},
   "outputs": [],
   "source": [
    "p1.email"
   ]
  },
  {
   "cell_type": "markdown",
   "metadata": {},
   "source": [
    "## Setter y Getters como Decoradores\n",
    "Sin embargo, algo hemos perdido al momento de simplificar el uso de un objeto: el control en la asignacion de valores a los atributos."
   ]
  },
  {
   "cell_type": "code",
   "execution_count": null,
   "metadata": {},
   "outputs": [],
   "source": [
    "# No tenemos contol sobre el tipo de dato asignar sobre una propiedad (str)\n",
    "p1.nombre = 12345\n",
    "p1.nombre"
   ]
  },
  {
   "cell_type": "markdown",
   "metadata": {},
   "source": [
    "Asi que debemos de recuperar la capacidad de control y restriccion que nos daban los *setters*, en particular. Adicionalmente, mantener los atributos de forma privada no es una mala idea, pero seria bueno establecer *getters* de forma que la asignacion de valores sobre los atributos siga siendo un proceso trasparente.\n",
    "\n",
    "Esto se logra utilizando una construccion especial en Python llamad *Decorador*. La definicion de un Decorador es de una funcion que toma otra funcion y extiende su funcionalidad sin hacerlo de forma explicita (?). Si, suena confuso...\n",
    "\n",
    "El estudio de un decorador escapa al alcance de este tema, pero podemos aprender el metodo de como utilizar los decoradores para establecer los *setters* y *getters* de una clase en Python, sin perder los ganado hasta ahora.\n",
    "\n",
    "Empecemos redefiniendo la clase de tal forma que se puedan pasar los atributos de esta como si fueran argumentos."
   ]
  },
  {
   "cell_type": "code",
   "execution_count": null,
   "metadata": {},
   "outputs": [],
   "source": [
    "class Persona:\n",
    "    def __init__(self, nombre='', telefono='', email=''):\n",
    "        self.nombre = nombre\n",
    "        self.telefono = telefono\n",
    "        self.email = email\n",
    "        \n",
    "    def __repr__(self):\n",
    "        return \"Persona[nombre={}, telefono={}, email={}]\".format(\n",
    "            self.nombre, self.telefono, self.email)"
   ]
  },
  {
   "cell_type": "code",
   "execution_count": null,
   "metadata": {},
   "outputs": [],
   "source": [
    "p1 = Persona('Alan', '987-373-173', 'alan@mail.com')\n",
    "print(p1)"
   ]
  },
  {
   "cell_type": "markdown",
   "metadata": {},
   "source": [
    "Ahora, vamos a agregarle el *setter* y *getter* para el control del atributo `nombre`:"
   ]
  },
  {
   "cell_type": "code",
   "execution_count": null,
   "metadata": {},
   "outputs": [],
   "source": [
    "class Persona:\n",
    "    def __init__(self, nombre, telefono, email):\n",
    "        self.nombre = nombre\n",
    "        self.telefono = telefono\n",
    "        self.email = email\n",
    "        \n",
    "    @property               # Getter\n",
    "    def nombre(self):\n",
    "        return self.__nombre\n",
    "    \n",
    "    @nombre.setter          # Setter\n",
    "    def nombre(self, var):\n",
    "        if isinstance(val, str):\n",
    "            self.__nombre = nombre\n",
    "        else:\n",
    "            raise TypeError(\"El atributo 'nombre' debe ser un 'str'\")\n",
    "        \n",
    "    def __repr__(self):\n",
    "        return \"Persona[nombre={}, telefono={}, email={}]\".format(\n",
    "            self.nombre, self.telefono, self.email)"
   ]
  },
  {
   "cell_type": "markdown",
   "metadata": {},
   "source": [
    "Observe con cuidado el codigo anterior. Tenga en consideracion que `self.nombre` inicialmente era un atributo de la clase `Persona` que almacenaba el nombre de la persona, pero ahora hay dos metodos llamados nombre, por lo que esta vez la especificacion `self.nombre` hace referencia a los metodos nombre. ¿Pero a cual?\n",
    "\n",
    "Dependera del decorador asociado. Los decoradores son esas lineas que tiene una \"@\" al inicio.\n",
    "\n",
    "* `@property` especifica que la siguiente funcion obtiene una propiedad asociada al nombre de la funcion, es decir la propiedad nombre. Es el getter de la propiedad nombre.\n",
    "* `@nombre.setter` especifica que la siguiente funcion es la que asigna un valor a la propiedad. Es el setter de la propiedad nombre.\n",
    "\n",
    "Note que ambas funciones utilizan la sintaxis privada de las atributos (self.__nombre). Esto significa que al momento de asignar y leer el atributo nombre de la clase Persona este es privado.\n",
    "\n",
    "Asi que, hay un conjunto de reglas que hay que seguir para escribir una clase en Python correctamente y sin errores:\n",
    "\n",
    "1. Definir la clase donde los atributos se designan de la forma self.nombreDelAtributo = valor, donde los valores se pasan como argumentos y todo se escribe con el formato publico.\n",
    "2. Se define una funcion con el nombreDelAtributo bajo el decorador @property. Esta funcion debe de realizar las acciones de un getter, con el atributo en formato privado (self.__nombreDelAtributo).\n",
    "3. Se define una funcion con el nombreDelAtributo bajo el decorador @nombreDelAtributo.setter. Esta funion debe de realizar las acciones de un setter, con el atributo en formato privado (self.__nombreDelAtributo). "
   ]
  },
  {
   "cell_type": "markdown",
   "metadata": {},
   "source": [
    "Se debe de aclarar lo siguiente: los setters y getters suelen resolverse al finalizar la definicion de la clase. Por otro lado, una definicion sin setters y getters es una definicion valida pero no segura, por lo que se puede trabajar con la definicion minima de una clase en Python. Se deben de definir los setters y getters si se requiere control sobre los valores de los aributos o si se pide que la clase tenga estas restricciones."
   ]
  },
  {
   "cell_type": "markdown",
   "metadata": {},
   "source": [
    "## Clase en Python: Caso practico\n",
    "Vamos a definir una clase que resuelva un caso practico. "
   ]
  },
  {
   "cell_type": "code",
   "execution_count": null,
   "metadata": {},
   "outputs": [],
   "source": [
    "# figuras.py  (from figuras import Circulo)\n",
    "class Circulo:\n",
    "    \"\"\"Circulo:\n",
    "    \n",
    "        Define un circulo en terminos de radio y origen\n",
    "    \"\"\"\n",
    "    def __init__(self, radio=1, origen=(0, 0)):\n",
    "        \"\"\"\n",
    "        Constructor de la clase\n",
    "        \n",
    "        Atributos:\n",
    "            - radio (int, float)\n",
    "            - origen (tuple(int/float, int/float))\n",
    "        \"\"\"\n",
    "        self.radio = radio\n",
    "        self.origen = origen\n",
    "    \n",
    "    def area(self):\n",
    "        \"\"\"\n",
    "        Retorna el area de la circunferencia\n",
    "        \n",
    "        Atributos:\n",
    "            Ninguna\n",
    "            \n",
    "        Uso:\n",
    "            obj.area()\n",
    "        \"\"\"\n",
    "        return 3.1415 * self.radio ** 2\n",
    "    \n",
    "    def perimetro(self):\n",
    "        \"\"\"\n",
    "        Retorna el perimetro de la circunferencia\n",
    "        \n",
    "        Atributos:\n",
    "            Ninguna\n",
    "            \n",
    "        Uso:\n",
    "            obj.circunferencia()\n",
    "        \"\"\"\n",
    "        return 2 * 3.1415 * self.radio\n",
    "    \n",
    "    @property\n",
    "    def radio(self):\n",
    "        return self.__radio\n",
    "    \n",
    "    @property\n",
    "    def origen(self):\n",
    "        return self.__origen\n",
    "    \n",
    "    @radio.setter\n",
    "    def radio(self, val):\n",
    "        if (isinstance(val, int) or isinstance(val, float)) and val > 0:\n",
    "            self.__radio = val\n",
    "        else:\n",
    "            raise TypeError(\"La propiedad 'radio' debe ser un 'int' o 'float' mayor que 0\")\n",
    "    \n",
    "    @origen.setter\n",
    "    def origen(self, val):\n",
    "        if isinstance(val, tuple):\n",
    "            if isinstance(val[0], int) or isinstance(val[0], float) and isinstance(val[1], int) or isinstance(val[1], float):\n",
    "                self.__origen = val\n",
    "            else:\n",
    "                raise TypeError(\"Las coordandas de 'origen' debe ser numéricas\")\n",
    "        else:\n",
    "            raise TypeError(\"La propiedad 'origen' debe ser una 'tuple'\")\n",
    "            \n",
    "    \n",
    "    def mover_derecha(self, paso):\n",
    "        if isinstance(paso, int) or isinstance(paso, float):\n",
    "            self.origen = (self.origen[0] + paso, self.origen[1])\n",
    "        else:\n",
    "            raise TypeError(\"El paso debe ser numerico\")\n",
    "    \n",
    "    def mover_izquierda(self, paso):\n",
    "        if isinstance(paso, int) or isinstance(paso, float):\n",
    "            self.origen = (self.origen[0] - paso, self.origen[1])\n",
    "        else:\n",
    "            raise TypeError(\"El paso debe ser numerico\")\n",
    "    \n",
    "    def mover_arriba(self, paso):\n",
    "        if isinstance(paso, int) or isinstance(paso, float):\n",
    "            self.origen = (self.origen[0], self.origen[1] + paso)\n",
    "        else:\n",
    "            raise TypeError(\"El paso debe ser numerico\")\n",
    "    \n",
    "    def mover_abajo(self, paso):\n",
    "        if isinstance(paso, int) or isinstance(paso, float):\n",
    "            self.origen = (self.origen[0], self.origen[1]- paso)\n",
    "        else:\n",
    "            raise TypeError(\"El paso debe ser numerico\")\n",
    "    \n",
    "    def expandir(self, paso):\n",
    "        if isinstance(paso, int) or isinstance(paso, float):\n",
    "            self.radio += paso\n",
    "        else:\n",
    "            raise TypeError(\"El paso debe ser numerico\")\n",
    "    \n",
    "    def contraer(self, paso):\n",
    "        if isinstance(paso, int) or isinstance(paso, float):\n",
    "            if self.radio - paso > 0:\n",
    "                self.radio -= paso\n",
    "            else:\n",
    "                raise ValueError(\"El paso no debe de generar un radio negativo\")\n",
    "        else:\n",
    "            raise TypeError(\"El paso debe der numerico\")\n",
    "    \n",
    "    def esta_dentro(self, x, y):\n",
    "        return (x - self.origen[0])**2 + (y - self.origen[1])**2 <= self.radio ** 2\n",
    "    \n",
    "    def __repr__(self):\n",
    "        return \"Circulo[radio={}, origen={}]\".format(self.radio, self.origen)\n",
    "    \n",
    "def main():\n",
    "    pass\n",
    "\n",
    "# Ejecuto el archivo figuras.py  (__name__: '__main__')\n",
    "# Importo el archivo figuras.py  (__name__: 'figuras.py')\n",
    "if __name__ == '__main__':\n",
    "    main()"
   ]
  },
  {
   "cell_type": "markdown",
   "metadata": {},
   "source": [
    "Probemos la clase Circulo:"
   ]
  },
  {
   "cell_type": "raw",
   "metadata": {},
   "source": [
    "c1 = Circulo(radio=2, origen=(0, 0))\n",
    "print(c1)\n",
    "print(c1.area())\n",
    "print(c1.perimetro())\n",
    "print(c1.esta_dentro(1, 1))\n",
    "c1.mover_abajo(1)\n",
    "\n",
    "print(c1.origen)\n",
    "print(c1.esta_dentro(1, 1))"
   ]
  },
  {
   "cell_type": "markdown",
   "metadata": {},
   "source": [
    "Podemos utilizar la clase Circulo para crear objetos Circulo y almacenarlos en una lista de circunferencias:"
   ]
  },
  {
   "cell_type": "code",
   "execution_count": null,
   "metadata": {},
   "outputs": [],
   "source": [
    "from random import randint\n",
    "\n",
    "circulos = []\n",
    "for _ in range(10):\n",
    "    circulos.append(Circulo(radio=randint(1, 10), origen=(randint(1, 10), randint(1, 10))))\n",
    "                    \n",
    "for circulo in circulos:\n",
    "    print(circulo)\n",
    "                "
   ]
  },
  {
   "cell_type": "markdown",
   "metadata": {},
   "source": [
    "Si combinamos esto con una librería gráfica, podemos hacer una simulación de pompas de jabón en el espacio, o el movimiento de un objeto con un radio de acción, etc."
   ]
  },
  {
   "cell_type": "markdown",
   "metadata": {},
   "source": [
    "## Herencia y polimorfismo\n",
    "Construyamos una clase para resolver un problema que aqueja a aquellos hombres y mujeres que quieren mantener su vida en orden: como organizar un guardaropa.\n",
    "\n",
    "Para esto vamos a definir una clase Ropa con la que haremos una abstracción de nuestra ropa:"
   ]
  },
  {
   "cell_type": "code",
   "execution_count": null,
   "metadata": {},
   "outputs": [],
   "source": [
    "class Ropa:\n",
    "    def __init__(self, nombre='', estaLimpia=True, vecesUsada=0, maxUsos=1):\n",
    "        self.nombre = nombre\n",
    "        self.estaLimpia = estaLimpia\n",
    "        self.vecesUsada = vecesUsada\n",
    "        self.maxUsos = maxUsos\n",
    "    \n",
    "    def __repr__(self):\n",
    "        return \"Ropa[nombre={}, estaLimpia={}, vecesUsada={}, maxUsos={}]\".format(self.nombre, \n",
    "                                                                                 self.estaLimpia,\n",
    "                                                                                 self.vecesUsada, \n",
    "                                                                                 self.maxUsos)\n",
    "    \n",
    "    def usar(self):\n",
    "        self.vecesUsada += 1\n",
    "        if self.vecesUsada >= self.maxUsos:\n",
    "            self.estaLimpia = False\n",
    "        \n",
    "    def lavar(self):\n",
    "        self.estaLimpia = True\n",
    "        self.vecesUsada = 0\n",
    "    "
   ]
  },
  {
   "cell_type": "code",
   "execution_count": null,
   "metadata": {},
   "outputs": [],
   "source": [
    "jean = Ropa('Blue Jean', maxUsos=5)\n",
    "print(jean)\n",
    "\n",
    "# Usando la ropa\n",
    "print(\"\\nUsando la ropa...\")\n",
    "for _ in range(5):\n",
    "    jean.usar()\n",
    "    print(jean)\n",
    "    \n",
    "print(\"\\nLavando la ropa...\")\n",
    "jean.lavar()\n",
    "print(jean)"
   ]
  },
  {
   "cell_type": "markdown",
   "metadata": {},
   "source": [
    "Luego, crearemos una clase `Camisa` como una clase ropa especial donde se considera el cuello como un atributo adicional. Para esto en la definición de la clase `Camisa` se detalla que se hará partiendo de la clase `Ropa`. Este es el proceso de **herencia**.\n",
    "\n",
    "Por otro lado, el método `__repr__` se esta modificando respecto al que existe en la clase padre (`Ropa`). Esto es lo que se conoce como **polimorfismo**."
   ]
  },
  {
   "cell_type": "code",
   "execution_count": null,
   "metadata": {},
   "outputs": [],
   "source": [
    "class Camisa(Ropa):\n",
    "    def __init__(self, nombre='', estaLimpia=True, vecesUsada=0, maxUsos=1, cuello=16):\n",
    "        super().__init__(nombre, estaLimpia, vecesUsada, maxUsos)\n",
    "        self.cuello = cuello\n",
    "        \n",
    "    def __repr__(self):\n",
    "        return \"Ropa[nombre={}, estaLimpia={}, vecesUsada={}, maxUsos={}, cuello={}]\".format(self.nombre, \n",
    "                                                                                 self.estaLimpia,\n",
    "                                                                                 self.vecesUsada, \n",
    "                                                                                 self.maxUsos,\n",
    "                                                                                 self.cuello)\n"
   ]
  },
  {
   "cell_type": "code",
   "execution_count": null,
   "metadata": {},
   "outputs": [],
   "source": [
    "camisa = Camisa(\"camisa tonera\")\n",
    "print(camisa)\n",
    "\n",
    "camisa.usar()\n",
    "print(camisa)"
   ]
  },
  {
   "cell_type": "code",
   "execution_count": null,
   "metadata": {},
   "outputs": [],
   "source": [
    "ropero = []\n",
    "ropero.append(Ropa(nombre='Polo Negro', maxUsos=3))\n",
    "ropero.append(Camisa(nombre='Camisa Colegio', maxUsos=200))\n",
    "ropero.append(Ropa(nombre='Jean Negro', maxUsos=8))\n",
    "ropero.append(Ropa(nombre='Jean Azul', maxUsos=3))\n",
    "ropero.append(Ropa(nombre='Media de rombos'))\n",
    "ropero.append(Ropa(nombre='Polo deportivo', maxUsos=2))\n",
    "\n",
    "for ropa in ropero:\n",
    "    print(ropa)\n"
   ]
  },
  {
   "cell_type": "markdown",
   "metadata": {},
   "source": [
    "## Más metodos mágicos\n",
    "Existen métodos mágicos adicionales que son los responsables de las operaciones aritméticas entre los objetos:\n",
    "\n",
    "* `__add__(self, other)` : +\n",
    "* `__sub__(self, other)` : -\n",
    "* `__mul__(self, other)` : *\n",
    "* `__div__(self, other)` : /\n",
    "* `__floordiv__(self, other)` : //\n",
    "\n",
    "O entre las operaciones de relación:\n",
    "\n",
    "* `__eq__(self, other)`: ==\n",
    "* `__ne__(self, other)`: !=\n",
    "* `__lt__(self, other)`: <\n",
    "* `__gt__(self, other)`: >\n",
    "* `__le__(self, other)`: <=\n",
    "* `__ge__(self, other)`: >=\n",
    "\n",
    "Y otros muchos mas ([en este enlace](https://rszalski.github.io/magicmethods/) hay una descripción mas completa de estos métodos especiales). Pero estos se pueden ver con detalles cuando se inspecciona un objeto. ¿Recuerda los métodos que iniciaban con `__` a momento de realizar la instrucción `dir()`? ¿Se pueden sumar dos objetos clase `set`? ¿Y dos `list`? ¿Y los `str`?"
   ]
  },
  {
   "cell_type": "code",
   "execution_count": null,
   "metadata": {},
   "outputs": [],
   "source": [
    "dir(str)"
   ]
  },
  {
   "cell_type": "markdown",
   "metadata": {},
   "source": [
    "Hagamos un ejemplo que involucre métodos mágicos:"
   ]
  },
  {
   "cell_type": "code",
   "execution_count": null,
   "metadata": {},
   "outputs": [],
   "source": [
    "class Circulo:\n",
    "    \"\"\"Circulo:\n",
    "    \n",
    "        Define un circulo en terminos de radio y origen\n",
    "    \"\"\"\n",
    "    def __init__(self, radio=1, origen=(0, 0)):\n",
    "        self.radio = radio\n",
    "        self.origen = origen\n",
    "    \n",
    "    def area(self):\n",
    "        return 3.1415 * self.radio ** 2\n",
    "    \n",
    "    def perimetro(self):\n",
    "        return 2 * 3.1415 * self.radio\n",
    "\n",
    "    def __add__(self, other):\n",
    "        return Circulo(radio=self.radio + other, origen=self.origen)\n",
    "    \n",
    "    def __mul__(self, other):\n",
    "        return Circulo(radio=self.radio * other, origen=self.origen)\n",
    "    \n",
    "    def __gt__(self, other):\n",
    "        return self.radio >= other.radio\n",
    "            \n",
    "    def __repr__(self):\n",
    "        return \"Circulo[radio={}, origen={}]\".format(self.radio, self.origen)\n",
    "    \n",
    "        "
   ]
  },
  {
   "cell_type": "code",
   "execution_count": null,
   "metadata": {},
   "outputs": [],
   "source": [
    "c1 = Circulo()\n",
    "print(c1)\n",
    "\n",
    "c1 = c1 + 1\n",
    "print(c1)\n",
    "\n",
    "c1 = c1 * 2\n",
    "print(c1)"
   ]
  },
  {
   "cell_type": "code",
   "execution_count": null,
   "metadata": {},
   "outputs": [],
   "source": [
    "c1 = Circulo()\n",
    "c2 = Circulo(radio=2)\n",
    "\n",
    "c1 > c2"
   ]
  },
  {
   "cell_type": "markdown",
   "metadata": {},
   "source": [
    "Con estas ideas, definamos la clase Resistencia:"
   ]
  },
  {
   "cell_type": "code",
   "execution_count": null,
   "metadata": {},
   "outputs": [],
   "source": [
    "class Resistencia:\n",
    "    def __init__(self, valor=1, potencia=0.25):\n",
    "        self.valor = valor\n",
    "        self.potencia = potencia\n",
    "     \n",
    "    def __add__(self, other):   # +\n",
    "        return Resistencia(self.valor + other.valor)\n",
    "    \n",
    "    def __floordiv__(self, other):   # //\n",
    "        return Resistencia(1/(1/(self.valor) + 1/(other.valor)))\n",
    "    \n",
    "    def __repr__(self):\n",
    "        return \"Resistencia: Val={:.4f} Ohms\".format(self.valor)\n"
   ]
  },
  {
   "cell_type": "code",
   "execution_count": null,
   "metadata": {},
   "outputs": [],
   "source": [
    "r1 = Resistencia(100)\n",
    "r2 = Resistencia(100)\n",
    "\n",
    "print(r1 + r2)\n",
    "print(r1 // r2)\n",
    "print(r1 // r2 + r2)"
   ]
  }
 ],
 "metadata": {
  "kernelspec": {
   "display_name": "Python 3",
   "language": "python",
   "name": "python3"
  },
  "language_info": {
   "codemirror_mode": {
    "name": "ipython",
    "version": 3
   },
   "file_extension": ".py",
   "mimetype": "text/x-python",
   "name": "python",
   "nbconvert_exporter": "python",
   "pygments_lexer": "ipython3",
   "version": "3.8.3"
  }
 },
 "nbformat": 4,
 "nbformat_minor": 4
}
