{
 "cells": [
  {
   "cell_type": "markdown",
   "metadata": {},
   "source": [
    "# Sesion 1 - Estructuras de control y lazos de repetición\n",
    "<img src=\"https://danielcolato.files.wordpress.com/2011/04/soporte_informatico_hazlo_tu_mismo.jpg\" alt=\"Drawing\" style=\"width: 500px;\"/>\n",
    "\n",
    "<div style=\"text-align: right\">Autor: Luis A. Muñoz - 2020 </div>\n",
    "\n",
    "---"
   ]
  },
  {
   "cell_type": "markdown",
   "metadata": {},
   "source": [
    "### Ideas clave:\n",
    "\n",
    "* Los bloques de código de Python se inician con el caracter \":\" y se limitan con el Tab (sangría de 4 espacios)\n",
    "* Se pueden anidar bloques, aunque se prefiere utilizar conectores lógicos (and, or, not) para reducir la lógica a una sola instrucción\n",
    "* El operador \"is\" evalua si dos objetos son los mismo. El operador \"==\" evalua si dos objetos son equivalentes\n",
    "* El operador \"in\" verifica si un objeto esta incluido en un contenedor (por ejemplo, una lista)\n",
    "* Las instruccones for y while gestionan los iteradores\n",
    "* Los contenedores principal es de Python (listas, tuplas, diccionarios...) son iterables.\n",
    "* La combinación de un lazo while con un control para romper el lazo con \"break\" permite implementar un lazo \"do... while\"\n",
    "* La instrucción \"else\" puede incluirse en un lazo for o while para especificar las instrucciones a realizar luego que el lazo de repetición se haya finalizado correctamente\n",
    "\n",
    "Informacion:\n",
    "* https://www.w3schools.com/python/python_conditions.asp\n",
    "* https://www.w3schools.com/python/python_while_loops.asp\n",
    "* https://www.w3schools.com/python/python_for_loops.asp\n",
    "\n",
    "---"
   ]
  },
  {
   "cell_type": "markdown",
   "metadata": {},
   "source": [
    "## Estructura de control: if... elif... else"
   ]
  },
  {
   "cell_type": "markdown",
   "metadata": {},
   "source": [
    "En programación, una estructura de control permite controlar el flujo de un programa en función del resutado de una condición. Esta se realiza combinando la instrucción `if` con operaciones lógicas y de relación.\n",
    "\n",
    "La instrucción `if` realiza una operación que retornará `True` o `False`. Si el resultado es `True`, se ejecutará el bloque definido luego de los `:`\n",
    "\n",
    "Pruebe modificando el valor de `num` y observe los resultados del código en la celda siguiente. (Recuerde, ejecute una celda de código presionando Ctrl + ENTER)"
   ]
  },
  {
   "cell_type": "code",
   "execution_count": 1,
   "metadata": {},
   "outputs": [
    {
     "name": "stdout",
     "output_type": "stream",
     "text": [
      "* 10 es mayor que 5\n",
      "* 10 es par\n"
     ]
    }
   ],
   "source": [
    "num = 10\n",
    "# Operador de relación\n",
    "if num > 5:\n",
    "    print(\"* {} es mayor que 5\".format(num))\n",
    "    \n",
    "# Operador aritmetico (%) y logico (==)\n",
    "if num % 2 == 0:\n",
    "    print(\"* {} es par\".format(num))\n"
   ]
  },
  {
   "cell_type": "markdown",
   "metadata": {},
   "source": [
    "Note que es **mandatorio** que exista un orden al momento de definir un bloque. Se deben de respetar las sangrías (espacios de 4 caracteres) al momento de definir el código. Ejecute la siguiente celda y observe la excepción generada (`IdentationError`). Luego, corriga la celda para que se ejecute correctamente."
   ]
  },
  {
   "cell_type": "code",
   "execution_count": null,
   "metadata": {},
   "outputs": [],
   "source": [
    "num = 25\n",
    "\n",
    "if num % 5 == 0:\n",
    "if 0 <= num <= 10:\n",
    "print(\"{} esta en el rango 0 a 25\")\n",
    "print(\"{} es multiplo de 5\".format(num))\n",
    "print(\"Fin de programa\")"
   ]
  },
  {
   "cell_type": "markdown",
   "metadata": {},
   "source": [
    "Se puede incluir la instrucción `else` para considerar la opción *de lo contario* en la estructura de control:"
   ]
  },
  {
   "cell_type": "code",
   "execution_count": null,
   "metadata": {},
   "outputs": [],
   "source": [
    "num = 10\n",
    "\n",
    "if num < 5:\n",
    "    print(\"* {} es menor que 5\")\n",
    "else:\n",
    "    print(\"* {} es mayor que 5\")\n",
    "    \n",
    "if num % 2 == 0:\n",
    "    print(\"* {} es par\".format(num))\n",
    "else:\n",
    "    print(\"* {} es impar\".format(num))"
   ]
  },
  {
   "cell_type": "markdown",
   "metadata": {},
   "source": [
    "Así también, se puede incluír la instrucción `elif` para considerar otras posibles condiciones a evaluar. Considere el código de la siguiente celda. Pruebe con varios números y siga la lógica del script:"
   ]
  },
  {
   "cell_type": "code",
   "execution_count": null,
   "metadata": {},
   "outputs": [],
   "source": [
    "num = 5\n",
    "\n",
    "print(\"Propiedades del numero {}:\".format(num))\n",
    "if num < 0:\n",
    "    print(\"* {} es un numero negativo\".format(num))\n",
    "else:\n",
    "    print(\"* {} es numero positivo\".format(num))\n",
    "    \n",
    "if num % 2 == 0:\n",
    "    print(\"* {} es un numero par\".format(num))\n",
    "else:\n",
    "    print(\"* {} es un numero impar \".format(num), end='')\n",
    "    if num % 3 == 0:\n",
    "        print(\"multiplo de 3\")\n",
    "    elif num % 5 == 0:\n",
    "        print(\"multiplo de 5\")\n",
    "    elif num % 7 == 0:\n",
    "        print(\"multiplo de 7\")\n"
   ]
  },
  {
   "cell_type": "markdown",
   "metadata": {},
   "source": [
    "## `if` anidados versus `if` planos\n",
    "Una estructura de control anidada consiste en una cascada de operaciones, una dentro de la otra. En el bloque `if` externo se considera una decision que segun la condición ingresa a una bloque interno. De se preferible, esta practica se debe evitar para mantener el codigo simple, utilizando expresiones lógicas. Por ejemplo, considere la evaluación de si un año es bisiesto:\n",
    "\n",
    "\"*Año bisiesto es el divisible entre 4, salvo que sea año secular -último de cada siglo, terminado en «00»-, en cuyo caso también ha de ser divisible entre 400*\". ([Wikipedia](https://es.wikipedia.org/wiki/A%C3%B1o_bisiesto))\n",
    "\n",
    "Esto se puede expresar de la siguiente forma:"
   ]
  },
  {
   "cell_type": "code",
   "execution_count": null,
   "metadata": {},
   "outputs": [],
   "source": [
    "anio = int(input(\"Ingrese un año: \"))\n",
    "\n",
    "# Si el año es multiplo de 4 puede ser bisiesto\n",
    "if anio % 4 == 0:\n",
    "    # Dependera de si termina en \"00\"\n",
    "    if anio % 100 == 0:\n",
    "        # Aunque si es multiplo de \"400\" es año es bisiesto\n",
    "        if anio % 400 == 0:\n",
    "            # Es bisiesto\n",
    "            print(\"El bisiesto\")\n",
    "        else:\n",
    "            # Si termina en \"00\" y no es multiplo de \"400\" no es bisiesto\n",
    "            print(\"No es bisiesto\")\n",
    "    else:\n",
    "        # Si es multiplo de 4 y no termina en \"00\" no es bisiesto\n",
    "        print(\"Es bisiesto\")\n",
    "else:\n",
    "    # Si no es mutiplo de \"4\" no es bisiesto sin mayores evaluaciones\n",
    "    print(\"No es bisiesto\")"
   ]
  },
  {
   "cell_type": "markdown",
   "metadata": {},
   "source": [
    "Compare el codigo anterior con el siguiente:"
   ]
  },
  {
   "cell_type": "code",
   "execution_count": null,
   "metadata": {},
   "outputs": [],
   "source": [
    "anio = int(input(\"Ingrese un año: \"))\n",
    "\n",
    "# Un año es bisiesto si es multiplo de \"4\" y no termina en \"00\" a menos que sea multiplo de \"400\"\n",
    "if anio % 4 == 0 and anio % 100 != 0 or anio % 400 == 0:\n",
    "    print(\"Es bisiesto\")\n",
    "else:\n",
    "    print(\"No es bisiesto\")"
   ]
  },
  {
   "cell_type": "markdown",
   "metadata": {},
   "source": [
    "## Palabras reservadas `in` e `is`\n",
    "La palabra reservada `in` se utiliza en Python para verificar si un elemento es parte de un conjunto de datos, por ejemplo una tupla o una lista. Considere el siguiente uso de `in` con una tupla:"
   ]
  },
  {
   "cell_type": "code",
   "execution_count": null,
   "metadata": {},
   "outputs": [],
   "source": [
    "lista = [\"alicia\", \"ernesto\", \"gustavo\", \"rosa\", \"andrea\", \"emilio\"]\n",
    "print(\"lista:\", lista)\n",
    "print()\n",
    "\n",
    "print(\"* Esta 'alicia' en la lista:\", \"alicia\" in lista)\n",
    "print(\"* Esta 'raul' en la lista:\", \"raul\" in lista)\n",
    "print()\n",
    "\n",
    "print(\"* Esta 'Gustavo' en la lista:\", \"Gustavo\" in lista)\n",
    "print(\"* Esta 'gustavo' en la lista:\", \"gustavo\" in lista)\n",
    "print()\n",
    "\n",
    "print(\"* No esta 'alicia' en la lista:\", \"alicia\" not in lista)\n",
    "print(\"* No esta 'amalia' en la lista:\", \"amalia\" not in lista)"
   ]
  },
  {
   "cell_type": "markdown",
   "metadata": {},
   "source": [
    "Por ejemplo, se puede utilizar `in` para resolver lo siguiente:"
   ]
  },
  {
   "cell_type": "code",
   "execution_count": null,
   "metadata": {},
   "outputs": [],
   "source": [
    "num = int(input(\"Ingrese un numero entre 1 y 10\"))\n",
    "\n",
    "if num in [0, 2, 4, 6, 8, 10]:\n",
    "    print(\"{} es par\".format(num))\n",
    "else:\n",
    "    print(\"{} es impar\".format(num))"
   ]
  },
  {
   "cell_type": "markdown",
   "metadata": {},
   "source": [
    "Otra palabra reservada útil es `is`. Permite evaluar *si un objeto es otro*. Por ejemplo:"
   ]
  },
  {
   "cell_type": "code",
   "execution_count": null,
   "metadata": {},
   "outputs": [],
   "source": [
    "(3 * 6) is 18"
   ]
  },
  {
   "cell_type": "markdown",
   "metadata": {},
   "source": [
    "Pero debe se utilizado con precaución: `is` *no verifica si un objeto es igual a otro*. Por ejemplo:"
   ]
  },
  {
   "cell_type": "code",
   "execution_count": null,
   "metadata": {},
   "outputs": [],
   "source": [
    "[1, 2, 3] is [1, 2, 3]"
   ]
  },
  {
   "cell_type": "markdown",
   "metadata": {},
   "source": [
    "El operador `==` verifica si un objeto es igual a otro:"
   ]
  },
  {
   "cell_type": "code",
   "execution_count": null,
   "metadata": {},
   "outputs": [],
   "source": [
    "[1, 2, 3] == [1, 2, 3]"
   ]
  },
  {
   "cell_type": "markdown",
   "metadata": {},
   "source": [
    "Bien utilizado, la palabra reservada `is` puede ayudar a construír un código más legible. Volvamos a escribir el código del año bisiesto de forma más legible:"
   ]
  },
  {
   "cell_type": "code",
   "execution_count": null,
   "metadata": {},
   "outputs": [],
   "source": [
    "anio = int(input(\"Ingrese un año: \"))\n",
    "\n",
    "# Un año es bisiesto si es multiplo de \"4\" y no termina en \"00\" a menos que sea multiplo de \"400\"\n",
    "if anio % 4 is 0 and anio % 100 is not 0 or anio % 400 is 0:\n",
    "    print(\"Es bisiesto\")\n",
    "else:\n",
    "    print(\"No es bisiesto\")"
   ]
  },
  {
   "cell_type": "markdown",
   "metadata": {},
   "source": [
    "El uso de `is` tiene una ventaja adicional: evita el error bastante común de utilizar \"=\" en lugar de \"==\"."
   ]
  },
  {
   "cell_type": "markdown",
   "metadata": {},
   "source": [
    "## Función `range`\n",
    "La función `range` genera un rango de datos enteros. Formalmente hablando, genera una construccion conocida como *iterable*, es decir algo que puede ser *iterado* por un lazo de repetición (al respecto, más adelante). Tiene la siguiente sintaxis: `range(start, end, step)`:\n",
    "\n",
    "- `range(10)` genera un rango de valores entre 0 y 9: `0, 1, 2, 3, 4, 5, 6, 7, 8, 9`\n",
    "- `range(1, 10)` genera un rango de valores entre 1 y 9: `1, 2, 3, 4, 5, 6, 7, 8, 9`\n",
    "- `range(1, 10, 2)` genera un rango de valores entre 1 y 9 en pasos de 2: `1, 3, 5, 7, 9 `\n",
    "- `range(1, 10, 2)` genera un rango de valores entre 1 y 9 en pasos de 2: `1, 3, 5, 7, 9`\n",
    "- `range(10, 1, -2)` genera un rango de valores entre 10 y 1 en pasos de 2: `10, 8, 6, 4, 2`\n",
    "\n",
    "Note que se genera un rango de datos hasta el segundo argumento menos 1. Esto se repite en muchas operaciones de Python donde se generan rangos. Asi, `range(1, 20)` genera un rango entre 1 y 20-1, es decir, entre 1 y 19.\n",
    "\n",
    "Se puede combinar con la instrucción `in` para verificar si un valor se encuentra dentro del rango. Considre los siguientes ejemplos:"
   ]
  },
  {
   "cell_type": "code",
   "execution_count": null,
   "metadata": {},
   "outputs": [],
   "source": [
    "print(\"5 in range(1, 10):\", 5 in range(1, 10))\n",
    "print(\"10 in range(1, 10):\", 10 in range(1, 10)) \n",
    "print(\"4 in range(1, 10, 2):\", 2 in range(1, 10, 2)) \n",
    "print(\"0 in range(1, 10):\", 5 in range(10)) \n",
    "print(\"7 in range(1, 10):\", 5 in range(1, 10)) "
   ]
  },
  {
   "cell_type": "markdown",
   "metadata": {},
   "source": [
    "Podemos resolver el problema que verifica si un numero es par o impar utilizando `range()`:"
   ]
  },
  {
   "cell_type": "code",
   "execution_count": null,
   "metadata": {},
   "outputs": [],
   "source": [
    "num = int(input(\"Ingrese un numero entero positivo:\"))\n",
    "\n",
    "if num < 0:\n",
    "    print(\"El numero ingresado debe ser positivo\")\n",
    "else:\n",
    "    if num in range(0, num+1, 2):\n",
    "        print(\"{} es par\".format(num))\n",
    "    else:\n",
    "        print(\"{} es impar\".format(num))"
   ]
  },
  {
   "cell_type": "markdown",
   "metadata": {},
   "source": [
    "## Lazo de control con `for`\n",
    "La lazo de control `for` permite iterar una secuencia iterable como una tupla o una lista. La instrucción `for` se conoce como un *iterador*: esto es, una construcción que toma un iterable y extrae los elementos que lo conforman uno a uno. Considere el código de la siguiente celda:"
   ]
  },
  {
   "cell_type": "code",
   "execution_count": null,
   "metadata": {},
   "outputs": [],
   "source": [
    "number_list = [1, 2, 3, 4, 5, 6, 7, 8, 9]\n",
    "\n",
    "for number in number_list:\n",
    "    print(number)"
   ]
  },
  {
   "cell_type": "markdown",
   "metadata": {},
   "source": [
    "Como se observa, la instrucción `for` va extrayendo los datos de la lista `number_list`, una iterable. Esta forma de operar de un lazo `for` permite tener un código legible ya que la lectura del código es clara (\"para cada valor de la secuencia 1, 2, 3, 4...\").\n",
    "\n",
    "Se puede combinar con la función `range()` para obtener un código más reducido:"
   ]
  },
  {
   "cell_type": "code",
   "execution_count": null,
   "metadata": {},
   "outputs": [],
   "source": [
    "print(\"Secuencia de numeros pares:\")\n",
    "for num in range(2, 21, 2):\n",
    "    print(\"* {}\".format(num))"
   ]
  },
  {
   "cell_type": "markdown",
   "metadata": {},
   "source": [
    "# Lazo de repetición `while`\n",
    "![](https://blog.penjee.com/wp-content/uploads/2015/04/top-5-programming-animated-gifs_demonstration-of-while-loop-animation_logo.gif)\n",
    "\n",
    "El lazo de control `while` permite establecer un lazo de control mientras una condición se mantenga como verdadera. Por ejemplo:"
   ]
  },
  {
   "cell_type": "code",
   "execution_count": null,
   "metadata": {},
   "outputs": [],
   "source": [
    "num = 5\n",
    "\n",
    "while num > 0:\n",
    "    print(num)\n",
    "    num -= 1\n"
   ]
  },
  {
   "cell_type": "markdown",
   "metadata": {},
   "source": [
    "¿Qué sucederá si se elimina la línea `num -= 1`? El indicador de la celda mostrará `[*]` y el programa entrada en un \"bucle infinito\" ya que la condición siempre será verdadera (el número nunca será menor o igual a 0). En caso esto suceda, se debe de detener el \"kernel\", es decir, el núcleo de ejcución de Python. Para esto, seleccionar en el `Menu Kernel >  Restart Kernel...` y seleccionar `Restart`.\n",
    "\n",
    "![](https://blog.penjee.com/wp-content/uploads/2015/11/while-loop-if-else-even-vs-odd-animation-how-it-works.gif)"
   ]
  },
  {
   "cell_type": "markdown",
   "metadata": {},
   "source": [
    "## try...except y estructuras de control\n",
    "El bloque `try...except` permite probar una secuencia de instrucciones y en caso de un error en la ejecución de alguna de las instrucciones que forman parte del bloque, se generará una excepción (un error) que puede ser capturada por el bloque `try...except` para ejecutar alguna acción.\n",
    "\n",
    "Considere el siguiente código:"
   ]
  },
  {
   "cell_type": "code",
   "execution_count": null,
   "metadata": {},
   "outputs": [],
   "source": [
    "edad = input(\"Ingrese su edad:\")\n",
    "\n",
    "# Verificamos que su edad es un valor entero con isinstance(var, type)\n",
    "if isinstance(edad, int):\n",
    "    if edad < 18:\n",
    "        print(\"En menor de edad\")\n",
    "    else:\n",
    "        print(\"Es mayor de edad\")\n",
    "else:\n",
    "    print(\"Debe de ingresar un valor entero\")"
   ]
  },
  {
   "cell_type": "markdown",
   "metadata": {},
   "source": [
    "Se puede lograr lo mismo utilizando un bloque try...except:"
   ]
  },
  {
   "cell_type": "code",
   "execution_count": null,
   "metadata": {},
   "outputs": [],
   "source": [
    "try:\n",
    "    edad = int(input(\"Ingrese su edad:\"))\n",
    "    \n",
    "    if edad < 18:\n",
    "        print(\"En menor de edad\")\n",
    "    else:\n",
    "        print(\"Es mayor de edad\")\n",
    "        \n",
    "except:\n",
    "    print(\"Debe de ingresar un valor enetero\")\n",
    "    "
   ]
  },
  {
   "cell_type": "markdown",
   "metadata": {},
   "source": [
    "Si se ingresa un valor como `12.5` como edad, al convertír este `str` en un `int` se producirá una excepción del tipo `ValueError`:"
   ]
  },
  {
   "cell_type": "code",
   "execution_count": null,
   "metadata": {},
   "outputs": [],
   "source": [
    "int('12.5')"
   ]
  },
  {
   "cell_type": "markdown",
   "metadata": {},
   "source": [
    "Este evento detiene la ejecución del bloque de código y se captura el tipo de excepción para ejecutar las acciones según el tipo de excepción. Si se utiliza la instrucción `except` sin especificar el tipo de excepción se esta definiendo un caso de error genérico."
   ]
  },
  {
   "cell_type": "markdown",
   "metadata": {},
   "source": [
    "## `break` y `continue`\n",
    "Las instrucciones `break` y `continue` permiten alterar la ejecución de un lazo.\n",
    "\n",
    "`break` detiene la ejecución de un lazo de forma inmediata. Considere el siguiente código:"
   ]
  },
  {
   "cell_type": "code",
   "execution_count": null,
   "metadata": {},
   "outputs": [],
   "source": [
    "# Este script imprime los valores numéricos de un rango hasta que alcance a algun multiplo de 7\n",
    "for num in range(1, 20):\n",
    "    if num % 7 == 0:\n",
    "        print(\"{} es multiplo de 7\".format(num))\n",
    "        break\n",
    "    else:\n",
    "        print(\"{} no es multiplo de 7\".format(num))\n",
    "        "
   ]
  },
  {
   "cell_type": "markdown",
   "metadata": {},
   "source": [
    "`continue` detiene la iteración del ciclo de repetición para continuar con la siguiente iteración en caso de existír. Considere el siguiente código:"
   ]
  },
  {
   "cell_type": "code",
   "execution_count": null,
   "metadata": {},
   "outputs": [],
   "source": [
    "# Este script imprime todos los valores numéricos de un rango a excepción de los múltiplos de 7\n",
    "for num in range(1, 20):\n",
    "    if num % 7 == 0:\n",
    "        continue\n",
    "    else:\n",
    "        print(\"{} no es multiplo de 7\".format(num))"
   ]
  },
  {
   "cell_type": "markdown",
   "metadata": {},
   "source": [
    "Su uso es restringido para casos en donde su presencia ayuda a hacer un código más legible o cuando no se tiene una mejor solución.\n",
    "\n",
    "Un caso típico es la contrucción de un lazo \"do...while\" en donde se evalúa una variable despues de haberla ingresado. El siguiente script pide un valor entre 1 y 10. Si se ingresa un valor fuera de este rango el script continua pidiendo un valor hasta que este en el rango esperado:"
   ]
  },
  {
   "cell_type": "code",
   "execution_count": null,
   "metadata": {},
   "outputs": [],
   "source": [
    "while True:\n",
    "    num = int(input(\"Ingrese un numero entre 1 y 10: \"))\n",
    "    \n",
    "    if num < 1 or num > 10:\n",
    "        print(\"Debe de ingresar un numero entre 1 y 10\")\n",
    "    else:\n",
    "        if num % 2 == 0:\n",
    "            print(\"{} es par\".format(num))\n",
    "        else:\n",
    "            print(\"{} es impar\".format(num))\n",
    "    \n",
    "        break\n"
   ]
  },
  {
   "cell_type": "markdown",
   "metadata": {},
   "source": [
    "## Uso de `else` en un lazo de control\n",
    "Considere el siguiente código:"
   ]
  },
  {
   "cell_type": "code",
   "execution_count": null,
   "metadata": {},
   "outputs": [],
   "source": [
    "num_primos = [2, 3, 5, 7, 11, 13, 17, 19, 23, 29, 31, 37, 41, 53, 57, 59]\n",
    "\n",
    "print(\"Para todos los numeros impares entre 1 y 59, los numeros primos son:\")\n",
    "for num in range(1, 60, 2):\n",
    "    if num in num_primos:\n",
    "        print( \" *\", num)\n",
    "print(\"Los demas numeros no son primos\")"
   ]
  },
  {
   "cell_type": "markdown",
   "metadata": {},
   "source": [
    "La última línea (`print(\"Los demas numeros no son primos\")`) esta fuera del bloque `if` y del bloque `for`, por lo que es una instrucción que se ejecutará al finalizar ambos bloques. Sin embargo, algun programador puede considerar que esta línea deberia estar dentro del alguno de los bloques. Para evitar esta falta de claridad, se puede incluír la instrucción `while` para un lazo de control:"
   ]
  },
  {
   "cell_type": "code",
   "execution_count": null,
   "metadata": {},
   "outputs": [],
   "source": [
    "num_primos = [2, 3, 5, 7, 11, 13, 17, 19, 23, 29, 31, 37, 41, 53, 57, 59]\n",
    "\n",
    "print(\"Para todos los numeros impares entre 1 y 59, los numeros primos son:\")\n",
    "for num in range(1, 60, 2):\n",
    "    if num in num_primos:\n",
    "        print( \" *\", num)\n",
    "else:\n",
    "    print(\"Los demas numeros no son primos\")"
   ]
  },
  {
   "cell_type": "markdown",
   "metadata": {},
   "source": [
    "En el código anteior, la instrucción `while` es parte del bloque `for` (NO del bloque `if`). En Python `while` puede ser parte de un lazo e indica lo que sucederá cuando el lazo concluya normalmente. Por ejemplo:"
   ]
  },
  {
   "cell_type": "code",
   "execution_count": null,
   "metadata": {},
   "outputs": [],
   "source": [
    "for i in range(1, 6):\n",
    "    print(i)\n",
    "else:\n",
    "    print(\"Fin del lazo\")"
   ]
  },
  {
   "cell_type": "code",
   "execution_count": null,
   "metadata": {},
   "outputs": [],
   "source": [
    "i = 6\n",
    "while i > 0:\n",
    "    print(i)\n",
    "    i -= 1\n",
    "else:\n",
    "    print(\"Fin del lazo\")"
   ]
  },
  {
   "cell_type": "markdown",
   "metadata": {},
   "source": [
    "Recuerde: el uso de `while` permite especificar las instrucciones a ejecutar cuando el lazo acabe *normalmente*. Considere el siguente caso:"
   ]
  },
  {
   "cell_type": "code",
   "execution_count": null,
   "metadata": {},
   "outputs": [],
   "source": [
    "for num in range(1, 11):\n",
    "    if num % 7 != 0:\n",
    "        print(num)\n",
    "    else:\n",
    "        break\n",
    "else:\n",
    "    print(\"Fin del lazo\")\n",
    "    \n",
    "print(\"La lazo fue interrumpido por un 'break'\")"
   ]
  },
  {
   "cell_type": "markdown",
   "metadata": {},
   "source": [
    "### No ejecutar nada: `pass`\n",
    "La instrucción `pass` sirve para especificar que no se quiere realizar nada. Esto tiene utilidad al momento de escribir un código en desarrollo. Por ejemplo, considere el siguiente ejemplo:"
   ]
  },
  {
   "cell_type": "code",
   "execution_count": null,
   "metadata": {},
   "outputs": [],
   "source": [
    "num = 82\n",
    "\n",
    "if num < 0:\n",
    "    # TODO: Se colocara un mensaje de error\n",
    "    pass\n",
    "elif num > 100:\n",
    "    # TODO: Se colocara un mensaje de error\n",
    "    pass\n",
    "elif num % 2 == 0:\n",
    "    print(\"{} es par\".format(num))\n",
    "else:\n",
    "    print(\"{} es impar\".format(num))"
   ]
  },
  {
   "cell_type": "markdown",
   "metadata": {},
   "source": [
    "Si retira las instrucciones `pass` del codigo anterior este dejará de funcionar. ¿Entiende por qué? La instrucción `pass` por lo tanto permite ir construyendo los bloques de decisión e ir resolviendo cada una de las condiciones poco a poco."
   ]
  },
  {
   "cell_type": "markdown",
   "metadata": {},
   "source": [
    "## Directorio de recursos e importación de librerias: generación de números aleatorios\n",
    "Las funciones incluidas en Python son limitadas. Para realizar otras operaciones será necesario importar librerías hacia el interprete utilizando la instrucción `import`. Por ejemplo, podemos importar la librería `random` para acceder a las funciones que retornan valores aleatorios:"
   ]
  },
  {
   "cell_type": "code",
   "execution_count": null,
   "metadata": {},
   "outputs": [],
   "source": [
    "import random"
   ]
  },
  {
   "cell_type": "markdown",
   "metadata": {},
   "source": [
    "Si la instrucción anterior no ha generado error, la librería random debe de estar agregada al directorio de recursos de Python. Verifique  la acción anterior confirmando su presencia en el directorio con la instrucción `dir()`:"
   ]
  },
  {
   "cell_type": "code",
   "execution_count": null,
   "metadata": {},
   "outputs": [],
   "source": [
    "dir()"
   ]
  },
  {
   "cell_type": "markdown",
   "metadata": {},
   "source": [
    "¿Ubica la palabra \"random\" en la lista anterior? Se encuentra al final de la lista. ¿Encuentra también las palabras `num` y `edad`? EL directorio de Python guarda un registro de todas las variables y objetos que se han ido creando en Python. ¿Que funciones ahora estan disponibles en la librería Python? Verifiquemos el directorio en `random`:"
   ]
  },
  {
   "cell_type": "code",
   "execution_count": null,
   "metadata": {},
   "outputs": [],
   "source": [
    "dir(random)"
   ]
  },
  {
   "cell_type": "markdown",
   "metadata": {},
   "source": [
    "La instrucción anterior muestra una lista de todas las funciones disponibles como parte de las librería `random`. Aquellas funciones cuyo nombre inicia con los caracteres `__` e `_` son estan disponibles para nosotros (son privadas y protegidas, respectivamente). ¿Encuentra en el listado la función `random`? Esta en la función `random()` incluida en la librería `random`. ¿Cómo ejecutar la función `radom()` de la librería `random`?"
   ]
  },
  {
   "cell_type": "code",
   "execution_count": null,
   "metadata": {},
   "outputs": [],
   "source": [
    "random.random()"
   ]
  },
  {
   "cell_type": "code",
   "execution_count": null,
   "metadata": {},
   "outputs": [],
   "source": [
    "¿Como se puede obtemer ayuda sobre la instrucción anterior?"
   ]
  },
  {
   "cell_type": "markdown",
   "metadata": {},
   "source": [
    "La siguiente línea imprime la ayuda de la librería `random`"
   ]
  },
  {
   "cell_type": "code",
   "execution_count": null,
   "metadata": {},
   "outputs": [],
   "source": [
    "help(random)"
   ]
  },
  {
   "cell_type": "markdown",
   "metadata": {},
   "source": [
    "La siguiente línea imprime información de la función `random()`:"
   ]
  },
  {
   "cell_type": "code",
   "execution_count": null,
   "metadata": {},
   "outputs": [],
   "source": [
    "help(random.random)"
   ]
  },
  {
   "cell_type": "markdown",
   "metadata": {},
   "source": [
    "Como puede observar, `random.random()` retorna una valor entre 0 y 0.99999...."
   ]
  },
  {
   "cell_type": "code",
   "execution_count": null,
   "metadata": {},
   "outputs": [],
   "source": [
    "for i in range(5):\n",
    "    print(random.random())"
   ]
  },
  {
   "cell_type": "markdown",
   "metadata": {},
   "source": [
    "Otra función útil en la librería `random` es `randrange()`. Esta genera un rango de valores enteros (al igual que `range()`) y retorna un valor aleatorio dentro del rango generado:"
   ]
  },
  {
   "cell_type": "code",
   "execution_count": null,
   "metadata": {},
   "outputs": [],
   "source": [
    "for i in range(5):\n",
    "    print(random.randrange(1, 10))"
   ]
  },
  {
   "cell_type": "markdown",
   "metadata": {},
   "source": [
    "Así también, la función `uniform()` retorna un valor aleatorio `float` en un rango:"
   ]
  },
  {
   "cell_type": "code",
   "execution_count": null,
   "metadata": {},
   "outputs": [],
   "source": [
    "for i in range(5):\n",
    "    print(random.uniform(1, 10))"
   ]
  }
 ],
 "metadata": {
  "kernelspec": {
   "display_name": "Python 3",
   "language": "python",
   "name": "python3"
  },
  "language_info": {
   "codemirror_mode": {
    "name": "ipython",
    "version": 3
   },
   "file_extension": ".py",
   "mimetype": "text/x-python",
   "name": "python",
   "nbconvert_exporter": "python",
   "pygments_lexer": "ipython3",
   "version": "3.8.3"
  }
 },
 "nbformat": 4,
 "nbformat_minor": 4
}
